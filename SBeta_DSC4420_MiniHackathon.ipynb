{
  "nbformat": 4,
  "nbformat_minor": 0,
  "metadata": {
    "colab": {
      "provenance": [],
      "gpuType": "A100",
      "machine_shape": "hm"
    },
    "kernelspec": {
      "name": "python3",
      "display_name": "Python 3"
    },
    "language_info": {
      "name": "python"
    },
    "accelerator": "GPU"
  },
  "cells": [
    {
      "cell_type": "code",
      "execution_count": 2,
      "metadata": {
        "id": "fz5ZPT-89n1d",
        "colab": {
          "base_uri": "https://localhost:8080/"
        },
        "outputId": "f92847a8-2052-4720-c84c-ecd742a672f6"
      },
      "outputs": [
        {
          "output_type": "stream",
          "name": "stdout",
          "text": [
            "\u001b[2K   \u001b[90m━━━━━━━━━━━━━━━━━━━━━━━━━━━━━━━━━━━━━━━━\u001b[0m \u001b[32m19.6/19.6 MB\u001b[0m \u001b[31m93.8 MB/s\u001b[0m eta \u001b[36m0:00:00\u001b[0m\n",
            "\u001b[2K   \u001b[90m━━━━━━━━━━━━━━━━━━━━━━━━━━━━━━━━━━━━━━━━\u001b[0m \u001b[32m208.2/208.2 kB\u001b[0m \u001b[31m18.1 MB/s\u001b[0m eta \u001b[36m0:00:00\u001b[0m\n",
            "\u001b[2K   \u001b[90m━━━━━━━━━━━━━━━━━━━━━━━━━━━━━━━━━━━━━━━━\u001b[0m \u001b[32m368.3/368.3 kB\u001b[0m \u001b[31m4.9 MB/s\u001b[0m eta \u001b[36m0:00:00\u001b[0m\n",
            "\u001b[2K   \u001b[90m━━━━━━━━━━━━━━━━━━━━━━━━━━━━━━━━━━━━━━━━\u001b[0m \u001b[32m62.8/62.8 kB\u001b[0m \u001b[31m5.5 MB/s\u001b[0m eta \u001b[36m0:00:00\u001b[0m\n",
            "\u001b[?25h"
          ]
        }
      ],
      "source": [
        "!pip install wandb -Uq"
      ]
    },
    {
      "cell_type": "code",
      "source": [
        "import torch\n",
        "import torch.nn as nn\n",
        "import torch.optim as optim\n",
        "import torch.nn.functional as F\n",
        "from torch.utils.data import DataLoader\n",
        "import torchvision\n",
        "import torchvision.transforms as transforms\n",
        "import wandb\n",
        "import matplotlib.pyplot as plt\n",
        "import numpy as np\n",
        "from tqdm import tqdm\n",
        "import time"
      ],
      "metadata": {
        "id": "YmLt07uWctcw"
      },
      "execution_count": 3,
      "outputs": []
    },
    {
      "cell_type": "code",
      "source": [
        "import wandb\n",
        "wandb.login()"
      ],
      "metadata": {
        "colab": {
          "base_uri": "https://localhost:8080/",
          "height": 225
        },
        "id": "m07FEc8R-qJu",
        "outputId": "3f76daf1-49ff-48b4-8878-07f848e042e2"
      },
      "execution_count": 4,
      "outputs": [
        {
          "output_type": "stream",
          "name": "stderr",
          "text": [
            "/usr/local/lib/python3.12/dist-packages/notebook/notebookapp.py:191: SyntaxWarning: invalid escape sequence '\\/'\n",
            "  | |_| | '_ \\/ _` / _` |  _/ -_)\n"
          ]
        },
        {
          "output_type": "display_data",
          "data": {
            "text/plain": [
              "<IPython.core.display.Javascript object>"
            ],
            "application/javascript": [
              "\n",
              "        window._wandbApiKey = new Promise((resolve, reject) => {\n",
              "            function loadScript(url) {\n",
              "            return new Promise(function(resolve, reject) {\n",
              "                let newScript = document.createElement(\"script\");\n",
              "                newScript.onerror = reject;\n",
              "                newScript.onload = resolve;\n",
              "                document.body.appendChild(newScript);\n",
              "                newScript.src = url;\n",
              "            });\n",
              "            }\n",
              "            loadScript(\"https://cdn.jsdelivr.net/npm/postmate/build/postmate.min.js\").then(() => {\n",
              "            const iframe = document.createElement('iframe')\n",
              "            iframe.style.cssText = \"width:0;height:0;border:none\"\n",
              "            document.body.appendChild(iframe)\n",
              "            const handshake = new Postmate({\n",
              "                container: iframe,\n",
              "                url: 'https://wandb.ai/authorize'\n",
              "            });\n",
              "            const timeout = setTimeout(() => reject(\"Couldn't auto authenticate\"), 5000)\n",
              "            handshake.then(function(child) {\n",
              "                child.on('authorize', data => {\n",
              "                    clearTimeout(timeout)\n",
              "                    resolve(data)\n",
              "                });\n",
              "            });\n",
              "            })\n",
              "        });\n",
              "    "
            ]
          },
          "metadata": {}
        },
        {
          "output_type": "stream",
          "name": "stderr",
          "text": [
            "\u001b[34m\u001b[1mwandb\u001b[0m: Logging into wandb.ai. (Learn how to deploy a W&B server locally: https://wandb.me/wandb-server)\n",
            "\u001b[34m\u001b[1mwandb\u001b[0m: You can find your API key in your browser here: https://wandb.ai/authorize\n",
            "wandb: Paste an API key from your profile and hit enter:"
          ]
        },
        {
          "name": "stdout",
          "output_type": "stream",
          "text": [
            " ··········\n"
          ]
        },
        {
          "output_type": "stream",
          "name": "stderr",
          "text": [
            "\u001b[34m\u001b[1mwandb\u001b[0m: \u001b[33mWARNING\u001b[0m If you're specifying your api key in code, ensure this code is not shared publicly.\n",
            "\u001b[34m\u001b[1mwandb\u001b[0m: \u001b[33mWARNING\u001b[0m Consider setting the WANDB_API_KEY environment variable, or running `wandb login` from the command line.\n",
            "\u001b[34m\u001b[1mwandb\u001b[0m: No netrc file found, creating one.\n",
            "\u001b[34m\u001b[1mwandb\u001b[0m: Appending key for api.wandb.ai to your netrc file: /root/.netrc\n",
            "\u001b[34m\u001b[1mwandb\u001b[0m: Currently logged in as: \u001b[33msimeonbetapudi\u001b[0m (\u001b[33msimeonbetapudi-belmont-university\u001b[0m) to \u001b[32mhttps://api.wandb.ai\u001b[0m. Use \u001b[1m`wandb login --relogin`\u001b[0m to force relogin\n"
          ]
        },
        {
          "output_type": "execute_result",
          "data": {
            "text/plain": [
              "True"
            ]
          },
          "metadata": {},
          "execution_count": 4
        }
      ]
    },
    {
      "cell_type": "code",
      "source": [
        "# check that there's more than just the CPU available\n",
        "device = torch.device('cuda' if torch.cuda.is_available() else 'mps' if torch.backends.mps.is_available() else 'cpu')\n",
        "print(f\"Using device: {device}\")\n",
        "if device==torch.device('cpu'): print(\"You should probably restart this with a GPU. It will be slow otherwise.\")\n",
        "\n",
        "# Set random seeds for reproducibility\n",
        "torch.manual_seed(42)\n",
        "np.random.seed(42)"
      ],
      "metadata": {
        "colab": {
          "base_uri": "https://localhost:8080/"
        },
        "id": "4QSUMPd_IByt",
        "outputId": "7fdff1bf-b649-48ac-abc3-66c817d79965"
      },
      "execution_count": 5,
      "outputs": [
        {
          "output_type": "stream",
          "name": "stdout",
          "text": [
            "Using device: cuda\n"
          ]
        }
      ]
    },
    {
      "cell_type": "code",
      "source": [
        "# Available datasets with their normalization parameters\n",
        "DATASETS = {\n",
        "    'MNIST': {\n",
        "        'dataset_class': torchvision.datasets.MNIST,\n",
        "        'mean': (0.1307,), 'std': (0.3081,),\n",
        "        'description': '28x28 grayscale handwritten digits (0-9)'\n",
        "    },\n",
        "    'FashionMNIST': {\n",
        "        'dataset_class': torchvision.datasets.FashionMNIST,\n",
        "        'mean': (0.2860,), 'std': (0.3530,),\n",
        "        'description': '28x28 grayscale fashion items (10 classes: shirt, shoe, etc.)'\n",
        "    },\n",
        "    'CIFAR10': {\n",
        "        'dataset_class': torchvision.datasets.CIFAR10,\n",
        "        'mean': (0.4914, 0.4822, 0.4465), 'std': (0.2023, 0.1994, 0.2010),\n",
        "        'description': '32x32 color images (10 classes: planes, cars, etc.)'\n",
        "    },\n",
        "    'CIFAR100': {\n",
        "        'dataset_class': torchvision.datasets.CIFAR100,\n",
        "        'mean': (0.5071, 0.4867, 0.4408), 'std': (0.2675, 0.2565, 0.2761),\n",
        "        'description': '32x32 color images (100 classes)'\n",
        "    }\n",
        "}\n",
        "\n",
        "    #### YOUR CHOICES for dataset & activation functions\n",
        "DATASET_NAME = 'CIFAR10'  # Choose between 'MNIST', 'FashionMNIST', 'CIFAR10', or 'CIFAR100'\n",
        "BATCH_SIZE = 1024 # could make this bigger"
      ],
      "metadata": {
        "id": "4aOoXSgfF1HO"
      },
      "execution_count": 6,
      "outputs": []
    },
    {
      "cell_type": "code",
      "source": [
        "def get_dataset_info(dataset_name):\n",
        "    \"\"\"Get dataset configuration and sample to determine properties.\"\"\"\n",
        "    config = DATASETS[dataset_name]\n",
        "    basic_transform = transforms.Compose([transforms.ToTensor()])\n",
        "    temp_dataset = config['dataset_class'](root='./data', train=True, download=True, transform=basic_transform)\n",
        "    sample_img, _ = temp_dataset[0]\n",
        "\n",
        "    return {\n",
        "        'config': config,\n",
        "        'num_channels': sample_img.shape[0],\n",
        "        'img_height': sample_img.shape[1],\n",
        "        'img_width': sample_img.shape[2],\n",
        "        'num_classes': len(temp_dataset.classes),\n",
        "        'class_names': temp_dataset.classes\n",
        "    }\n",
        "\n",
        "dataset_info = get_dataset_info(DATASET_NAME)\n",
        "\n",
        "print(f\"\\nDataset Properties:\")\n",
        "print(f\"  Image size: {dataset_info['num_channels']}x{dataset_info['img_height']}x{dataset_info['img_width']}\")\n",
        "print(f\"  Number of classes: {dataset_info['num_classes']}\")\n",
        "print(f\"  Classes: {dataset_info['class_names'][:10]}...\")  # Show first 10 classes\n",
        "\n",
        "transform = transforms.Compose([\n",
        "    transforms.ToTensor(),\n",
        "    transforms.Normalize(dataset_info['config']['mean'], dataset_info['config']['std'])\n",
        "])\n",
        "\n",
        "train_dataset = dataset_info['config']['dataset_class'](root='./data', train=True, download=False, transform=transform)\n",
        "test_dataset = dataset_info['config']['dataset_class'](root='./data', train=False, download=False, transform=transform)"
      ],
      "metadata": {
        "colab": {
          "base_uri": "https://localhost:8080/"
        },
        "id": "EJ5feDojGOxN",
        "outputId": "a65b937c-0e8a-4367-da22-feb7c8589f17"
      },
      "execution_count": 7,
      "outputs": [
        {
          "output_type": "stream",
          "name": "stderr",
          "text": [
            "100%|██████████| 170M/170M [00:06<00:00, 27.6MB/s]\n"
          ]
        },
        {
          "output_type": "stream",
          "name": "stdout",
          "text": [
            "\n",
            "Dataset Properties:\n",
            "  Image size: 3x32x32\n",
            "  Number of classes: 10\n",
            "  Classes: ['airplane', 'automobile', 'bird', 'cat', 'deer', 'dog', 'frog', 'horse', 'ship', 'truck']...\n"
          ]
        }
      ]
    },
    {
      "cell_type": "code",
      "source": [
        "class CNN(nn.Module):\n",
        "    def __init__(self, dataset_info, activation=torch.nn.ReLU(), base_channels=32, channel_mult=2, n_conv_layers=4, kernel_size=3, stride=2):\n",
        "        super(CNN, self).__init__()\n",
        "\n",
        "        # Build conv layers dynamically\n",
        "        self.conv_layers = nn.ModuleList()\n",
        "        in_channels = dataset_info['num_channels']\n",
        "        for i in range(n_conv_layers):\n",
        "            out_channels = base_channels * (channel_mult ** i)\n",
        "            self.conv_layers.append(nn.Conv2d(in_channels, out_channels, kernel_size, stride, padding=1))\n",
        "            in_channels = out_channels\n",
        "\n",
        "        self.activation = activation\n",
        "        self.dropout1 = nn.Dropout(0.25)\n",
        "        self.global_avg_pool = nn.AdaptiveAvgPool2d(1) # put near end: yields one value per channel\n",
        "\n",
        "        # Final channels after all conv layers\n",
        "        final_channels = base_channels * (channel_mult ** (n_conv_layers - 1))\n",
        "        self.fc = nn.Linear(final_channels, dataset_info['num_classes'])\n",
        "\n",
        "    def forward(self, x):\n",
        "        for conv_layer in self.conv_layers:\n",
        "            x = self.activation(conv_layer(x))\n",
        "            x = self.dropout1(x)\n",
        "        x = self.global_avg_pool(x)  # one value per channel\n",
        "        return self.fc(  x.flatten(start_dim=1) )  # flatten and run through linear layer\n",
        "\n",
        "\n",
        "\n",
        "cnn_model = CNN(dataset_info).to(device)\n",
        "print(f\"CNN Model Parameters: {sum(p.numel() for p in cnn_model.parameters()):,}\")\n",
        "\n",
        "# quick test to make sure the forward() runs w/o errors:\n",
        "rnd_batch = torch.randn([128,dataset_info['num_channels'], dataset_info['img_height'], dataset_info['img_width']]).to(device)\n",
        "result = cnn_model(rnd_batch)\n",
        "del rnd_batch"
      ],
      "metadata": {
        "colab": {
          "base_uri": "https://localhost:8080/"
        },
        "id": "Y8lgv-cZU6fZ",
        "outputId": "d4415a6a-4807-41cb-e4b3-ae6b2941d10a"
      },
      "execution_count": 8,
      "outputs": [
        {
          "output_type": "stream",
          "name": "stdout",
          "text": [
            "CNN Model Parameters: 390,986\n"
          ]
        }
      ]
    },
    {
      "cell_type": "code",
      "source": [
        "def train_model(model, train_loader, test_loader, epochs=5, lr=0.001):\n",
        "    # Initialize wandb\n",
        "\n",
        "    # Loss function:\n",
        "    # Note: targets are just class indices (0-9), not one-hot vectors\n",
        "    # nn.CrossEntropyLoss handles one-hot encoding internally for efficiency\n",
        "    criterion = nn.CrossEntropyLoss()   # used for categorical variables, expects raw \"logits\"\n",
        "\n",
        "    optimizer = optim.Adam(model.parameters(), lr=lr)\n",
        "\n",
        "    train_losses = []\n",
        "    train_accuracies = []\n",
        "    test_accuracies = []\n",
        "\n",
        "    # Start timer\n",
        "    start_time = time.time()\n",
        "\n",
        "    for epoch in range(epochs):\n",
        "        # Training phase\n",
        "        model.train()\n",
        "        running_loss = 0.0\n",
        "        correct_train = 0\n",
        "        total_train = 0\n",
        "\n",
        "        # Use tqdm for progress bar\n",
        "        pbar = tqdm(train_loader, desc=f'Epoch {epoch+1}/{epochs}')\n",
        "\n",
        "        for batch_idx, (data, target) in enumerate(pbar):\n",
        "            data, target = data.to(device), target.to(device)\n",
        "\n",
        "            optimizer.zero_grad()\n",
        "            output = model(data)\n",
        "            loss = criterion(output, target)\n",
        "            loss.backward()\n",
        "            optimizer.step()\n",
        "\n",
        "            running_loss += loss.item()\n",
        "            pred = output.argmax(dim=1, keepdim=True)\n",
        "            correct_train += pred.eq(target.view_as(pred)).sum().item()\n",
        "            total_train += target.size(0)\n",
        "\n",
        "            # Update progress bar\n",
        "            pbar.set_postfix({\n",
        "                'Loss': f'{loss.item():.4f}',\n",
        "                'Acc': f'{100.*correct_train/total_train:.2f}%'\n",
        "            })\n",
        "\n",
        "        # Calculate epoch metrics\n",
        "        epoch_loss = running_loss / len(train_loader)\n",
        "        train_acc = 100. * correct_train / total_train\n",
        "\n",
        "        # Evaluation phase\n",
        "        model.eval()\n",
        "        test_loss = 0\n",
        "        correct_test = 0\n",
        "        total_test = 0\n",
        "\n",
        "        with torch.no_grad():\n",
        "            for data, target in test_loader:\n",
        "                data, target = data.to(device), target.to(device)\n",
        "                output = model(data)\n",
        "                test_loss += criterion(output, target).item()\n",
        "                pred = output.argmax(dim=1, keepdim=True)\n",
        "                correct_test += pred.eq(target.view_as(pred)).sum().item()\n",
        "                total_test += target.size(0)\n",
        "\n",
        "        test_acc = 100. * correct_test / total_test\n",
        "\n",
        "        # Store metrics\n",
        "        train_losses.append(epoch_loss)\n",
        "        train_accuracies.append(train_acc)\n",
        "        test_accuracies.append(test_acc)\n",
        "\n",
        "        # Log to wandb\n",
        "        wandb.log({\n",
        "            \"epoch\": epoch + 1,\n",
        "            \"train_loss\": epoch_loss,\n",
        "            \"train_accuracy\": train_acc,\n",
        "            \"test_accuracy\": test_acc\n",
        "        })\n",
        "\n",
        "        print(f'Epoch {epoch+1}: Train Loss: {epoch_loss:.4f}, Train Acc: {train_acc:.2f}%, Test Acc: {test_acc:.2f}%')\n",
        "\n",
        "    # End timer\n",
        "    total_time = time.time() - start_time\n",
        "    # Log train_time to wandb\n",
        "    wandb.log({\"train_time\": total_time})\n",
        "\n",
        "    wandb.finish()\n",
        "\n",
        "    return {\n",
        "        'train_losses': train_losses,\n",
        "        'train_accuracies': train_accuracies,\n",
        "        'test_accuracies': test_accuracies,\n",
        "        'final_test_acc': test_acc,\n",
        "        'train_time': total_time\n",
        "    }"
      ],
      "metadata": {
        "id": "Y9rrRtHpTyFe"
      },
      "execution_count": 9,
      "outputs": []
    },
    {
      "cell_type": "code",
      "source": [
        "# Expanded sweep config\n",
        "sweep_config = {\n",
        "    'method': 'grid',   # options: grid, random, bayes\n",
        "    'metric': {\n",
        "        'name': 'test_accuracy',\n",
        "        'goal': 'maximize'\n",
        "    },\n",
        "    'parameters': {\n",
        "        # Learning rate search space\n",
        "        # Activation function\n",
        "\n",
        "        'base_channels': {\n",
        "            'values': [32, 64]\n",
        "        },\n",
        "\n",
        "        'channel_mult': {\n",
        "            'values': [2, 3]\n",
        "        },\n",
        "\n",
        "        'n_conv_layers': {\n",
        "            'values': [4, 5]\n",
        "        },\n",
        "\n",
        "        'kernel_size': {\n",
        "            'values': [3, 5]\n",
        "        },\n",
        "\n",
        "        'stride': {\n",
        "            'values': [1, 2, 3]\n",
        "        }\n",
        "\n",
        "    }\n",
        "}"
      ],
      "metadata": {
        "id": "aL-QGL3XAO79"
      },
      "execution_count": 10,
      "outputs": []
    },
    {
      "cell_type": "code",
      "source": [
        "# Sweep-compatible training function\n",
        "def sweep_train():\n",
        "\n",
        "    run = wandb.init(project=f\"Mini Hackathon Sweep\", reinit=True)\n",
        "    config = wandb.config\n",
        "\n",
        "    # Pick activation\n",
        "    activation = torch.nn.LeakyReLU()\n",
        "\n",
        "    # Build model\n",
        "    model = CNN(dataset_info,\n",
        "                activation=activation,\n",
        "                base_channels=config.base_channels,\n",
        "                channel_mult=config.channel_mult,\n",
        "                n_conv_layers=config.n_conv_layers,\n",
        "                kernel_size=config.kernel_size,\n",
        "                stride=config.stride).to(device)\n",
        "\n",
        "    run.name = f\"base_{config.base_channels}_mult_{config.channel_mult}_lay_{config.n_conv_layers}_kern_{config.kernel_size}_str_{config.stride}\"\n",
        "\n",
        "\n",
        "    train_loader = DataLoader(train_dataset, batch_size=BATCH_SIZE, shuffle=True)\n",
        "    test_loader = DataLoader(test_dataset, batch_size=BATCH_SIZE, shuffle=False)\n",
        "\n",
        "    # Train model\n",
        "    results = train_model(model,\n",
        "                          train_loader,\n",
        "                          test_loader)\n",
        "\n",
        "\n",
        "    return results\n",
        "\n",
        "\n",
        "# Initialize and launch sweep\n",
        "sweep_id = wandb.sweep(sweep_config, project=\"Mini Hackathon Sweep\")\n",
        "wandb.agent(sweep_id, function=sweep_train)  # run 10 experiments"
      ],
      "metadata": {
        "colab": {
          "base_uri": "https://localhost:8080/",
          "height": 1000
        },
        "collapsed": true,
        "id": "pEj01OsDT4tk",
        "outputId": "7f6168e7-cc87-4762-b935-c5474b35c07d"
      },
      "execution_count": 11,
      "outputs": [
        {
          "output_type": "stream",
          "name": "stdout",
          "text": [
            "Create sweep with ID: zh4ejg5g\n",
            "Sweep URL: https://wandb.ai/simeonbetapudi-belmont-university/Mini%20Hackathon%20Sweep/sweeps/zh4ejg5g\n"
          ]
        },
        {
          "output_type": "stream",
          "name": "stderr",
          "text": [
            "\u001b[34m\u001b[1mwandb\u001b[0m: Agent Starting Run: 19fo59j5 with config:\n",
            "\u001b[34m\u001b[1mwandb\u001b[0m: \tbase_channels: 32\n",
            "\u001b[34m\u001b[1mwandb\u001b[0m: \tchannel_mult: 2\n",
            "\u001b[34m\u001b[1mwandb\u001b[0m: \tkernel_size: 3\n",
            "\u001b[34m\u001b[1mwandb\u001b[0m: \tn_conv_layers: 4\n",
            "\u001b[34m\u001b[1mwandb\u001b[0m: \tstride: 1\n"
          ]
        },
        {
          "output_type": "display_data",
          "data": {
            "text/plain": [
              "<IPython.core.display.HTML object>"
            ],
            "text/html": [
              "Ignoring project 'Mini Hackathon Sweep' when running a sweep."
            ]
          },
          "metadata": {}
        },
        {
          "output_type": "stream",
          "name": "stderr",
          "text": [
            "\u001b[34m\u001b[1mwandb\u001b[0m: \u001b[33mWARNING\u001b[0m Using a boolean value for 'reinit' is deprecated. Use 'return_previous' or 'finish_previous' instead.\n"
          ]
        },
        {
          "output_type": "display_data",
          "data": {
            "text/plain": [
              "<IPython.core.display.HTML object>"
            ],
            "text/html": [
              "Waiting for wandb.init()..."
            ]
          },
          "metadata": {}
        },
        {
          "output_type": "display_data",
          "data": {
            "text/plain": [
              "<IPython.core.display.HTML object>"
            ],
            "text/html": [
              "Tracking run with wandb version 0.21.3"
            ]
          },
          "metadata": {}
        },
        {
          "output_type": "display_data",
          "data": {
            "text/plain": [
              "<IPython.core.display.HTML object>"
            ],
            "text/html": [
              "Run data is saved locally in <code>/content/wandb/run-20250910_010927-19fo59j5</code>"
            ]
          },
          "metadata": {}
        },
        {
          "output_type": "display_data",
          "data": {
            "text/plain": [
              "<IPython.core.display.HTML object>"
            ],
            "text/html": [
              "Syncing run <strong><a href='https://wandb.ai/simeonbetapudi-belmont-university/Mini%20Hackathon%20Sweep/runs/19fo59j5' target=\"_blank\">usual-sweep-1</a></strong> to <a href='https://wandb.ai/simeonbetapudi-belmont-university/Mini%20Hackathon%20Sweep' target=\"_blank\">Weights & Biases</a> (<a href='https://wandb.me/developer-guide' target=\"_blank\">docs</a>)<br>Sweep page: <a href='https://wandb.ai/simeonbetapudi-belmont-university/Mini%20Hackathon%20Sweep/sweeps/zh4ejg5g' target=\"_blank\">https://wandb.ai/simeonbetapudi-belmont-university/Mini%20Hackathon%20Sweep/sweeps/zh4ejg5g</a>"
            ]
          },
          "metadata": {}
        },
        {
          "output_type": "display_data",
          "data": {
            "text/plain": [
              "<IPython.core.display.HTML object>"
            ],
            "text/html": [
              " View project at <a href='https://wandb.ai/simeonbetapudi-belmont-university/Mini%20Hackathon%20Sweep' target=\"_blank\">https://wandb.ai/simeonbetapudi-belmont-university/Mini%20Hackathon%20Sweep</a>"
            ]
          },
          "metadata": {}
        },
        {
          "output_type": "display_data",
          "data": {
            "text/plain": [
              "<IPython.core.display.HTML object>"
            ],
            "text/html": [
              " View sweep at <a href='https://wandb.ai/simeonbetapudi-belmont-university/Mini%20Hackathon%20Sweep/sweeps/zh4ejg5g' target=\"_blank\">https://wandb.ai/simeonbetapudi-belmont-university/Mini%20Hackathon%20Sweep/sweeps/zh4ejg5g</a>"
            ]
          },
          "metadata": {}
        },
        {
          "output_type": "display_data",
          "data": {
            "text/plain": [
              "<IPython.core.display.HTML object>"
            ],
            "text/html": [
              " View run at <a href='https://wandb.ai/simeonbetapudi-belmont-university/Mini%20Hackathon%20Sweep/runs/19fo59j5' target=\"_blank\">https://wandb.ai/simeonbetapudi-belmont-university/Mini%20Hackathon%20Sweep/runs/19fo59j5</a>"
            ]
          },
          "metadata": {}
        },
        {
          "output_type": "stream",
          "name": "stderr",
          "text": [
            "Epoch 1/5: 100%|██████████| 49/49 [00:14<00:00,  3.39it/s, Loss=1.8472, Acc=23.74%]\n"
          ]
        },
        {
          "output_type": "stream",
          "name": "stdout",
          "text": [
            "Epoch 1: Train Loss: 2.0335, Train Acc: 23.74%, Test Acc: 30.22%\n"
          ]
        },
        {
          "output_type": "stream",
          "name": "stderr",
          "text": [
            "Epoch 2/5: 100%|██████████| 49/49 [00:13<00:00,  3.55it/s, Loss=1.6865, Acc=32.11%]\n"
          ]
        },
        {
          "output_type": "stream",
          "name": "stdout",
          "text": [
            "Epoch 2: Train Loss: 1.7865, Train Acc: 32.11%, Test Acc: 32.43%\n"
          ]
        },
        {
          "output_type": "stream",
          "name": "stderr",
          "text": [
            "Epoch 3/5: 100%|██████████| 49/49 [00:13<00:00,  3.56it/s, Loss=1.7512, Acc=35.98%]\n"
          ]
        },
        {
          "output_type": "stream",
          "name": "stdout",
          "text": [
            "Epoch 3: Train Loss: 1.6878, Train Acc: 35.98%, Test Acc: 37.30%\n"
          ]
        },
        {
          "output_type": "stream",
          "name": "stderr",
          "text": [
            "Epoch 4/5: 100%|██████████| 49/49 [00:13<00:00,  3.57it/s, Loss=1.5920, Acc=38.30%]\n"
          ]
        },
        {
          "output_type": "stream",
          "name": "stdout",
          "text": [
            "Epoch 4: Train Loss: 1.6500, Train Acc: 38.30%, Test Acc: 40.70%\n"
          ]
        },
        {
          "output_type": "stream",
          "name": "stderr",
          "text": [
            "Epoch 5/5: 100%|██████████| 49/49 [00:13<00:00,  3.58it/s, Loss=1.5557, Acc=40.71%]\n"
          ]
        },
        {
          "output_type": "stream",
          "name": "stdout",
          "text": [
            "Epoch 5: Train Loss: 1.5987, Train Acc: 40.71%, Test Acc: 40.63%\n"
          ]
        },
        {
          "output_type": "display_data",
          "data": {
            "text/plain": [
              "<IPython.core.display.HTML object>"
            ],
            "text/html": []
          },
          "metadata": {}
        },
        {
          "output_type": "display_data",
          "data": {
            "text/plain": [
              "<IPython.core.display.HTML object>"
            ],
            "text/html": [
              "<br>    <style><br>        .wandb-row {<br>            display: flex;<br>            flex-direction: row;<br>            flex-wrap: wrap;<br>            justify-content: flex-start;<br>            width: 100%;<br>        }<br>        .wandb-col {<br>            display: flex;<br>            flex-direction: column;<br>            flex-basis: 100%;<br>            flex: 1;<br>            padding: 10px;<br>        }<br>    </style><br><div class=\"wandb-row\"><div class=\"wandb-col\"><h3>Run history:</h3><br/><table class=\"wandb\"><tr><td>epoch</td><td>▁▃▅▆█</td></tr><tr><td>test_accuracy</td><td>▁▂▆██</td></tr><tr><td>train_accuracy</td><td>▁▄▆▇█</td></tr><tr><td>train_loss</td><td>█▄▂▂▁</td></tr><tr><td>train_time</td><td>▁</td></tr></table><br/></div><div class=\"wandb-col\"><h3>Run summary:</h3><br/><table class=\"wandb\"><tr><td>epoch</td><td>5</td></tr><tr><td>test_accuracy</td><td>40.63</td></tr><tr><td>train_accuracy</td><td>40.714</td></tr><tr><td>train_loss</td><td>1.59868</td></tr><tr><td>train_time</td><td>81.19304</td></tr></table><br/></div></div>"
            ]
          },
          "metadata": {}
        },
        {
          "output_type": "display_data",
          "data": {
            "text/plain": [
              "<IPython.core.display.HTML object>"
            ],
            "text/html": [
              " View run <strong style=\"color:#cdcd00\">base_32_mult_2_lay_4_kern_3_str_1</strong> at: <a href='https://wandb.ai/simeonbetapudi-belmont-university/Mini%20Hackathon%20Sweep/runs/19fo59j5' target=\"_blank\">https://wandb.ai/simeonbetapudi-belmont-university/Mini%20Hackathon%20Sweep/runs/19fo59j5</a><br> View project at: <a href='https://wandb.ai/simeonbetapudi-belmont-university/Mini%20Hackathon%20Sweep' target=\"_blank\">https://wandb.ai/simeonbetapudi-belmont-university/Mini%20Hackathon%20Sweep</a><br>Synced 5 W&B file(s), 0 media file(s), 0 artifact file(s) and 0 other file(s)"
            ]
          },
          "metadata": {}
        },
        {
          "output_type": "display_data",
          "data": {
            "text/plain": [
              "<IPython.core.display.HTML object>"
            ],
            "text/html": [
              "Find logs at: <code>./wandb/run-20250910_010927-19fo59j5/logs</code>"
            ]
          },
          "metadata": {}
        },
        {
          "output_type": "stream",
          "name": "stderr",
          "text": [
            "\u001b[34m\u001b[1mwandb\u001b[0m: Agent Starting Run: fuvwc8te with config:\n",
            "\u001b[34m\u001b[1mwandb\u001b[0m: \tbase_channels: 32\n",
            "\u001b[34m\u001b[1mwandb\u001b[0m: \tchannel_mult: 2\n",
            "\u001b[34m\u001b[1mwandb\u001b[0m: \tkernel_size: 3\n",
            "\u001b[34m\u001b[1mwandb\u001b[0m: \tn_conv_layers: 4\n",
            "\u001b[34m\u001b[1mwandb\u001b[0m: \tstride: 2\n"
          ]
        },
        {
          "output_type": "display_data",
          "data": {
            "text/plain": [
              "<IPython.core.display.HTML object>"
            ],
            "text/html": [
              "Ignoring project 'Mini Hackathon Sweep' when running a sweep."
            ]
          },
          "metadata": {}
        },
        {
          "output_type": "display_data",
          "data": {
            "text/plain": [
              "<IPython.core.display.HTML object>"
            ],
            "text/html": [
              "Waiting for wandb.init()..."
            ]
          },
          "metadata": {}
        },
        {
          "output_type": "display_data",
          "data": {
            "text/plain": [
              "<IPython.core.display.HTML object>"
            ],
            "text/html": [
              "Tracking run with wandb version 0.21.3"
            ]
          },
          "metadata": {}
        },
        {
          "output_type": "display_data",
          "data": {
            "text/plain": [
              "<IPython.core.display.HTML object>"
            ],
            "text/html": [
              "Run data is saved locally in <code>/content/wandb/run-20250910_011055-fuvwc8te</code>"
            ]
          },
          "metadata": {}
        },
        {
          "output_type": "display_data",
          "data": {
            "text/plain": [
              "<IPython.core.display.HTML object>"
            ],
            "text/html": [
              "Syncing run <strong><a href='https://wandb.ai/simeonbetapudi-belmont-university/Mini%20Hackathon%20Sweep/runs/fuvwc8te' target=\"_blank\">upbeat-sweep-2</a></strong> to <a href='https://wandb.ai/simeonbetapudi-belmont-university/Mini%20Hackathon%20Sweep' target=\"_blank\">Weights & Biases</a> (<a href='https://wandb.me/developer-guide' target=\"_blank\">docs</a>)<br>Sweep page: <a href='https://wandb.ai/simeonbetapudi-belmont-university/Mini%20Hackathon%20Sweep/sweeps/zh4ejg5g' target=\"_blank\">https://wandb.ai/simeonbetapudi-belmont-university/Mini%20Hackathon%20Sweep/sweeps/zh4ejg5g</a>"
            ]
          },
          "metadata": {}
        },
        {
          "output_type": "display_data",
          "data": {
            "text/plain": [
              "<IPython.core.display.HTML object>"
            ],
            "text/html": [
              " View project at <a href='https://wandb.ai/simeonbetapudi-belmont-university/Mini%20Hackathon%20Sweep' target=\"_blank\">https://wandb.ai/simeonbetapudi-belmont-university/Mini%20Hackathon%20Sweep</a>"
            ]
          },
          "metadata": {}
        },
        {
          "output_type": "display_data",
          "data": {
            "text/plain": [
              "<IPython.core.display.HTML object>"
            ],
            "text/html": [
              " View sweep at <a href='https://wandb.ai/simeonbetapudi-belmont-university/Mini%20Hackathon%20Sweep/sweeps/zh4ejg5g' target=\"_blank\">https://wandb.ai/simeonbetapudi-belmont-university/Mini%20Hackathon%20Sweep/sweeps/zh4ejg5g</a>"
            ]
          },
          "metadata": {}
        },
        {
          "output_type": "display_data",
          "data": {
            "text/plain": [
              "<IPython.core.display.HTML object>"
            ],
            "text/html": [
              " View run at <a href='https://wandb.ai/simeonbetapudi-belmont-university/Mini%20Hackathon%20Sweep/runs/fuvwc8te' target=\"_blank\">https://wandb.ai/simeonbetapudi-belmont-university/Mini%20Hackathon%20Sweep/runs/fuvwc8te</a>"
            ]
          },
          "metadata": {}
        },
        {
          "output_type": "stream",
          "name": "stderr",
          "text": [
            "Epoch 1/5: 100%|██████████| 49/49 [00:11<00:00,  4.18it/s, Loss=1.7447, Acc=27.22%]\n"
          ]
        },
        {
          "output_type": "stream",
          "name": "stdout",
          "text": [
            "Epoch 1: Train Loss: 1.9784, Train Acc: 27.22%, Test Acc: 38.26%\n"
          ]
        },
        {
          "output_type": "stream",
          "name": "stderr",
          "text": [
            "Epoch 2/5: 100%|██████████| 49/49 [00:11<00:00,  4.37it/s, Loss=1.6025, Acc=40.32%]\n"
          ]
        },
        {
          "output_type": "stream",
          "name": "stdout",
          "text": [
            "Epoch 2: Train Loss: 1.6608, Train Acc: 40.32%, Test Acc: 44.86%\n"
          ]
        },
        {
          "output_type": "stream",
          "name": "stderr",
          "text": [
            "Epoch 3/5: 100%|██████████| 49/49 [00:11<00:00,  4.35it/s, Loss=1.4960, Acc=45.54%]\n"
          ]
        },
        {
          "output_type": "stream",
          "name": "stdout",
          "text": [
            "Epoch 3: Train Loss: 1.5100, Train Acc: 45.54%, Test Acc: 48.88%\n"
          ]
        },
        {
          "output_type": "stream",
          "name": "stderr",
          "text": [
            "Epoch 4/5: 100%|██████████| 49/49 [00:11<00:00,  4.39it/s, Loss=1.3706, Acc=48.59%]\n"
          ]
        },
        {
          "output_type": "stream",
          "name": "stdout",
          "text": [
            "Epoch 4: Train Loss: 1.4293, Train Acc: 48.59%, Test Acc: 51.65%\n"
          ]
        },
        {
          "output_type": "stream",
          "name": "stderr",
          "text": [
            "Epoch 5/5: 100%|██████████| 49/49 [00:11<00:00,  4.35it/s, Loss=1.3993, Acc=50.74%]\n"
          ]
        },
        {
          "output_type": "stream",
          "name": "stdout",
          "text": [
            "Epoch 5: Train Loss: 1.3719, Train Acc: 50.74%, Test Acc: 53.67%\n"
          ]
        },
        {
          "output_type": "display_data",
          "data": {
            "text/plain": [
              "<IPython.core.display.HTML object>"
            ],
            "text/html": []
          },
          "metadata": {}
        },
        {
          "output_type": "display_data",
          "data": {
            "text/plain": [
              "<IPython.core.display.HTML object>"
            ],
            "text/html": [
              "<br>    <style><br>        .wandb-row {<br>            display: flex;<br>            flex-direction: row;<br>            flex-wrap: wrap;<br>            justify-content: flex-start;<br>            width: 100%;<br>        }<br>        .wandb-col {<br>            display: flex;<br>            flex-direction: column;<br>            flex-basis: 100%;<br>            flex: 1;<br>            padding: 10px;<br>        }<br>    </style><br><div class=\"wandb-row\"><div class=\"wandb-col\"><h3>Run history:</h3><br/><table class=\"wandb\"><tr><td>epoch</td><td>▁▃▅▆█</td></tr><tr><td>test_accuracy</td><td>▁▄▆▇█</td></tr><tr><td>train_accuracy</td><td>▁▅▆▇█</td></tr><tr><td>train_loss</td><td>█▄▃▂▁</td></tr><tr><td>train_time</td><td>▁</td></tr></table><br/></div><div class=\"wandb-col\"><h3>Run summary:</h3><br/><table class=\"wandb\"><tr><td>epoch</td><td>5</td></tr><tr><td>test_accuracy</td><td>53.67</td></tr><tr><td>train_accuracy</td><td>50.74</td></tr><tr><td>train_loss</td><td>1.37188</td></tr><tr><td>train_time</td><td>67.58263</td></tr></table><br/></div></div>"
            ]
          },
          "metadata": {}
        },
        {
          "output_type": "display_data",
          "data": {
            "text/plain": [
              "<IPython.core.display.HTML object>"
            ],
            "text/html": [
              " View run <strong style=\"color:#cdcd00\">base_32_mult_2_lay_4_kern_3_str_2</strong> at: <a href='https://wandb.ai/simeonbetapudi-belmont-university/Mini%20Hackathon%20Sweep/runs/fuvwc8te' target=\"_blank\">https://wandb.ai/simeonbetapudi-belmont-university/Mini%20Hackathon%20Sweep/runs/fuvwc8te</a><br> View project at: <a href='https://wandb.ai/simeonbetapudi-belmont-university/Mini%20Hackathon%20Sweep' target=\"_blank\">https://wandb.ai/simeonbetapudi-belmont-university/Mini%20Hackathon%20Sweep</a><br>Synced 5 W&B file(s), 0 media file(s), 0 artifact file(s) and 0 other file(s)"
            ]
          },
          "metadata": {}
        },
        {
          "output_type": "display_data",
          "data": {
            "text/plain": [
              "<IPython.core.display.HTML object>"
            ],
            "text/html": [
              "Find logs at: <code>./wandb/run-20250910_011055-fuvwc8te/logs</code>"
            ]
          },
          "metadata": {}
        },
        {
          "output_type": "stream",
          "name": "stderr",
          "text": [
            "\u001b[34m\u001b[1mwandb\u001b[0m: Agent Starting Run: 5oealuue with config:\n",
            "\u001b[34m\u001b[1mwandb\u001b[0m: \tbase_channels: 32\n",
            "\u001b[34m\u001b[1mwandb\u001b[0m: \tchannel_mult: 2\n",
            "\u001b[34m\u001b[1mwandb\u001b[0m: \tkernel_size: 3\n",
            "\u001b[34m\u001b[1mwandb\u001b[0m: \tn_conv_layers: 4\n",
            "\u001b[34m\u001b[1mwandb\u001b[0m: \tstride: 3\n"
          ]
        },
        {
          "output_type": "display_data",
          "data": {
            "text/plain": [
              "<IPython.core.display.HTML object>"
            ],
            "text/html": [
              "Ignoring project 'Mini Hackathon Sweep' when running a sweep."
            ]
          },
          "metadata": {}
        },
        {
          "output_type": "display_data",
          "data": {
            "text/plain": [
              "<IPython.core.display.HTML object>"
            ],
            "text/html": [
              "creating run (0.0s)"
            ]
          },
          "metadata": {}
        },
        {
          "output_type": "display_data",
          "data": {
            "text/plain": [
              "<IPython.core.display.HTML object>"
            ],
            "text/html": [
              "Tracking run with wandb version 0.21.3"
            ]
          },
          "metadata": {}
        },
        {
          "output_type": "display_data",
          "data": {
            "text/plain": [
              "<IPython.core.display.HTML object>"
            ],
            "text/html": [
              "Run data is saved locally in <code>/content/wandb/run-20250910_011207-5oealuue</code>"
            ]
          },
          "metadata": {}
        },
        {
          "output_type": "display_data",
          "data": {
            "text/plain": [
              "<IPython.core.display.HTML object>"
            ],
            "text/html": [
              "Syncing run <strong><a href='https://wandb.ai/simeonbetapudi-belmont-university/Mini%20Hackathon%20Sweep/runs/5oealuue' target=\"_blank\">peachy-sweep-3</a></strong> to <a href='https://wandb.ai/simeonbetapudi-belmont-university/Mini%20Hackathon%20Sweep' target=\"_blank\">Weights & Biases</a> (<a href='https://wandb.me/developer-guide' target=\"_blank\">docs</a>)<br>Sweep page: <a href='https://wandb.ai/simeonbetapudi-belmont-university/Mini%20Hackathon%20Sweep/sweeps/zh4ejg5g' target=\"_blank\">https://wandb.ai/simeonbetapudi-belmont-university/Mini%20Hackathon%20Sweep/sweeps/zh4ejg5g</a>"
            ]
          },
          "metadata": {}
        },
        {
          "output_type": "display_data",
          "data": {
            "text/plain": [
              "<IPython.core.display.HTML object>"
            ],
            "text/html": [
              " View project at <a href='https://wandb.ai/simeonbetapudi-belmont-university/Mini%20Hackathon%20Sweep' target=\"_blank\">https://wandb.ai/simeonbetapudi-belmont-university/Mini%20Hackathon%20Sweep</a>"
            ]
          },
          "metadata": {}
        },
        {
          "output_type": "display_data",
          "data": {
            "text/plain": [
              "<IPython.core.display.HTML object>"
            ],
            "text/html": [
              " View sweep at <a href='https://wandb.ai/simeonbetapudi-belmont-university/Mini%20Hackathon%20Sweep/sweeps/zh4ejg5g' target=\"_blank\">https://wandb.ai/simeonbetapudi-belmont-university/Mini%20Hackathon%20Sweep/sweeps/zh4ejg5g</a>"
            ]
          },
          "metadata": {}
        },
        {
          "output_type": "display_data",
          "data": {
            "text/plain": [
              "<IPython.core.display.HTML object>"
            ],
            "text/html": [
              " View run at <a href='https://wandb.ai/simeonbetapudi-belmont-university/Mini%20Hackathon%20Sweep/runs/5oealuue' target=\"_blank\">https://wandb.ai/simeonbetapudi-belmont-university/Mini%20Hackathon%20Sweep/runs/5oealuue</a>"
            ]
          },
          "metadata": {}
        },
        {
          "output_type": "stream",
          "name": "stderr",
          "text": [
            "Epoch 1/5: 100%|██████████| 49/49 [00:11<00:00,  4.29it/s, Loss=1.7829, Acc=27.67%]\n"
          ]
        },
        {
          "output_type": "stream",
          "name": "stdout",
          "text": [
            "Epoch 1: Train Loss: 1.9898, Train Acc: 27.67%, Test Acc: 38.90%\n"
          ]
        },
        {
          "output_type": "stream",
          "name": "stderr",
          "text": [
            "Epoch 2/5: 100%|██████████| 49/49 [00:11<00:00,  4.31it/s, Loss=1.6071, Acc=40.38%]\n"
          ]
        },
        {
          "output_type": "stream",
          "name": "stdout",
          "text": [
            "Epoch 2: Train Loss: 1.6672, Train Acc: 40.38%, Test Acc: 45.79%\n"
          ]
        },
        {
          "output_type": "stream",
          "name": "stderr",
          "text": [
            "Epoch 3/5: 100%|██████████| 49/49 [00:11<00:00,  4.32it/s, Loss=1.5028, Acc=44.94%]\n"
          ]
        },
        {
          "output_type": "stream",
          "name": "stdout",
          "text": [
            "Epoch 3: Train Loss: 1.5334, Train Acc: 44.94%, Test Acc: 49.60%\n"
          ]
        },
        {
          "output_type": "stream",
          "name": "stderr",
          "text": [
            "Epoch 4/5: 100%|██████████| 49/49 [00:11<00:00,  4.32it/s, Loss=1.4295, Acc=47.61%]\n"
          ]
        },
        {
          "output_type": "stream",
          "name": "stdout",
          "text": [
            "Epoch 4: Train Loss: 1.4617, Train Acc: 47.61%, Test Acc: 51.33%\n"
          ]
        },
        {
          "output_type": "stream",
          "name": "stderr",
          "text": [
            "Epoch 5/5: 100%|██████████| 49/49 [00:11<00:00,  4.34it/s, Loss=1.3933, Acc=49.14%]\n"
          ]
        },
        {
          "output_type": "stream",
          "name": "stdout",
          "text": [
            "Epoch 5: Train Loss: 1.4095, Train Acc: 49.14%, Test Acc: 53.25%\n"
          ]
        },
        {
          "output_type": "display_data",
          "data": {
            "text/plain": [
              "<IPython.core.display.HTML object>"
            ],
            "text/html": []
          },
          "metadata": {}
        },
        {
          "output_type": "display_data",
          "data": {
            "text/plain": [
              "<IPython.core.display.HTML object>"
            ],
            "text/html": [
              "<br>    <style><br>        .wandb-row {<br>            display: flex;<br>            flex-direction: row;<br>            flex-wrap: wrap;<br>            justify-content: flex-start;<br>            width: 100%;<br>        }<br>        .wandb-col {<br>            display: flex;<br>            flex-direction: column;<br>            flex-basis: 100%;<br>            flex: 1;<br>            padding: 10px;<br>        }<br>    </style><br><div class=\"wandb-row\"><div class=\"wandb-col\"><h3>Run history:</h3><br/><table class=\"wandb\"><tr><td>epoch</td><td>▁▃▅▆█</td></tr><tr><td>test_accuracy</td><td>▁▄▆▇█</td></tr><tr><td>train_accuracy</td><td>▁▅▇██</td></tr><tr><td>train_loss</td><td>█▄▂▂▁</td></tr><tr><td>train_time</td><td>▁</td></tr></table><br/></div><div class=\"wandb-col\"><h3>Run summary:</h3><br/><table class=\"wandb\"><tr><td>epoch</td><td>5</td></tr><tr><td>test_accuracy</td><td>53.25</td></tr><tr><td>train_accuracy</td><td>49.142</td></tr><tr><td>train_loss</td><td>1.40945</td></tr><tr><td>train_time</td><td>67.6902</td></tr></table><br/></div></div>"
            ]
          },
          "metadata": {}
        },
        {
          "output_type": "display_data",
          "data": {
            "text/plain": [
              "<IPython.core.display.HTML object>"
            ],
            "text/html": [
              " View run <strong style=\"color:#cdcd00\">base_32_mult_2_lay_4_kern_3_str_3</strong> at: <a href='https://wandb.ai/simeonbetapudi-belmont-university/Mini%20Hackathon%20Sweep/runs/5oealuue' target=\"_blank\">https://wandb.ai/simeonbetapudi-belmont-university/Mini%20Hackathon%20Sweep/runs/5oealuue</a><br> View project at: <a href='https://wandb.ai/simeonbetapudi-belmont-university/Mini%20Hackathon%20Sweep' target=\"_blank\">https://wandb.ai/simeonbetapudi-belmont-university/Mini%20Hackathon%20Sweep</a><br>Synced 5 W&B file(s), 0 media file(s), 0 artifact file(s) and 0 other file(s)"
            ]
          },
          "metadata": {}
        },
        {
          "output_type": "display_data",
          "data": {
            "text/plain": [
              "<IPython.core.display.HTML object>"
            ],
            "text/html": [
              "Find logs at: <code>./wandb/run-20250910_011207-5oealuue/logs</code>"
            ]
          },
          "metadata": {}
        },
        {
          "output_type": "stream",
          "name": "stderr",
          "text": [
            "\u001b[34m\u001b[1mwandb\u001b[0m: Agent Starting Run: j3edopdw with config:\n",
            "\u001b[34m\u001b[1mwandb\u001b[0m: \tbase_channels: 32\n",
            "\u001b[34m\u001b[1mwandb\u001b[0m: \tchannel_mult: 2\n",
            "\u001b[34m\u001b[1mwandb\u001b[0m: \tkernel_size: 3\n",
            "\u001b[34m\u001b[1mwandb\u001b[0m: \tn_conv_layers: 5\n",
            "\u001b[34m\u001b[1mwandb\u001b[0m: \tstride: 1\n"
          ]
        },
        {
          "output_type": "display_data",
          "data": {
            "text/plain": [
              "<IPython.core.display.HTML object>"
            ],
            "text/html": [
              "Ignoring project 'Mini Hackathon Sweep' when running a sweep."
            ]
          },
          "metadata": {}
        },
        {
          "output_type": "display_data",
          "data": {
            "text/plain": [
              "<IPython.core.display.HTML object>"
            ],
            "text/html": [
              "creating run (0.0s)"
            ]
          },
          "metadata": {}
        },
        {
          "output_type": "display_data",
          "data": {
            "text/plain": [
              "<IPython.core.display.HTML object>"
            ],
            "text/html": [
              "Tracking run with wandb version 0.21.3"
            ]
          },
          "metadata": {}
        },
        {
          "output_type": "display_data",
          "data": {
            "text/plain": [
              "<IPython.core.display.HTML object>"
            ],
            "text/html": [
              "Run data is saved locally in <code>/content/wandb/run-20250910_011319-j3edopdw</code>"
            ]
          },
          "metadata": {}
        },
        {
          "output_type": "display_data",
          "data": {
            "text/plain": [
              "<IPython.core.display.HTML object>"
            ],
            "text/html": [
              "Syncing run <strong><a href='https://wandb.ai/simeonbetapudi-belmont-university/Mini%20Hackathon%20Sweep/runs/j3edopdw' target=\"_blank\">lively-sweep-4</a></strong> to <a href='https://wandb.ai/simeonbetapudi-belmont-university/Mini%20Hackathon%20Sweep' target=\"_blank\">Weights & Biases</a> (<a href='https://wandb.me/developer-guide' target=\"_blank\">docs</a>)<br>Sweep page: <a href='https://wandb.ai/simeonbetapudi-belmont-university/Mini%20Hackathon%20Sweep/sweeps/zh4ejg5g' target=\"_blank\">https://wandb.ai/simeonbetapudi-belmont-university/Mini%20Hackathon%20Sweep/sweeps/zh4ejg5g</a>"
            ]
          },
          "metadata": {}
        },
        {
          "output_type": "display_data",
          "data": {
            "text/plain": [
              "<IPython.core.display.HTML object>"
            ],
            "text/html": [
              " View project at <a href='https://wandb.ai/simeonbetapudi-belmont-university/Mini%20Hackathon%20Sweep' target=\"_blank\">https://wandb.ai/simeonbetapudi-belmont-university/Mini%20Hackathon%20Sweep</a>"
            ]
          },
          "metadata": {}
        },
        {
          "output_type": "display_data",
          "data": {
            "text/plain": [
              "<IPython.core.display.HTML object>"
            ],
            "text/html": [
              " View sweep at <a href='https://wandb.ai/simeonbetapudi-belmont-university/Mini%20Hackathon%20Sweep/sweeps/zh4ejg5g' target=\"_blank\">https://wandb.ai/simeonbetapudi-belmont-university/Mini%20Hackathon%20Sweep/sweeps/zh4ejg5g</a>"
            ]
          },
          "metadata": {}
        },
        {
          "output_type": "display_data",
          "data": {
            "text/plain": [
              "<IPython.core.display.HTML object>"
            ],
            "text/html": [
              " View run at <a href='https://wandb.ai/simeonbetapudi-belmont-university/Mini%20Hackathon%20Sweep/runs/j3edopdw' target=\"_blank\">https://wandb.ai/simeonbetapudi-belmont-university/Mini%20Hackathon%20Sweep/runs/j3edopdw</a>"
            ]
          },
          "metadata": {}
        },
        {
          "output_type": "stream",
          "name": "stderr",
          "text": [
            "Epoch 1/5: 100%|██████████| 49/49 [00:17<00:00,  2.74it/s, Loss=1.9402, Acc=21.38%]\n"
          ]
        },
        {
          "output_type": "stream",
          "name": "stdout",
          "text": [
            "Epoch 1: Train Loss: 2.0630, Train Acc: 21.38%, Test Acc: 24.69%\n"
          ]
        },
        {
          "output_type": "stream",
          "name": "stderr",
          "text": [
            "Epoch 2/5: 100%|██████████| 49/49 [00:17<00:00,  2.82it/s, Loss=1.7216, Acc=32.33%]\n"
          ]
        },
        {
          "output_type": "stream",
          "name": "stdout",
          "text": [
            "Epoch 2: Train Loss: 1.7776, Train Acc: 32.33%, Test Acc: 33.88%\n"
          ]
        },
        {
          "output_type": "stream",
          "name": "stderr",
          "text": [
            "Epoch 3/5: 100%|██████████| 49/49 [00:17<00:00,  2.82it/s, Loss=1.5885, Acc=37.55%]\n"
          ]
        },
        {
          "output_type": "stream",
          "name": "stdout",
          "text": [
            "Epoch 3: Train Loss: 1.6621, Train Acc: 37.55%, Test Acc: 35.89%\n"
          ]
        },
        {
          "output_type": "stream",
          "name": "stderr",
          "text": [
            "Epoch 4/5: 100%|██████████| 49/49 [00:17<00:00,  2.79it/s, Loss=1.5231, Acc=40.45%]\n"
          ]
        },
        {
          "output_type": "stream",
          "name": "stdout",
          "text": [
            "Epoch 4: Train Loss: 1.5925, Train Acc: 40.45%, Test Acc: 36.93%\n"
          ]
        },
        {
          "output_type": "stream",
          "name": "stderr",
          "text": [
            "Epoch 5/5: 100%|██████████| 49/49 [00:17<00:00,  2.77it/s, Loss=1.5046, Acc=44.27%]\n"
          ]
        },
        {
          "output_type": "stream",
          "name": "stdout",
          "text": [
            "Epoch 5: Train Loss: 1.5102, Train Acc: 44.27%, Test Acc: 42.65%\n"
          ]
        },
        {
          "output_type": "display_data",
          "data": {
            "text/plain": [
              "<IPython.core.display.HTML object>"
            ],
            "text/html": []
          },
          "metadata": {}
        },
        {
          "output_type": "display_data",
          "data": {
            "text/plain": [
              "<IPython.core.display.HTML object>"
            ],
            "text/html": [
              "<br>    <style><br>        .wandb-row {<br>            display: flex;<br>            flex-direction: row;<br>            flex-wrap: wrap;<br>            justify-content: flex-start;<br>            width: 100%;<br>        }<br>        .wandb-col {<br>            display: flex;<br>            flex-direction: column;<br>            flex-basis: 100%;<br>            flex: 1;<br>            padding: 10px;<br>        }<br>    </style><br><div class=\"wandb-row\"><div class=\"wandb-col\"><h3>Run history:</h3><br/><table class=\"wandb\"><tr><td>epoch</td><td>▁▃▅▆█</td></tr><tr><td>test_accuracy</td><td>▁▅▅▆█</td></tr><tr><td>train_accuracy</td><td>▁▄▆▇█</td></tr><tr><td>train_loss</td><td>█▄▃▂▁</td></tr><tr><td>train_time</td><td>▁</td></tr></table><br/></div><div class=\"wandb-col\"><h3>Run summary:</h3><br/><table class=\"wandb\"><tr><td>epoch</td><td>5</td></tr><tr><td>test_accuracy</td><td>42.65</td></tr><tr><td>train_accuracy</td><td>44.266</td></tr><tr><td>train_loss</td><td>1.51019</td></tr><tr><td>train_time</td><td>100.79744</td></tr></table><br/></div></div>"
            ]
          },
          "metadata": {}
        },
        {
          "output_type": "display_data",
          "data": {
            "text/plain": [
              "<IPython.core.display.HTML object>"
            ],
            "text/html": [
              " View run <strong style=\"color:#cdcd00\">base_32_mult_2_lay_5_kern_3_str_1</strong> at: <a href='https://wandb.ai/simeonbetapudi-belmont-university/Mini%20Hackathon%20Sweep/runs/j3edopdw' target=\"_blank\">https://wandb.ai/simeonbetapudi-belmont-university/Mini%20Hackathon%20Sweep/runs/j3edopdw</a><br> View project at: <a href='https://wandb.ai/simeonbetapudi-belmont-university/Mini%20Hackathon%20Sweep' target=\"_blank\">https://wandb.ai/simeonbetapudi-belmont-university/Mini%20Hackathon%20Sweep</a><br>Synced 5 W&B file(s), 0 media file(s), 0 artifact file(s) and 0 other file(s)"
            ]
          },
          "metadata": {}
        },
        {
          "output_type": "display_data",
          "data": {
            "text/plain": [
              "<IPython.core.display.HTML object>"
            ],
            "text/html": [
              "Find logs at: <code>./wandb/run-20250910_011319-j3edopdw/logs</code>"
            ]
          },
          "metadata": {}
        },
        {
          "output_type": "stream",
          "name": "stderr",
          "text": [
            "\u001b[34m\u001b[1mwandb\u001b[0m: Agent Starting Run: uyjof4kv with config:\n",
            "\u001b[34m\u001b[1mwandb\u001b[0m: \tbase_channels: 32\n",
            "\u001b[34m\u001b[1mwandb\u001b[0m: \tchannel_mult: 2\n",
            "\u001b[34m\u001b[1mwandb\u001b[0m: \tkernel_size: 3\n",
            "\u001b[34m\u001b[1mwandb\u001b[0m: \tn_conv_layers: 5\n",
            "\u001b[34m\u001b[1mwandb\u001b[0m: \tstride: 2\n"
          ]
        },
        {
          "output_type": "display_data",
          "data": {
            "text/plain": [
              "<IPython.core.display.HTML object>"
            ],
            "text/html": [
              "Ignoring project 'Mini Hackathon Sweep' when running a sweep."
            ]
          },
          "metadata": {}
        },
        {
          "output_type": "display_data",
          "data": {
            "text/plain": [
              "<IPython.core.display.HTML object>"
            ],
            "text/html": [
              "Waiting for wandb.init()..."
            ]
          },
          "metadata": {}
        },
        {
          "output_type": "display_data",
          "data": {
            "text/plain": [
              "<IPython.core.display.HTML object>"
            ],
            "text/html": [
              "Tracking run with wandb version 0.21.3"
            ]
          },
          "metadata": {}
        },
        {
          "output_type": "display_data",
          "data": {
            "text/plain": [
              "<IPython.core.display.HTML object>"
            ],
            "text/html": [
              "Run data is saved locally in <code>/content/wandb/run-20250910_011508-uyjof4kv</code>"
            ]
          },
          "metadata": {}
        },
        {
          "output_type": "display_data",
          "data": {
            "text/plain": [
              "<IPython.core.display.HTML object>"
            ],
            "text/html": [
              "Syncing run <strong><a href='https://wandb.ai/simeonbetapudi-belmont-university/Mini%20Hackathon%20Sweep/runs/uyjof4kv' target=\"_blank\">rich-sweep-5</a></strong> to <a href='https://wandb.ai/simeonbetapudi-belmont-university/Mini%20Hackathon%20Sweep' target=\"_blank\">Weights & Biases</a> (<a href='https://wandb.me/developer-guide' target=\"_blank\">docs</a>)<br>Sweep page: <a href='https://wandb.ai/simeonbetapudi-belmont-university/Mini%20Hackathon%20Sweep/sweeps/zh4ejg5g' target=\"_blank\">https://wandb.ai/simeonbetapudi-belmont-university/Mini%20Hackathon%20Sweep/sweeps/zh4ejg5g</a>"
            ]
          },
          "metadata": {}
        },
        {
          "output_type": "display_data",
          "data": {
            "text/plain": [
              "<IPython.core.display.HTML object>"
            ],
            "text/html": [
              " View project at <a href='https://wandb.ai/simeonbetapudi-belmont-university/Mini%20Hackathon%20Sweep' target=\"_blank\">https://wandb.ai/simeonbetapudi-belmont-university/Mini%20Hackathon%20Sweep</a>"
            ]
          },
          "metadata": {}
        },
        {
          "output_type": "display_data",
          "data": {
            "text/plain": [
              "<IPython.core.display.HTML object>"
            ],
            "text/html": [
              " View sweep at <a href='https://wandb.ai/simeonbetapudi-belmont-university/Mini%20Hackathon%20Sweep/sweeps/zh4ejg5g' target=\"_blank\">https://wandb.ai/simeonbetapudi-belmont-university/Mini%20Hackathon%20Sweep/sweeps/zh4ejg5g</a>"
            ]
          },
          "metadata": {}
        },
        {
          "output_type": "display_data",
          "data": {
            "text/plain": [
              "<IPython.core.display.HTML object>"
            ],
            "text/html": [
              " View run at <a href='https://wandb.ai/simeonbetapudi-belmont-university/Mini%20Hackathon%20Sweep/runs/uyjof4kv' target=\"_blank\">https://wandb.ai/simeonbetapudi-belmont-university/Mini%20Hackathon%20Sweep/runs/uyjof4kv</a>"
            ]
          },
          "metadata": {}
        },
        {
          "output_type": "stream",
          "name": "stderr",
          "text": [
            "Epoch 1/5: 100%|██████████| 49/49 [00:11<00:00,  4.32it/s, Loss=1.7401, Acc=26.57%]\n"
          ]
        },
        {
          "output_type": "stream",
          "name": "stdout",
          "text": [
            "Epoch 1: Train Loss: 1.9853, Train Acc: 26.57%, Test Acc: 40.07%\n"
          ]
        },
        {
          "output_type": "stream",
          "name": "stderr",
          "text": [
            "Epoch 2/5: 100%|██████████| 49/49 [00:11<00:00,  4.28it/s, Loss=1.4625, Acc=42.49%]\n"
          ]
        },
        {
          "output_type": "stream",
          "name": "stdout",
          "text": [
            "Epoch 2: Train Loss: 1.5827, Train Acc: 42.49%, Test Acc: 48.31%\n"
          ]
        },
        {
          "output_type": "stream",
          "name": "stderr",
          "text": [
            "Epoch 3/5: 100%|██████████| 49/49 [00:11<00:00,  4.28it/s, Loss=1.4115, Acc=48.45%]\n"
          ]
        },
        {
          "output_type": "stream",
          "name": "stdout",
          "text": [
            "Epoch 3: Train Loss: 1.4206, Train Acc: 48.45%, Test Acc: 52.61%\n"
          ]
        },
        {
          "output_type": "stream",
          "name": "stderr",
          "text": [
            "Epoch 4/5: 100%|██████████| 49/49 [00:11<00:00,  4.30it/s, Loss=1.3263, Acc=52.03%]\n"
          ]
        },
        {
          "output_type": "stream",
          "name": "stdout",
          "text": [
            "Epoch 4: Train Loss: 1.3199, Train Acc: 52.03%, Test Acc: 56.46%\n"
          ]
        },
        {
          "output_type": "stream",
          "name": "stderr",
          "text": [
            "Epoch 5/5: 100%|██████████| 49/49 [00:11<00:00,  4.33it/s, Loss=1.2818, Acc=55.32%]\n"
          ]
        },
        {
          "output_type": "stream",
          "name": "stdout",
          "text": [
            "Epoch 5: Train Loss: 1.2421, Train Acc: 55.32%, Test Acc: 59.19%\n"
          ]
        },
        {
          "output_type": "display_data",
          "data": {
            "text/plain": [
              "<IPython.core.display.HTML object>"
            ],
            "text/html": []
          },
          "metadata": {}
        },
        {
          "output_type": "display_data",
          "data": {
            "text/plain": [
              "<IPython.core.display.HTML object>"
            ],
            "text/html": [
              "<br>    <style><br>        .wandb-row {<br>            display: flex;<br>            flex-direction: row;<br>            flex-wrap: wrap;<br>            justify-content: flex-start;<br>            width: 100%;<br>        }<br>        .wandb-col {<br>            display: flex;<br>            flex-direction: column;<br>            flex-basis: 100%;<br>            flex: 1;<br>            padding: 10px;<br>        }<br>    </style><br><div class=\"wandb-row\"><div class=\"wandb-col\"><h3>Run history:</h3><br/><table class=\"wandb\"><tr><td>epoch</td><td>▁▃▅▆█</td></tr><tr><td>test_accuracy</td><td>▁▄▆▇█</td></tr><tr><td>train_accuracy</td><td>▁▅▆▇█</td></tr><tr><td>train_loss</td><td>█▄▃▂▁</td></tr><tr><td>train_time</td><td>▁</td></tr></table><br/></div><div class=\"wandb-col\"><h3>Run summary:</h3><br/><table class=\"wandb\"><tr><td>epoch</td><td>5</td></tr><tr><td>test_accuracy</td><td>59.19</td></tr><tr><td>train_accuracy</td><td>55.322</td></tr><tr><td>train_loss</td><td>1.24206</td></tr><tr><td>train_time</td><td>67.90691</td></tr></table><br/></div></div>"
            ]
          },
          "metadata": {}
        },
        {
          "output_type": "display_data",
          "data": {
            "text/plain": [
              "<IPython.core.display.HTML object>"
            ],
            "text/html": [
              " View run <strong style=\"color:#cdcd00\">base_32_mult_2_lay_5_kern_3_str_2</strong> at: <a href='https://wandb.ai/simeonbetapudi-belmont-university/Mini%20Hackathon%20Sweep/runs/uyjof4kv' target=\"_blank\">https://wandb.ai/simeonbetapudi-belmont-university/Mini%20Hackathon%20Sweep/runs/uyjof4kv</a><br> View project at: <a href='https://wandb.ai/simeonbetapudi-belmont-university/Mini%20Hackathon%20Sweep' target=\"_blank\">https://wandb.ai/simeonbetapudi-belmont-university/Mini%20Hackathon%20Sweep</a><br>Synced 5 W&B file(s), 0 media file(s), 0 artifact file(s) and 0 other file(s)"
            ]
          },
          "metadata": {}
        },
        {
          "output_type": "display_data",
          "data": {
            "text/plain": [
              "<IPython.core.display.HTML object>"
            ],
            "text/html": [
              "Find logs at: <code>./wandb/run-20250910_011508-uyjof4kv/logs</code>"
            ]
          },
          "metadata": {}
        },
        {
          "output_type": "stream",
          "name": "stderr",
          "text": [
            "\u001b[34m\u001b[1mwandb\u001b[0m: Agent Starting Run: 0vjd5a39 with config:\n",
            "\u001b[34m\u001b[1mwandb\u001b[0m: \tbase_channels: 32\n",
            "\u001b[34m\u001b[1mwandb\u001b[0m: \tchannel_mult: 2\n",
            "\u001b[34m\u001b[1mwandb\u001b[0m: \tkernel_size: 3\n",
            "\u001b[34m\u001b[1mwandb\u001b[0m: \tn_conv_layers: 5\n",
            "\u001b[34m\u001b[1mwandb\u001b[0m: \tstride: 3\n"
          ]
        },
        {
          "output_type": "display_data",
          "data": {
            "text/plain": [
              "<IPython.core.display.HTML object>"
            ],
            "text/html": [
              "Ignoring project 'Mini Hackathon Sweep' when running a sweep."
            ]
          },
          "metadata": {}
        },
        {
          "output_type": "display_data",
          "data": {
            "text/plain": [
              "<IPython.core.display.HTML object>"
            ],
            "text/html": [
              "Waiting for wandb.init()..."
            ]
          },
          "metadata": {}
        },
        {
          "output_type": "display_data",
          "data": {
            "text/plain": [
              "<IPython.core.display.HTML object>"
            ],
            "text/html": [
              "Tracking run with wandb version 0.21.3"
            ]
          },
          "metadata": {}
        },
        {
          "output_type": "display_data",
          "data": {
            "text/plain": [
              "<IPython.core.display.HTML object>"
            ],
            "text/html": [
              "Run data is saved locally in <code>/content/wandb/run-20250910_011620-0vjd5a39</code>"
            ]
          },
          "metadata": {}
        },
        {
          "output_type": "display_data",
          "data": {
            "text/plain": [
              "<IPython.core.display.HTML object>"
            ],
            "text/html": [
              "Syncing run <strong><a href='https://wandb.ai/simeonbetapudi-belmont-university/Mini%20Hackathon%20Sweep/runs/0vjd5a39' target=\"_blank\">glorious-sweep-6</a></strong> to <a href='https://wandb.ai/simeonbetapudi-belmont-university/Mini%20Hackathon%20Sweep' target=\"_blank\">Weights & Biases</a> (<a href='https://wandb.me/developer-guide' target=\"_blank\">docs</a>)<br>Sweep page: <a href='https://wandb.ai/simeonbetapudi-belmont-university/Mini%20Hackathon%20Sweep/sweeps/zh4ejg5g' target=\"_blank\">https://wandb.ai/simeonbetapudi-belmont-university/Mini%20Hackathon%20Sweep/sweeps/zh4ejg5g</a>"
            ]
          },
          "metadata": {}
        },
        {
          "output_type": "display_data",
          "data": {
            "text/plain": [
              "<IPython.core.display.HTML object>"
            ],
            "text/html": [
              " View project at <a href='https://wandb.ai/simeonbetapudi-belmont-university/Mini%20Hackathon%20Sweep' target=\"_blank\">https://wandb.ai/simeonbetapudi-belmont-university/Mini%20Hackathon%20Sweep</a>"
            ]
          },
          "metadata": {}
        },
        {
          "output_type": "display_data",
          "data": {
            "text/plain": [
              "<IPython.core.display.HTML object>"
            ],
            "text/html": [
              " View sweep at <a href='https://wandb.ai/simeonbetapudi-belmont-university/Mini%20Hackathon%20Sweep/sweeps/zh4ejg5g' target=\"_blank\">https://wandb.ai/simeonbetapudi-belmont-university/Mini%20Hackathon%20Sweep/sweeps/zh4ejg5g</a>"
            ]
          },
          "metadata": {}
        },
        {
          "output_type": "display_data",
          "data": {
            "text/plain": [
              "<IPython.core.display.HTML object>"
            ],
            "text/html": [
              " View run at <a href='https://wandb.ai/simeonbetapudi-belmont-university/Mini%20Hackathon%20Sweep/runs/0vjd5a39' target=\"_blank\">https://wandb.ai/simeonbetapudi-belmont-university/Mini%20Hackathon%20Sweep/runs/0vjd5a39</a>"
            ]
          },
          "metadata": {}
        },
        {
          "output_type": "stream",
          "name": "stderr",
          "text": [
            "Epoch 1/5: 100%|██████████| 49/49 [00:11<00:00,  4.31it/s, Loss=1.7746, Acc=25.69%]\n"
          ]
        },
        {
          "output_type": "stream",
          "name": "stdout",
          "text": [
            "Epoch 1: Train Loss: 2.0220, Train Acc: 25.69%, Test Acc: 35.39%\n"
          ]
        },
        {
          "output_type": "stream",
          "name": "stderr",
          "text": [
            "Epoch 2/5: 100%|██████████| 49/49 [00:11<00:00,  4.34it/s, Loss=1.6267, Acc=37.07%]\n"
          ]
        },
        {
          "output_type": "stream",
          "name": "stdout",
          "text": [
            "Epoch 2: Train Loss: 1.7337, Train Acc: 37.07%, Test Acc: 42.83%\n"
          ]
        },
        {
          "output_type": "stream",
          "name": "stderr",
          "text": [
            "Epoch 3/5: 100%|██████████| 49/49 [00:11<00:00,  4.31it/s, Loss=1.5528, Acc=42.64%]\n"
          ]
        },
        {
          "output_type": "stream",
          "name": "stdout",
          "text": [
            "Epoch 3: Train Loss: 1.5825, Train Acc: 42.64%, Test Acc: 47.28%\n"
          ]
        },
        {
          "output_type": "stream",
          "name": "stderr",
          "text": [
            "Epoch 4/5: 100%|██████████| 49/49 [00:11<00:00,  4.31it/s, Loss=1.4315, Acc=45.57%]\n"
          ]
        },
        {
          "output_type": "stream",
          "name": "stdout",
          "text": [
            "Epoch 4: Train Loss: 1.4918, Train Acc: 45.57%, Test Acc: 50.47%\n"
          ]
        },
        {
          "output_type": "stream",
          "name": "stderr",
          "text": [
            "Epoch 5/5: 100%|██████████| 49/49 [00:11<00:00,  4.32it/s, Loss=1.4232, Acc=48.22%]\n"
          ]
        },
        {
          "output_type": "stream",
          "name": "stdout",
          "text": [
            "Epoch 5: Train Loss: 1.4249, Train Acc: 48.22%, Test Acc: 51.87%\n"
          ]
        },
        {
          "output_type": "display_data",
          "data": {
            "text/plain": [
              "<IPython.core.display.HTML object>"
            ],
            "text/html": []
          },
          "metadata": {}
        },
        {
          "output_type": "display_data",
          "data": {
            "text/plain": [
              "<IPython.core.display.HTML object>"
            ],
            "text/html": [
              "<br>    <style><br>        .wandb-row {<br>            display: flex;<br>            flex-direction: row;<br>            flex-wrap: wrap;<br>            justify-content: flex-start;<br>            width: 100%;<br>        }<br>        .wandb-col {<br>            display: flex;<br>            flex-direction: column;<br>            flex-basis: 100%;<br>            flex: 1;<br>            padding: 10px;<br>        }<br>    </style><br><div class=\"wandb-row\"><div class=\"wandb-col\"><h3>Run history:</h3><br/><table class=\"wandb\"><tr><td>epoch</td><td>▁▃▅▆█</td></tr><tr><td>test_accuracy</td><td>▁▄▆▇█</td></tr><tr><td>train_accuracy</td><td>▁▅▆▇█</td></tr><tr><td>train_loss</td><td>█▅▃▂▁</td></tr><tr><td>train_time</td><td>▁</td></tr></table><br/></div><div class=\"wandb-col\"><h3>Run summary:</h3><br/><table class=\"wandb\"><tr><td>epoch</td><td>5</td></tr><tr><td>test_accuracy</td><td>51.87</td></tr><tr><td>train_accuracy</td><td>48.22</td></tr><tr><td>train_loss</td><td>1.42486</td></tr><tr><td>train_time</td><td>68.00148</td></tr></table><br/></div></div>"
            ]
          },
          "metadata": {}
        },
        {
          "output_type": "display_data",
          "data": {
            "text/plain": [
              "<IPython.core.display.HTML object>"
            ],
            "text/html": [
              " View run <strong style=\"color:#cdcd00\">base_32_mult_2_lay_5_kern_3_str_3</strong> at: <a href='https://wandb.ai/simeonbetapudi-belmont-university/Mini%20Hackathon%20Sweep/runs/0vjd5a39' target=\"_blank\">https://wandb.ai/simeonbetapudi-belmont-university/Mini%20Hackathon%20Sweep/runs/0vjd5a39</a><br> View project at: <a href='https://wandb.ai/simeonbetapudi-belmont-university/Mini%20Hackathon%20Sweep' target=\"_blank\">https://wandb.ai/simeonbetapudi-belmont-university/Mini%20Hackathon%20Sweep</a><br>Synced 5 W&B file(s), 0 media file(s), 0 artifact file(s) and 0 other file(s)"
            ]
          },
          "metadata": {}
        },
        {
          "output_type": "display_data",
          "data": {
            "text/plain": [
              "<IPython.core.display.HTML object>"
            ],
            "text/html": [
              "Find logs at: <code>./wandb/run-20250910_011620-0vjd5a39/logs</code>"
            ]
          },
          "metadata": {}
        },
        {
          "output_type": "stream",
          "name": "stderr",
          "text": [
            "\u001b[34m\u001b[1mwandb\u001b[0m: Agent Starting Run: of7jz58l with config:\n",
            "\u001b[34m\u001b[1mwandb\u001b[0m: \tbase_channels: 32\n",
            "\u001b[34m\u001b[1mwandb\u001b[0m: \tchannel_mult: 2\n",
            "\u001b[34m\u001b[1mwandb\u001b[0m: \tkernel_size: 5\n",
            "\u001b[34m\u001b[1mwandb\u001b[0m: \tn_conv_layers: 4\n",
            "\u001b[34m\u001b[1mwandb\u001b[0m: \tstride: 1\n"
          ]
        },
        {
          "output_type": "display_data",
          "data": {
            "text/plain": [
              "<IPython.core.display.HTML object>"
            ],
            "text/html": [
              "Ignoring project 'Mini Hackathon Sweep' when running a sweep."
            ]
          },
          "metadata": {}
        },
        {
          "output_type": "display_data",
          "data": {
            "text/plain": [
              "<IPython.core.display.HTML object>"
            ],
            "text/html": [
              "Waiting for wandb.init()..."
            ]
          },
          "metadata": {}
        },
        {
          "output_type": "display_data",
          "data": {
            "text/plain": [
              "<IPython.core.display.HTML object>"
            ],
            "text/html": [
              "Tracking run with wandb version 0.21.3"
            ]
          },
          "metadata": {}
        },
        {
          "output_type": "display_data",
          "data": {
            "text/plain": [
              "<IPython.core.display.HTML object>"
            ],
            "text/html": [
              "Run data is saved locally in <code>/content/wandb/run-20250910_011732-of7jz58l</code>"
            ]
          },
          "metadata": {}
        },
        {
          "output_type": "display_data",
          "data": {
            "text/plain": [
              "<IPython.core.display.HTML object>"
            ],
            "text/html": [
              "Syncing run <strong><a href='https://wandb.ai/simeonbetapudi-belmont-university/Mini%20Hackathon%20Sweep/runs/of7jz58l' target=\"_blank\">skilled-sweep-7</a></strong> to <a href='https://wandb.ai/simeonbetapudi-belmont-university/Mini%20Hackathon%20Sweep' target=\"_blank\">Weights & Biases</a> (<a href='https://wandb.me/developer-guide' target=\"_blank\">docs</a>)<br>Sweep page: <a href='https://wandb.ai/simeonbetapudi-belmont-university/Mini%20Hackathon%20Sweep/sweeps/zh4ejg5g' target=\"_blank\">https://wandb.ai/simeonbetapudi-belmont-university/Mini%20Hackathon%20Sweep/sweeps/zh4ejg5g</a>"
            ]
          },
          "metadata": {}
        },
        {
          "output_type": "display_data",
          "data": {
            "text/plain": [
              "<IPython.core.display.HTML object>"
            ],
            "text/html": [
              " View project at <a href='https://wandb.ai/simeonbetapudi-belmont-university/Mini%20Hackathon%20Sweep' target=\"_blank\">https://wandb.ai/simeonbetapudi-belmont-university/Mini%20Hackathon%20Sweep</a>"
            ]
          },
          "metadata": {}
        },
        {
          "output_type": "display_data",
          "data": {
            "text/plain": [
              "<IPython.core.display.HTML object>"
            ],
            "text/html": [
              " View sweep at <a href='https://wandb.ai/simeonbetapudi-belmont-university/Mini%20Hackathon%20Sweep/sweeps/zh4ejg5g' target=\"_blank\">https://wandb.ai/simeonbetapudi-belmont-university/Mini%20Hackathon%20Sweep/sweeps/zh4ejg5g</a>"
            ]
          },
          "metadata": {}
        },
        {
          "output_type": "display_data",
          "data": {
            "text/plain": [
              "<IPython.core.display.HTML object>"
            ],
            "text/html": [
              " View run at <a href='https://wandb.ai/simeonbetapudi-belmont-university/Mini%20Hackathon%20Sweep/runs/of7jz58l' target=\"_blank\">https://wandb.ai/simeonbetapudi-belmont-university/Mini%20Hackathon%20Sweep/runs/of7jz58l</a>"
            ]
          },
          "metadata": {}
        },
        {
          "output_type": "stream",
          "name": "stderr",
          "text": [
            "Epoch 1/5: 100%|██████████| 49/49 [00:14<00:00,  3.42it/s, Loss=1.7776, Acc=26.68%]\n"
          ]
        },
        {
          "output_type": "stream",
          "name": "stdout",
          "text": [
            "Epoch 1: Train Loss: 1.9479, Train Acc: 26.68%, Test Acc: 35.24%\n"
          ]
        },
        {
          "output_type": "stream",
          "name": "stderr",
          "text": [
            "Epoch 2/5: 100%|██████████| 49/49 [00:14<00:00,  3.47it/s, Loss=1.5744, Acc=38.44%]\n"
          ]
        },
        {
          "output_type": "stream",
          "name": "stdout",
          "text": [
            "Epoch 2: Train Loss: 1.6462, Train Acc: 38.44%, Test Acc: 43.16%\n"
          ]
        },
        {
          "output_type": "stream",
          "name": "stderr",
          "text": [
            "Epoch 3/5: 100%|██████████| 49/49 [00:14<00:00,  3.47it/s, Loss=1.4414, Acc=45.46%]\n"
          ]
        },
        {
          "output_type": "stream",
          "name": "stdout",
          "text": [
            "Epoch 3: Train Loss: 1.4893, Train Acc: 45.46%, Test Acc: 47.92%\n"
          ]
        },
        {
          "output_type": "stream",
          "name": "stderr",
          "text": [
            "Epoch 4/5: 100%|██████████| 49/49 [00:14<00:00,  3.42it/s, Loss=1.4140, Acc=49.74%]\n"
          ]
        },
        {
          "output_type": "stream",
          "name": "stdout",
          "text": [
            "Epoch 4: Train Loss: 1.3966, Train Acc: 49.74%, Test Acc: 51.23%\n"
          ]
        },
        {
          "output_type": "stream",
          "name": "stderr",
          "text": [
            "Epoch 5/5: 100%|██████████| 49/49 [00:14<00:00,  3.49it/s, Loss=1.2963, Acc=53.11%]\n"
          ]
        },
        {
          "output_type": "stream",
          "name": "stdout",
          "text": [
            "Epoch 5: Train Loss: 1.3084, Train Acc: 53.11%, Test Acc: 55.12%\n"
          ]
        },
        {
          "output_type": "display_data",
          "data": {
            "text/plain": [
              "<IPython.core.display.HTML object>"
            ],
            "text/html": []
          },
          "metadata": {}
        },
        {
          "output_type": "display_data",
          "data": {
            "text/plain": [
              "<IPython.core.display.HTML object>"
            ],
            "text/html": [
              "<br>    <style><br>        .wandb-row {<br>            display: flex;<br>            flex-direction: row;<br>            flex-wrap: wrap;<br>            justify-content: flex-start;<br>            width: 100%;<br>        }<br>        .wandb-col {<br>            display: flex;<br>            flex-direction: column;<br>            flex-basis: 100%;<br>            flex: 1;<br>            padding: 10px;<br>        }<br>    </style><br><div class=\"wandb-row\"><div class=\"wandb-col\"><h3>Run history:</h3><br/><table class=\"wandb\"><tr><td>epoch</td><td>▁▃▅▆█</td></tr><tr><td>test_accuracy</td><td>▁▄▅▇█</td></tr><tr><td>train_accuracy</td><td>▁▄▆▇█</td></tr><tr><td>train_loss</td><td>█▅▃▂▁</td></tr><tr><td>train_time</td><td>▁</td></tr></table><br/></div><div class=\"wandb-col\"><h3>Run summary:</h3><br/><table class=\"wandb\"><tr><td>epoch</td><td>5</td></tr><tr><td>test_accuracy</td><td>55.12</td></tr><tr><td>train_accuracy</td><td>53.108</td></tr><tr><td>train_loss</td><td>1.30845</td></tr><tr><td>train_time</td><td>82.77601</td></tr></table><br/></div></div>"
            ]
          },
          "metadata": {}
        },
        {
          "output_type": "display_data",
          "data": {
            "text/plain": [
              "<IPython.core.display.HTML object>"
            ],
            "text/html": [
              " View run <strong style=\"color:#cdcd00\">base_32_mult_2_lay_4_kern_5_str_1</strong> at: <a href='https://wandb.ai/simeonbetapudi-belmont-university/Mini%20Hackathon%20Sweep/runs/of7jz58l' target=\"_blank\">https://wandb.ai/simeonbetapudi-belmont-university/Mini%20Hackathon%20Sweep/runs/of7jz58l</a><br> View project at: <a href='https://wandb.ai/simeonbetapudi-belmont-university/Mini%20Hackathon%20Sweep' target=\"_blank\">https://wandb.ai/simeonbetapudi-belmont-university/Mini%20Hackathon%20Sweep</a><br>Synced 5 W&B file(s), 0 media file(s), 0 artifact file(s) and 0 other file(s)"
            ]
          },
          "metadata": {}
        },
        {
          "output_type": "display_data",
          "data": {
            "text/plain": [
              "<IPython.core.display.HTML object>"
            ],
            "text/html": [
              "Find logs at: <code>./wandb/run-20250910_011732-of7jz58l/logs</code>"
            ]
          },
          "metadata": {}
        },
        {
          "output_type": "stream",
          "name": "stderr",
          "text": [
            "\u001b[34m\u001b[1mwandb\u001b[0m: Agent Starting Run: wz562u82 with config:\n",
            "\u001b[34m\u001b[1mwandb\u001b[0m: \tbase_channels: 32\n",
            "\u001b[34m\u001b[1mwandb\u001b[0m: \tchannel_mult: 2\n",
            "\u001b[34m\u001b[1mwandb\u001b[0m: \tkernel_size: 5\n",
            "\u001b[34m\u001b[1mwandb\u001b[0m: \tn_conv_layers: 4\n",
            "\u001b[34m\u001b[1mwandb\u001b[0m: \tstride: 2\n"
          ]
        },
        {
          "output_type": "display_data",
          "data": {
            "text/plain": [
              "<IPython.core.display.HTML object>"
            ],
            "text/html": [
              "Ignoring project 'Mini Hackathon Sweep' when running a sweep."
            ]
          },
          "metadata": {}
        },
        {
          "output_type": "display_data",
          "data": {
            "text/plain": [
              "<IPython.core.display.HTML object>"
            ],
            "text/html": [
              "creating run (0.0s)"
            ]
          },
          "metadata": {}
        },
        {
          "output_type": "display_data",
          "data": {
            "text/plain": [
              "<IPython.core.display.HTML object>"
            ],
            "text/html": [
              "Tracking run with wandb version 0.21.3"
            ]
          },
          "metadata": {}
        },
        {
          "output_type": "display_data",
          "data": {
            "text/plain": [
              "<IPython.core.display.HTML object>"
            ],
            "text/html": [
              "Run data is saved locally in <code>/content/wandb/run-20250910_011859-wz562u82</code>"
            ]
          },
          "metadata": {}
        },
        {
          "output_type": "display_data",
          "data": {
            "text/plain": [
              "<IPython.core.display.HTML object>"
            ],
            "text/html": [
              "Syncing run <strong><a href='https://wandb.ai/simeonbetapudi-belmont-university/Mini%20Hackathon%20Sweep/runs/wz562u82' target=\"_blank\">trim-sweep-8</a></strong> to <a href='https://wandb.ai/simeonbetapudi-belmont-university/Mini%20Hackathon%20Sweep' target=\"_blank\">Weights & Biases</a> (<a href='https://wandb.me/developer-guide' target=\"_blank\">docs</a>)<br>Sweep page: <a href='https://wandb.ai/simeonbetapudi-belmont-university/Mini%20Hackathon%20Sweep/sweeps/zh4ejg5g' target=\"_blank\">https://wandb.ai/simeonbetapudi-belmont-university/Mini%20Hackathon%20Sweep/sweeps/zh4ejg5g</a>"
            ]
          },
          "metadata": {}
        },
        {
          "output_type": "display_data",
          "data": {
            "text/plain": [
              "<IPython.core.display.HTML object>"
            ],
            "text/html": [
              " View project at <a href='https://wandb.ai/simeonbetapudi-belmont-university/Mini%20Hackathon%20Sweep' target=\"_blank\">https://wandb.ai/simeonbetapudi-belmont-university/Mini%20Hackathon%20Sweep</a>"
            ]
          },
          "metadata": {}
        },
        {
          "output_type": "display_data",
          "data": {
            "text/plain": [
              "<IPython.core.display.HTML object>"
            ],
            "text/html": [
              " View sweep at <a href='https://wandb.ai/simeonbetapudi-belmont-university/Mini%20Hackathon%20Sweep/sweeps/zh4ejg5g' target=\"_blank\">https://wandb.ai/simeonbetapudi-belmont-university/Mini%20Hackathon%20Sweep/sweeps/zh4ejg5g</a>"
            ]
          },
          "metadata": {}
        },
        {
          "output_type": "display_data",
          "data": {
            "text/plain": [
              "<IPython.core.display.HTML object>"
            ],
            "text/html": [
              " View run at <a href='https://wandb.ai/simeonbetapudi-belmont-university/Mini%20Hackathon%20Sweep/runs/wz562u82' target=\"_blank\">https://wandb.ai/simeonbetapudi-belmont-university/Mini%20Hackathon%20Sweep/runs/wz562u82</a>"
            ]
          },
          "metadata": {}
        },
        {
          "output_type": "stream",
          "name": "stderr",
          "text": [
            "Epoch 1/5: 100%|██████████| 49/49 [00:11<00:00,  4.25it/s, Loss=1.6253, Acc=31.39%]\n"
          ]
        },
        {
          "output_type": "stream",
          "name": "stdout",
          "text": [
            "Epoch 1: Train Loss: 1.8818, Train Acc: 31.39%, Test Acc: 43.15%\n"
          ]
        },
        {
          "output_type": "stream",
          "name": "stderr",
          "text": [
            "Epoch 2/5: 100%|██████████| 49/49 [00:11<00:00,  4.34it/s, Loss=1.4969, Acc=44.59%]\n"
          ]
        },
        {
          "output_type": "stream",
          "name": "stdout",
          "text": [
            "Epoch 2: Train Loss: 1.5343, Train Acc: 44.59%, Test Acc: 50.13%\n"
          ]
        },
        {
          "output_type": "stream",
          "name": "stderr",
          "text": [
            "Epoch 3/5: 100%|██████████| 49/49 [00:11<00:00,  4.32it/s, Loss=1.3204, Acc=50.51%]\n"
          ]
        },
        {
          "output_type": "stream",
          "name": "stdout",
          "text": [
            "Epoch 3: Train Loss: 1.3791, Train Acc: 50.51%, Test Acc: 54.91%\n"
          ]
        },
        {
          "output_type": "stream",
          "name": "stderr",
          "text": [
            "Epoch 4/5: 100%|██████████| 49/49 [00:11<00:00,  4.27it/s, Loss=1.1920, Acc=53.96%]\n"
          ]
        },
        {
          "output_type": "stream",
          "name": "stdout",
          "text": [
            "Epoch 4: Train Loss: 1.2847, Train Acc: 53.96%, Test Acc: 55.32%\n"
          ]
        },
        {
          "output_type": "stream",
          "name": "stderr",
          "text": [
            "Epoch 5/5: 100%|██████████| 49/49 [00:11<00:00,  4.30it/s, Loss=1.1968, Acc=56.71%]\n"
          ]
        },
        {
          "output_type": "stream",
          "name": "stdout",
          "text": [
            "Epoch 5: Train Loss: 1.2144, Train Acc: 56.71%, Test Acc: 59.39%\n"
          ]
        },
        {
          "output_type": "display_data",
          "data": {
            "text/plain": [
              "<IPython.core.display.HTML object>"
            ],
            "text/html": []
          },
          "metadata": {}
        },
        {
          "output_type": "display_data",
          "data": {
            "text/plain": [
              "<IPython.core.display.HTML object>"
            ],
            "text/html": [
              "<br>    <style><br>        .wandb-row {<br>            display: flex;<br>            flex-direction: row;<br>            flex-wrap: wrap;<br>            justify-content: flex-start;<br>            width: 100%;<br>        }<br>        .wandb-col {<br>            display: flex;<br>            flex-direction: column;<br>            flex-basis: 100%;<br>            flex: 1;<br>            padding: 10px;<br>        }<br>    </style><br><div class=\"wandb-row\"><div class=\"wandb-col\"><h3>Run history:</h3><br/><table class=\"wandb\"><tr><td>epoch</td><td>▁▃▅▆█</td></tr><tr><td>test_accuracy</td><td>▁▄▆▆█</td></tr><tr><td>train_accuracy</td><td>▁▅▆▇█</td></tr><tr><td>train_loss</td><td>█▄▃▂▁</td></tr><tr><td>train_time</td><td>▁</td></tr></table><br/></div><div class=\"wandb-col\"><h3>Run summary:</h3><br/><table class=\"wandb\"><tr><td>epoch</td><td>5</td></tr><tr><td>test_accuracy</td><td>59.39</td></tr><tr><td>train_accuracy</td><td>56.712</td></tr><tr><td>train_loss</td><td>1.21437</td></tr><tr><td>train_time</td><td>68.06641</td></tr></table><br/></div></div>"
            ]
          },
          "metadata": {}
        },
        {
          "output_type": "display_data",
          "data": {
            "text/plain": [
              "<IPython.core.display.HTML object>"
            ],
            "text/html": [
              " View run <strong style=\"color:#cdcd00\">base_32_mult_2_lay_4_kern_5_str_2</strong> at: <a href='https://wandb.ai/simeonbetapudi-belmont-university/Mini%20Hackathon%20Sweep/runs/wz562u82' target=\"_blank\">https://wandb.ai/simeonbetapudi-belmont-university/Mini%20Hackathon%20Sweep/runs/wz562u82</a><br> View project at: <a href='https://wandb.ai/simeonbetapudi-belmont-university/Mini%20Hackathon%20Sweep' target=\"_blank\">https://wandb.ai/simeonbetapudi-belmont-university/Mini%20Hackathon%20Sweep</a><br>Synced 5 W&B file(s), 0 media file(s), 0 artifact file(s) and 0 other file(s)"
            ]
          },
          "metadata": {}
        },
        {
          "output_type": "display_data",
          "data": {
            "text/plain": [
              "<IPython.core.display.HTML object>"
            ],
            "text/html": [
              "Find logs at: <code>./wandb/run-20250910_011859-wz562u82/logs</code>"
            ]
          },
          "metadata": {}
        },
        {
          "output_type": "stream",
          "name": "stderr",
          "text": [
            "\u001b[34m\u001b[1mwandb\u001b[0m: Agent Starting Run: cievaflm with config:\n",
            "\u001b[34m\u001b[1mwandb\u001b[0m: \tbase_channels: 32\n",
            "\u001b[34m\u001b[1mwandb\u001b[0m: \tchannel_mult: 2\n",
            "\u001b[34m\u001b[1mwandb\u001b[0m: \tkernel_size: 5\n",
            "\u001b[34m\u001b[1mwandb\u001b[0m: \tn_conv_layers: 4\n",
            "\u001b[34m\u001b[1mwandb\u001b[0m: \tstride: 3\n"
          ]
        },
        {
          "output_type": "display_data",
          "data": {
            "text/plain": [
              "<IPython.core.display.HTML object>"
            ],
            "text/html": [
              "Ignoring project 'Mini Hackathon Sweep' when running a sweep."
            ]
          },
          "metadata": {}
        },
        {
          "output_type": "display_data",
          "data": {
            "text/plain": [
              "<IPython.core.display.HTML object>"
            ],
            "text/html": [
              "Waiting for wandb.init()..."
            ]
          },
          "metadata": {}
        },
        {
          "output_type": "display_data",
          "data": {
            "text/plain": [
              "<IPython.core.display.HTML object>"
            ],
            "text/html": [
              "Tracking run with wandb version 0.21.3"
            ]
          },
          "metadata": {}
        },
        {
          "output_type": "display_data",
          "data": {
            "text/plain": [
              "<IPython.core.display.HTML object>"
            ],
            "text/html": [
              "Run data is saved locally in <code>/content/wandb/run-20250910_012012-cievaflm</code>"
            ]
          },
          "metadata": {}
        },
        {
          "output_type": "display_data",
          "data": {
            "text/plain": [
              "<IPython.core.display.HTML object>"
            ],
            "text/html": [
              "Syncing run <strong><a href='https://wandb.ai/simeonbetapudi-belmont-university/Mini%20Hackathon%20Sweep/runs/cievaflm' target=\"_blank\">bright-sweep-9</a></strong> to <a href='https://wandb.ai/simeonbetapudi-belmont-university/Mini%20Hackathon%20Sweep' target=\"_blank\">Weights & Biases</a> (<a href='https://wandb.me/developer-guide' target=\"_blank\">docs</a>)<br>Sweep page: <a href='https://wandb.ai/simeonbetapudi-belmont-university/Mini%20Hackathon%20Sweep/sweeps/zh4ejg5g' target=\"_blank\">https://wandb.ai/simeonbetapudi-belmont-university/Mini%20Hackathon%20Sweep/sweeps/zh4ejg5g</a>"
            ]
          },
          "metadata": {}
        },
        {
          "output_type": "display_data",
          "data": {
            "text/plain": [
              "<IPython.core.display.HTML object>"
            ],
            "text/html": [
              " View project at <a href='https://wandb.ai/simeonbetapudi-belmont-university/Mini%20Hackathon%20Sweep' target=\"_blank\">https://wandb.ai/simeonbetapudi-belmont-university/Mini%20Hackathon%20Sweep</a>"
            ]
          },
          "metadata": {}
        },
        {
          "output_type": "display_data",
          "data": {
            "text/plain": [
              "<IPython.core.display.HTML object>"
            ],
            "text/html": [
              " View sweep at <a href='https://wandb.ai/simeonbetapudi-belmont-university/Mini%20Hackathon%20Sweep/sweeps/zh4ejg5g' target=\"_blank\">https://wandb.ai/simeonbetapudi-belmont-university/Mini%20Hackathon%20Sweep/sweeps/zh4ejg5g</a>"
            ]
          },
          "metadata": {}
        },
        {
          "output_type": "display_data",
          "data": {
            "text/plain": [
              "<IPython.core.display.HTML object>"
            ],
            "text/html": [
              " View run at <a href='https://wandb.ai/simeonbetapudi-belmont-university/Mini%20Hackathon%20Sweep/runs/cievaflm' target=\"_blank\">https://wandb.ai/simeonbetapudi-belmont-university/Mini%20Hackathon%20Sweep/runs/cievaflm</a>"
            ]
          },
          "metadata": {}
        },
        {
          "output_type": "stream",
          "name": "stderr",
          "text": [
            "Epoch 1/5:   0%|          | 0/49 [00:00<?, ?it/s]\n",
            "Traceback (most recent call last):\n",
            "  File \"/usr/local/lib/python3.12/dist-packages/wandb/agents/pyagent.py\", line 297, in _run_job\n",
            "    self._function()\n",
            "  File \"/tmp/ipython-input-3079156912.py\", line 26, in sweep_train\n",
            "    results = train_model(model,\n",
            "              ^^^^^^^^^^^^^^^^^^\n",
            "  File \"/tmp/ipython-input-1655472275.py\", line 32, in train_model\n",
            "    output = model(data)\n",
            "             ^^^^^^^^^^^\n",
            "  File \"/usr/local/lib/python3.12/dist-packages/torch/nn/modules/module.py\", line 1773, in _wrapped_call_impl\n",
            "    return self._call_impl(*args, **kwargs)\n",
            "           ^^^^^^^^^^^^^^^^^^^^^^^^^^^^^^^^\n",
            "  File \"/usr/local/lib/python3.12/dist-packages/torch/nn/modules/module.py\", line 1784, in _call_impl\n",
            "    return forward_call(*args, **kwargs)\n",
            "           ^^^^^^^^^^^^^^^^^^^^^^^^^^^^^\n",
            "  File \"/tmp/ipython-input-1595289304.py\", line 23, in forward\n",
            "    x = self.activation(conv_layer(x))\n",
            "                        ^^^^^^^^^^^^^\n",
            "  File \"/usr/local/lib/python3.12/dist-packages/torch/nn/modules/module.py\", line 1773, in _wrapped_call_impl\n",
            "    return self._call_impl(*args, **kwargs)\n",
            "           ^^^^^^^^^^^^^^^^^^^^^^^^^^^^^^^^\n",
            "  File \"/usr/local/lib/python3.12/dist-packages/torch/nn/modules/module.py\", line 1784, in _call_impl\n",
            "    return forward_call(*args, **kwargs)\n",
            "           ^^^^^^^^^^^^^^^^^^^^^^^^^^^^^\n",
            "  File \"/usr/local/lib/python3.12/dist-packages/torch/nn/modules/conv.py\", line 548, in forward\n",
            "    return self._conv_forward(input, self.weight, self.bias)\n",
            "           ^^^^^^^^^^^^^^^^^^^^^^^^^^^^^^^^^^^^^^^^^^^^^^^^^\n",
            "  File \"/usr/local/lib/python3.12/dist-packages/torch/nn/modules/conv.py\", line 543, in _conv_forward\n",
            "    return F.conv2d(\n",
            "           ^^^^^^^^^\n",
            "RuntimeError: Calculated padded input size per channel: (3 x 3). Kernel size: (5 x 5). Kernel size can't be greater than actual input size\n",
            "\n"
          ]
        },
        {
          "output_type": "display_data",
          "data": {
            "text/plain": [
              "<IPython.core.display.HTML object>"
            ],
            "text/html": []
          },
          "metadata": {}
        },
        {
          "output_type": "display_data",
          "data": {
            "text/plain": [
              "<IPython.core.display.HTML object>"
            ],
            "text/html": [
              " View run <strong style=\"color:#cdcd00\">base_32_mult_2_lay_4_kern_5_str_3</strong> at: <a href='https://wandb.ai/simeonbetapudi-belmont-university/Mini%20Hackathon%20Sweep/runs/cievaflm' target=\"_blank\">https://wandb.ai/simeonbetapudi-belmont-university/Mini%20Hackathon%20Sweep/runs/cievaflm</a><br> View project at: <a href='https://wandb.ai/simeonbetapudi-belmont-university/Mini%20Hackathon%20Sweep' target=\"_blank\">https://wandb.ai/simeonbetapudi-belmont-university/Mini%20Hackathon%20Sweep</a><br>Synced 5 W&B file(s), 0 media file(s), 0 artifact file(s) and 0 other file(s)"
            ]
          },
          "metadata": {}
        },
        {
          "output_type": "display_data",
          "data": {
            "text/plain": [
              "<IPython.core.display.HTML object>"
            ],
            "text/html": [
              "Find logs at: <code>./wandb/run-20250910_012012-cievaflm/logs</code>"
            ]
          },
          "metadata": {}
        },
        {
          "output_type": "stream",
          "name": "stderr",
          "text": [
            "\u001b[34m\u001b[1mwandb\u001b[0m: \u001b[32m\u001b[41mERROR\u001b[0m Run cievaflm errored: Calculated padded input size per channel: (3 x 3). Kernel size: (5 x 5). Kernel size can't be greater than actual input size\n",
            "\u001b[34m\u001b[1mwandb\u001b[0m: Agent Starting Run: nt06paj0 with config:\n",
            "\u001b[34m\u001b[1mwandb\u001b[0m: \tbase_channels: 32\n",
            "\u001b[34m\u001b[1mwandb\u001b[0m: \tchannel_mult: 2\n",
            "\u001b[34m\u001b[1mwandb\u001b[0m: \tkernel_size: 5\n",
            "\u001b[34m\u001b[1mwandb\u001b[0m: \tn_conv_layers: 5\n",
            "\u001b[34m\u001b[1mwandb\u001b[0m: \tstride: 1\n"
          ]
        },
        {
          "output_type": "display_data",
          "data": {
            "text/plain": [
              "<IPython.core.display.HTML object>"
            ],
            "text/html": [
              "Ignoring project 'Mini Hackathon Sweep' when running a sweep."
            ]
          },
          "metadata": {}
        },
        {
          "output_type": "display_data",
          "data": {
            "text/plain": [
              "<IPython.core.display.HTML object>"
            ],
            "text/html": [
              "Waiting for wandb.init()..."
            ]
          },
          "metadata": {}
        },
        {
          "output_type": "display_data",
          "data": {
            "text/plain": [
              "<IPython.core.display.HTML object>"
            ],
            "text/html": [
              "Tracking run with wandb version 0.21.3"
            ]
          },
          "metadata": {}
        },
        {
          "output_type": "display_data",
          "data": {
            "text/plain": [
              "<IPython.core.display.HTML object>"
            ],
            "text/html": [
              "Run data is saved locally in <code>/content/wandb/run-20250910_012017-nt06paj0</code>"
            ]
          },
          "metadata": {}
        },
        {
          "output_type": "display_data",
          "data": {
            "text/plain": [
              "<IPython.core.display.HTML object>"
            ],
            "text/html": [
              "Syncing run <strong><a href='https://wandb.ai/simeonbetapudi-belmont-university/Mini%20Hackathon%20Sweep/runs/nt06paj0' target=\"_blank\">cool-sweep-10</a></strong> to <a href='https://wandb.ai/simeonbetapudi-belmont-university/Mini%20Hackathon%20Sweep' target=\"_blank\">Weights & Biases</a> (<a href='https://wandb.me/developer-guide' target=\"_blank\">docs</a>)<br>Sweep page: <a href='https://wandb.ai/simeonbetapudi-belmont-university/Mini%20Hackathon%20Sweep/sweeps/zh4ejg5g' target=\"_blank\">https://wandb.ai/simeonbetapudi-belmont-university/Mini%20Hackathon%20Sweep/sweeps/zh4ejg5g</a>"
            ]
          },
          "metadata": {}
        },
        {
          "output_type": "display_data",
          "data": {
            "text/plain": [
              "<IPython.core.display.HTML object>"
            ],
            "text/html": [
              " View project at <a href='https://wandb.ai/simeonbetapudi-belmont-university/Mini%20Hackathon%20Sweep' target=\"_blank\">https://wandb.ai/simeonbetapudi-belmont-university/Mini%20Hackathon%20Sweep</a>"
            ]
          },
          "metadata": {}
        },
        {
          "output_type": "display_data",
          "data": {
            "text/plain": [
              "<IPython.core.display.HTML object>"
            ],
            "text/html": [
              " View sweep at <a href='https://wandb.ai/simeonbetapudi-belmont-university/Mini%20Hackathon%20Sweep/sweeps/zh4ejg5g' target=\"_blank\">https://wandb.ai/simeonbetapudi-belmont-university/Mini%20Hackathon%20Sweep/sweeps/zh4ejg5g</a>"
            ]
          },
          "metadata": {}
        },
        {
          "output_type": "display_data",
          "data": {
            "text/plain": [
              "<IPython.core.display.HTML object>"
            ],
            "text/html": [
              " View run at <a href='https://wandb.ai/simeonbetapudi-belmont-university/Mini%20Hackathon%20Sweep/runs/nt06paj0' target=\"_blank\">https://wandb.ai/simeonbetapudi-belmont-university/Mini%20Hackathon%20Sweep/runs/nt06paj0</a>"
            ]
          },
          "metadata": {}
        },
        {
          "output_type": "stream",
          "name": "stderr",
          "text": [
            "Epoch 1/5: 100%|██████████| 49/49 [00:18<00:00,  2.62it/s, Loss=1.9356, Acc=19.45%]\n"
          ]
        },
        {
          "output_type": "stream",
          "name": "stdout",
          "text": [
            "Epoch 1: Train Loss: 2.1435, Train Acc: 19.45%, Test Acc: 27.67%\n"
          ]
        },
        {
          "output_type": "stream",
          "name": "stderr",
          "text": [
            "Epoch 2/5: 100%|██████████| 49/49 [00:18<00:00,  2.66it/s, Loss=1.6897, Acc=31.48%]\n"
          ]
        },
        {
          "output_type": "stream",
          "name": "stdout",
          "text": [
            "Epoch 2: Train Loss: 1.7911, Train Acc: 31.48%, Test Acc: 35.81%\n"
          ]
        },
        {
          "output_type": "stream",
          "name": "stderr",
          "text": [
            "Epoch 3/5: 100%|██████████| 49/49 [00:18<00:00,  2.66it/s, Loss=1.5328, Acc=38.93%]\n"
          ]
        },
        {
          "output_type": "stream",
          "name": "stdout",
          "text": [
            "Epoch 3: Train Loss: 1.6125, Train Acc: 38.93%, Test Acc: 43.93%\n"
          ]
        },
        {
          "output_type": "stream",
          "name": "stderr",
          "text": [
            "Epoch 4/5: 100%|██████████| 49/49 [00:18<00:00,  2.66it/s, Loss=1.3928, Acc=45.60%]\n"
          ]
        },
        {
          "output_type": "stream",
          "name": "stdout",
          "text": [
            "Epoch 4: Train Loss: 1.4741, Train Acc: 45.60%, Test Acc: 48.92%\n"
          ]
        },
        {
          "output_type": "stream",
          "name": "stderr",
          "text": [
            "Epoch 5/5: 100%|██████████| 49/49 [00:18<00:00,  2.65it/s, Loss=1.2739, Acc=51.83%]\n"
          ]
        },
        {
          "output_type": "stream",
          "name": "stdout",
          "text": [
            "Epoch 5: Train Loss: 1.3342, Train Acc: 51.83%, Test Acc: 52.66%\n"
          ]
        },
        {
          "output_type": "display_data",
          "data": {
            "text/plain": [
              "<IPython.core.display.HTML object>"
            ],
            "text/html": []
          },
          "metadata": {}
        },
        {
          "output_type": "display_data",
          "data": {
            "text/plain": [
              "<IPython.core.display.HTML object>"
            ],
            "text/html": [
              "<br>    <style><br>        .wandb-row {<br>            display: flex;<br>            flex-direction: row;<br>            flex-wrap: wrap;<br>            justify-content: flex-start;<br>            width: 100%;<br>        }<br>        .wandb-col {<br>            display: flex;<br>            flex-direction: column;<br>            flex-basis: 100%;<br>            flex: 1;<br>            padding: 10px;<br>        }<br>    </style><br><div class=\"wandb-row\"><div class=\"wandb-col\"><h3>Run history:</h3><br/><table class=\"wandb\"><tr><td>epoch</td><td>▁▃▅▆█</td></tr><tr><td>test_accuracy</td><td>▁▃▆▇█</td></tr><tr><td>train_accuracy</td><td>▁▄▅▇█</td></tr><tr><td>train_loss</td><td>█▅▃▂▁</td></tr><tr><td>train_time</td><td>▁</td></tr></table><br/></div><div class=\"wandb-col\"><h3>Run summary:</h3><br/><table class=\"wandb\"><tr><td>epoch</td><td>5</td></tr><tr><td>test_accuracy</td><td>52.66</td></tr><tr><td>train_accuracy</td><td>51.826</td></tr><tr><td>train_loss</td><td>1.33417</td></tr><tr><td>train_time</td><td>105.63698</td></tr></table><br/></div></div>"
            ]
          },
          "metadata": {}
        },
        {
          "output_type": "display_data",
          "data": {
            "text/plain": [
              "<IPython.core.display.HTML object>"
            ],
            "text/html": [
              " View run <strong style=\"color:#cdcd00\">base_32_mult_2_lay_5_kern_5_str_1</strong> at: <a href='https://wandb.ai/simeonbetapudi-belmont-university/Mini%20Hackathon%20Sweep/runs/nt06paj0' target=\"_blank\">https://wandb.ai/simeonbetapudi-belmont-university/Mini%20Hackathon%20Sweep/runs/nt06paj0</a><br> View project at: <a href='https://wandb.ai/simeonbetapudi-belmont-university/Mini%20Hackathon%20Sweep' target=\"_blank\">https://wandb.ai/simeonbetapudi-belmont-university/Mini%20Hackathon%20Sweep</a><br>Synced 5 W&B file(s), 0 media file(s), 0 artifact file(s) and 0 other file(s)"
            ]
          },
          "metadata": {}
        },
        {
          "output_type": "display_data",
          "data": {
            "text/plain": [
              "<IPython.core.display.HTML object>"
            ],
            "text/html": [
              "Find logs at: <code>./wandb/run-20250910_012017-nt06paj0/logs</code>"
            ]
          },
          "metadata": {}
        },
        {
          "output_type": "stream",
          "name": "stderr",
          "text": [
            "\u001b[34m\u001b[1mwandb\u001b[0m: Agent Starting Run: iwnob3us with config:\n",
            "\u001b[34m\u001b[1mwandb\u001b[0m: \tbase_channels: 32\n",
            "\u001b[34m\u001b[1mwandb\u001b[0m: \tchannel_mult: 2\n",
            "\u001b[34m\u001b[1mwandb\u001b[0m: \tkernel_size: 5\n",
            "\u001b[34m\u001b[1mwandb\u001b[0m: \tn_conv_layers: 5\n",
            "\u001b[34m\u001b[1mwandb\u001b[0m: \tstride: 2\n"
          ]
        },
        {
          "output_type": "display_data",
          "data": {
            "text/plain": [
              "<IPython.core.display.HTML object>"
            ],
            "text/html": [
              "Ignoring project 'Mini Hackathon Sweep' when running a sweep."
            ]
          },
          "metadata": {}
        },
        {
          "output_type": "display_data",
          "data": {
            "text/plain": [
              "<IPython.core.display.HTML object>"
            ],
            "text/html": [
              "Waiting for wandb.init()..."
            ]
          },
          "metadata": {}
        },
        {
          "output_type": "display_data",
          "data": {
            "text/plain": [
              "<IPython.core.display.HTML object>"
            ],
            "text/html": [
              "Tracking run with wandb version 0.21.3"
            ]
          },
          "metadata": {}
        },
        {
          "output_type": "display_data",
          "data": {
            "text/plain": [
              "<IPython.core.display.HTML object>"
            ],
            "text/html": [
              "Run data is saved locally in <code>/content/wandb/run-20250910_012210-iwnob3us</code>"
            ]
          },
          "metadata": {}
        },
        {
          "output_type": "display_data",
          "data": {
            "text/plain": [
              "<IPython.core.display.HTML object>"
            ],
            "text/html": [
              "Syncing run <strong><a href='https://wandb.ai/simeonbetapudi-belmont-university/Mini%20Hackathon%20Sweep/runs/iwnob3us' target=\"_blank\">clear-sweep-11</a></strong> to <a href='https://wandb.ai/simeonbetapudi-belmont-university/Mini%20Hackathon%20Sweep' target=\"_blank\">Weights & Biases</a> (<a href='https://wandb.me/developer-guide' target=\"_blank\">docs</a>)<br>Sweep page: <a href='https://wandb.ai/simeonbetapudi-belmont-university/Mini%20Hackathon%20Sweep/sweeps/zh4ejg5g' target=\"_blank\">https://wandb.ai/simeonbetapudi-belmont-university/Mini%20Hackathon%20Sweep/sweeps/zh4ejg5g</a>"
            ]
          },
          "metadata": {}
        },
        {
          "output_type": "display_data",
          "data": {
            "text/plain": [
              "<IPython.core.display.HTML object>"
            ],
            "text/html": [
              " View project at <a href='https://wandb.ai/simeonbetapudi-belmont-university/Mini%20Hackathon%20Sweep' target=\"_blank\">https://wandb.ai/simeonbetapudi-belmont-university/Mini%20Hackathon%20Sweep</a>"
            ]
          },
          "metadata": {}
        },
        {
          "output_type": "display_data",
          "data": {
            "text/plain": [
              "<IPython.core.display.HTML object>"
            ],
            "text/html": [
              " View sweep at <a href='https://wandb.ai/simeonbetapudi-belmont-university/Mini%20Hackathon%20Sweep/sweeps/zh4ejg5g' target=\"_blank\">https://wandb.ai/simeonbetapudi-belmont-university/Mini%20Hackathon%20Sweep/sweeps/zh4ejg5g</a>"
            ]
          },
          "metadata": {}
        },
        {
          "output_type": "display_data",
          "data": {
            "text/plain": [
              "<IPython.core.display.HTML object>"
            ],
            "text/html": [
              " View run at <a href='https://wandb.ai/simeonbetapudi-belmont-university/Mini%20Hackathon%20Sweep/runs/iwnob3us' target=\"_blank\">https://wandb.ai/simeonbetapudi-belmont-university/Mini%20Hackathon%20Sweep/runs/iwnob3us</a>"
            ]
          },
          "metadata": {}
        },
        {
          "output_type": "stream",
          "name": "stderr",
          "text": [
            "Epoch 1/5:   0%|          | 0/49 [00:00<?, ?it/s]\n",
            "Traceback (most recent call last):\n",
            "  File \"/usr/local/lib/python3.12/dist-packages/wandb/agents/pyagent.py\", line 297, in _run_job\n",
            "    self._function()\n",
            "  File \"/tmp/ipython-input-3079156912.py\", line 26, in sweep_train\n",
            "    results = train_model(model,\n",
            "              ^^^^^^^^^^^^^^^^^^\n",
            "  File \"/tmp/ipython-input-1655472275.py\", line 32, in train_model\n",
            "    output = model(data)\n",
            "             ^^^^^^^^^^^\n",
            "  File \"/usr/local/lib/python3.12/dist-packages/torch/nn/modules/module.py\", line 1773, in _wrapped_call_impl\n",
            "    return self._call_impl(*args, **kwargs)\n",
            "           ^^^^^^^^^^^^^^^^^^^^^^^^^^^^^^^^\n",
            "  File \"/usr/local/lib/python3.12/dist-packages/torch/nn/modules/module.py\", line 1784, in _call_impl\n",
            "    return forward_call(*args, **kwargs)\n",
            "           ^^^^^^^^^^^^^^^^^^^^^^^^^^^^^\n",
            "  File \"/tmp/ipython-input-1595289304.py\", line 23, in forward\n",
            "    x = self.activation(conv_layer(x))\n",
            "                        ^^^^^^^^^^^^^\n",
            "  File \"/usr/local/lib/python3.12/dist-packages/torch/nn/modules/module.py\", line 1773, in _wrapped_call_impl\n",
            "    return self._call_impl(*args, **kwargs)\n",
            "           ^^^^^^^^^^^^^^^^^^^^^^^^^^^^^^^^\n",
            "  File \"/usr/local/lib/python3.12/dist-packages/torch/nn/modules/module.py\", line 1784, in _call_impl\n",
            "    return forward_call(*args, **kwargs)\n",
            "           ^^^^^^^^^^^^^^^^^^^^^^^^^^^^^\n",
            "  File \"/usr/local/lib/python3.12/dist-packages/torch/nn/modules/conv.py\", line 548, in forward\n",
            "    return self._conv_forward(input, self.weight, self.bias)\n",
            "           ^^^^^^^^^^^^^^^^^^^^^^^^^^^^^^^^^^^^^^^^^^^^^^^^^\n",
            "  File \"/usr/local/lib/python3.12/dist-packages/torch/nn/modules/conv.py\", line 543, in _conv_forward\n",
            "    return F.conv2d(\n",
            "           ^^^^^^^^^\n",
            "RuntimeError: Calculated padded input size per channel: (3 x 3). Kernel size: (5 x 5). Kernel size can't be greater than actual input size\n",
            "\n"
          ]
        },
        {
          "output_type": "display_data",
          "data": {
            "text/plain": [
              "<IPython.core.display.HTML object>"
            ],
            "text/html": []
          },
          "metadata": {}
        },
        {
          "output_type": "display_data",
          "data": {
            "text/plain": [
              "<IPython.core.display.HTML object>"
            ],
            "text/html": [
              " View run <strong style=\"color:#cdcd00\">base_32_mult_2_lay_5_kern_5_str_2</strong> at: <a href='https://wandb.ai/simeonbetapudi-belmont-university/Mini%20Hackathon%20Sweep/runs/iwnob3us' target=\"_blank\">https://wandb.ai/simeonbetapudi-belmont-university/Mini%20Hackathon%20Sweep/runs/iwnob3us</a><br> View project at: <a href='https://wandb.ai/simeonbetapudi-belmont-university/Mini%20Hackathon%20Sweep' target=\"_blank\">https://wandb.ai/simeonbetapudi-belmont-university/Mini%20Hackathon%20Sweep</a><br>Synced 5 W&B file(s), 0 media file(s), 0 artifact file(s) and 0 other file(s)"
            ]
          },
          "metadata": {}
        },
        {
          "output_type": "display_data",
          "data": {
            "text/plain": [
              "<IPython.core.display.HTML object>"
            ],
            "text/html": [
              "Find logs at: <code>./wandb/run-20250910_012210-iwnob3us/logs</code>"
            ]
          },
          "metadata": {}
        },
        {
          "output_type": "stream",
          "name": "stderr",
          "text": [
            "\u001b[34m\u001b[1mwandb\u001b[0m: \u001b[32m\u001b[41mERROR\u001b[0m Run iwnob3us errored: Calculated padded input size per channel: (3 x 3). Kernel size: (5 x 5). Kernel size can't be greater than actual input size\n",
            "\u001b[34m\u001b[1mwandb\u001b[0m: Agent Starting Run: yvgqsdmr with config:\n",
            "\u001b[34m\u001b[1mwandb\u001b[0m: \tbase_channels: 32\n",
            "\u001b[34m\u001b[1mwandb\u001b[0m: \tchannel_mult: 2\n",
            "\u001b[34m\u001b[1mwandb\u001b[0m: \tkernel_size: 5\n",
            "\u001b[34m\u001b[1mwandb\u001b[0m: \tn_conv_layers: 5\n",
            "\u001b[34m\u001b[1mwandb\u001b[0m: \tstride: 3\n"
          ]
        },
        {
          "output_type": "display_data",
          "data": {
            "text/plain": [
              "<IPython.core.display.HTML object>"
            ],
            "text/html": [
              "Ignoring project 'Mini Hackathon Sweep' when running a sweep."
            ]
          },
          "metadata": {}
        },
        {
          "output_type": "display_data",
          "data": {
            "text/plain": [
              "<IPython.core.display.HTML object>"
            ],
            "text/html": [
              "Waiting for wandb.init()..."
            ]
          },
          "metadata": {}
        },
        {
          "output_type": "display_data",
          "data": {
            "text/plain": [
              "<IPython.core.display.HTML object>"
            ],
            "text/html": [
              "Tracking run with wandb version 0.21.3"
            ]
          },
          "metadata": {}
        },
        {
          "output_type": "display_data",
          "data": {
            "text/plain": [
              "<IPython.core.display.HTML object>"
            ],
            "text/html": [
              "Run data is saved locally in <code>/content/wandb/run-20250910_012216-yvgqsdmr</code>"
            ]
          },
          "metadata": {}
        },
        {
          "output_type": "display_data",
          "data": {
            "text/plain": [
              "<IPython.core.display.HTML object>"
            ],
            "text/html": [
              "Syncing run <strong><a href='https://wandb.ai/simeonbetapudi-belmont-university/Mini%20Hackathon%20Sweep/runs/yvgqsdmr' target=\"_blank\">wild-sweep-12</a></strong> to <a href='https://wandb.ai/simeonbetapudi-belmont-university/Mini%20Hackathon%20Sweep' target=\"_blank\">Weights & Biases</a> (<a href='https://wandb.me/developer-guide' target=\"_blank\">docs</a>)<br>Sweep page: <a href='https://wandb.ai/simeonbetapudi-belmont-university/Mini%20Hackathon%20Sweep/sweeps/zh4ejg5g' target=\"_blank\">https://wandb.ai/simeonbetapudi-belmont-university/Mini%20Hackathon%20Sweep/sweeps/zh4ejg5g</a>"
            ]
          },
          "metadata": {}
        },
        {
          "output_type": "display_data",
          "data": {
            "text/plain": [
              "<IPython.core.display.HTML object>"
            ],
            "text/html": [
              " View project at <a href='https://wandb.ai/simeonbetapudi-belmont-university/Mini%20Hackathon%20Sweep' target=\"_blank\">https://wandb.ai/simeonbetapudi-belmont-university/Mini%20Hackathon%20Sweep</a>"
            ]
          },
          "metadata": {}
        },
        {
          "output_type": "display_data",
          "data": {
            "text/plain": [
              "<IPython.core.display.HTML object>"
            ],
            "text/html": [
              " View sweep at <a href='https://wandb.ai/simeonbetapudi-belmont-university/Mini%20Hackathon%20Sweep/sweeps/zh4ejg5g' target=\"_blank\">https://wandb.ai/simeonbetapudi-belmont-university/Mini%20Hackathon%20Sweep/sweeps/zh4ejg5g</a>"
            ]
          },
          "metadata": {}
        },
        {
          "output_type": "display_data",
          "data": {
            "text/plain": [
              "<IPython.core.display.HTML object>"
            ],
            "text/html": [
              " View run at <a href='https://wandb.ai/simeonbetapudi-belmont-university/Mini%20Hackathon%20Sweep/runs/yvgqsdmr' target=\"_blank\">https://wandb.ai/simeonbetapudi-belmont-university/Mini%20Hackathon%20Sweep/runs/yvgqsdmr</a>"
            ]
          },
          "metadata": {}
        },
        {
          "output_type": "stream",
          "name": "stderr",
          "text": [
            "Epoch 1/5:   0%|          | 0/49 [00:00<?, ?it/s]\n",
            "Traceback (most recent call last):\n",
            "  File \"/usr/local/lib/python3.12/dist-packages/wandb/agents/pyagent.py\", line 297, in _run_job\n",
            "    self._function()\n",
            "  File \"/tmp/ipython-input-3079156912.py\", line 26, in sweep_train\n",
            "    results = train_model(model,\n",
            "              ^^^^^^^^^^^^^^^^^^\n",
            "  File \"/tmp/ipython-input-1655472275.py\", line 32, in train_model\n",
            "    output = model(data)\n",
            "             ^^^^^^^^^^^\n",
            "  File \"/usr/local/lib/python3.12/dist-packages/torch/nn/modules/module.py\", line 1773, in _wrapped_call_impl\n",
            "    return self._call_impl(*args, **kwargs)\n",
            "           ^^^^^^^^^^^^^^^^^^^^^^^^^^^^^^^^\n",
            "  File \"/usr/local/lib/python3.12/dist-packages/torch/nn/modules/module.py\", line 1784, in _call_impl\n",
            "    return forward_call(*args, **kwargs)\n",
            "           ^^^^^^^^^^^^^^^^^^^^^^^^^^^^^\n",
            "  File \"/tmp/ipython-input-1595289304.py\", line 23, in forward\n",
            "    x = self.activation(conv_layer(x))\n",
            "                        ^^^^^^^^^^^^^\n",
            "  File \"/usr/local/lib/python3.12/dist-packages/torch/nn/modules/module.py\", line 1773, in _wrapped_call_impl\n",
            "    return self._call_impl(*args, **kwargs)\n",
            "           ^^^^^^^^^^^^^^^^^^^^^^^^^^^^^^^^\n",
            "  File \"/usr/local/lib/python3.12/dist-packages/torch/nn/modules/module.py\", line 1784, in _call_impl\n",
            "    return forward_call(*args, **kwargs)\n",
            "           ^^^^^^^^^^^^^^^^^^^^^^^^^^^^^\n",
            "  File \"/usr/local/lib/python3.12/dist-packages/torch/nn/modules/conv.py\", line 548, in forward\n",
            "    return self._conv_forward(input, self.weight, self.bias)\n",
            "           ^^^^^^^^^^^^^^^^^^^^^^^^^^^^^^^^^^^^^^^^^^^^^^^^^\n",
            "  File \"/usr/local/lib/python3.12/dist-packages/torch/nn/modules/conv.py\", line 543, in _conv_forward\n",
            "    return F.conv2d(\n",
            "           ^^^^^^^^^\n",
            "RuntimeError: Calculated padded input size per channel: (3 x 3). Kernel size: (5 x 5). Kernel size can't be greater than actual input size\n",
            "\n"
          ]
        },
        {
          "output_type": "display_data",
          "data": {
            "text/plain": [
              "<IPython.core.display.HTML object>"
            ],
            "text/html": []
          },
          "metadata": {}
        },
        {
          "output_type": "display_data",
          "data": {
            "text/plain": [
              "<IPython.core.display.HTML object>"
            ],
            "text/html": [
              " View run <strong style=\"color:#cdcd00\">base_32_mult_2_lay_5_kern_5_str_3</strong> at: <a href='https://wandb.ai/simeonbetapudi-belmont-university/Mini%20Hackathon%20Sweep/runs/yvgqsdmr' target=\"_blank\">https://wandb.ai/simeonbetapudi-belmont-university/Mini%20Hackathon%20Sweep/runs/yvgqsdmr</a><br> View project at: <a href='https://wandb.ai/simeonbetapudi-belmont-university/Mini%20Hackathon%20Sweep' target=\"_blank\">https://wandb.ai/simeonbetapudi-belmont-university/Mini%20Hackathon%20Sweep</a><br>Synced 5 W&B file(s), 0 media file(s), 0 artifact file(s) and 0 other file(s)"
            ]
          },
          "metadata": {}
        },
        {
          "output_type": "display_data",
          "data": {
            "text/plain": [
              "<IPython.core.display.HTML object>"
            ],
            "text/html": [
              "Find logs at: <code>./wandb/run-20250910_012216-yvgqsdmr/logs</code>"
            ]
          },
          "metadata": {}
        },
        {
          "output_type": "stream",
          "name": "stderr",
          "text": [
            "\u001b[34m\u001b[1mwandb\u001b[0m: \u001b[32m\u001b[41mERROR\u001b[0m Run yvgqsdmr errored: Calculated padded input size per channel: (3 x 3). Kernel size: (5 x 5). Kernel size can't be greater than actual input size\n",
            "\u001b[34m\u001b[1mwandb\u001b[0m: Agent Starting Run: k771fe46 with config:\n",
            "\u001b[34m\u001b[1mwandb\u001b[0m: \tbase_channels: 32\n",
            "\u001b[34m\u001b[1mwandb\u001b[0m: \tchannel_mult: 3\n",
            "\u001b[34m\u001b[1mwandb\u001b[0m: \tkernel_size: 3\n",
            "\u001b[34m\u001b[1mwandb\u001b[0m: \tn_conv_layers: 4\n",
            "\u001b[34m\u001b[1mwandb\u001b[0m: \tstride: 1\n"
          ]
        },
        {
          "output_type": "display_data",
          "data": {
            "text/plain": [
              "<IPython.core.display.HTML object>"
            ],
            "text/html": [
              "Ignoring project 'Mini Hackathon Sweep' when running a sweep."
            ]
          },
          "metadata": {}
        },
        {
          "output_type": "display_data",
          "data": {
            "text/plain": [
              "<IPython.core.display.HTML object>"
            ],
            "text/html": [
              "creating run (0.0s)"
            ]
          },
          "metadata": {}
        },
        {
          "output_type": "display_data",
          "data": {
            "text/plain": [
              "<IPython.core.display.HTML object>"
            ],
            "text/html": [
              "Tracking run with wandb version 0.21.3"
            ]
          },
          "metadata": {}
        },
        {
          "output_type": "display_data",
          "data": {
            "text/plain": [
              "<IPython.core.display.HTML object>"
            ],
            "text/html": [
              "Run data is saved locally in <code>/content/wandb/run-20250910_012221-k771fe46</code>"
            ]
          },
          "metadata": {}
        },
        {
          "output_type": "display_data",
          "data": {
            "text/plain": [
              "<IPython.core.display.HTML object>"
            ],
            "text/html": [
              "Syncing run <strong><a href='https://wandb.ai/simeonbetapudi-belmont-university/Mini%20Hackathon%20Sweep/runs/k771fe46' target=\"_blank\">clean-sweep-13</a></strong> to <a href='https://wandb.ai/simeonbetapudi-belmont-university/Mini%20Hackathon%20Sweep' target=\"_blank\">Weights & Biases</a> (<a href='https://wandb.me/developer-guide' target=\"_blank\">docs</a>)<br>Sweep page: <a href='https://wandb.ai/simeonbetapudi-belmont-university/Mini%20Hackathon%20Sweep/sweeps/zh4ejg5g' target=\"_blank\">https://wandb.ai/simeonbetapudi-belmont-university/Mini%20Hackathon%20Sweep/sweeps/zh4ejg5g</a>"
            ]
          },
          "metadata": {}
        },
        {
          "output_type": "display_data",
          "data": {
            "text/plain": [
              "<IPython.core.display.HTML object>"
            ],
            "text/html": [
              " View project at <a href='https://wandb.ai/simeonbetapudi-belmont-university/Mini%20Hackathon%20Sweep' target=\"_blank\">https://wandb.ai/simeonbetapudi-belmont-university/Mini%20Hackathon%20Sweep</a>"
            ]
          },
          "metadata": {}
        },
        {
          "output_type": "display_data",
          "data": {
            "text/plain": [
              "<IPython.core.display.HTML object>"
            ],
            "text/html": [
              " View sweep at <a href='https://wandb.ai/simeonbetapudi-belmont-university/Mini%20Hackathon%20Sweep/sweeps/zh4ejg5g' target=\"_blank\">https://wandb.ai/simeonbetapudi-belmont-university/Mini%20Hackathon%20Sweep/sweeps/zh4ejg5g</a>"
            ]
          },
          "metadata": {}
        },
        {
          "output_type": "display_data",
          "data": {
            "text/plain": [
              "<IPython.core.display.HTML object>"
            ],
            "text/html": [
              " View run at <a href='https://wandb.ai/simeonbetapudi-belmont-university/Mini%20Hackathon%20Sweep/runs/k771fe46' target=\"_blank\">https://wandb.ai/simeonbetapudi-belmont-university/Mini%20Hackathon%20Sweep/runs/k771fe46</a>"
            ]
          },
          "metadata": {}
        },
        {
          "output_type": "stream",
          "name": "stderr",
          "text": [
            "Epoch 1/5: 100%|██████████| 49/49 [00:21<00:00,  2.23it/s, Loss=1.8580, Acc=26.10%]\n"
          ]
        },
        {
          "output_type": "stream",
          "name": "stdout",
          "text": [
            "Epoch 1: Train Loss: 1.9731, Train Acc: 26.10%, Test Acc: 31.76%\n"
          ]
        },
        {
          "output_type": "stream",
          "name": "stderr",
          "text": [
            "Epoch 2/5: 100%|██████████| 49/49 [00:21<00:00,  2.24it/s, Loss=1.6646, Acc=35.35%]\n"
          ]
        },
        {
          "output_type": "stream",
          "name": "stdout",
          "text": [
            "Epoch 2: Train Loss: 1.7100, Train Acc: 35.35%, Test Acc: 36.36%\n"
          ]
        },
        {
          "output_type": "stream",
          "name": "stderr",
          "text": [
            "Epoch 3/5: 100%|██████████| 49/49 [00:21<00:00,  2.24it/s, Loss=1.5366, Acc=39.02%]\n"
          ]
        },
        {
          "output_type": "stream",
          "name": "stdout",
          "text": [
            "Epoch 3: Train Loss: 1.6252, Train Acc: 39.02%, Test Acc: 40.09%\n"
          ]
        },
        {
          "output_type": "stream",
          "name": "stderr",
          "text": [
            "Epoch 4/5: 100%|██████████| 49/49 [00:21<00:00,  2.24it/s, Loss=1.4816, Acc=42.86%]\n"
          ]
        },
        {
          "output_type": "stream",
          "name": "stdout",
          "text": [
            "Epoch 4: Train Loss: 1.5432, Train Acc: 42.86%, Test Acc: 45.23%\n"
          ]
        },
        {
          "output_type": "stream",
          "name": "stderr",
          "text": [
            "Epoch 5/5: 100%|██████████| 49/49 [00:21<00:00,  2.24it/s, Loss=1.4515, Acc=46.46%]\n"
          ]
        },
        {
          "output_type": "stream",
          "name": "stdout",
          "text": [
            "Epoch 5: Train Loss: 1.4646, Train Acc: 46.46%, Test Acc: 48.04%\n"
          ]
        },
        {
          "output_type": "display_data",
          "data": {
            "text/plain": [
              "<IPython.core.display.HTML object>"
            ],
            "text/html": []
          },
          "metadata": {}
        },
        {
          "output_type": "display_data",
          "data": {
            "text/plain": [
              "<IPython.core.display.HTML object>"
            ],
            "text/html": [
              "<br>    <style><br>        .wandb-row {<br>            display: flex;<br>            flex-direction: row;<br>            flex-wrap: wrap;<br>            justify-content: flex-start;<br>            width: 100%;<br>        }<br>        .wandb-col {<br>            display: flex;<br>            flex-direction: column;<br>            flex-basis: 100%;<br>            flex: 1;<br>            padding: 10px;<br>        }<br>    </style><br><div class=\"wandb-row\"><div class=\"wandb-col\"><h3>Run history:</h3><br/><table class=\"wandb\"><tr><td>epoch</td><td>▁▃▅▆█</td></tr><tr><td>test_accuracy</td><td>▁▃▅▇█</td></tr><tr><td>train_accuracy</td><td>▁▄▅▇█</td></tr><tr><td>train_loss</td><td>█▄▃▂▁</td></tr><tr><td>train_time</td><td>▁</td></tr></table><br/></div><div class=\"wandb-col\"><h3>Run summary:</h3><br/><table class=\"wandb\"><tr><td>epoch</td><td>5</td></tr><tr><td>test_accuracy</td><td>48.04</td></tr><tr><td>train_accuracy</td><td>46.456</td></tr><tr><td>train_loss</td><td>1.4646</td></tr><tr><td>train_time</td><td>123.7212</td></tr></table><br/></div></div>"
            ]
          },
          "metadata": {}
        },
        {
          "output_type": "display_data",
          "data": {
            "text/plain": [
              "<IPython.core.display.HTML object>"
            ],
            "text/html": [
              " View run <strong style=\"color:#cdcd00\">base_32_mult_3_lay_4_kern_3_str_1</strong> at: <a href='https://wandb.ai/simeonbetapudi-belmont-university/Mini%20Hackathon%20Sweep/runs/k771fe46' target=\"_blank\">https://wandb.ai/simeonbetapudi-belmont-university/Mini%20Hackathon%20Sweep/runs/k771fe46</a><br> View project at: <a href='https://wandb.ai/simeonbetapudi-belmont-university/Mini%20Hackathon%20Sweep' target=\"_blank\">https://wandb.ai/simeonbetapudi-belmont-university/Mini%20Hackathon%20Sweep</a><br>Synced 5 W&B file(s), 0 media file(s), 0 artifact file(s) and 0 other file(s)"
            ]
          },
          "metadata": {}
        },
        {
          "output_type": "display_data",
          "data": {
            "text/plain": [
              "<IPython.core.display.HTML object>"
            ],
            "text/html": [
              "Find logs at: <code>./wandb/run-20250910_012221-k771fe46/logs</code>"
            ]
          },
          "metadata": {}
        },
        {
          "output_type": "stream",
          "name": "stderr",
          "text": [
            "\u001b[34m\u001b[1mwandb\u001b[0m: Agent Starting Run: sm2e1e2v with config:\n",
            "\u001b[34m\u001b[1mwandb\u001b[0m: \tbase_channels: 32\n",
            "\u001b[34m\u001b[1mwandb\u001b[0m: \tchannel_mult: 3\n",
            "\u001b[34m\u001b[1mwandb\u001b[0m: \tkernel_size: 3\n",
            "\u001b[34m\u001b[1mwandb\u001b[0m: \tn_conv_layers: 4\n",
            "\u001b[34m\u001b[1mwandb\u001b[0m: \tstride: 2\n"
          ]
        },
        {
          "output_type": "display_data",
          "data": {
            "text/plain": [
              "<IPython.core.display.HTML object>"
            ],
            "text/html": [
              "Ignoring project 'Mini Hackathon Sweep' when running a sweep."
            ]
          },
          "metadata": {}
        },
        {
          "output_type": "display_data",
          "data": {
            "text/plain": [
              "<IPython.core.display.HTML object>"
            ],
            "text/html": [
              "creating run (0.0s)"
            ]
          },
          "metadata": {}
        },
        {
          "output_type": "display_data",
          "data": {
            "text/plain": [
              "<IPython.core.display.HTML object>"
            ],
            "text/html": [
              "Tracking run with wandb version 0.21.3"
            ]
          },
          "metadata": {}
        },
        {
          "output_type": "display_data",
          "data": {
            "text/plain": [
              "<IPython.core.display.HTML object>"
            ],
            "text/html": [
              "Run data is saved locally in <code>/content/wandb/run-20250910_012430-sm2e1e2v</code>"
            ]
          },
          "metadata": {}
        },
        {
          "output_type": "display_data",
          "data": {
            "text/plain": [
              "<IPython.core.display.HTML object>"
            ],
            "text/html": [
              "Syncing run <strong><a href='https://wandb.ai/simeonbetapudi-belmont-university/Mini%20Hackathon%20Sweep/runs/sm2e1e2v' target=\"_blank\">fast-sweep-14</a></strong> to <a href='https://wandb.ai/simeonbetapudi-belmont-university/Mini%20Hackathon%20Sweep' target=\"_blank\">Weights & Biases</a> (<a href='https://wandb.me/developer-guide' target=\"_blank\">docs</a>)<br>Sweep page: <a href='https://wandb.ai/simeonbetapudi-belmont-university/Mini%20Hackathon%20Sweep/sweeps/zh4ejg5g' target=\"_blank\">https://wandb.ai/simeonbetapudi-belmont-university/Mini%20Hackathon%20Sweep/sweeps/zh4ejg5g</a>"
            ]
          },
          "metadata": {}
        },
        {
          "output_type": "display_data",
          "data": {
            "text/plain": [
              "<IPython.core.display.HTML object>"
            ],
            "text/html": [
              " View project at <a href='https://wandb.ai/simeonbetapudi-belmont-university/Mini%20Hackathon%20Sweep' target=\"_blank\">https://wandb.ai/simeonbetapudi-belmont-university/Mini%20Hackathon%20Sweep</a>"
            ]
          },
          "metadata": {}
        },
        {
          "output_type": "display_data",
          "data": {
            "text/plain": [
              "<IPython.core.display.HTML object>"
            ],
            "text/html": [
              " View sweep at <a href='https://wandb.ai/simeonbetapudi-belmont-university/Mini%20Hackathon%20Sweep/sweeps/zh4ejg5g' target=\"_blank\">https://wandb.ai/simeonbetapudi-belmont-university/Mini%20Hackathon%20Sweep/sweeps/zh4ejg5g</a>"
            ]
          },
          "metadata": {}
        },
        {
          "output_type": "display_data",
          "data": {
            "text/plain": [
              "<IPython.core.display.HTML object>"
            ],
            "text/html": [
              " View run at <a href='https://wandb.ai/simeonbetapudi-belmont-university/Mini%20Hackathon%20Sweep/runs/sm2e1e2v' target=\"_blank\">https://wandb.ai/simeonbetapudi-belmont-university/Mini%20Hackathon%20Sweep/runs/sm2e1e2v</a>"
            ]
          },
          "metadata": {}
        },
        {
          "output_type": "stream",
          "name": "stderr",
          "text": [
            "Epoch 1/5: 100%|██████████| 49/49 [00:11<00:00,  4.16it/s, Loss=1.6852, Acc=30.14%]\n"
          ]
        },
        {
          "output_type": "stream",
          "name": "stdout",
          "text": [
            "Epoch 1: Train Loss: 1.9084, Train Acc: 30.14%, Test Acc: 41.40%\n"
          ]
        },
        {
          "output_type": "stream",
          "name": "stderr",
          "text": [
            "Epoch 2/5: 100%|██████████| 49/49 [00:11<00:00,  4.26it/s, Loss=1.4769, Acc=43.82%]\n"
          ]
        },
        {
          "output_type": "stream",
          "name": "stdout",
          "text": [
            "Epoch 2: Train Loss: 1.5488, Train Acc: 43.82%, Test Acc: 47.47%\n"
          ]
        },
        {
          "output_type": "stream",
          "name": "stderr",
          "text": [
            "Epoch 3/5: 100%|██████████| 49/49 [00:11<00:00,  4.22it/s, Loss=1.3864, Acc=49.94%]\n"
          ]
        },
        {
          "output_type": "stream",
          "name": "stdout",
          "text": [
            "Epoch 3: Train Loss: 1.3934, Train Acc: 49.94%, Test Acc: 53.36%\n"
          ]
        },
        {
          "output_type": "stream",
          "name": "stderr",
          "text": [
            "Epoch 4/5: 100%|██████████| 49/49 [00:11<00:00,  4.27it/s, Loss=1.2443, Acc=53.49%]\n"
          ]
        },
        {
          "output_type": "stream",
          "name": "stdout",
          "text": [
            "Epoch 4: Train Loss: 1.3004, Train Acc: 53.49%, Test Acc: 56.95%\n"
          ]
        },
        {
          "output_type": "stream",
          "name": "stderr",
          "text": [
            "Epoch 5/5: 100%|██████████| 49/49 [00:11<00:00,  4.25it/s, Loss=1.1741, Acc=56.77%]\n"
          ]
        },
        {
          "output_type": "stream",
          "name": "stdout",
          "text": [
            "Epoch 5: Train Loss: 1.2170, Train Acc: 56.77%, Test Acc: 59.50%\n"
          ]
        },
        {
          "output_type": "display_data",
          "data": {
            "text/plain": [
              "<IPython.core.display.HTML object>"
            ],
            "text/html": []
          },
          "metadata": {}
        },
        {
          "output_type": "display_data",
          "data": {
            "text/plain": [
              "<IPython.core.display.HTML object>"
            ],
            "text/html": [
              "<br>    <style><br>        .wandb-row {<br>            display: flex;<br>            flex-direction: row;<br>            flex-wrap: wrap;<br>            justify-content: flex-start;<br>            width: 100%;<br>        }<br>        .wandb-col {<br>            display: flex;<br>            flex-direction: column;<br>            flex-basis: 100%;<br>            flex: 1;<br>            padding: 10px;<br>        }<br>    </style><br><div class=\"wandb-row\"><div class=\"wandb-col\"><h3>Run history:</h3><br/><table class=\"wandb\"><tr><td>epoch</td><td>▁▃▅▆█</td></tr><tr><td>test_accuracy</td><td>▁▃▆▇█</td></tr><tr><td>train_accuracy</td><td>▁▅▆▇█</td></tr><tr><td>train_loss</td><td>█▄▃▂▁</td></tr><tr><td>train_time</td><td>▁</td></tr></table><br/></div><div class=\"wandb-col\"><h3>Run summary:</h3><br/><table class=\"wandb\"><tr><td>epoch</td><td>5</td></tr><tr><td>test_accuracy</td><td>59.5</td></tr><tr><td>train_accuracy</td><td>56.772</td></tr><tr><td>train_loss</td><td>1.21698</td></tr><tr><td>train_time</td><td>68.96579</td></tr></table><br/></div></div>"
            ]
          },
          "metadata": {}
        },
        {
          "output_type": "display_data",
          "data": {
            "text/plain": [
              "<IPython.core.display.HTML object>"
            ],
            "text/html": [
              " View run <strong style=\"color:#cdcd00\">base_32_mult_3_lay_4_kern_3_str_2</strong> at: <a href='https://wandb.ai/simeonbetapudi-belmont-university/Mini%20Hackathon%20Sweep/runs/sm2e1e2v' target=\"_blank\">https://wandb.ai/simeonbetapudi-belmont-university/Mini%20Hackathon%20Sweep/runs/sm2e1e2v</a><br> View project at: <a href='https://wandb.ai/simeonbetapudi-belmont-university/Mini%20Hackathon%20Sweep' target=\"_blank\">https://wandb.ai/simeonbetapudi-belmont-university/Mini%20Hackathon%20Sweep</a><br>Synced 5 W&B file(s), 0 media file(s), 0 artifact file(s) and 0 other file(s)"
            ]
          },
          "metadata": {}
        },
        {
          "output_type": "display_data",
          "data": {
            "text/plain": [
              "<IPython.core.display.HTML object>"
            ],
            "text/html": [
              "Find logs at: <code>./wandb/run-20250910_012430-sm2e1e2v/logs</code>"
            ]
          },
          "metadata": {}
        },
        {
          "output_type": "stream",
          "name": "stderr",
          "text": [
            "\u001b[34m\u001b[1mwandb\u001b[0m: Agent Starting Run: 12muo8yy with config:\n",
            "\u001b[34m\u001b[1mwandb\u001b[0m: \tbase_channels: 32\n",
            "\u001b[34m\u001b[1mwandb\u001b[0m: \tchannel_mult: 3\n",
            "\u001b[34m\u001b[1mwandb\u001b[0m: \tkernel_size: 3\n",
            "\u001b[34m\u001b[1mwandb\u001b[0m: \tn_conv_layers: 4\n",
            "\u001b[34m\u001b[1mwandb\u001b[0m: \tstride: 3\n"
          ]
        },
        {
          "output_type": "display_data",
          "data": {
            "text/plain": [
              "<IPython.core.display.HTML object>"
            ],
            "text/html": [
              "Ignoring project 'Mini Hackathon Sweep' when running a sweep."
            ]
          },
          "metadata": {}
        },
        {
          "output_type": "display_data",
          "data": {
            "text/plain": [
              "<IPython.core.display.HTML object>"
            ],
            "text/html": [
              "Waiting for wandb.init()..."
            ]
          },
          "metadata": {}
        },
        {
          "output_type": "display_data",
          "data": {
            "text/plain": [
              "<IPython.core.display.HTML object>"
            ],
            "text/html": [
              "Tracking run with wandb version 0.21.3"
            ]
          },
          "metadata": {}
        },
        {
          "output_type": "display_data",
          "data": {
            "text/plain": [
              "<IPython.core.display.HTML object>"
            ],
            "text/html": [
              "Run data is saved locally in <code>/content/wandb/run-20250910_012542-12muo8yy</code>"
            ]
          },
          "metadata": {}
        },
        {
          "output_type": "display_data",
          "data": {
            "text/plain": [
              "<IPython.core.display.HTML object>"
            ],
            "text/html": [
              "Syncing run <strong><a href='https://wandb.ai/simeonbetapudi-belmont-university/Mini%20Hackathon%20Sweep/runs/12muo8yy' target=\"_blank\">fluent-sweep-15</a></strong> to <a href='https://wandb.ai/simeonbetapudi-belmont-university/Mini%20Hackathon%20Sweep' target=\"_blank\">Weights & Biases</a> (<a href='https://wandb.me/developer-guide' target=\"_blank\">docs</a>)<br>Sweep page: <a href='https://wandb.ai/simeonbetapudi-belmont-university/Mini%20Hackathon%20Sweep/sweeps/zh4ejg5g' target=\"_blank\">https://wandb.ai/simeonbetapudi-belmont-university/Mini%20Hackathon%20Sweep/sweeps/zh4ejg5g</a>"
            ]
          },
          "metadata": {}
        },
        {
          "output_type": "display_data",
          "data": {
            "text/plain": [
              "<IPython.core.display.HTML object>"
            ],
            "text/html": [
              " View project at <a href='https://wandb.ai/simeonbetapudi-belmont-university/Mini%20Hackathon%20Sweep' target=\"_blank\">https://wandb.ai/simeonbetapudi-belmont-university/Mini%20Hackathon%20Sweep</a>"
            ]
          },
          "metadata": {}
        },
        {
          "output_type": "display_data",
          "data": {
            "text/plain": [
              "<IPython.core.display.HTML object>"
            ],
            "text/html": [
              " View sweep at <a href='https://wandb.ai/simeonbetapudi-belmont-university/Mini%20Hackathon%20Sweep/sweeps/zh4ejg5g' target=\"_blank\">https://wandb.ai/simeonbetapudi-belmont-university/Mini%20Hackathon%20Sweep/sweeps/zh4ejg5g</a>"
            ]
          },
          "metadata": {}
        },
        {
          "output_type": "display_data",
          "data": {
            "text/plain": [
              "<IPython.core.display.HTML object>"
            ],
            "text/html": [
              " View run at <a href='https://wandb.ai/simeonbetapudi-belmont-university/Mini%20Hackathon%20Sweep/runs/12muo8yy' target=\"_blank\">https://wandb.ai/simeonbetapudi-belmont-university/Mini%20Hackathon%20Sweep/runs/12muo8yy</a>"
            ]
          },
          "metadata": {}
        },
        {
          "output_type": "stream",
          "name": "stderr",
          "text": [
            "Epoch 1/5: 100%|██████████| 49/49 [00:11<00:00,  4.22it/s, Loss=1.6236, Acc=31.98%]\n"
          ]
        },
        {
          "output_type": "stream",
          "name": "stdout",
          "text": [
            "Epoch 1: Train Loss: 1.8838, Train Acc: 31.98%, Test Acc: 43.01%\n"
          ]
        },
        {
          "output_type": "stream",
          "name": "stderr",
          "text": [
            "Epoch 2/5: 100%|██████████| 49/49 [00:11<00:00,  4.17it/s, Loss=1.4746, Acc=44.35%]\n"
          ]
        },
        {
          "output_type": "stream",
          "name": "stdout",
          "text": [
            "Epoch 2: Train Loss: 1.5539, Train Acc: 44.35%, Test Acc: 48.62%\n"
          ]
        },
        {
          "output_type": "stream",
          "name": "stderr",
          "text": [
            "Epoch 3/5: 100%|██████████| 49/49 [00:11<00:00,  4.28it/s, Loss=1.4510, Acc=48.41%]\n"
          ]
        },
        {
          "output_type": "stream",
          "name": "stdout",
          "text": [
            "Epoch 3: Train Loss: 1.4319, Train Acc: 48.41%, Test Acc: 52.33%\n"
          ]
        },
        {
          "output_type": "stream",
          "name": "stderr",
          "text": [
            "Epoch 4/5: 100%|██████████| 49/49 [00:11<00:00,  4.27it/s, Loss=1.3710, Acc=51.20%]\n"
          ]
        },
        {
          "output_type": "stream",
          "name": "stdout",
          "text": [
            "Epoch 4: Train Loss: 1.3505, Train Acc: 51.20%, Test Acc: 54.84%\n"
          ]
        },
        {
          "output_type": "stream",
          "name": "stderr",
          "text": [
            "Epoch 5/5: 100%|██████████| 49/49 [00:11<00:00,  4.28it/s, Loss=1.3485, Acc=53.92%]\n"
          ]
        },
        {
          "output_type": "stream",
          "name": "stdout",
          "text": [
            "Epoch 5: Train Loss: 1.2799, Train Acc: 53.92%, Test Acc: 57.15%\n"
          ]
        },
        {
          "output_type": "display_data",
          "data": {
            "text/plain": [
              "<IPython.core.display.HTML object>"
            ],
            "text/html": []
          },
          "metadata": {}
        },
        {
          "output_type": "display_data",
          "data": {
            "text/plain": [
              "<IPython.core.display.HTML object>"
            ],
            "text/html": [
              "<br>    <style><br>        .wandb-row {<br>            display: flex;<br>            flex-direction: row;<br>            flex-wrap: wrap;<br>            justify-content: flex-start;<br>            width: 100%;<br>        }<br>        .wandb-col {<br>            display: flex;<br>            flex-direction: column;<br>            flex-basis: 100%;<br>            flex: 1;<br>            padding: 10px;<br>        }<br>    </style><br><div class=\"wandb-row\"><div class=\"wandb-col\"><h3>Run history:</h3><br/><table class=\"wandb\"><tr><td>epoch</td><td>▁▃▅▆█</td></tr><tr><td>test_accuracy</td><td>▁▄▆▇█</td></tr><tr><td>train_accuracy</td><td>▁▅▆▇█</td></tr><tr><td>train_loss</td><td>█▄▃▂▁</td></tr><tr><td>train_time</td><td>▁</td></tr></table><br/></div><div class=\"wandb-col\"><h3>Run summary:</h3><br/><table class=\"wandb\"><tr><td>epoch</td><td>5</td></tr><tr><td>test_accuracy</td><td>57.15</td></tr><tr><td>train_accuracy</td><td>53.918</td></tr><tr><td>train_loss</td><td>1.27985</td></tr><tr><td>train_time</td><td>68.85291</td></tr></table><br/></div></div>"
            ]
          },
          "metadata": {}
        },
        {
          "output_type": "display_data",
          "data": {
            "text/plain": [
              "<IPython.core.display.HTML object>"
            ],
            "text/html": [
              " View run <strong style=\"color:#cdcd00\">base_32_mult_3_lay_4_kern_3_str_3</strong> at: <a href='https://wandb.ai/simeonbetapudi-belmont-university/Mini%20Hackathon%20Sweep/runs/12muo8yy' target=\"_blank\">https://wandb.ai/simeonbetapudi-belmont-university/Mini%20Hackathon%20Sweep/runs/12muo8yy</a><br> View project at: <a href='https://wandb.ai/simeonbetapudi-belmont-university/Mini%20Hackathon%20Sweep' target=\"_blank\">https://wandb.ai/simeonbetapudi-belmont-university/Mini%20Hackathon%20Sweep</a><br>Synced 5 W&B file(s), 0 media file(s), 0 artifact file(s) and 0 other file(s)"
            ]
          },
          "metadata": {}
        },
        {
          "output_type": "display_data",
          "data": {
            "text/plain": [
              "<IPython.core.display.HTML object>"
            ],
            "text/html": [
              "Find logs at: <code>./wandb/run-20250910_012542-12muo8yy/logs</code>"
            ]
          },
          "metadata": {}
        },
        {
          "output_type": "stream",
          "name": "stderr",
          "text": [
            "\u001b[34m\u001b[1mwandb\u001b[0m: Agent Starting Run: dgw3vvf4 with config:\n",
            "\u001b[34m\u001b[1mwandb\u001b[0m: \tbase_channels: 32\n",
            "\u001b[34m\u001b[1mwandb\u001b[0m: \tchannel_mult: 3\n",
            "\u001b[34m\u001b[1mwandb\u001b[0m: \tkernel_size: 3\n",
            "\u001b[34m\u001b[1mwandb\u001b[0m: \tn_conv_layers: 5\n",
            "\u001b[34m\u001b[1mwandb\u001b[0m: \tstride: 1\n"
          ]
        },
        {
          "output_type": "display_data",
          "data": {
            "text/plain": [
              "<IPython.core.display.HTML object>"
            ],
            "text/html": [
              "Ignoring project 'Mini Hackathon Sweep' when running a sweep."
            ]
          },
          "metadata": {}
        },
        {
          "output_type": "display_data",
          "data": {
            "text/plain": [
              "<IPython.core.display.HTML object>"
            ],
            "text/html": [
              "Waiting for wandb.init()..."
            ]
          },
          "metadata": {}
        },
        {
          "output_type": "display_data",
          "data": {
            "text/plain": [
              "<IPython.core.display.HTML object>"
            ],
            "text/html": [
              "Tracking run with wandb version 0.21.3"
            ]
          },
          "metadata": {}
        },
        {
          "output_type": "display_data",
          "data": {
            "text/plain": [
              "<IPython.core.display.HTML object>"
            ],
            "text/html": [
              "Run data is saved locally in <code>/content/wandb/run-20250910_012654-dgw3vvf4</code>"
            ]
          },
          "metadata": {}
        },
        {
          "output_type": "display_data",
          "data": {
            "text/plain": [
              "<IPython.core.display.HTML object>"
            ],
            "text/html": [
              "Syncing run <strong><a href='https://wandb.ai/simeonbetapudi-belmont-university/Mini%20Hackathon%20Sweep/runs/dgw3vvf4' target=\"_blank\">comic-sweep-16</a></strong> to <a href='https://wandb.ai/simeonbetapudi-belmont-university/Mini%20Hackathon%20Sweep' target=\"_blank\">Weights & Biases</a> (<a href='https://wandb.me/developer-guide' target=\"_blank\">docs</a>)<br>Sweep page: <a href='https://wandb.ai/simeonbetapudi-belmont-university/Mini%20Hackathon%20Sweep/sweeps/zh4ejg5g' target=\"_blank\">https://wandb.ai/simeonbetapudi-belmont-university/Mini%20Hackathon%20Sweep/sweeps/zh4ejg5g</a>"
            ]
          },
          "metadata": {}
        },
        {
          "output_type": "display_data",
          "data": {
            "text/plain": [
              "<IPython.core.display.HTML object>"
            ],
            "text/html": [
              " View project at <a href='https://wandb.ai/simeonbetapudi-belmont-university/Mini%20Hackathon%20Sweep' target=\"_blank\">https://wandb.ai/simeonbetapudi-belmont-university/Mini%20Hackathon%20Sweep</a>"
            ]
          },
          "metadata": {}
        },
        {
          "output_type": "display_data",
          "data": {
            "text/plain": [
              "<IPython.core.display.HTML object>"
            ],
            "text/html": [
              " View sweep at <a href='https://wandb.ai/simeonbetapudi-belmont-university/Mini%20Hackathon%20Sweep/sweeps/zh4ejg5g' target=\"_blank\">https://wandb.ai/simeonbetapudi-belmont-university/Mini%20Hackathon%20Sweep/sweeps/zh4ejg5g</a>"
            ]
          },
          "metadata": {}
        },
        {
          "output_type": "display_data",
          "data": {
            "text/plain": [
              "<IPython.core.display.HTML object>"
            ],
            "text/html": [
              " View run at <a href='https://wandb.ai/simeonbetapudi-belmont-university/Mini%20Hackathon%20Sweep/runs/dgw3vvf4' target=\"_blank\">https://wandb.ai/simeonbetapudi-belmont-university/Mini%20Hackathon%20Sweep/runs/dgw3vvf4</a>"
            ]
          },
          "metadata": {}
        },
        {
          "output_type": "stream",
          "name": "stderr",
          "text": [
            "Epoch 1/5: 100%|██████████| 49/49 [01:24<00:00,  1.73s/it, Loss=1.8019, Acc=21.98%]\n"
          ]
        },
        {
          "output_type": "stream",
          "name": "stdout",
          "text": [
            "Epoch 1: Train Loss: 2.0597, Train Acc: 21.98%, Test Acc: 28.56%\n"
          ]
        },
        {
          "output_type": "stream",
          "name": "stderr",
          "text": [
            "Epoch 2/5: 100%|██████████| 49/49 [01:24<00:00,  1.73s/it, Loss=1.7720, Acc=33.66%]\n"
          ]
        },
        {
          "output_type": "stream",
          "name": "stdout",
          "text": [
            "Epoch 2: Train Loss: 1.7339, Train Acc: 33.66%, Test Acc: 37.23%\n"
          ]
        },
        {
          "output_type": "stream",
          "name": "stderr",
          "text": [
            "Epoch 3/5: 100%|██████████| 49/49 [01:24<00:00,  1.73s/it, Loss=1.5485, Acc=38.73%]\n"
          ]
        },
        {
          "output_type": "stream",
          "name": "stdout",
          "text": [
            "Epoch 3: Train Loss: 1.6272, Train Acc: 38.73%, Test Acc: 42.91%\n"
          ]
        },
        {
          "output_type": "stream",
          "name": "stderr",
          "text": [
            "Epoch 4/5: 100%|██████████| 49/49 [01:24<00:00,  1.73s/it, Loss=1.4388, Acc=44.65%]\n"
          ]
        },
        {
          "output_type": "stream",
          "name": "stdout",
          "text": [
            "Epoch 4: Train Loss: 1.5039, Train Acc: 44.65%, Test Acc: 44.98%\n"
          ]
        },
        {
          "output_type": "stream",
          "name": "stderr",
          "text": [
            "Epoch 5/5: 100%|██████████| 49/49 [01:24<00:00,  1.73s/it, Loss=1.3300, Acc=50.00%]\n"
          ]
        },
        {
          "output_type": "stream",
          "name": "stdout",
          "text": [
            "Epoch 5: Train Loss: 1.3815, Train Acc: 50.00%, Test Acc: 51.00%\n"
          ]
        },
        {
          "output_type": "display_data",
          "data": {
            "text/plain": [
              "<IPython.core.display.HTML object>"
            ],
            "text/html": []
          },
          "metadata": {}
        },
        {
          "output_type": "display_data",
          "data": {
            "text/plain": [
              "<IPython.core.display.HTML object>"
            ],
            "text/html": [
              "<br>    <style><br>        .wandb-row {<br>            display: flex;<br>            flex-direction: row;<br>            flex-wrap: wrap;<br>            justify-content: flex-start;<br>            width: 100%;<br>        }<br>        .wandb-col {<br>            display: flex;<br>            flex-direction: column;<br>            flex-basis: 100%;<br>            flex: 1;<br>            padding: 10px;<br>        }<br>    </style><br><div class=\"wandb-row\"><div class=\"wandb-col\"><h3>Run history:</h3><br/><table class=\"wandb\"><tr><td>epoch</td><td>▁▃▅▆█</td></tr><tr><td>test_accuracy</td><td>▁▄▅▆█</td></tr><tr><td>train_accuracy</td><td>▁▄▅▇█</td></tr><tr><td>train_loss</td><td>█▅▄▂▁</td></tr><tr><td>train_time</td><td>▁</td></tr></table><br/></div><div class=\"wandb-col\"><h3>Run summary:</h3><br/><table class=\"wandb\"><tr><td>epoch</td><td>5</td></tr><tr><td>test_accuracy</td><td>51</td></tr><tr><td>train_accuracy</td><td>49.996</td></tr><tr><td>train_loss</td><td>1.38149</td></tr><tr><td>train_time</td><td>458.70664</td></tr></table><br/></div></div>"
            ]
          },
          "metadata": {}
        },
        {
          "output_type": "display_data",
          "data": {
            "text/plain": [
              "<IPython.core.display.HTML object>"
            ],
            "text/html": [
              " View run <strong style=\"color:#cdcd00\">base_32_mult_3_lay_5_kern_3_str_1</strong> at: <a href='https://wandb.ai/simeonbetapudi-belmont-university/Mini%20Hackathon%20Sweep/runs/dgw3vvf4' target=\"_blank\">https://wandb.ai/simeonbetapudi-belmont-university/Mini%20Hackathon%20Sweep/runs/dgw3vvf4</a><br> View project at: <a href='https://wandb.ai/simeonbetapudi-belmont-university/Mini%20Hackathon%20Sweep' target=\"_blank\">https://wandb.ai/simeonbetapudi-belmont-university/Mini%20Hackathon%20Sweep</a><br>Synced 5 W&B file(s), 0 media file(s), 0 artifact file(s) and 0 other file(s)"
            ]
          },
          "metadata": {}
        },
        {
          "output_type": "display_data",
          "data": {
            "text/plain": [
              "<IPython.core.display.HTML object>"
            ],
            "text/html": [
              "Find logs at: <code>./wandb/run-20250910_012654-dgw3vvf4/logs</code>"
            ]
          },
          "metadata": {}
        },
        {
          "output_type": "stream",
          "name": "stderr",
          "text": [
            "\u001b[34m\u001b[1mwandb\u001b[0m: Agent Starting Run: 2qbjugjq with config:\n",
            "\u001b[34m\u001b[1mwandb\u001b[0m: \tbase_channels: 32\n",
            "\u001b[34m\u001b[1mwandb\u001b[0m: \tchannel_mult: 3\n",
            "\u001b[34m\u001b[1mwandb\u001b[0m: \tkernel_size: 3\n",
            "\u001b[34m\u001b[1mwandb\u001b[0m: \tn_conv_layers: 5\n",
            "\u001b[34m\u001b[1mwandb\u001b[0m: \tstride: 2\n"
          ]
        },
        {
          "output_type": "display_data",
          "data": {
            "text/plain": [
              "<IPython.core.display.HTML object>"
            ],
            "text/html": [
              "Ignoring project 'Mini Hackathon Sweep' when running a sweep."
            ]
          },
          "metadata": {}
        },
        {
          "output_type": "display_data",
          "data": {
            "text/plain": [
              "<IPython.core.display.HTML object>"
            ],
            "text/html": [
              "creating run (0.0s)"
            ]
          },
          "metadata": {}
        },
        {
          "output_type": "display_data",
          "data": {
            "text/plain": [
              "<IPython.core.display.HTML object>"
            ],
            "text/html": [
              "Tracking run with wandb version 0.21.3"
            ]
          },
          "metadata": {}
        },
        {
          "output_type": "display_data",
          "data": {
            "text/plain": [
              "<IPython.core.display.HTML object>"
            ],
            "text/html": [
              "Run data is saved locally in <code>/content/wandb/run-20250910_013437-2qbjugjq</code>"
            ]
          },
          "metadata": {}
        },
        {
          "output_type": "display_data",
          "data": {
            "text/plain": [
              "<IPython.core.display.HTML object>"
            ],
            "text/html": [
              "Syncing run <strong><a href='https://wandb.ai/simeonbetapudi-belmont-university/Mini%20Hackathon%20Sweep/runs/2qbjugjq' target=\"_blank\">apricot-sweep-17</a></strong> to <a href='https://wandb.ai/simeonbetapudi-belmont-university/Mini%20Hackathon%20Sweep' target=\"_blank\">Weights & Biases</a> (<a href='https://wandb.me/developer-guide' target=\"_blank\">docs</a>)<br>Sweep page: <a href='https://wandb.ai/simeonbetapudi-belmont-university/Mini%20Hackathon%20Sweep/sweeps/zh4ejg5g' target=\"_blank\">https://wandb.ai/simeonbetapudi-belmont-university/Mini%20Hackathon%20Sweep/sweeps/zh4ejg5g</a>"
            ]
          },
          "metadata": {}
        },
        {
          "output_type": "display_data",
          "data": {
            "text/plain": [
              "<IPython.core.display.HTML object>"
            ],
            "text/html": [
              " View project at <a href='https://wandb.ai/simeonbetapudi-belmont-university/Mini%20Hackathon%20Sweep' target=\"_blank\">https://wandb.ai/simeonbetapudi-belmont-university/Mini%20Hackathon%20Sweep</a>"
            ]
          },
          "metadata": {}
        },
        {
          "output_type": "display_data",
          "data": {
            "text/plain": [
              "<IPython.core.display.HTML object>"
            ],
            "text/html": [
              " View sweep at <a href='https://wandb.ai/simeonbetapudi-belmont-university/Mini%20Hackathon%20Sweep/sweeps/zh4ejg5g' target=\"_blank\">https://wandb.ai/simeonbetapudi-belmont-university/Mini%20Hackathon%20Sweep/sweeps/zh4ejg5g</a>"
            ]
          },
          "metadata": {}
        },
        {
          "output_type": "display_data",
          "data": {
            "text/plain": [
              "<IPython.core.display.HTML object>"
            ],
            "text/html": [
              " View run at <a href='https://wandb.ai/simeonbetapudi-belmont-university/Mini%20Hackathon%20Sweep/runs/2qbjugjq' target=\"_blank\">https://wandb.ai/simeonbetapudi-belmont-university/Mini%20Hackathon%20Sweep/runs/2qbjugjq</a>"
            ]
          },
          "metadata": {}
        },
        {
          "output_type": "stream",
          "name": "stderr",
          "text": [
            "Epoch 1/5: 100%|██████████| 49/49 [00:12<00:00,  4.06it/s, Loss=1.5358, Acc=32.99%]\n"
          ]
        },
        {
          "output_type": "stream",
          "name": "stdout",
          "text": [
            "Epoch 1: Train Loss: 1.8264, Train Acc: 32.99%, Test Acc: 45.76%\n"
          ]
        },
        {
          "output_type": "stream",
          "name": "stderr",
          "text": [
            "Epoch 2/5: 100%|██████████| 49/49 [00:11<00:00,  4.13it/s, Loss=1.3714, Acc=48.17%]\n"
          ]
        },
        {
          "output_type": "stream",
          "name": "stdout",
          "text": [
            "Epoch 2: Train Loss: 1.4226, Train Acc: 48.17%, Test Acc: 52.64%\n"
          ]
        },
        {
          "output_type": "stream",
          "name": "stderr",
          "text": [
            "Epoch 3/5: 100%|██████████| 49/49 [00:11<00:00,  4.11it/s, Loss=1.1504, Acc=54.54%]\n"
          ]
        },
        {
          "output_type": "stream",
          "name": "stdout",
          "text": [
            "Epoch 3: Train Loss: 1.2574, Train Acc: 54.54%, Test Acc: 57.08%\n"
          ]
        },
        {
          "output_type": "stream",
          "name": "stderr",
          "text": [
            "Epoch 4/5: 100%|██████████| 49/49 [00:11<00:00,  4.11it/s, Loss=1.0834, Acc=59.54%]\n"
          ]
        },
        {
          "output_type": "stream",
          "name": "stdout",
          "text": [
            "Epoch 4: Train Loss: 1.1277, Train Acc: 59.54%, Test Acc: 61.18%\n"
          ]
        },
        {
          "output_type": "stream",
          "name": "stderr",
          "text": [
            "Epoch 5/5: 100%|██████████| 49/49 [00:12<00:00,  4.06it/s, Loss=1.0055, Acc=63.37%]\n"
          ]
        },
        {
          "output_type": "stream",
          "name": "stdout",
          "text": [
            "Epoch 5: Train Loss: 1.0186, Train Acc: 63.37%, Test Acc: 63.62%\n"
          ]
        },
        {
          "output_type": "display_data",
          "data": {
            "text/plain": [
              "<IPython.core.display.HTML object>"
            ],
            "text/html": []
          },
          "metadata": {}
        },
        {
          "output_type": "display_data",
          "data": {
            "text/plain": [
              "<IPython.core.display.HTML object>"
            ],
            "text/html": [
              "<br>    <style><br>        .wandb-row {<br>            display: flex;<br>            flex-direction: row;<br>            flex-wrap: wrap;<br>            justify-content: flex-start;<br>            width: 100%;<br>        }<br>        .wandb-col {<br>            display: flex;<br>            flex-direction: column;<br>            flex-basis: 100%;<br>            flex: 1;<br>            padding: 10px;<br>        }<br>    </style><br><div class=\"wandb-row\"><div class=\"wandb-col\"><h3>Run history:</h3><br/><table class=\"wandb\"><tr><td>epoch</td><td>▁▃▅▆█</td></tr><tr><td>test_accuracy</td><td>▁▄▅▇█</td></tr><tr><td>train_accuracy</td><td>▁▄▆▇█</td></tr><tr><td>train_loss</td><td>█▅▃▂▁</td></tr><tr><td>train_time</td><td>▁</td></tr></table><br/></div><div class=\"wandb-col\"><h3>Run summary:</h3><br/><table class=\"wandb\"><tr><td>epoch</td><td>5</td></tr><tr><td>test_accuracy</td><td>63.62</td></tr><tr><td>train_accuracy</td><td>63.374</td></tr><tr><td>train_loss</td><td>1.01861</td></tr><tr><td>train_time</td><td>71.15024</td></tr></table><br/></div></div>"
            ]
          },
          "metadata": {}
        },
        {
          "output_type": "display_data",
          "data": {
            "text/plain": [
              "<IPython.core.display.HTML object>"
            ],
            "text/html": [
              " View run <strong style=\"color:#cdcd00\">base_32_mult_3_lay_5_kern_3_str_2</strong> at: <a href='https://wandb.ai/simeonbetapudi-belmont-university/Mini%20Hackathon%20Sweep/runs/2qbjugjq' target=\"_blank\">https://wandb.ai/simeonbetapudi-belmont-university/Mini%20Hackathon%20Sweep/runs/2qbjugjq</a><br> View project at: <a href='https://wandb.ai/simeonbetapudi-belmont-university/Mini%20Hackathon%20Sweep' target=\"_blank\">https://wandb.ai/simeonbetapudi-belmont-university/Mini%20Hackathon%20Sweep</a><br>Synced 5 W&B file(s), 0 media file(s), 0 artifact file(s) and 0 other file(s)"
            ]
          },
          "metadata": {}
        },
        {
          "output_type": "display_data",
          "data": {
            "text/plain": [
              "<IPython.core.display.HTML object>"
            ],
            "text/html": [
              "Find logs at: <code>./wandb/run-20250910_013437-2qbjugjq/logs</code>"
            ]
          },
          "metadata": {}
        },
        {
          "output_type": "stream",
          "name": "stderr",
          "text": [
            "\u001b[34m\u001b[1mwandb\u001b[0m: Agent Starting Run: ddjy2qft with config:\n",
            "\u001b[34m\u001b[1mwandb\u001b[0m: \tbase_channels: 32\n",
            "\u001b[34m\u001b[1mwandb\u001b[0m: \tchannel_mult: 3\n",
            "\u001b[34m\u001b[1mwandb\u001b[0m: \tkernel_size: 3\n",
            "\u001b[34m\u001b[1mwandb\u001b[0m: \tn_conv_layers: 5\n",
            "\u001b[34m\u001b[1mwandb\u001b[0m: \tstride: 3\n"
          ]
        },
        {
          "output_type": "display_data",
          "data": {
            "text/plain": [
              "<IPython.core.display.HTML object>"
            ],
            "text/html": [
              "Ignoring project 'Mini Hackathon Sweep' when running a sweep."
            ]
          },
          "metadata": {}
        },
        {
          "output_type": "display_data",
          "data": {
            "text/plain": [
              "<IPython.core.display.HTML object>"
            ],
            "text/html": [
              "creating run (0.0s)"
            ]
          },
          "metadata": {}
        },
        {
          "output_type": "display_data",
          "data": {
            "text/plain": [
              "<IPython.core.display.HTML object>"
            ],
            "text/html": [
              "Tracking run with wandb version 0.21.3"
            ]
          },
          "metadata": {}
        },
        {
          "output_type": "display_data",
          "data": {
            "text/plain": [
              "<IPython.core.display.HTML object>"
            ],
            "text/html": [
              "Run data is saved locally in <code>/content/wandb/run-20250910_013555-ddjy2qft</code>"
            ]
          },
          "metadata": {}
        },
        {
          "output_type": "display_data",
          "data": {
            "text/plain": [
              "<IPython.core.display.HTML object>"
            ],
            "text/html": [
              "Syncing run <strong><a href='https://wandb.ai/simeonbetapudi-belmont-university/Mini%20Hackathon%20Sweep/runs/ddjy2qft' target=\"_blank\">unique-sweep-18</a></strong> to <a href='https://wandb.ai/simeonbetapudi-belmont-university/Mini%20Hackathon%20Sweep' target=\"_blank\">Weights & Biases</a> (<a href='https://wandb.me/developer-guide' target=\"_blank\">docs</a>)<br>Sweep page: <a href='https://wandb.ai/simeonbetapudi-belmont-university/Mini%20Hackathon%20Sweep/sweeps/zh4ejg5g' target=\"_blank\">https://wandb.ai/simeonbetapudi-belmont-university/Mini%20Hackathon%20Sweep/sweeps/zh4ejg5g</a>"
            ]
          },
          "metadata": {}
        },
        {
          "output_type": "display_data",
          "data": {
            "text/plain": [
              "<IPython.core.display.HTML object>"
            ],
            "text/html": [
              " View project at <a href='https://wandb.ai/simeonbetapudi-belmont-university/Mini%20Hackathon%20Sweep' target=\"_blank\">https://wandb.ai/simeonbetapudi-belmont-university/Mini%20Hackathon%20Sweep</a>"
            ]
          },
          "metadata": {}
        },
        {
          "output_type": "display_data",
          "data": {
            "text/plain": [
              "<IPython.core.display.HTML object>"
            ],
            "text/html": [
              " View sweep at <a href='https://wandb.ai/simeonbetapudi-belmont-university/Mini%20Hackathon%20Sweep/sweeps/zh4ejg5g' target=\"_blank\">https://wandb.ai/simeonbetapudi-belmont-university/Mini%20Hackathon%20Sweep/sweeps/zh4ejg5g</a>"
            ]
          },
          "metadata": {}
        },
        {
          "output_type": "display_data",
          "data": {
            "text/plain": [
              "<IPython.core.display.HTML object>"
            ],
            "text/html": [
              " View run at <a href='https://wandb.ai/simeonbetapudi-belmont-university/Mini%20Hackathon%20Sweep/runs/ddjy2qft' target=\"_blank\">https://wandb.ai/simeonbetapudi-belmont-university/Mini%20Hackathon%20Sweep/runs/ddjy2qft</a>"
            ]
          },
          "metadata": {}
        },
        {
          "output_type": "stream",
          "name": "stderr",
          "text": [
            "Epoch 1/5: 100%|██████████| 49/49 [00:11<00:00,  4.17it/s, Loss=1.7132, Acc=29.56%]\n"
          ]
        },
        {
          "output_type": "stream",
          "name": "stdout",
          "text": [
            "Epoch 1: Train Loss: 1.9253, Train Acc: 29.56%, Test Acc: 41.44%\n"
          ]
        },
        {
          "output_type": "stream",
          "name": "stderr",
          "text": [
            "Epoch 2/5: 100%|██████████| 49/49 [00:11<00:00,  4.22it/s, Loss=1.4737, Acc=43.05%]\n"
          ]
        },
        {
          "output_type": "stream",
          "name": "stdout",
          "text": [
            "Epoch 2: Train Loss: 1.5780, Train Acc: 43.05%, Test Acc: 45.85%\n"
          ]
        },
        {
          "output_type": "stream",
          "name": "stderr",
          "text": [
            "Epoch 3/5: 100%|██████████| 49/49 [00:11<00:00,  4.21it/s, Loss=1.4345, Acc=48.00%]\n"
          ]
        },
        {
          "output_type": "stream",
          "name": "stdout",
          "text": [
            "Epoch 3: Train Loss: 1.4359, Train Acc: 48.00%, Test Acc: 51.92%\n"
          ]
        },
        {
          "output_type": "stream",
          "name": "stderr",
          "text": [
            "Epoch 4/5: 100%|██████████| 49/49 [00:11<00:00,  4.24it/s, Loss=1.3531, Acc=51.52%]\n"
          ]
        },
        {
          "output_type": "stream",
          "name": "stdout",
          "text": [
            "Epoch 4: Train Loss: 1.3411, Train Acc: 51.52%, Test Acc: 55.03%\n"
          ]
        },
        {
          "output_type": "stream",
          "name": "stderr",
          "text": [
            "Epoch 5/5: 100%|██████████| 49/49 [00:11<00:00,  4.10it/s, Loss=1.3132, Acc=53.67%]\n"
          ]
        },
        {
          "output_type": "stream",
          "name": "stdout",
          "text": [
            "Epoch 5: Train Loss: 1.2737, Train Acc: 53.67%, Test Acc: 56.61%\n"
          ]
        },
        {
          "output_type": "display_data",
          "data": {
            "text/plain": [
              "<IPython.core.display.HTML object>"
            ],
            "text/html": []
          },
          "metadata": {}
        },
        {
          "output_type": "display_data",
          "data": {
            "text/plain": [
              "<IPython.core.display.HTML object>"
            ],
            "text/html": [
              "<br>    <style><br>        .wandb-row {<br>            display: flex;<br>            flex-direction: row;<br>            flex-wrap: wrap;<br>            justify-content: flex-start;<br>            width: 100%;<br>        }<br>        .wandb-col {<br>            display: flex;<br>            flex-direction: column;<br>            flex-basis: 100%;<br>            flex: 1;<br>            padding: 10px;<br>        }<br>    </style><br><div class=\"wandb-row\"><div class=\"wandb-col\"><h3>Run history:</h3><br/><table class=\"wandb\"><tr><td>epoch</td><td>▁▃▅▆█</td></tr><tr><td>test_accuracy</td><td>▁▃▆▇█</td></tr><tr><td>train_accuracy</td><td>▁▅▆▇█</td></tr><tr><td>train_loss</td><td>█▄▃▂▁</td></tr><tr><td>train_time</td><td>▁</td></tr></table><br/></div><div class=\"wandb-col\"><h3>Run summary:</h3><br/><table class=\"wandb\"><tr><td>epoch</td><td>5</td></tr><tr><td>test_accuracy</td><td>56.61</td></tr><tr><td>train_accuracy</td><td>53.674</td></tr><tr><td>train_loss</td><td>1.27374</td></tr><tr><td>train_time</td><td>69.74199</td></tr></table><br/></div></div>"
            ]
          },
          "metadata": {}
        },
        {
          "output_type": "display_data",
          "data": {
            "text/plain": [
              "<IPython.core.display.HTML object>"
            ],
            "text/html": [
              " View run <strong style=\"color:#cdcd00\">base_32_mult_3_lay_5_kern_3_str_3</strong> at: <a href='https://wandb.ai/simeonbetapudi-belmont-university/Mini%20Hackathon%20Sweep/runs/ddjy2qft' target=\"_blank\">https://wandb.ai/simeonbetapudi-belmont-university/Mini%20Hackathon%20Sweep/runs/ddjy2qft</a><br> View project at: <a href='https://wandb.ai/simeonbetapudi-belmont-university/Mini%20Hackathon%20Sweep' target=\"_blank\">https://wandb.ai/simeonbetapudi-belmont-university/Mini%20Hackathon%20Sweep</a><br>Synced 5 W&B file(s), 0 media file(s), 0 artifact file(s) and 0 other file(s)"
            ]
          },
          "metadata": {}
        },
        {
          "output_type": "display_data",
          "data": {
            "text/plain": [
              "<IPython.core.display.HTML object>"
            ],
            "text/html": [
              "Find logs at: <code>./wandb/run-20250910_013555-ddjy2qft/logs</code>"
            ]
          },
          "metadata": {}
        },
        {
          "output_type": "stream",
          "name": "stderr",
          "text": [
            "\u001b[34m\u001b[1mwandb\u001b[0m: Agent Starting Run: 1lniaa5q with config:\n",
            "\u001b[34m\u001b[1mwandb\u001b[0m: \tbase_channels: 32\n",
            "\u001b[34m\u001b[1mwandb\u001b[0m: \tchannel_mult: 3\n",
            "\u001b[34m\u001b[1mwandb\u001b[0m: \tkernel_size: 5\n",
            "\u001b[34m\u001b[1mwandb\u001b[0m: \tn_conv_layers: 4\n",
            "\u001b[34m\u001b[1mwandb\u001b[0m: \tstride: 1\n"
          ]
        },
        {
          "output_type": "display_data",
          "data": {
            "text/plain": [
              "<IPython.core.display.HTML object>"
            ],
            "text/html": [
              "Ignoring project 'Mini Hackathon Sweep' when running a sweep."
            ]
          },
          "metadata": {}
        },
        {
          "output_type": "display_data",
          "data": {
            "text/plain": [
              "<IPython.core.display.HTML object>"
            ],
            "text/html": [
              "Waiting for wandb.init()..."
            ]
          },
          "metadata": {}
        },
        {
          "output_type": "display_data",
          "data": {
            "text/plain": [
              "<IPython.core.display.HTML object>"
            ],
            "text/html": [
              "Tracking run with wandb version 0.21.3"
            ]
          },
          "metadata": {}
        },
        {
          "output_type": "display_data",
          "data": {
            "text/plain": [
              "<IPython.core.display.HTML object>"
            ],
            "text/html": [
              "Run data is saved locally in <code>/content/wandb/run-20250910_013712-1lniaa5q</code>"
            ]
          },
          "metadata": {}
        },
        {
          "output_type": "display_data",
          "data": {
            "text/plain": [
              "<IPython.core.display.HTML object>"
            ],
            "text/html": [
              "Syncing run <strong><a href='https://wandb.ai/simeonbetapudi-belmont-university/Mini%20Hackathon%20Sweep/runs/1lniaa5q' target=\"_blank\">electric-sweep-19</a></strong> to <a href='https://wandb.ai/simeonbetapudi-belmont-university/Mini%20Hackathon%20Sweep' target=\"_blank\">Weights & Biases</a> (<a href='https://wandb.me/developer-guide' target=\"_blank\">docs</a>)<br>Sweep page: <a href='https://wandb.ai/simeonbetapudi-belmont-university/Mini%20Hackathon%20Sweep/sweeps/zh4ejg5g' target=\"_blank\">https://wandb.ai/simeonbetapudi-belmont-university/Mini%20Hackathon%20Sweep/sweeps/zh4ejg5g</a>"
            ]
          },
          "metadata": {}
        },
        {
          "output_type": "display_data",
          "data": {
            "text/plain": [
              "<IPython.core.display.HTML object>"
            ],
            "text/html": [
              " View project at <a href='https://wandb.ai/simeonbetapudi-belmont-university/Mini%20Hackathon%20Sweep' target=\"_blank\">https://wandb.ai/simeonbetapudi-belmont-university/Mini%20Hackathon%20Sweep</a>"
            ]
          },
          "metadata": {}
        },
        {
          "output_type": "display_data",
          "data": {
            "text/plain": [
              "<IPython.core.display.HTML object>"
            ],
            "text/html": [
              " View sweep at <a href='https://wandb.ai/simeonbetapudi-belmont-university/Mini%20Hackathon%20Sweep/sweeps/zh4ejg5g' target=\"_blank\">https://wandb.ai/simeonbetapudi-belmont-university/Mini%20Hackathon%20Sweep/sweeps/zh4ejg5g</a>"
            ]
          },
          "metadata": {}
        },
        {
          "output_type": "display_data",
          "data": {
            "text/plain": [
              "<IPython.core.display.HTML object>"
            ],
            "text/html": [
              " View run at <a href='https://wandb.ai/simeonbetapudi-belmont-university/Mini%20Hackathon%20Sweep/runs/1lniaa5q' target=\"_blank\">https://wandb.ai/simeonbetapudi-belmont-university/Mini%20Hackathon%20Sweep/runs/1lniaa5q</a>"
            ]
          },
          "metadata": {}
        },
        {
          "output_type": "stream",
          "name": "stderr",
          "text": [
            "Epoch 1/5: 100%|██████████| 49/49 [00:25<00:00,  1.93it/s, Loss=1.6621, Acc=26.28%]\n"
          ]
        },
        {
          "output_type": "stream",
          "name": "stdout",
          "text": [
            "Epoch 1: Train Loss: 1.9459, Train Acc: 26.28%, Test Acc: 37.11%\n"
          ]
        },
        {
          "output_type": "stream",
          "name": "stderr",
          "text": [
            "Epoch 2/5: 100%|██████████| 49/49 [00:25<00:00,  1.94it/s, Loss=1.4843, Acc=40.22%]\n"
          ]
        },
        {
          "output_type": "stream",
          "name": "stdout",
          "text": [
            "Epoch 2: Train Loss: 1.6026, Train Acc: 40.22%, Test Acc: 44.83%\n"
          ]
        },
        {
          "output_type": "stream",
          "name": "stderr",
          "text": [
            "Epoch 3/5: 100%|██████████| 49/49 [00:25<00:00,  1.92it/s, Loss=1.4097, Acc=47.92%]\n"
          ]
        },
        {
          "output_type": "stream",
          "name": "stdout",
          "text": [
            "Epoch 3: Train Loss: 1.4312, Train Acc: 47.92%, Test Acc: 51.05%\n"
          ]
        },
        {
          "output_type": "stream",
          "name": "stderr",
          "text": [
            "Epoch 4/5: 100%|██████████| 49/49 [00:25<00:00,  1.93it/s, Loss=1.2883, Acc=52.47%]\n"
          ]
        },
        {
          "output_type": "stream",
          "name": "stdout",
          "text": [
            "Epoch 4: Train Loss: 1.3221, Train Acc: 52.47%, Test Acc: 54.51%\n"
          ]
        },
        {
          "output_type": "stream",
          "name": "stderr",
          "text": [
            "Epoch 5/5: 100%|██████████| 49/49 [00:25<00:00,  1.94it/s, Loss=1.2193, Acc=55.89%]\n"
          ]
        },
        {
          "output_type": "stream",
          "name": "stdout",
          "text": [
            "Epoch 5: Train Loss: 1.2301, Train Acc: 55.89%, Test Acc: 57.09%\n"
          ]
        },
        {
          "output_type": "display_data",
          "data": {
            "text/plain": [
              "<IPython.core.display.HTML object>"
            ],
            "text/html": []
          },
          "metadata": {}
        },
        {
          "output_type": "display_data",
          "data": {
            "text/plain": [
              "<IPython.core.display.HTML object>"
            ],
            "text/html": [
              "<br>    <style><br>        .wandb-row {<br>            display: flex;<br>            flex-direction: row;<br>            flex-wrap: wrap;<br>            justify-content: flex-start;<br>            width: 100%;<br>        }<br>        .wandb-col {<br>            display: flex;<br>            flex-direction: column;<br>            flex-basis: 100%;<br>            flex: 1;<br>            padding: 10px;<br>        }<br>    </style><br><div class=\"wandb-row\"><div class=\"wandb-col\"><h3>Run history:</h3><br/><table class=\"wandb\"><tr><td>epoch</td><td>▁▃▅▆█</td></tr><tr><td>test_accuracy</td><td>▁▄▆▇█</td></tr><tr><td>train_accuracy</td><td>▁▄▆▇█</td></tr><tr><td>train_loss</td><td>█▅▃▂▁</td></tr><tr><td>train_time</td><td>▁</td></tr></table><br/></div><div class=\"wandb-col\"><h3>Run summary:</h3><br/><table class=\"wandb\"><tr><td>epoch</td><td>5</td></tr><tr><td>test_accuracy</td><td>57.09</td></tr><tr><td>train_accuracy</td><td>55.892</td></tr><tr><td>train_loss</td><td>1.23014</td></tr><tr><td>train_time</td><td>141.98046</td></tr></table><br/></div></div>"
            ]
          },
          "metadata": {}
        },
        {
          "output_type": "display_data",
          "data": {
            "text/plain": [
              "<IPython.core.display.HTML object>"
            ],
            "text/html": [
              " View run <strong style=\"color:#cdcd00\">base_32_mult_3_lay_4_kern_5_str_1</strong> at: <a href='https://wandb.ai/simeonbetapudi-belmont-university/Mini%20Hackathon%20Sweep/runs/1lniaa5q' target=\"_blank\">https://wandb.ai/simeonbetapudi-belmont-university/Mini%20Hackathon%20Sweep/runs/1lniaa5q</a><br> View project at: <a href='https://wandb.ai/simeonbetapudi-belmont-university/Mini%20Hackathon%20Sweep' target=\"_blank\">https://wandb.ai/simeonbetapudi-belmont-university/Mini%20Hackathon%20Sweep</a><br>Synced 5 W&B file(s), 0 media file(s), 0 artifact file(s) and 0 other file(s)"
            ]
          },
          "metadata": {}
        },
        {
          "output_type": "display_data",
          "data": {
            "text/plain": [
              "<IPython.core.display.HTML object>"
            ],
            "text/html": [
              "Find logs at: <code>./wandb/run-20250910_013712-1lniaa5q/logs</code>"
            ]
          },
          "metadata": {}
        },
        {
          "output_type": "stream",
          "name": "stderr",
          "text": [
            "\u001b[34m\u001b[1mwandb\u001b[0m: Agent Starting Run: penkmhm4 with config:\n",
            "\u001b[34m\u001b[1mwandb\u001b[0m: \tbase_channels: 32\n",
            "\u001b[34m\u001b[1mwandb\u001b[0m: \tchannel_mult: 3\n",
            "\u001b[34m\u001b[1mwandb\u001b[0m: \tkernel_size: 5\n",
            "\u001b[34m\u001b[1mwandb\u001b[0m: \tn_conv_layers: 4\n",
            "\u001b[34m\u001b[1mwandb\u001b[0m: \tstride: 2\n"
          ]
        },
        {
          "output_type": "display_data",
          "data": {
            "text/plain": [
              "<IPython.core.display.HTML object>"
            ],
            "text/html": [
              "Ignoring project 'Mini Hackathon Sweep' when running a sweep."
            ]
          },
          "metadata": {}
        },
        {
          "output_type": "display_data",
          "data": {
            "text/plain": [
              "<IPython.core.display.HTML object>"
            ],
            "text/html": [
              "creating run (0.0s)"
            ]
          },
          "metadata": {}
        },
        {
          "output_type": "display_data",
          "data": {
            "text/plain": [
              "<IPython.core.display.HTML object>"
            ],
            "text/html": [
              "Tracking run with wandb version 0.21.3"
            ]
          },
          "metadata": {}
        },
        {
          "output_type": "display_data",
          "data": {
            "text/plain": [
              "<IPython.core.display.HTML object>"
            ],
            "text/html": [
              "Run data is saved locally in <code>/content/wandb/run-20250910_013942-penkmhm4</code>"
            ]
          },
          "metadata": {}
        },
        {
          "output_type": "display_data",
          "data": {
            "text/plain": [
              "<IPython.core.display.HTML object>"
            ],
            "text/html": [
              "Syncing run <strong><a href='https://wandb.ai/simeonbetapudi-belmont-university/Mini%20Hackathon%20Sweep/runs/penkmhm4' target=\"_blank\">spring-sweep-20</a></strong> to <a href='https://wandb.ai/simeonbetapudi-belmont-university/Mini%20Hackathon%20Sweep' target=\"_blank\">Weights & Biases</a> (<a href='https://wandb.me/developer-guide' target=\"_blank\">docs</a>)<br>Sweep page: <a href='https://wandb.ai/simeonbetapudi-belmont-university/Mini%20Hackathon%20Sweep/sweeps/zh4ejg5g' target=\"_blank\">https://wandb.ai/simeonbetapudi-belmont-university/Mini%20Hackathon%20Sweep/sweeps/zh4ejg5g</a>"
            ]
          },
          "metadata": {}
        },
        {
          "output_type": "display_data",
          "data": {
            "text/plain": [
              "<IPython.core.display.HTML object>"
            ],
            "text/html": [
              " View project at <a href='https://wandb.ai/simeonbetapudi-belmont-university/Mini%20Hackathon%20Sweep' target=\"_blank\">https://wandb.ai/simeonbetapudi-belmont-university/Mini%20Hackathon%20Sweep</a>"
            ]
          },
          "metadata": {}
        },
        {
          "output_type": "display_data",
          "data": {
            "text/plain": [
              "<IPython.core.display.HTML object>"
            ],
            "text/html": [
              " View sweep at <a href='https://wandb.ai/simeonbetapudi-belmont-university/Mini%20Hackathon%20Sweep/sweeps/zh4ejg5g' target=\"_blank\">https://wandb.ai/simeonbetapudi-belmont-university/Mini%20Hackathon%20Sweep/sweeps/zh4ejg5g</a>"
            ]
          },
          "metadata": {}
        },
        {
          "output_type": "display_data",
          "data": {
            "text/plain": [
              "<IPython.core.display.HTML object>"
            ],
            "text/html": [
              " View run at <a href='https://wandb.ai/simeonbetapudi-belmont-university/Mini%20Hackathon%20Sweep/runs/penkmhm4' target=\"_blank\">https://wandb.ai/simeonbetapudi-belmont-university/Mini%20Hackathon%20Sweep/runs/penkmhm4</a>"
            ]
          },
          "metadata": {}
        },
        {
          "output_type": "stream",
          "name": "stderr",
          "text": [
            "Epoch 1/5: 100%|██████████| 49/49 [00:11<00:00,  4.22it/s, Loss=1.5245, Acc=34.05%]\n"
          ]
        },
        {
          "output_type": "stream",
          "name": "stdout",
          "text": [
            "Epoch 1: Train Loss: 1.8064, Train Acc: 34.05%, Test Acc: 44.68%\n"
          ]
        },
        {
          "output_type": "stream",
          "name": "stderr",
          "text": [
            "Epoch 2/5: 100%|██████████| 49/49 [00:11<00:00,  4.26it/s, Loss=1.3261, Acc=48.92%]\n"
          ]
        },
        {
          "output_type": "stream",
          "name": "stdout",
          "text": [
            "Epoch 2: Train Loss: 1.4155, Train Acc: 48.92%, Test Acc: 55.39%\n"
          ]
        },
        {
          "output_type": "stream",
          "name": "stderr",
          "text": [
            "Epoch 3/5: 100%|██████████| 49/49 [00:11<00:00,  4.22it/s, Loss=1.2208, Acc=55.73%]\n"
          ]
        },
        {
          "output_type": "stream",
          "name": "stdout",
          "text": [
            "Epoch 3: Train Loss: 1.2405, Train Acc: 55.73%, Test Acc: 58.30%\n"
          ]
        },
        {
          "output_type": "stream",
          "name": "stderr",
          "text": [
            "Epoch 4/5: 100%|██████████| 49/49 [00:11<00:00,  4.10it/s, Loss=1.0567, Acc=60.49%]\n"
          ]
        },
        {
          "output_type": "stream",
          "name": "stdout",
          "text": [
            "Epoch 4: Train Loss: 1.1100, Train Acc: 60.49%, Test Acc: 62.82%\n"
          ]
        },
        {
          "output_type": "stream",
          "name": "stderr",
          "text": [
            "Epoch 5/5: 100%|██████████| 49/49 [00:11<00:00,  4.28it/s, Loss=0.9735, Acc=64.42%]\n"
          ]
        },
        {
          "output_type": "stream",
          "name": "stdout",
          "text": [
            "Epoch 5: Train Loss: 1.0025, Train Acc: 64.42%, Test Acc: 64.51%\n"
          ]
        },
        {
          "output_type": "display_data",
          "data": {
            "text/plain": [
              "<IPython.core.display.HTML object>"
            ],
            "text/html": []
          },
          "metadata": {}
        },
        {
          "output_type": "display_data",
          "data": {
            "text/plain": [
              "<IPython.core.display.HTML object>"
            ],
            "text/html": [
              "<br>    <style><br>        .wandb-row {<br>            display: flex;<br>            flex-direction: row;<br>            flex-wrap: wrap;<br>            justify-content: flex-start;<br>            width: 100%;<br>        }<br>        .wandb-col {<br>            display: flex;<br>            flex-direction: column;<br>            flex-basis: 100%;<br>            flex: 1;<br>            padding: 10px;<br>        }<br>    </style><br><div class=\"wandb-row\"><div class=\"wandb-col\"><h3>Run history:</h3><br/><table class=\"wandb\"><tr><td>epoch</td><td>▁▃▅▆█</td></tr><tr><td>test_accuracy</td><td>▁▅▆▇█</td></tr><tr><td>train_accuracy</td><td>▁▄▆▇█</td></tr><tr><td>train_loss</td><td>█▅▃▂▁</td></tr><tr><td>train_time</td><td>▁</td></tr></table><br/></div><div class=\"wandb-col\"><h3>Run summary:</h3><br/><table class=\"wandb\"><tr><td>epoch</td><td>5</td></tr><tr><td>test_accuracy</td><td>64.51</td></tr><tr><td>train_accuracy</td><td>64.416</td></tr><tr><td>train_loss</td><td>1.00246</td></tr><tr><td>train_time</td><td>69.19204</td></tr></table><br/></div></div>"
            ]
          },
          "metadata": {}
        },
        {
          "output_type": "display_data",
          "data": {
            "text/plain": [
              "<IPython.core.display.HTML object>"
            ],
            "text/html": [
              " View run <strong style=\"color:#cdcd00\">base_32_mult_3_lay_4_kern_5_str_2</strong> at: <a href='https://wandb.ai/simeonbetapudi-belmont-university/Mini%20Hackathon%20Sweep/runs/penkmhm4' target=\"_blank\">https://wandb.ai/simeonbetapudi-belmont-university/Mini%20Hackathon%20Sweep/runs/penkmhm4</a><br> View project at: <a href='https://wandb.ai/simeonbetapudi-belmont-university/Mini%20Hackathon%20Sweep' target=\"_blank\">https://wandb.ai/simeonbetapudi-belmont-university/Mini%20Hackathon%20Sweep</a><br>Synced 5 W&B file(s), 0 media file(s), 0 artifact file(s) and 0 other file(s)"
            ]
          },
          "metadata": {}
        },
        {
          "output_type": "display_data",
          "data": {
            "text/plain": [
              "<IPython.core.display.HTML object>"
            ],
            "text/html": [
              "Find logs at: <code>./wandb/run-20250910_013942-penkmhm4/logs</code>"
            ]
          },
          "metadata": {}
        },
        {
          "output_type": "stream",
          "name": "stderr",
          "text": [
            "\u001b[34m\u001b[1mwandb\u001b[0m: Agent Starting Run: mrfme3n3 with config:\n",
            "\u001b[34m\u001b[1mwandb\u001b[0m: \tbase_channels: 32\n",
            "\u001b[34m\u001b[1mwandb\u001b[0m: \tchannel_mult: 3\n",
            "\u001b[34m\u001b[1mwandb\u001b[0m: \tkernel_size: 5\n",
            "\u001b[34m\u001b[1mwandb\u001b[0m: \tn_conv_layers: 4\n",
            "\u001b[34m\u001b[1mwandb\u001b[0m: \tstride: 3\n"
          ]
        },
        {
          "output_type": "display_data",
          "data": {
            "text/plain": [
              "<IPython.core.display.HTML object>"
            ],
            "text/html": [
              "Ignoring project 'Mini Hackathon Sweep' when running a sweep."
            ]
          },
          "metadata": {}
        },
        {
          "output_type": "display_data",
          "data": {
            "text/plain": [
              "<IPython.core.display.HTML object>"
            ],
            "text/html": [
              "Waiting for wandb.init()..."
            ]
          },
          "metadata": {}
        },
        {
          "output_type": "display_data",
          "data": {
            "text/plain": [
              "<IPython.core.display.HTML object>"
            ],
            "text/html": [
              "Tracking run with wandb version 0.21.3"
            ]
          },
          "metadata": {}
        },
        {
          "output_type": "display_data",
          "data": {
            "text/plain": [
              "<IPython.core.display.HTML object>"
            ],
            "text/html": [
              "Run data is saved locally in <code>/content/wandb/run-20250910_014059-mrfme3n3</code>"
            ]
          },
          "metadata": {}
        },
        {
          "output_type": "display_data",
          "data": {
            "text/plain": [
              "<IPython.core.display.HTML object>"
            ],
            "text/html": [
              "Syncing run <strong><a href='https://wandb.ai/simeonbetapudi-belmont-university/Mini%20Hackathon%20Sweep/runs/mrfme3n3' target=\"_blank\">dutiful-sweep-21</a></strong> to <a href='https://wandb.ai/simeonbetapudi-belmont-university/Mini%20Hackathon%20Sweep' target=\"_blank\">Weights & Biases</a> (<a href='https://wandb.me/developer-guide' target=\"_blank\">docs</a>)<br>Sweep page: <a href='https://wandb.ai/simeonbetapudi-belmont-university/Mini%20Hackathon%20Sweep/sweeps/zh4ejg5g' target=\"_blank\">https://wandb.ai/simeonbetapudi-belmont-university/Mini%20Hackathon%20Sweep/sweeps/zh4ejg5g</a>"
            ]
          },
          "metadata": {}
        },
        {
          "output_type": "display_data",
          "data": {
            "text/plain": [
              "<IPython.core.display.HTML object>"
            ],
            "text/html": [
              " View project at <a href='https://wandb.ai/simeonbetapudi-belmont-university/Mini%20Hackathon%20Sweep' target=\"_blank\">https://wandb.ai/simeonbetapudi-belmont-university/Mini%20Hackathon%20Sweep</a>"
            ]
          },
          "metadata": {}
        },
        {
          "output_type": "display_data",
          "data": {
            "text/plain": [
              "<IPython.core.display.HTML object>"
            ],
            "text/html": [
              " View sweep at <a href='https://wandb.ai/simeonbetapudi-belmont-university/Mini%20Hackathon%20Sweep/sweeps/zh4ejg5g' target=\"_blank\">https://wandb.ai/simeonbetapudi-belmont-university/Mini%20Hackathon%20Sweep/sweeps/zh4ejg5g</a>"
            ]
          },
          "metadata": {}
        },
        {
          "output_type": "display_data",
          "data": {
            "text/plain": [
              "<IPython.core.display.HTML object>"
            ],
            "text/html": [
              " View run at <a href='https://wandb.ai/simeonbetapudi-belmont-university/Mini%20Hackathon%20Sweep/runs/mrfme3n3' target=\"_blank\">https://wandb.ai/simeonbetapudi-belmont-university/Mini%20Hackathon%20Sweep/runs/mrfme3n3</a>"
            ]
          },
          "metadata": {}
        },
        {
          "output_type": "stream",
          "name": "stderr",
          "text": [
            "Epoch 1/5:   0%|          | 0/49 [00:00<?, ?it/s]\n",
            "Traceback (most recent call last):\n",
            "  File \"/usr/local/lib/python3.12/dist-packages/wandb/agents/pyagent.py\", line 297, in _run_job\n",
            "    self._function()\n",
            "  File \"/tmp/ipython-input-3079156912.py\", line 26, in sweep_train\n",
            "    results = train_model(model,\n",
            "              ^^^^^^^^^^^^^^^^^^\n",
            "  File \"/tmp/ipython-input-1655472275.py\", line 32, in train_model\n",
            "    output = model(data)\n",
            "             ^^^^^^^^^^^\n",
            "  File \"/usr/local/lib/python3.12/dist-packages/torch/nn/modules/module.py\", line 1773, in _wrapped_call_impl\n",
            "    return self._call_impl(*args, **kwargs)\n",
            "           ^^^^^^^^^^^^^^^^^^^^^^^^^^^^^^^^\n",
            "  File \"/usr/local/lib/python3.12/dist-packages/torch/nn/modules/module.py\", line 1784, in _call_impl\n",
            "    return forward_call(*args, **kwargs)\n",
            "           ^^^^^^^^^^^^^^^^^^^^^^^^^^^^^\n",
            "  File \"/tmp/ipython-input-1595289304.py\", line 23, in forward\n",
            "    x = self.activation(conv_layer(x))\n",
            "                        ^^^^^^^^^^^^^\n",
            "  File \"/usr/local/lib/python3.12/dist-packages/torch/nn/modules/module.py\", line 1773, in _wrapped_call_impl\n",
            "    return self._call_impl(*args, **kwargs)\n",
            "           ^^^^^^^^^^^^^^^^^^^^^^^^^^^^^^^^\n",
            "  File \"/usr/local/lib/python3.12/dist-packages/torch/nn/modules/module.py\", line 1784, in _call_impl\n",
            "    return forward_call(*args, **kwargs)\n",
            "           ^^^^^^^^^^^^^^^^^^^^^^^^^^^^^\n",
            "  File \"/usr/local/lib/python3.12/dist-packages/torch/nn/modules/conv.py\", line 548, in forward\n",
            "    return self._conv_forward(input, self.weight, self.bias)\n",
            "           ^^^^^^^^^^^^^^^^^^^^^^^^^^^^^^^^^^^^^^^^^^^^^^^^^\n",
            "  File \"/usr/local/lib/python3.12/dist-packages/torch/nn/modules/conv.py\", line 543, in _conv_forward\n",
            "    return F.conv2d(\n",
            "           ^^^^^^^^^\n",
            "RuntimeError: Calculated padded input size per channel: (3 x 3). Kernel size: (5 x 5). Kernel size can't be greater than actual input size\n",
            "\n"
          ]
        },
        {
          "output_type": "display_data",
          "data": {
            "text/plain": [
              "<IPython.core.display.HTML object>"
            ],
            "text/html": []
          },
          "metadata": {}
        },
        {
          "output_type": "display_data",
          "data": {
            "text/plain": [
              "<IPython.core.display.HTML object>"
            ],
            "text/html": [
              " View run <strong style=\"color:#cdcd00\">base_32_mult_3_lay_4_kern_5_str_3</strong> at: <a href='https://wandb.ai/simeonbetapudi-belmont-university/Mini%20Hackathon%20Sweep/runs/mrfme3n3' target=\"_blank\">https://wandb.ai/simeonbetapudi-belmont-university/Mini%20Hackathon%20Sweep/runs/mrfme3n3</a><br> View project at: <a href='https://wandb.ai/simeonbetapudi-belmont-university/Mini%20Hackathon%20Sweep' target=\"_blank\">https://wandb.ai/simeonbetapudi-belmont-university/Mini%20Hackathon%20Sweep</a><br>Synced 5 W&B file(s), 0 media file(s), 0 artifact file(s) and 0 other file(s)"
            ]
          },
          "metadata": {}
        },
        {
          "output_type": "display_data",
          "data": {
            "text/plain": [
              "<IPython.core.display.HTML object>"
            ],
            "text/html": [
              "Find logs at: <code>./wandb/run-20250910_014059-mrfme3n3/logs</code>"
            ]
          },
          "metadata": {}
        },
        {
          "output_type": "stream",
          "name": "stderr",
          "text": [
            "\u001b[34m\u001b[1mwandb\u001b[0m: \u001b[32m\u001b[41mERROR\u001b[0m Run mrfme3n3 errored: Calculated padded input size per channel: (3 x 3). Kernel size: (5 x 5). Kernel size can't be greater than actual input size\n",
            "\u001b[34m\u001b[1mwandb\u001b[0m: Agent Starting Run: gybm1t7h with config:\n",
            "\u001b[34m\u001b[1mwandb\u001b[0m: \tbase_channels: 32\n",
            "\u001b[34m\u001b[1mwandb\u001b[0m: \tchannel_mult: 3\n",
            "\u001b[34m\u001b[1mwandb\u001b[0m: \tkernel_size: 5\n",
            "\u001b[34m\u001b[1mwandb\u001b[0m: \tn_conv_layers: 5\n",
            "\u001b[34m\u001b[1mwandb\u001b[0m: \tstride: 1\n"
          ]
        },
        {
          "output_type": "display_data",
          "data": {
            "text/plain": [
              "<IPython.core.display.HTML object>"
            ],
            "text/html": [
              "Ignoring project 'Mini Hackathon Sweep' when running a sweep."
            ]
          },
          "metadata": {}
        },
        {
          "output_type": "display_data",
          "data": {
            "text/plain": [
              "<IPython.core.display.HTML object>"
            ],
            "text/html": [
              "creating run (0.0s)"
            ]
          },
          "metadata": {}
        },
        {
          "output_type": "display_data",
          "data": {
            "text/plain": [
              "<IPython.core.display.HTML object>"
            ],
            "text/html": [
              "Tracking run with wandb version 0.21.3"
            ]
          },
          "metadata": {}
        },
        {
          "output_type": "display_data",
          "data": {
            "text/plain": [
              "<IPython.core.display.HTML object>"
            ],
            "text/html": [
              "Run data is saved locally in <code>/content/wandb/run-20250910_014104-gybm1t7h</code>"
            ]
          },
          "metadata": {}
        },
        {
          "output_type": "display_data",
          "data": {
            "text/plain": [
              "<IPython.core.display.HTML object>"
            ],
            "text/html": [
              "Syncing run <strong><a href='https://wandb.ai/simeonbetapudi-belmont-university/Mini%20Hackathon%20Sweep/runs/gybm1t7h' target=\"_blank\">atomic-sweep-22</a></strong> to <a href='https://wandb.ai/simeonbetapudi-belmont-university/Mini%20Hackathon%20Sweep' target=\"_blank\">Weights & Biases</a> (<a href='https://wandb.me/developer-guide' target=\"_blank\">docs</a>)<br>Sweep page: <a href='https://wandb.ai/simeonbetapudi-belmont-university/Mini%20Hackathon%20Sweep/sweeps/zh4ejg5g' target=\"_blank\">https://wandb.ai/simeonbetapudi-belmont-university/Mini%20Hackathon%20Sweep/sweeps/zh4ejg5g</a>"
            ]
          },
          "metadata": {}
        },
        {
          "output_type": "display_data",
          "data": {
            "text/plain": [
              "<IPython.core.display.HTML object>"
            ],
            "text/html": [
              " View project at <a href='https://wandb.ai/simeonbetapudi-belmont-university/Mini%20Hackathon%20Sweep' target=\"_blank\">https://wandb.ai/simeonbetapudi-belmont-university/Mini%20Hackathon%20Sweep</a>"
            ]
          },
          "metadata": {}
        },
        {
          "output_type": "display_data",
          "data": {
            "text/plain": [
              "<IPython.core.display.HTML object>"
            ],
            "text/html": [
              " View sweep at <a href='https://wandb.ai/simeonbetapudi-belmont-university/Mini%20Hackathon%20Sweep/sweeps/zh4ejg5g' target=\"_blank\">https://wandb.ai/simeonbetapudi-belmont-university/Mini%20Hackathon%20Sweep/sweeps/zh4ejg5g</a>"
            ]
          },
          "metadata": {}
        },
        {
          "output_type": "display_data",
          "data": {
            "text/plain": [
              "<IPython.core.display.HTML object>"
            ],
            "text/html": [
              " View run at <a href='https://wandb.ai/simeonbetapudi-belmont-university/Mini%20Hackathon%20Sweep/runs/gybm1t7h' target=\"_blank\">https://wandb.ai/simeonbetapudi-belmont-university/Mini%20Hackathon%20Sweep/runs/gybm1t7h</a>"
            ]
          },
          "metadata": {}
        },
        {
          "output_type": "stream",
          "name": "stderr",
          "text": [
            "Epoch 1/5: 100%|██████████| 49/49 [01:47<00:00,  2.20s/it, Loss=1.9955, Acc=16.18%]\n"
          ]
        },
        {
          "output_type": "stream",
          "name": "stdout",
          "text": [
            "Epoch 1: Train Loss: 2.9365, Train Acc: 16.18%, Test Acc: 26.66%\n"
          ]
        },
        {
          "output_type": "stream",
          "name": "stderr",
          "text": [
            "Epoch 2/5: 100%|██████████| 49/49 [01:48<00:00,  2.21s/it, Loss=1.7537, Acc=29.92%]\n"
          ]
        },
        {
          "output_type": "stream",
          "name": "stdout",
          "text": [
            "Epoch 2: Train Loss: 1.8203, Train Acc: 29.92%, Test Acc: 35.06%\n"
          ]
        },
        {
          "output_type": "stream",
          "name": "stderr",
          "text": [
            "Epoch 3/5: 100%|██████████| 49/49 [01:48<00:00,  2.21s/it, Loss=1.6510, Acc=37.89%]\n"
          ]
        },
        {
          "output_type": "stream",
          "name": "stdout",
          "text": [
            "Epoch 3: Train Loss: 1.6454, Train Acc: 37.89%, Test Acc: 40.54%\n"
          ]
        },
        {
          "output_type": "stream",
          "name": "stderr",
          "text": [
            "Epoch 4/5: 100%|██████████| 49/49 [01:48<00:00,  2.22s/it, Loss=1.5151, Acc=43.51%]\n"
          ]
        },
        {
          "output_type": "stream",
          "name": "stdout",
          "text": [
            "Epoch 4: Train Loss: 1.5253, Train Acc: 43.51%, Test Acc: 47.26%\n"
          ]
        },
        {
          "output_type": "stream",
          "name": "stderr",
          "text": [
            "Epoch 5/5: 100%|██████████| 49/49 [01:48<00:00,  2.22s/it, Loss=1.4325, Acc=48.45%]\n"
          ]
        },
        {
          "output_type": "stream",
          "name": "stdout",
          "text": [
            "Epoch 5: Train Loss: 1.4177, Train Acc: 48.45%, Test Acc: 50.56%\n"
          ]
        },
        {
          "output_type": "display_data",
          "data": {
            "text/plain": [
              "<IPython.core.display.HTML object>"
            ],
            "text/html": []
          },
          "metadata": {}
        },
        {
          "output_type": "display_data",
          "data": {
            "text/plain": [
              "<IPython.core.display.HTML object>"
            ],
            "text/html": [
              "<br>    <style><br>        .wandb-row {<br>            display: flex;<br>            flex-direction: row;<br>            flex-wrap: wrap;<br>            justify-content: flex-start;<br>            width: 100%;<br>        }<br>        .wandb-col {<br>            display: flex;<br>            flex-direction: column;<br>            flex-basis: 100%;<br>            flex: 1;<br>            padding: 10px;<br>        }<br>    </style><br><div class=\"wandb-row\"><div class=\"wandb-col\"><h3>Run history:</h3><br/><table class=\"wandb\"><tr><td>epoch</td><td>▁▃▅▆█</td></tr><tr><td>test_accuracy</td><td>▁▃▅▇█</td></tr><tr><td>train_accuracy</td><td>▁▄▆▇█</td></tr><tr><td>train_loss</td><td>█▃▂▁▁</td></tr><tr><td>train_time</td><td>▁</td></tr></table><br/></div><div class=\"wandb-col\"><h3>Run summary:</h3><br/><table class=\"wandb\"><tr><td>epoch</td><td>5</td></tr><tr><td>test_accuracy</td><td>50.56</td></tr><tr><td>train_accuracy</td><td>48.452</td></tr><tr><td>train_loss</td><td>1.41772</td></tr><tr><td>train_time</td><td>584.05323</td></tr></table><br/></div></div>"
            ]
          },
          "metadata": {}
        },
        {
          "output_type": "display_data",
          "data": {
            "text/plain": [
              "<IPython.core.display.HTML object>"
            ],
            "text/html": [
              " View run <strong style=\"color:#cdcd00\">base_32_mult_3_lay_5_kern_5_str_1</strong> at: <a href='https://wandb.ai/simeonbetapudi-belmont-university/Mini%20Hackathon%20Sweep/runs/gybm1t7h' target=\"_blank\">https://wandb.ai/simeonbetapudi-belmont-university/Mini%20Hackathon%20Sweep/runs/gybm1t7h</a><br> View project at: <a href='https://wandb.ai/simeonbetapudi-belmont-university/Mini%20Hackathon%20Sweep' target=\"_blank\">https://wandb.ai/simeonbetapudi-belmont-university/Mini%20Hackathon%20Sweep</a><br>Synced 5 W&B file(s), 0 media file(s), 0 artifact file(s) and 0 other file(s)"
            ]
          },
          "metadata": {}
        },
        {
          "output_type": "display_data",
          "data": {
            "text/plain": [
              "<IPython.core.display.HTML object>"
            ],
            "text/html": [
              "Find logs at: <code>./wandb/run-20250910_014104-gybm1t7h/logs</code>"
            ]
          },
          "metadata": {}
        },
        {
          "output_type": "stream",
          "name": "stderr",
          "text": [
            "\u001b[34m\u001b[1mwandb\u001b[0m: Agent Starting Run: 81n7v5ye with config:\n",
            "\u001b[34m\u001b[1mwandb\u001b[0m: \tbase_channels: 32\n",
            "\u001b[34m\u001b[1mwandb\u001b[0m: \tchannel_mult: 3\n",
            "\u001b[34m\u001b[1mwandb\u001b[0m: \tkernel_size: 5\n",
            "\u001b[34m\u001b[1mwandb\u001b[0m: \tn_conv_layers: 5\n",
            "\u001b[34m\u001b[1mwandb\u001b[0m: \tstride: 2\n"
          ]
        },
        {
          "output_type": "display_data",
          "data": {
            "text/plain": [
              "<IPython.core.display.HTML object>"
            ],
            "text/html": [
              "Ignoring project 'Mini Hackathon Sweep' when running a sweep."
            ]
          },
          "metadata": {}
        },
        {
          "output_type": "display_data",
          "data": {
            "text/plain": [
              "<IPython.core.display.HTML object>"
            ],
            "text/html": [
              "creating run (0.0s)"
            ]
          },
          "metadata": {}
        },
        {
          "output_type": "display_data",
          "data": {
            "text/plain": [
              "<IPython.core.display.HTML object>"
            ],
            "text/html": [
              "Tracking run with wandb version 0.21.3"
            ]
          },
          "metadata": {}
        },
        {
          "output_type": "display_data",
          "data": {
            "text/plain": [
              "<IPython.core.display.HTML object>"
            ],
            "text/html": [
              "Run data is saved locally in <code>/content/wandb/run-20250910_015056-81n7v5ye</code>"
            ]
          },
          "metadata": {}
        },
        {
          "output_type": "display_data",
          "data": {
            "text/plain": [
              "<IPython.core.display.HTML object>"
            ],
            "text/html": [
              "Syncing run <strong><a href='https://wandb.ai/simeonbetapudi-belmont-university/Mini%20Hackathon%20Sweep/runs/81n7v5ye' target=\"_blank\">apricot-sweep-23</a></strong> to <a href='https://wandb.ai/simeonbetapudi-belmont-university/Mini%20Hackathon%20Sweep' target=\"_blank\">Weights & Biases</a> (<a href='https://wandb.me/developer-guide' target=\"_blank\">docs</a>)<br>Sweep page: <a href='https://wandb.ai/simeonbetapudi-belmont-university/Mini%20Hackathon%20Sweep/sweeps/zh4ejg5g' target=\"_blank\">https://wandb.ai/simeonbetapudi-belmont-university/Mini%20Hackathon%20Sweep/sweeps/zh4ejg5g</a>"
            ]
          },
          "metadata": {}
        },
        {
          "output_type": "display_data",
          "data": {
            "text/plain": [
              "<IPython.core.display.HTML object>"
            ],
            "text/html": [
              " View project at <a href='https://wandb.ai/simeonbetapudi-belmont-university/Mini%20Hackathon%20Sweep' target=\"_blank\">https://wandb.ai/simeonbetapudi-belmont-university/Mini%20Hackathon%20Sweep</a>"
            ]
          },
          "metadata": {}
        },
        {
          "output_type": "display_data",
          "data": {
            "text/plain": [
              "<IPython.core.display.HTML object>"
            ],
            "text/html": [
              " View sweep at <a href='https://wandb.ai/simeonbetapudi-belmont-university/Mini%20Hackathon%20Sweep/sweeps/zh4ejg5g' target=\"_blank\">https://wandb.ai/simeonbetapudi-belmont-university/Mini%20Hackathon%20Sweep/sweeps/zh4ejg5g</a>"
            ]
          },
          "metadata": {}
        },
        {
          "output_type": "display_data",
          "data": {
            "text/plain": [
              "<IPython.core.display.HTML object>"
            ],
            "text/html": [
              " View run at <a href='https://wandb.ai/simeonbetapudi-belmont-university/Mini%20Hackathon%20Sweep/runs/81n7v5ye' target=\"_blank\">https://wandb.ai/simeonbetapudi-belmont-university/Mini%20Hackathon%20Sweep/runs/81n7v5ye</a>"
            ]
          },
          "metadata": {}
        },
        {
          "output_type": "stream",
          "name": "stderr",
          "text": [
            "Epoch 1/5:   0%|          | 0/49 [00:00<?, ?it/s]\n",
            "Traceback (most recent call last):\n",
            "  File \"/usr/local/lib/python3.12/dist-packages/wandb/agents/pyagent.py\", line 297, in _run_job\n",
            "    self._function()\n",
            "  File \"/tmp/ipython-input-3079156912.py\", line 26, in sweep_train\n",
            "    results = train_model(model,\n",
            "              ^^^^^^^^^^^^^^^^^^\n",
            "  File \"/tmp/ipython-input-1655472275.py\", line 32, in train_model\n",
            "    output = model(data)\n",
            "             ^^^^^^^^^^^\n",
            "  File \"/usr/local/lib/python3.12/dist-packages/torch/nn/modules/module.py\", line 1773, in _wrapped_call_impl\n",
            "    return self._call_impl(*args, **kwargs)\n",
            "           ^^^^^^^^^^^^^^^^^^^^^^^^^^^^^^^^\n",
            "  File \"/usr/local/lib/python3.12/dist-packages/torch/nn/modules/module.py\", line 1784, in _call_impl\n",
            "    return forward_call(*args, **kwargs)\n",
            "           ^^^^^^^^^^^^^^^^^^^^^^^^^^^^^\n",
            "  File \"/tmp/ipython-input-1595289304.py\", line 23, in forward\n",
            "    x = self.activation(conv_layer(x))\n",
            "                        ^^^^^^^^^^^^^\n",
            "  File \"/usr/local/lib/python3.12/dist-packages/torch/nn/modules/module.py\", line 1773, in _wrapped_call_impl\n",
            "    return self._call_impl(*args, **kwargs)\n",
            "           ^^^^^^^^^^^^^^^^^^^^^^^^^^^^^^^^\n",
            "  File \"/usr/local/lib/python3.12/dist-packages/torch/nn/modules/module.py\", line 1784, in _call_impl\n",
            "    return forward_call(*args, **kwargs)\n",
            "           ^^^^^^^^^^^^^^^^^^^^^^^^^^^^^\n",
            "  File \"/usr/local/lib/python3.12/dist-packages/torch/nn/modules/conv.py\", line 548, in forward\n",
            "    return self._conv_forward(input, self.weight, self.bias)\n",
            "           ^^^^^^^^^^^^^^^^^^^^^^^^^^^^^^^^^^^^^^^^^^^^^^^^^\n",
            "  File \"/usr/local/lib/python3.12/dist-packages/torch/nn/modules/conv.py\", line 543, in _conv_forward\n",
            "    return F.conv2d(\n",
            "           ^^^^^^^^^\n",
            "RuntimeError: Calculated padded input size per channel: (3 x 3). Kernel size: (5 x 5). Kernel size can't be greater than actual input size\n",
            "\n"
          ]
        },
        {
          "output_type": "display_data",
          "data": {
            "text/plain": [
              "<IPython.core.display.HTML object>"
            ],
            "text/html": []
          },
          "metadata": {}
        },
        {
          "output_type": "display_data",
          "data": {
            "text/plain": [
              "<IPython.core.display.HTML object>"
            ],
            "text/html": [
              " View run <strong style=\"color:#cdcd00\">base_32_mult_3_lay_5_kern_5_str_2</strong> at: <a href='https://wandb.ai/simeonbetapudi-belmont-university/Mini%20Hackathon%20Sweep/runs/81n7v5ye' target=\"_blank\">https://wandb.ai/simeonbetapudi-belmont-university/Mini%20Hackathon%20Sweep/runs/81n7v5ye</a><br> View project at: <a href='https://wandb.ai/simeonbetapudi-belmont-university/Mini%20Hackathon%20Sweep' target=\"_blank\">https://wandb.ai/simeonbetapudi-belmont-university/Mini%20Hackathon%20Sweep</a><br>Synced 5 W&B file(s), 0 media file(s), 0 artifact file(s) and 0 other file(s)"
            ]
          },
          "metadata": {}
        },
        {
          "output_type": "display_data",
          "data": {
            "text/plain": [
              "<IPython.core.display.HTML object>"
            ],
            "text/html": [
              "Find logs at: <code>./wandb/run-20250910_015056-81n7v5ye/logs</code>"
            ]
          },
          "metadata": {}
        },
        {
          "output_type": "stream",
          "name": "stderr",
          "text": [
            "\u001b[34m\u001b[1mwandb\u001b[0m: \u001b[32m\u001b[41mERROR\u001b[0m Run 81n7v5ye errored: Calculated padded input size per channel: (3 x 3). Kernel size: (5 x 5). Kernel size can't be greater than actual input size\n",
            "\u001b[34m\u001b[1mwandb\u001b[0m: Agent Starting Run: d6foxmdh with config:\n",
            "\u001b[34m\u001b[1mwandb\u001b[0m: \tbase_channels: 32\n",
            "\u001b[34m\u001b[1mwandb\u001b[0m: \tchannel_mult: 3\n",
            "\u001b[34m\u001b[1mwandb\u001b[0m: \tkernel_size: 5\n",
            "\u001b[34m\u001b[1mwandb\u001b[0m: \tn_conv_layers: 5\n",
            "\u001b[34m\u001b[1mwandb\u001b[0m: \tstride: 3\n"
          ]
        },
        {
          "output_type": "display_data",
          "data": {
            "text/plain": [
              "<IPython.core.display.HTML object>"
            ],
            "text/html": [
              "Ignoring project 'Mini Hackathon Sweep' when running a sweep."
            ]
          },
          "metadata": {}
        },
        {
          "output_type": "display_data",
          "data": {
            "text/plain": [
              "<IPython.core.display.HTML object>"
            ],
            "text/html": [
              "Waiting for wandb.init()..."
            ]
          },
          "metadata": {}
        },
        {
          "output_type": "display_data",
          "data": {
            "text/plain": [
              "<IPython.core.display.HTML object>"
            ],
            "text/html": [
              "Tracking run with wandb version 0.21.3"
            ]
          },
          "metadata": {}
        },
        {
          "output_type": "display_data",
          "data": {
            "text/plain": [
              "<IPython.core.display.HTML object>"
            ],
            "text/html": [
              "Run data is saved locally in <code>/content/wandb/run-20250910_015101-d6foxmdh</code>"
            ]
          },
          "metadata": {}
        },
        {
          "output_type": "display_data",
          "data": {
            "text/plain": [
              "<IPython.core.display.HTML object>"
            ],
            "text/html": [
              "Syncing run <strong><a href='https://wandb.ai/simeonbetapudi-belmont-university/Mini%20Hackathon%20Sweep/runs/d6foxmdh' target=\"_blank\">daily-sweep-24</a></strong> to <a href='https://wandb.ai/simeonbetapudi-belmont-university/Mini%20Hackathon%20Sweep' target=\"_blank\">Weights & Biases</a> (<a href='https://wandb.me/developer-guide' target=\"_blank\">docs</a>)<br>Sweep page: <a href='https://wandb.ai/simeonbetapudi-belmont-university/Mini%20Hackathon%20Sweep/sweeps/zh4ejg5g' target=\"_blank\">https://wandb.ai/simeonbetapudi-belmont-university/Mini%20Hackathon%20Sweep/sweeps/zh4ejg5g</a>"
            ]
          },
          "metadata": {}
        },
        {
          "output_type": "display_data",
          "data": {
            "text/plain": [
              "<IPython.core.display.HTML object>"
            ],
            "text/html": [
              " View project at <a href='https://wandb.ai/simeonbetapudi-belmont-university/Mini%20Hackathon%20Sweep' target=\"_blank\">https://wandb.ai/simeonbetapudi-belmont-university/Mini%20Hackathon%20Sweep</a>"
            ]
          },
          "metadata": {}
        },
        {
          "output_type": "display_data",
          "data": {
            "text/plain": [
              "<IPython.core.display.HTML object>"
            ],
            "text/html": [
              " View sweep at <a href='https://wandb.ai/simeonbetapudi-belmont-university/Mini%20Hackathon%20Sweep/sweeps/zh4ejg5g' target=\"_blank\">https://wandb.ai/simeonbetapudi-belmont-university/Mini%20Hackathon%20Sweep/sweeps/zh4ejg5g</a>"
            ]
          },
          "metadata": {}
        },
        {
          "output_type": "display_data",
          "data": {
            "text/plain": [
              "<IPython.core.display.HTML object>"
            ],
            "text/html": [
              " View run at <a href='https://wandb.ai/simeonbetapudi-belmont-university/Mini%20Hackathon%20Sweep/runs/d6foxmdh' target=\"_blank\">https://wandb.ai/simeonbetapudi-belmont-university/Mini%20Hackathon%20Sweep/runs/d6foxmdh</a>"
            ]
          },
          "metadata": {}
        },
        {
          "output_type": "stream",
          "name": "stderr",
          "text": [
            "Epoch 1/5:   0%|          | 0/49 [00:00<?, ?it/s]\n",
            "Traceback (most recent call last):\n",
            "  File \"/usr/local/lib/python3.12/dist-packages/wandb/agents/pyagent.py\", line 297, in _run_job\n",
            "    self._function()\n",
            "  File \"/tmp/ipython-input-3079156912.py\", line 26, in sweep_train\n",
            "    results = train_model(model,\n",
            "              ^^^^^^^^^^^^^^^^^^\n",
            "  File \"/tmp/ipython-input-1655472275.py\", line 32, in train_model\n",
            "    output = model(data)\n",
            "             ^^^^^^^^^^^\n",
            "  File \"/usr/local/lib/python3.12/dist-packages/torch/nn/modules/module.py\", line 1773, in _wrapped_call_impl\n",
            "    return self._call_impl(*args, **kwargs)\n",
            "           ^^^^^^^^^^^^^^^^^^^^^^^^^^^^^^^^\n",
            "  File \"/usr/local/lib/python3.12/dist-packages/torch/nn/modules/module.py\", line 1784, in _call_impl\n",
            "    return forward_call(*args, **kwargs)\n",
            "           ^^^^^^^^^^^^^^^^^^^^^^^^^^^^^\n",
            "  File \"/tmp/ipython-input-1595289304.py\", line 23, in forward\n",
            "    x = self.activation(conv_layer(x))\n",
            "                        ^^^^^^^^^^^^^\n",
            "  File \"/usr/local/lib/python3.12/dist-packages/torch/nn/modules/module.py\", line 1773, in _wrapped_call_impl\n",
            "    return self._call_impl(*args, **kwargs)\n",
            "           ^^^^^^^^^^^^^^^^^^^^^^^^^^^^^^^^\n",
            "  File \"/usr/local/lib/python3.12/dist-packages/torch/nn/modules/module.py\", line 1784, in _call_impl\n",
            "    return forward_call(*args, **kwargs)\n",
            "           ^^^^^^^^^^^^^^^^^^^^^^^^^^^^^\n",
            "  File \"/usr/local/lib/python3.12/dist-packages/torch/nn/modules/conv.py\", line 548, in forward\n",
            "    return self._conv_forward(input, self.weight, self.bias)\n",
            "           ^^^^^^^^^^^^^^^^^^^^^^^^^^^^^^^^^^^^^^^^^^^^^^^^^\n",
            "  File \"/usr/local/lib/python3.12/dist-packages/torch/nn/modules/conv.py\", line 543, in _conv_forward\n",
            "    return F.conv2d(\n",
            "           ^^^^^^^^^\n",
            "RuntimeError: Calculated padded input size per channel: (3 x 3). Kernel size: (5 x 5). Kernel size can't be greater than actual input size\n",
            "\n"
          ]
        },
        {
          "output_type": "display_data",
          "data": {
            "text/plain": [
              "<IPython.core.display.HTML object>"
            ],
            "text/html": []
          },
          "metadata": {}
        },
        {
          "output_type": "display_data",
          "data": {
            "text/plain": [
              "<IPython.core.display.HTML object>"
            ],
            "text/html": [
              " View run <strong style=\"color:#cdcd00\">base_32_mult_3_lay_5_kern_5_str_3</strong> at: <a href='https://wandb.ai/simeonbetapudi-belmont-university/Mini%20Hackathon%20Sweep/runs/d6foxmdh' target=\"_blank\">https://wandb.ai/simeonbetapudi-belmont-university/Mini%20Hackathon%20Sweep/runs/d6foxmdh</a><br> View project at: <a href='https://wandb.ai/simeonbetapudi-belmont-university/Mini%20Hackathon%20Sweep' target=\"_blank\">https://wandb.ai/simeonbetapudi-belmont-university/Mini%20Hackathon%20Sweep</a><br>Synced 5 W&B file(s), 0 media file(s), 0 artifact file(s) and 0 other file(s)"
            ]
          },
          "metadata": {}
        },
        {
          "output_type": "display_data",
          "data": {
            "text/plain": [
              "<IPython.core.display.HTML object>"
            ],
            "text/html": [
              "Find logs at: <code>./wandb/run-20250910_015101-d6foxmdh/logs</code>"
            ]
          },
          "metadata": {}
        },
        {
          "output_type": "stream",
          "name": "stderr",
          "text": [
            "\u001b[34m\u001b[1mwandb\u001b[0m: \u001b[32m\u001b[41mERROR\u001b[0m Run d6foxmdh errored: Calculated padded input size per channel: (3 x 3). Kernel size: (5 x 5). Kernel size can't be greater than actual input size\n",
            "\u001b[34m\u001b[1mwandb\u001b[0m: Agent Starting Run: bg0etj64 with config:\n",
            "\u001b[34m\u001b[1mwandb\u001b[0m: \tbase_channels: 64\n",
            "\u001b[34m\u001b[1mwandb\u001b[0m: \tchannel_mult: 2\n",
            "\u001b[34m\u001b[1mwandb\u001b[0m: \tkernel_size: 3\n",
            "\u001b[34m\u001b[1mwandb\u001b[0m: \tn_conv_layers: 4\n",
            "\u001b[34m\u001b[1mwandb\u001b[0m: \tstride: 1\n"
          ]
        },
        {
          "output_type": "display_data",
          "data": {
            "text/plain": [
              "<IPython.core.display.HTML object>"
            ],
            "text/html": [
              "Ignoring project 'Mini Hackathon Sweep' when running a sweep."
            ]
          },
          "metadata": {}
        },
        {
          "output_type": "display_data",
          "data": {
            "text/plain": [
              "<IPython.core.display.HTML object>"
            ],
            "text/html": [
              "creating run (0.0s)"
            ]
          },
          "metadata": {}
        },
        {
          "output_type": "display_data",
          "data": {
            "text/plain": [
              "<IPython.core.display.HTML object>"
            ],
            "text/html": [
              "Tracking run with wandb version 0.21.3"
            ]
          },
          "metadata": {}
        },
        {
          "output_type": "display_data",
          "data": {
            "text/plain": [
              "<IPython.core.display.HTML object>"
            ],
            "text/html": [
              "Run data is saved locally in <code>/content/wandb/run-20250910_015106-bg0etj64</code>"
            ]
          },
          "metadata": {}
        },
        {
          "output_type": "display_data",
          "data": {
            "text/plain": [
              "<IPython.core.display.HTML object>"
            ],
            "text/html": [
              "Syncing run <strong><a href='https://wandb.ai/simeonbetapudi-belmont-university/Mini%20Hackathon%20Sweep/runs/bg0etj64' target=\"_blank\">ethereal-sweep-25</a></strong> to <a href='https://wandb.ai/simeonbetapudi-belmont-university/Mini%20Hackathon%20Sweep' target=\"_blank\">Weights & Biases</a> (<a href='https://wandb.me/developer-guide' target=\"_blank\">docs</a>)<br>Sweep page: <a href='https://wandb.ai/simeonbetapudi-belmont-university/Mini%20Hackathon%20Sweep/sweeps/zh4ejg5g' target=\"_blank\">https://wandb.ai/simeonbetapudi-belmont-university/Mini%20Hackathon%20Sweep/sweeps/zh4ejg5g</a>"
            ]
          },
          "metadata": {}
        },
        {
          "output_type": "display_data",
          "data": {
            "text/plain": [
              "<IPython.core.display.HTML object>"
            ],
            "text/html": [
              " View project at <a href='https://wandb.ai/simeonbetapudi-belmont-university/Mini%20Hackathon%20Sweep' target=\"_blank\">https://wandb.ai/simeonbetapudi-belmont-university/Mini%20Hackathon%20Sweep</a>"
            ]
          },
          "metadata": {}
        },
        {
          "output_type": "display_data",
          "data": {
            "text/plain": [
              "<IPython.core.display.HTML object>"
            ],
            "text/html": [
              " View sweep at <a href='https://wandb.ai/simeonbetapudi-belmont-university/Mini%20Hackathon%20Sweep/sweeps/zh4ejg5g' target=\"_blank\">https://wandb.ai/simeonbetapudi-belmont-university/Mini%20Hackathon%20Sweep/sweeps/zh4ejg5g</a>"
            ]
          },
          "metadata": {}
        },
        {
          "output_type": "display_data",
          "data": {
            "text/plain": [
              "<IPython.core.display.HTML object>"
            ],
            "text/html": [
              " View run at <a href='https://wandb.ai/simeonbetapudi-belmont-university/Mini%20Hackathon%20Sweep/runs/bg0etj64' target=\"_blank\">https://wandb.ai/simeonbetapudi-belmont-university/Mini%20Hackathon%20Sweep/runs/bg0etj64</a>"
            ]
          },
          "metadata": {}
        },
        {
          "output_type": "stream",
          "name": "stderr",
          "text": [
            "Epoch 1/5: 100%|██████████| 49/49 [00:17<00:00,  2.78it/s, Loss=1.7897, Acc=23.78%]\n"
          ]
        },
        {
          "output_type": "stream",
          "name": "stdout",
          "text": [
            "Epoch 1: Train Loss: 2.0082, Train Acc: 23.78%, Test Acc: 32.57%\n"
          ]
        },
        {
          "output_type": "stream",
          "name": "stderr",
          "text": [
            "Epoch 2/5: 100%|██████████| 49/49 [00:17<00:00,  2.80it/s, Loss=1.6335, Acc=35.02%]\n"
          ]
        },
        {
          "output_type": "stream",
          "name": "stdout",
          "text": [
            "Epoch 2: Train Loss: 1.7118, Train Acc: 35.02%, Test Acc: 39.56%\n"
          ]
        },
        {
          "output_type": "stream",
          "name": "stderr",
          "text": [
            "Epoch 3/5: 100%|██████████| 49/49 [00:17<00:00,  2.81it/s, Loss=1.5576, Acc=41.12%]\n"
          ]
        },
        {
          "output_type": "stream",
          "name": "stdout",
          "text": [
            "Epoch 3: Train Loss: 1.5962, Train Acc: 41.12%, Test Acc: 43.60%\n"
          ]
        },
        {
          "output_type": "stream",
          "name": "stderr",
          "text": [
            "Epoch 4/5: 100%|██████████| 49/49 [00:17<00:00,  2.76it/s, Loss=1.4661, Acc=44.80%]\n"
          ]
        },
        {
          "output_type": "stream",
          "name": "stdout",
          "text": [
            "Epoch 4: Train Loss: 1.5121, Train Acc: 44.80%, Test Acc: 43.12%\n"
          ]
        },
        {
          "output_type": "stream",
          "name": "stderr",
          "text": [
            "Epoch 5/5: 100%|██████████| 49/49 [00:17<00:00,  2.81it/s, Loss=1.3820, Acc=48.53%]\n"
          ]
        },
        {
          "output_type": "stream",
          "name": "stdout",
          "text": [
            "Epoch 5: Train Loss: 1.4241, Train Acc: 48.53%, Test Acc: 50.63%\n"
          ]
        },
        {
          "output_type": "display_data",
          "data": {
            "text/plain": [
              "<IPython.core.display.HTML object>"
            ],
            "text/html": []
          },
          "metadata": {}
        },
        {
          "output_type": "display_data",
          "data": {
            "text/plain": [
              "<IPython.core.display.HTML object>"
            ],
            "text/html": [
              "<br>    <style><br>        .wandb-row {<br>            display: flex;<br>            flex-direction: row;<br>            flex-wrap: wrap;<br>            justify-content: flex-start;<br>            width: 100%;<br>        }<br>        .wandb-col {<br>            display: flex;<br>            flex-direction: column;<br>            flex-basis: 100%;<br>            flex: 1;<br>            padding: 10px;<br>        }<br>    </style><br><div class=\"wandb-row\"><div class=\"wandb-col\"><h3>Run history:</h3><br/><table class=\"wandb\"><tr><td>epoch</td><td>▁▃▅▆█</td></tr><tr><td>test_accuracy</td><td>▁▄▅▅█</td></tr><tr><td>train_accuracy</td><td>▁▄▆▇█</td></tr><tr><td>train_loss</td><td>█▄▃▂▁</td></tr><tr><td>train_time</td><td>▁</td></tr></table><br/></div><div class=\"wandb-col\"><h3>Run summary:</h3><br/><table class=\"wandb\"><tr><td>epoch</td><td>5</td></tr><tr><td>test_accuracy</td><td>50.63</td></tr><tr><td>train_accuracy</td><td>48.528</td></tr><tr><td>train_loss</td><td>1.42409</td></tr><tr><td>train_time</td><td>100.91829</td></tr></table><br/></div></div>"
            ]
          },
          "metadata": {}
        },
        {
          "output_type": "display_data",
          "data": {
            "text/plain": [
              "<IPython.core.display.HTML object>"
            ],
            "text/html": [
              " View run <strong style=\"color:#cdcd00\">base_64_mult_2_lay_4_kern_3_str_1</strong> at: <a href='https://wandb.ai/simeonbetapudi-belmont-university/Mini%20Hackathon%20Sweep/runs/bg0etj64' target=\"_blank\">https://wandb.ai/simeonbetapudi-belmont-university/Mini%20Hackathon%20Sweep/runs/bg0etj64</a><br> View project at: <a href='https://wandb.ai/simeonbetapudi-belmont-university/Mini%20Hackathon%20Sweep' target=\"_blank\">https://wandb.ai/simeonbetapudi-belmont-university/Mini%20Hackathon%20Sweep</a><br>Synced 5 W&B file(s), 0 media file(s), 0 artifact file(s) and 0 other file(s)"
            ]
          },
          "metadata": {}
        },
        {
          "output_type": "display_data",
          "data": {
            "text/plain": [
              "<IPython.core.display.HTML object>"
            ],
            "text/html": [
              "Find logs at: <code>./wandb/run-20250910_015106-bg0etj64/logs</code>"
            ]
          },
          "metadata": {}
        },
        {
          "output_type": "stream",
          "name": "stderr",
          "text": [
            "\u001b[34m\u001b[1mwandb\u001b[0m: Agent Starting Run: 0gpaua00 with config:\n",
            "\u001b[34m\u001b[1mwandb\u001b[0m: \tbase_channels: 64\n",
            "\u001b[34m\u001b[1mwandb\u001b[0m: \tchannel_mult: 2\n",
            "\u001b[34m\u001b[1mwandb\u001b[0m: \tkernel_size: 3\n",
            "\u001b[34m\u001b[1mwandb\u001b[0m: \tn_conv_layers: 4\n",
            "\u001b[34m\u001b[1mwandb\u001b[0m: \tstride: 2\n"
          ]
        },
        {
          "output_type": "display_data",
          "data": {
            "text/plain": [
              "<IPython.core.display.HTML object>"
            ],
            "text/html": [
              "Ignoring project 'Mini Hackathon Sweep' when running a sweep."
            ]
          },
          "metadata": {}
        },
        {
          "output_type": "display_data",
          "data": {
            "text/plain": [
              "<IPython.core.display.HTML object>"
            ],
            "text/html": [
              "creating run (0.0s)"
            ]
          },
          "metadata": {}
        },
        {
          "output_type": "display_data",
          "data": {
            "text/plain": [
              "<IPython.core.display.HTML object>"
            ],
            "text/html": [
              "Tracking run with wandb version 0.21.3"
            ]
          },
          "metadata": {}
        },
        {
          "output_type": "display_data",
          "data": {
            "text/plain": [
              "<IPython.core.display.HTML object>"
            ],
            "text/html": [
              "Run data is saved locally in <code>/content/wandb/run-20250910_015255-0gpaua00</code>"
            ]
          },
          "metadata": {}
        },
        {
          "output_type": "display_data",
          "data": {
            "text/plain": [
              "<IPython.core.display.HTML object>"
            ],
            "text/html": [
              "Syncing run <strong><a href='https://wandb.ai/simeonbetapudi-belmont-university/Mini%20Hackathon%20Sweep/runs/0gpaua00' target=\"_blank\">likely-sweep-26</a></strong> to <a href='https://wandb.ai/simeonbetapudi-belmont-university/Mini%20Hackathon%20Sweep' target=\"_blank\">Weights & Biases</a> (<a href='https://wandb.me/developer-guide' target=\"_blank\">docs</a>)<br>Sweep page: <a href='https://wandb.ai/simeonbetapudi-belmont-university/Mini%20Hackathon%20Sweep/sweeps/zh4ejg5g' target=\"_blank\">https://wandb.ai/simeonbetapudi-belmont-university/Mini%20Hackathon%20Sweep/sweeps/zh4ejg5g</a>"
            ]
          },
          "metadata": {}
        },
        {
          "output_type": "display_data",
          "data": {
            "text/plain": [
              "<IPython.core.display.HTML object>"
            ],
            "text/html": [
              " View project at <a href='https://wandb.ai/simeonbetapudi-belmont-university/Mini%20Hackathon%20Sweep' target=\"_blank\">https://wandb.ai/simeonbetapudi-belmont-university/Mini%20Hackathon%20Sweep</a>"
            ]
          },
          "metadata": {}
        },
        {
          "output_type": "display_data",
          "data": {
            "text/plain": [
              "<IPython.core.display.HTML object>"
            ],
            "text/html": [
              " View sweep at <a href='https://wandb.ai/simeonbetapudi-belmont-university/Mini%20Hackathon%20Sweep/sweeps/zh4ejg5g' target=\"_blank\">https://wandb.ai/simeonbetapudi-belmont-university/Mini%20Hackathon%20Sweep/sweeps/zh4ejg5g</a>"
            ]
          },
          "metadata": {}
        },
        {
          "output_type": "display_data",
          "data": {
            "text/plain": [
              "<IPython.core.display.HTML object>"
            ],
            "text/html": [
              " View run at <a href='https://wandb.ai/simeonbetapudi-belmont-university/Mini%20Hackathon%20Sweep/runs/0gpaua00' target=\"_blank\">https://wandb.ai/simeonbetapudi-belmont-university/Mini%20Hackathon%20Sweep/runs/0gpaua00</a>"
            ]
          },
          "metadata": {}
        },
        {
          "output_type": "stream",
          "name": "stderr",
          "text": [
            "Epoch 1/5: 100%|██████████| 49/49 [00:11<00:00,  4.23it/s, Loss=1.6296, Acc=30.41%]\n"
          ]
        },
        {
          "output_type": "stream",
          "name": "stdout",
          "text": [
            "Epoch 1: Train Loss: 1.9022, Train Acc: 30.41%, Test Acc: 40.18%\n"
          ]
        },
        {
          "output_type": "stream",
          "name": "stderr",
          "text": [
            "Epoch 2/5: 100%|██████████| 49/49 [00:11<00:00,  4.28it/s, Loss=1.4792, Acc=43.72%]\n"
          ]
        },
        {
          "output_type": "stream",
          "name": "stdout",
          "text": [
            "Epoch 2: Train Loss: 1.5474, Train Acc: 43.72%, Test Acc: 48.83%\n"
          ]
        },
        {
          "output_type": "stream",
          "name": "stderr",
          "text": [
            "Epoch 3/5: 100%|██████████| 49/49 [00:11<00:00,  4.25it/s, Loss=1.3050, Acc=50.35%]\n"
          ]
        },
        {
          "output_type": "stream",
          "name": "stdout",
          "text": [
            "Epoch 3: Train Loss: 1.3782, Train Acc: 50.35%, Test Acc: 53.89%\n"
          ]
        },
        {
          "output_type": "stream",
          "name": "stderr",
          "text": [
            "Epoch 4/5: 100%|██████████| 49/49 [00:11<00:00,  4.12it/s, Loss=1.2020, Acc=54.09%]\n"
          ]
        },
        {
          "output_type": "stream",
          "name": "stdout",
          "text": [
            "Epoch 4: Train Loss: 1.2754, Train Acc: 54.09%, Test Acc: 57.06%\n"
          ]
        },
        {
          "output_type": "stream",
          "name": "stderr",
          "text": [
            "Epoch 5/5: 100%|██████████| 49/49 [00:11<00:00,  4.24it/s, Loss=1.1910, Acc=57.42%]\n"
          ]
        },
        {
          "output_type": "stream",
          "name": "stdout",
          "text": [
            "Epoch 5: Train Loss: 1.1945, Train Acc: 57.42%, Test Acc: 59.09%\n"
          ]
        },
        {
          "output_type": "display_data",
          "data": {
            "text/plain": [
              "<IPython.core.display.HTML object>"
            ],
            "text/html": []
          },
          "metadata": {}
        },
        {
          "output_type": "display_data",
          "data": {
            "text/plain": [
              "<IPython.core.display.HTML object>"
            ],
            "text/html": [
              "<br>    <style><br>        .wandb-row {<br>            display: flex;<br>            flex-direction: row;<br>            flex-wrap: wrap;<br>            justify-content: flex-start;<br>            width: 100%;<br>        }<br>        .wandb-col {<br>            display: flex;<br>            flex-direction: column;<br>            flex-basis: 100%;<br>            flex: 1;<br>            padding: 10px;<br>        }<br>    </style><br><div class=\"wandb-row\"><div class=\"wandb-col\"><h3>Run history:</h3><br/><table class=\"wandb\"><tr><td>epoch</td><td>▁▃▅▆█</td></tr><tr><td>test_accuracy</td><td>▁▄▆▇█</td></tr><tr><td>train_accuracy</td><td>▁▄▆▇█</td></tr><tr><td>train_loss</td><td>█▄▃▂▁</td></tr><tr><td>train_time</td><td>▁</td></tr></table><br/></div><div class=\"wandb-col\"><h3>Run summary:</h3><br/><table class=\"wandb\"><tr><td>epoch</td><td>5</td></tr><tr><td>test_accuracy</td><td>59.09</td></tr><tr><td>train_accuracy</td><td>57.42</td></tr><tr><td>train_loss</td><td>1.19449</td></tr><tr><td>train_time</td><td>69.11503</td></tr></table><br/></div></div>"
            ]
          },
          "metadata": {}
        },
        {
          "output_type": "display_data",
          "data": {
            "text/plain": [
              "<IPython.core.display.HTML object>"
            ],
            "text/html": [
              " View run <strong style=\"color:#cdcd00\">base_64_mult_2_lay_4_kern_3_str_2</strong> at: <a href='https://wandb.ai/simeonbetapudi-belmont-university/Mini%20Hackathon%20Sweep/runs/0gpaua00' target=\"_blank\">https://wandb.ai/simeonbetapudi-belmont-university/Mini%20Hackathon%20Sweep/runs/0gpaua00</a><br> View project at: <a href='https://wandb.ai/simeonbetapudi-belmont-university/Mini%20Hackathon%20Sweep' target=\"_blank\">https://wandb.ai/simeonbetapudi-belmont-university/Mini%20Hackathon%20Sweep</a><br>Synced 5 W&B file(s), 0 media file(s), 0 artifact file(s) and 0 other file(s)"
            ]
          },
          "metadata": {}
        },
        {
          "output_type": "display_data",
          "data": {
            "text/plain": [
              "<IPython.core.display.HTML object>"
            ],
            "text/html": [
              "Find logs at: <code>./wandb/run-20250910_015255-0gpaua00/logs</code>"
            ]
          },
          "metadata": {}
        },
        {
          "output_type": "stream",
          "name": "stderr",
          "text": [
            "\u001b[34m\u001b[1mwandb\u001b[0m: Sweep Agent: Waiting for job.\n",
            "\u001b[34m\u001b[1mwandb\u001b[0m: Job received.\n",
            "\u001b[34m\u001b[1mwandb\u001b[0m: Agent Starting Run: gxdlvdmp with config:\n",
            "\u001b[34m\u001b[1mwandb\u001b[0m: \tbase_channels: 64\n",
            "\u001b[34m\u001b[1mwandb\u001b[0m: \tchannel_mult: 2\n",
            "\u001b[34m\u001b[1mwandb\u001b[0m: \tkernel_size: 3\n",
            "\u001b[34m\u001b[1mwandb\u001b[0m: \tn_conv_layers: 4\n",
            "\u001b[34m\u001b[1mwandb\u001b[0m: \tstride: 3\n"
          ]
        },
        {
          "output_type": "display_data",
          "data": {
            "text/plain": [
              "<IPython.core.display.HTML object>"
            ],
            "text/html": [
              "Ignoring project 'Mini Hackathon Sweep' when running a sweep."
            ]
          },
          "metadata": {}
        },
        {
          "output_type": "display_data",
          "data": {
            "text/plain": [
              "<IPython.core.display.HTML object>"
            ],
            "text/html": [
              "creating run (0.0s)"
            ]
          },
          "metadata": {}
        },
        {
          "output_type": "display_data",
          "data": {
            "text/plain": [
              "<IPython.core.display.HTML object>"
            ],
            "text/html": [
              "Tracking run with wandb version 0.21.3"
            ]
          },
          "metadata": {}
        },
        {
          "output_type": "display_data",
          "data": {
            "text/plain": [
              "<IPython.core.display.HTML object>"
            ],
            "text/html": [
              "Run data is saved locally in <code>/content/wandb/run-20250910_015417-gxdlvdmp</code>"
            ]
          },
          "metadata": {}
        },
        {
          "output_type": "display_data",
          "data": {
            "text/plain": [
              "<IPython.core.display.HTML object>"
            ],
            "text/html": [
              "Syncing run <strong><a href='https://wandb.ai/simeonbetapudi-belmont-university/Mini%20Hackathon%20Sweep/runs/gxdlvdmp' target=\"_blank\">hopeful-sweep-27</a></strong> to <a href='https://wandb.ai/simeonbetapudi-belmont-university/Mini%20Hackathon%20Sweep' target=\"_blank\">Weights & Biases</a> (<a href='https://wandb.me/developer-guide' target=\"_blank\">docs</a>)<br>Sweep page: <a href='https://wandb.ai/simeonbetapudi-belmont-university/Mini%20Hackathon%20Sweep/sweeps/zh4ejg5g' target=\"_blank\">https://wandb.ai/simeonbetapudi-belmont-university/Mini%20Hackathon%20Sweep/sweeps/zh4ejg5g</a>"
            ]
          },
          "metadata": {}
        },
        {
          "output_type": "display_data",
          "data": {
            "text/plain": [
              "<IPython.core.display.HTML object>"
            ],
            "text/html": [
              " View project at <a href='https://wandb.ai/simeonbetapudi-belmont-university/Mini%20Hackathon%20Sweep' target=\"_blank\">https://wandb.ai/simeonbetapudi-belmont-university/Mini%20Hackathon%20Sweep</a>"
            ]
          },
          "metadata": {}
        },
        {
          "output_type": "display_data",
          "data": {
            "text/plain": [
              "<IPython.core.display.HTML object>"
            ],
            "text/html": [
              " View sweep at <a href='https://wandb.ai/simeonbetapudi-belmont-university/Mini%20Hackathon%20Sweep/sweeps/zh4ejg5g' target=\"_blank\">https://wandb.ai/simeonbetapudi-belmont-university/Mini%20Hackathon%20Sweep/sweeps/zh4ejg5g</a>"
            ]
          },
          "metadata": {}
        },
        {
          "output_type": "display_data",
          "data": {
            "text/plain": [
              "<IPython.core.display.HTML object>"
            ],
            "text/html": [
              " View run at <a href='https://wandb.ai/simeonbetapudi-belmont-university/Mini%20Hackathon%20Sweep/runs/gxdlvdmp' target=\"_blank\">https://wandb.ai/simeonbetapudi-belmont-university/Mini%20Hackathon%20Sweep/runs/gxdlvdmp</a>"
            ]
          },
          "metadata": {}
        },
        {
          "output_type": "stream",
          "name": "stderr",
          "text": [
            "Epoch 1/5: 100%|██████████| 49/49 [00:11<00:00,  4.24it/s, Loss=1.6352, Acc=33.15%]\n"
          ]
        },
        {
          "output_type": "stream",
          "name": "stdout",
          "text": [
            "Epoch 1: Train Loss: 1.8529, Train Acc: 33.15%, Test Acc: 44.14%\n"
          ]
        },
        {
          "output_type": "stream",
          "name": "stderr",
          "text": [
            "Epoch 2/5: 100%|██████████| 49/49 [00:11<00:00,  4.26it/s, Loss=1.4081, Acc=45.56%]\n"
          ]
        },
        {
          "output_type": "stream",
          "name": "stdout",
          "text": [
            "Epoch 2: Train Loss: 1.5195, Train Acc: 45.56%, Test Acc: 50.14%\n"
          ]
        },
        {
          "output_type": "stream",
          "name": "stderr",
          "text": [
            "Epoch 3/5: 100%|██████████| 49/49 [00:11<00:00,  4.26it/s, Loss=1.3201, Acc=49.79%]\n"
          ]
        },
        {
          "output_type": "stream",
          "name": "stdout",
          "text": [
            "Epoch 3: Train Loss: 1.3936, Train Acc: 49.79%, Test Acc: 53.55%\n"
          ]
        },
        {
          "output_type": "stream",
          "name": "stderr",
          "text": [
            "Epoch 4/5: 100%|██████████| 49/49 [00:11<00:00,  4.28it/s, Loss=1.3244, Acc=53.05%]\n"
          ]
        },
        {
          "output_type": "stream",
          "name": "stdout",
          "text": [
            "Epoch 4: Train Loss: 1.3105, Train Acc: 53.05%, Test Acc: 56.48%\n"
          ]
        },
        {
          "output_type": "stream",
          "name": "stderr",
          "text": [
            "Epoch 5/5: 100%|██████████| 49/49 [00:11<00:00,  4.28it/s, Loss=1.2316, Acc=55.31%]\n"
          ]
        },
        {
          "output_type": "stream",
          "name": "stdout",
          "text": [
            "Epoch 5: Train Loss: 1.2494, Train Acc: 55.31%, Test Acc: 57.73%\n"
          ]
        },
        {
          "output_type": "display_data",
          "data": {
            "text/plain": [
              "<IPython.core.display.HTML object>"
            ],
            "text/html": []
          },
          "metadata": {}
        },
        {
          "output_type": "display_data",
          "data": {
            "text/plain": [
              "<IPython.core.display.HTML object>"
            ],
            "text/html": [
              "<br>    <style><br>        .wandb-row {<br>            display: flex;<br>            flex-direction: row;<br>            flex-wrap: wrap;<br>            justify-content: flex-start;<br>            width: 100%;<br>        }<br>        .wandb-col {<br>            display: flex;<br>            flex-direction: column;<br>            flex-basis: 100%;<br>            flex: 1;<br>            padding: 10px;<br>        }<br>    </style><br><div class=\"wandb-row\"><div class=\"wandb-col\"><h3>Run history:</h3><br/><table class=\"wandb\"><tr><td>epoch</td><td>▁▃▅▆█</td></tr><tr><td>test_accuracy</td><td>▁▄▆▇█</td></tr><tr><td>train_accuracy</td><td>▁▅▆▇█</td></tr><tr><td>train_loss</td><td>█▄▃▂▁</td></tr><tr><td>train_time</td><td>▁</td></tr></table><br/></div><div class=\"wandb-col\"><h3>Run summary:</h3><br/><table class=\"wandb\"><tr><td>epoch</td><td>5</td></tr><tr><td>test_accuracy</td><td>57.73</td></tr><tr><td>train_accuracy</td><td>55.312</td></tr><tr><td>train_loss</td><td>1.24941</td></tr><tr><td>train_time</td><td>68.55869</td></tr></table><br/></div></div>"
            ]
          },
          "metadata": {}
        },
        {
          "output_type": "display_data",
          "data": {
            "text/plain": [
              "<IPython.core.display.HTML object>"
            ],
            "text/html": [
              " View run <strong style=\"color:#cdcd00\">base_64_mult_2_lay_4_kern_3_str_3</strong> at: <a href='https://wandb.ai/simeonbetapudi-belmont-university/Mini%20Hackathon%20Sweep/runs/gxdlvdmp' target=\"_blank\">https://wandb.ai/simeonbetapudi-belmont-university/Mini%20Hackathon%20Sweep/runs/gxdlvdmp</a><br> View project at: <a href='https://wandb.ai/simeonbetapudi-belmont-university/Mini%20Hackathon%20Sweep' target=\"_blank\">https://wandb.ai/simeonbetapudi-belmont-university/Mini%20Hackathon%20Sweep</a><br>Synced 5 W&B file(s), 0 media file(s), 0 artifact file(s) and 0 other file(s)"
            ]
          },
          "metadata": {}
        },
        {
          "output_type": "display_data",
          "data": {
            "text/plain": [
              "<IPython.core.display.HTML object>"
            ],
            "text/html": [
              "Find logs at: <code>./wandb/run-20250910_015417-gxdlvdmp/logs</code>"
            ]
          },
          "metadata": {}
        },
        {
          "output_type": "stream",
          "name": "stderr",
          "text": [
            "\u001b[34m\u001b[1mwandb\u001b[0m: Agent Starting Run: nqz321pb with config:\n",
            "\u001b[34m\u001b[1mwandb\u001b[0m: \tbase_channels: 64\n",
            "\u001b[34m\u001b[1mwandb\u001b[0m: \tchannel_mult: 2\n",
            "\u001b[34m\u001b[1mwandb\u001b[0m: \tkernel_size: 3\n",
            "\u001b[34m\u001b[1mwandb\u001b[0m: \tn_conv_layers: 5\n",
            "\u001b[34m\u001b[1mwandb\u001b[0m: \tstride: 1\n"
          ]
        },
        {
          "output_type": "display_data",
          "data": {
            "text/plain": [
              "<IPython.core.display.HTML object>"
            ],
            "text/html": [
              "Ignoring project 'Mini Hackathon Sweep' when running a sweep."
            ]
          },
          "metadata": {}
        },
        {
          "output_type": "display_data",
          "data": {
            "text/plain": [
              "<IPython.core.display.HTML object>"
            ],
            "text/html": [
              "creating run (0.0s)"
            ]
          },
          "metadata": {}
        },
        {
          "output_type": "display_data",
          "data": {
            "text/plain": [
              "<IPython.core.display.HTML object>"
            ],
            "text/html": [
              "Tracking run with wandb version 0.21.3"
            ]
          },
          "metadata": {}
        },
        {
          "output_type": "display_data",
          "data": {
            "text/plain": [
              "<IPython.core.display.HTML object>"
            ],
            "text/html": [
              "Run data is saved locally in <code>/content/wandb/run-20250910_015529-nqz321pb</code>"
            ]
          },
          "metadata": {}
        },
        {
          "output_type": "display_data",
          "data": {
            "text/plain": [
              "<IPython.core.display.HTML object>"
            ],
            "text/html": [
              "Syncing run <strong><a href='https://wandb.ai/simeonbetapudi-belmont-university/Mini%20Hackathon%20Sweep/runs/nqz321pb' target=\"_blank\">floral-sweep-28</a></strong> to <a href='https://wandb.ai/simeonbetapudi-belmont-university/Mini%20Hackathon%20Sweep' target=\"_blank\">Weights & Biases</a> (<a href='https://wandb.me/developer-guide' target=\"_blank\">docs</a>)<br>Sweep page: <a href='https://wandb.ai/simeonbetapudi-belmont-university/Mini%20Hackathon%20Sweep/sweeps/zh4ejg5g' target=\"_blank\">https://wandb.ai/simeonbetapudi-belmont-university/Mini%20Hackathon%20Sweep/sweeps/zh4ejg5g</a>"
            ]
          },
          "metadata": {}
        },
        {
          "output_type": "display_data",
          "data": {
            "text/plain": [
              "<IPython.core.display.HTML object>"
            ],
            "text/html": [
              " View project at <a href='https://wandb.ai/simeonbetapudi-belmont-university/Mini%20Hackathon%20Sweep' target=\"_blank\">https://wandb.ai/simeonbetapudi-belmont-university/Mini%20Hackathon%20Sweep</a>"
            ]
          },
          "metadata": {}
        },
        {
          "output_type": "display_data",
          "data": {
            "text/plain": [
              "<IPython.core.display.HTML object>"
            ],
            "text/html": [
              " View sweep at <a href='https://wandb.ai/simeonbetapudi-belmont-university/Mini%20Hackathon%20Sweep/sweeps/zh4ejg5g' target=\"_blank\">https://wandb.ai/simeonbetapudi-belmont-university/Mini%20Hackathon%20Sweep/sweeps/zh4ejg5g</a>"
            ]
          },
          "metadata": {}
        },
        {
          "output_type": "display_data",
          "data": {
            "text/plain": [
              "<IPython.core.display.HTML object>"
            ],
            "text/html": [
              " View run at <a href='https://wandb.ai/simeonbetapudi-belmont-university/Mini%20Hackathon%20Sweep/runs/nqz321pb' target=\"_blank\">https://wandb.ai/simeonbetapudi-belmont-university/Mini%20Hackathon%20Sweep/runs/nqz321pb</a>"
            ]
          },
          "metadata": {}
        },
        {
          "output_type": "stream",
          "name": "stderr",
          "text": [
            "Epoch 1/5: 100%|██████████| 49/49 [00:31<00:00,  1.58it/s, Loss=1.8832, Acc=20.17%]\n"
          ]
        },
        {
          "output_type": "stream",
          "name": "stdout",
          "text": [
            "Epoch 1: Train Loss: 2.0825, Train Acc: 20.17%, Test Acc: 27.20%\n"
          ]
        },
        {
          "output_type": "stream",
          "name": "stderr",
          "text": [
            "Epoch 2/5: 100%|██████████| 49/49 [00:31<00:00,  1.56it/s, Loss=1.6461, Acc=32.99%]\n"
          ]
        },
        {
          "output_type": "stream",
          "name": "stdout",
          "text": [
            "Epoch 2: Train Loss: 1.7452, Train Acc: 32.99%, Test Acc: 34.90%\n"
          ]
        },
        {
          "output_type": "stream",
          "name": "stderr",
          "text": [
            "Epoch 3/5: 100%|██████████| 49/49 [00:31<00:00,  1.58it/s, Loss=1.5057, Acc=40.50%]\n"
          ]
        },
        {
          "output_type": "stream",
          "name": "stdout",
          "text": [
            "Epoch 3: Train Loss: 1.5876, Train Acc: 40.50%, Test Acc: 44.68%\n"
          ]
        },
        {
          "output_type": "stream",
          "name": "stderr",
          "text": [
            "Epoch 4/5: 100%|██████████| 49/49 [00:31<00:00,  1.57it/s, Loss=1.2964, Acc=48.09%]\n"
          ]
        },
        {
          "output_type": "stream",
          "name": "stdout",
          "text": [
            "Epoch 4: Train Loss: 1.4203, Train Acc: 48.09%, Test Acc: 51.00%\n"
          ]
        },
        {
          "output_type": "stream",
          "name": "stderr",
          "text": [
            "Epoch 5/5: 100%|██████████| 49/49 [00:31<00:00,  1.57it/s, Loss=1.1745, Acc=53.76%]\n"
          ]
        },
        {
          "output_type": "stream",
          "name": "stdout",
          "text": [
            "Epoch 5: Train Loss: 1.2745, Train Acc: 53.76%, Test Acc: 55.89%\n"
          ]
        },
        {
          "output_type": "display_data",
          "data": {
            "text/plain": [
              "<IPython.core.display.HTML object>"
            ],
            "text/html": []
          },
          "metadata": {}
        },
        {
          "output_type": "display_data",
          "data": {
            "text/plain": [
              "<IPython.core.display.HTML object>"
            ],
            "text/html": [
              "<br>    <style><br>        .wandb-row {<br>            display: flex;<br>            flex-direction: row;<br>            flex-wrap: wrap;<br>            justify-content: flex-start;<br>            width: 100%;<br>        }<br>        .wandb-col {<br>            display: flex;<br>            flex-direction: column;<br>            flex-basis: 100%;<br>            flex: 1;<br>            padding: 10px;<br>        }<br>    </style><br><div class=\"wandb-row\"><div class=\"wandb-col\"><h3>Run history:</h3><br/><table class=\"wandb\"><tr><td>epoch</td><td>▁▃▅▆█</td></tr><tr><td>test_accuracy</td><td>▁▃▅▇█</td></tr><tr><td>train_accuracy</td><td>▁▄▅▇█</td></tr><tr><td>train_loss</td><td>█▅▄▂▁</td></tr><tr><td>train_time</td><td>▁</td></tr></table><br/></div><div class=\"wandb-col\"><h3>Run summary:</h3><br/><table class=\"wandb\"><tr><td>epoch</td><td>5</td></tr><tr><td>test_accuracy</td><td>55.89</td></tr><tr><td>train_accuracy</td><td>53.758</td></tr><tr><td>train_loss</td><td>1.27447</td></tr><tr><td>train_time</td><td>173.06349</td></tr></table><br/></div></div>"
            ]
          },
          "metadata": {}
        },
        {
          "output_type": "display_data",
          "data": {
            "text/plain": [
              "<IPython.core.display.HTML object>"
            ],
            "text/html": [
              " View run <strong style=\"color:#cdcd00\">base_64_mult_2_lay_5_kern_3_str_1</strong> at: <a href='https://wandb.ai/simeonbetapudi-belmont-university/Mini%20Hackathon%20Sweep/runs/nqz321pb' target=\"_blank\">https://wandb.ai/simeonbetapudi-belmont-university/Mini%20Hackathon%20Sweep/runs/nqz321pb</a><br> View project at: <a href='https://wandb.ai/simeonbetapudi-belmont-university/Mini%20Hackathon%20Sweep' target=\"_blank\">https://wandb.ai/simeonbetapudi-belmont-university/Mini%20Hackathon%20Sweep</a><br>Synced 5 W&B file(s), 0 media file(s), 0 artifact file(s) and 0 other file(s)"
            ]
          },
          "metadata": {}
        },
        {
          "output_type": "display_data",
          "data": {
            "text/plain": [
              "<IPython.core.display.HTML object>"
            ],
            "text/html": [
              "Find logs at: <code>./wandb/run-20250910_015529-nqz321pb/logs</code>"
            ]
          },
          "metadata": {}
        },
        {
          "output_type": "stream",
          "name": "stderr",
          "text": [
            "\u001b[34m\u001b[1mwandb\u001b[0m: Agent Starting Run: me35j2qo with config:\n",
            "\u001b[34m\u001b[1mwandb\u001b[0m: \tbase_channels: 64\n",
            "\u001b[34m\u001b[1mwandb\u001b[0m: \tchannel_mult: 2\n",
            "\u001b[34m\u001b[1mwandb\u001b[0m: \tkernel_size: 3\n",
            "\u001b[34m\u001b[1mwandb\u001b[0m: \tn_conv_layers: 5\n",
            "\u001b[34m\u001b[1mwandb\u001b[0m: \tstride: 2\n"
          ]
        },
        {
          "output_type": "display_data",
          "data": {
            "text/plain": [
              "<IPython.core.display.HTML object>"
            ],
            "text/html": [
              "Ignoring project 'Mini Hackathon Sweep' when running a sweep."
            ]
          },
          "metadata": {}
        },
        {
          "output_type": "display_data",
          "data": {
            "text/plain": [
              "<IPython.core.display.HTML object>"
            ],
            "text/html": [
              "creating run (0.0s)"
            ]
          },
          "metadata": {}
        },
        {
          "output_type": "display_data",
          "data": {
            "text/plain": [
              "<IPython.core.display.HTML object>"
            ],
            "text/html": [
              "Tracking run with wandb version 0.21.3"
            ]
          },
          "metadata": {}
        },
        {
          "output_type": "display_data",
          "data": {
            "text/plain": [
              "<IPython.core.display.HTML object>"
            ],
            "text/html": [
              "Run data is saved locally in <code>/content/wandb/run-20250910_015829-me35j2qo</code>"
            ]
          },
          "metadata": {}
        },
        {
          "output_type": "display_data",
          "data": {
            "text/plain": [
              "<IPython.core.display.HTML object>"
            ],
            "text/html": [
              "Syncing run <strong><a href='https://wandb.ai/simeonbetapudi-belmont-university/Mini%20Hackathon%20Sweep/runs/me35j2qo' target=\"_blank\">young-sweep-29</a></strong> to <a href='https://wandb.ai/simeonbetapudi-belmont-university/Mini%20Hackathon%20Sweep' target=\"_blank\">Weights & Biases</a> (<a href='https://wandb.me/developer-guide' target=\"_blank\">docs</a>)<br>Sweep page: <a href='https://wandb.ai/simeonbetapudi-belmont-university/Mini%20Hackathon%20Sweep/sweeps/zh4ejg5g' target=\"_blank\">https://wandb.ai/simeonbetapudi-belmont-university/Mini%20Hackathon%20Sweep/sweeps/zh4ejg5g</a>"
            ]
          },
          "metadata": {}
        },
        {
          "output_type": "display_data",
          "data": {
            "text/plain": [
              "<IPython.core.display.HTML object>"
            ],
            "text/html": [
              " View project at <a href='https://wandb.ai/simeonbetapudi-belmont-university/Mini%20Hackathon%20Sweep' target=\"_blank\">https://wandb.ai/simeonbetapudi-belmont-university/Mini%20Hackathon%20Sweep</a>"
            ]
          },
          "metadata": {}
        },
        {
          "output_type": "display_data",
          "data": {
            "text/plain": [
              "<IPython.core.display.HTML object>"
            ],
            "text/html": [
              " View sweep at <a href='https://wandb.ai/simeonbetapudi-belmont-university/Mini%20Hackathon%20Sweep/sweeps/zh4ejg5g' target=\"_blank\">https://wandb.ai/simeonbetapudi-belmont-university/Mini%20Hackathon%20Sweep/sweeps/zh4ejg5g</a>"
            ]
          },
          "metadata": {}
        },
        {
          "output_type": "display_data",
          "data": {
            "text/plain": [
              "<IPython.core.display.HTML object>"
            ],
            "text/html": [
              " View run at <a href='https://wandb.ai/simeonbetapudi-belmont-university/Mini%20Hackathon%20Sweep/runs/me35j2qo' target=\"_blank\">https://wandb.ai/simeonbetapudi-belmont-university/Mini%20Hackathon%20Sweep/runs/me35j2qo</a>"
            ]
          },
          "metadata": {}
        },
        {
          "output_type": "stream",
          "name": "stderr",
          "text": [
            "Epoch 1/5: 100%|██████████| 49/49 [00:11<00:00,  4.18it/s, Loss=1.5798, Acc=31.90%]\n"
          ]
        },
        {
          "output_type": "stream",
          "name": "stdout",
          "text": [
            "Epoch 1: Train Loss: 1.8550, Train Acc: 31.90%, Test Acc: 45.99%\n"
          ]
        },
        {
          "output_type": "stream",
          "name": "stderr",
          "text": [
            "Epoch 2/5: 100%|██████████| 49/49 [00:12<00:00,  4.08it/s, Loss=1.2654, Acc=48.21%]\n"
          ]
        },
        {
          "output_type": "stream",
          "name": "stdout",
          "text": [
            "Epoch 2: Train Loss: 1.4234, Train Acc: 48.21%, Test Acc: 54.66%\n"
          ]
        },
        {
          "output_type": "stream",
          "name": "stderr",
          "text": [
            "Epoch 3/5: 100%|██████████| 49/49 [00:11<00:00,  4.20it/s, Loss=1.1756, Acc=55.32%]\n"
          ]
        },
        {
          "output_type": "stream",
          "name": "stdout",
          "text": [
            "Epoch 3: Train Loss: 1.2404, Train Acc: 55.32%, Test Acc: 59.78%\n"
          ]
        },
        {
          "output_type": "stream",
          "name": "stderr",
          "text": [
            "Epoch 4/5: 100%|██████████| 49/49 [00:11<00:00,  4.21it/s, Loss=1.1295, Acc=60.21%]\n"
          ]
        },
        {
          "output_type": "stream",
          "name": "stdout",
          "text": [
            "Epoch 4: Train Loss: 1.1099, Train Acc: 60.21%, Test Acc: 61.31%\n"
          ]
        },
        {
          "output_type": "stream",
          "name": "stderr",
          "text": [
            "Epoch 5/5: 100%|██████████| 49/49 [00:11<00:00,  4.22it/s, Loss=1.0243, Acc=63.21%]\n"
          ]
        },
        {
          "output_type": "stream",
          "name": "stdout",
          "text": [
            "Epoch 5: Train Loss: 1.0228, Train Acc: 63.21%, Test Acc: 64.11%\n"
          ]
        },
        {
          "output_type": "display_data",
          "data": {
            "text/plain": [
              "<IPython.core.display.HTML object>"
            ],
            "text/html": []
          },
          "metadata": {}
        },
        {
          "output_type": "display_data",
          "data": {
            "text/plain": [
              "<IPython.core.display.HTML object>"
            ],
            "text/html": [
              "<br>    <style><br>        .wandb-row {<br>            display: flex;<br>            flex-direction: row;<br>            flex-wrap: wrap;<br>            justify-content: flex-start;<br>            width: 100%;<br>        }<br>        .wandb-col {<br>            display: flex;<br>            flex-direction: column;<br>            flex-basis: 100%;<br>            flex: 1;<br>            padding: 10px;<br>        }<br>    </style><br><div class=\"wandb-row\"><div class=\"wandb-col\"><h3>Run history:</h3><br/><table class=\"wandb\"><tr><td>epoch</td><td>▁▃▅▆█</td></tr><tr><td>test_accuracy</td><td>▁▄▆▇█</td></tr><tr><td>train_accuracy</td><td>▁▅▆▇█</td></tr><tr><td>train_loss</td><td>█▄▃▂▁</td></tr><tr><td>train_time</td><td>▁</td></tr></table><br/></div><div class=\"wandb-col\"><h3>Run summary:</h3><br/><table class=\"wandb\"><tr><td>epoch</td><td>5</td></tr><tr><td>test_accuracy</td><td>64.11</td></tr><tr><td>train_accuracy</td><td>63.212</td></tr><tr><td>train_loss</td><td>1.02282</td></tr><tr><td>train_time</td><td>69.85401</td></tr></table><br/></div></div>"
            ]
          },
          "metadata": {}
        },
        {
          "output_type": "display_data",
          "data": {
            "text/plain": [
              "<IPython.core.display.HTML object>"
            ],
            "text/html": [
              " View run <strong style=\"color:#cdcd00\">base_64_mult_2_lay_5_kern_3_str_2</strong> at: <a href='https://wandb.ai/simeonbetapudi-belmont-university/Mini%20Hackathon%20Sweep/runs/me35j2qo' target=\"_blank\">https://wandb.ai/simeonbetapudi-belmont-university/Mini%20Hackathon%20Sweep/runs/me35j2qo</a><br> View project at: <a href='https://wandb.ai/simeonbetapudi-belmont-university/Mini%20Hackathon%20Sweep' target=\"_blank\">https://wandb.ai/simeonbetapudi-belmont-university/Mini%20Hackathon%20Sweep</a><br>Synced 5 W&B file(s), 0 media file(s), 0 artifact file(s) and 0 other file(s)"
            ]
          },
          "metadata": {}
        },
        {
          "output_type": "display_data",
          "data": {
            "text/plain": [
              "<IPython.core.display.HTML object>"
            ],
            "text/html": [
              "Find logs at: <code>./wandb/run-20250910_015829-me35j2qo/logs</code>"
            ]
          },
          "metadata": {}
        },
        {
          "output_type": "stream",
          "name": "stderr",
          "text": [
            "\u001b[34m\u001b[1mwandb\u001b[0m: Agent Starting Run: fuqmme0f with config:\n",
            "\u001b[34m\u001b[1mwandb\u001b[0m: \tbase_channels: 64\n",
            "\u001b[34m\u001b[1mwandb\u001b[0m: \tchannel_mult: 2\n",
            "\u001b[34m\u001b[1mwandb\u001b[0m: \tkernel_size: 3\n",
            "\u001b[34m\u001b[1mwandb\u001b[0m: \tn_conv_layers: 5\n",
            "\u001b[34m\u001b[1mwandb\u001b[0m: \tstride: 3\n"
          ]
        },
        {
          "output_type": "display_data",
          "data": {
            "text/plain": [
              "<IPython.core.display.HTML object>"
            ],
            "text/html": [
              "Ignoring project 'Mini Hackathon Sweep' when running a sweep."
            ]
          },
          "metadata": {}
        },
        {
          "output_type": "display_data",
          "data": {
            "text/plain": [
              "<IPython.core.display.HTML object>"
            ],
            "text/html": [
              "Waiting for wandb.init()..."
            ]
          },
          "metadata": {}
        },
        {
          "output_type": "display_data",
          "data": {
            "text/plain": [
              "<IPython.core.display.HTML object>"
            ],
            "text/html": [
              "Tracking run with wandb version 0.21.3"
            ]
          },
          "metadata": {}
        },
        {
          "output_type": "display_data",
          "data": {
            "text/plain": [
              "<IPython.core.display.HTML object>"
            ],
            "text/html": [
              "Run data is saved locally in <code>/content/wandb/run-20250910_015947-fuqmme0f</code>"
            ]
          },
          "metadata": {}
        },
        {
          "output_type": "display_data",
          "data": {
            "text/plain": [
              "<IPython.core.display.HTML object>"
            ],
            "text/html": [
              "Syncing run <strong><a href='https://wandb.ai/simeonbetapudi-belmont-university/Mini%20Hackathon%20Sweep/runs/fuqmme0f' target=\"_blank\">youthful-sweep-30</a></strong> to <a href='https://wandb.ai/simeonbetapudi-belmont-university/Mini%20Hackathon%20Sweep' target=\"_blank\">Weights & Biases</a> (<a href='https://wandb.me/developer-guide' target=\"_blank\">docs</a>)<br>Sweep page: <a href='https://wandb.ai/simeonbetapudi-belmont-university/Mini%20Hackathon%20Sweep/sweeps/zh4ejg5g' target=\"_blank\">https://wandb.ai/simeonbetapudi-belmont-university/Mini%20Hackathon%20Sweep/sweeps/zh4ejg5g</a>"
            ]
          },
          "metadata": {}
        },
        {
          "output_type": "display_data",
          "data": {
            "text/plain": [
              "<IPython.core.display.HTML object>"
            ],
            "text/html": [
              " View project at <a href='https://wandb.ai/simeonbetapudi-belmont-university/Mini%20Hackathon%20Sweep' target=\"_blank\">https://wandb.ai/simeonbetapudi-belmont-university/Mini%20Hackathon%20Sweep</a>"
            ]
          },
          "metadata": {}
        },
        {
          "output_type": "display_data",
          "data": {
            "text/plain": [
              "<IPython.core.display.HTML object>"
            ],
            "text/html": [
              " View sweep at <a href='https://wandb.ai/simeonbetapudi-belmont-university/Mini%20Hackathon%20Sweep/sweeps/zh4ejg5g' target=\"_blank\">https://wandb.ai/simeonbetapudi-belmont-university/Mini%20Hackathon%20Sweep/sweeps/zh4ejg5g</a>"
            ]
          },
          "metadata": {}
        },
        {
          "output_type": "display_data",
          "data": {
            "text/plain": [
              "<IPython.core.display.HTML object>"
            ],
            "text/html": [
              " View run at <a href='https://wandb.ai/simeonbetapudi-belmont-university/Mini%20Hackathon%20Sweep/runs/fuqmme0f' target=\"_blank\">https://wandb.ai/simeonbetapudi-belmont-university/Mini%20Hackathon%20Sweep/runs/fuqmme0f</a>"
            ]
          },
          "metadata": {}
        },
        {
          "output_type": "stream",
          "name": "stderr",
          "text": [
            "Epoch 1/5: 100%|██████████| 49/49 [00:11<00:00,  4.15it/s, Loss=1.6589, Acc=29.67%]\n"
          ]
        },
        {
          "output_type": "stream",
          "name": "stdout",
          "text": [
            "Epoch 1: Train Loss: 1.9127, Train Acc: 29.67%, Test Acc: 41.08%\n"
          ]
        },
        {
          "output_type": "stream",
          "name": "stderr",
          "text": [
            "Epoch 2/5: 100%|██████████| 49/49 [00:11<00:00,  4.23it/s, Loss=1.4720, Acc=43.58%]\n"
          ]
        },
        {
          "output_type": "stream",
          "name": "stdout",
          "text": [
            "Epoch 2: Train Loss: 1.5589, Train Acc: 43.58%, Test Acc: 49.27%\n"
          ]
        },
        {
          "output_type": "stream",
          "name": "stderr",
          "text": [
            "Epoch 3/5: 100%|██████████| 49/49 [00:11<00:00,  4.25it/s, Loss=1.3678, Acc=49.12%]\n"
          ]
        },
        {
          "output_type": "stream",
          "name": "stdout",
          "text": [
            "Epoch 3: Train Loss: 1.3991, Train Acc: 49.12%, Test Acc: 54.01%\n"
          ]
        },
        {
          "output_type": "stream",
          "name": "stderr",
          "text": [
            "Epoch 4/5: 100%|██████████| 49/49 [00:11<00:00,  4.22it/s, Loss=1.2770, Acc=52.88%]\n"
          ]
        },
        {
          "output_type": "stream",
          "name": "stdout",
          "text": [
            "Epoch 4: Train Loss: 1.2973, Train Acc: 52.88%, Test Acc: 56.40%\n"
          ]
        },
        {
          "output_type": "stream",
          "name": "stderr",
          "text": [
            "Epoch 5/5: 100%|██████████| 49/49 [00:11<00:00,  4.25it/s, Loss=1.1589, Acc=55.58%]\n"
          ]
        },
        {
          "output_type": "stream",
          "name": "stdout",
          "text": [
            "Epoch 5: Train Loss: 1.2272, Train Acc: 55.58%, Test Acc: 57.87%\n"
          ]
        },
        {
          "output_type": "display_data",
          "data": {
            "text/plain": [
              "<IPython.core.display.HTML object>"
            ],
            "text/html": []
          },
          "metadata": {}
        },
        {
          "output_type": "display_data",
          "data": {
            "text/plain": [
              "<IPython.core.display.HTML object>"
            ],
            "text/html": [
              "<br>    <style><br>        .wandb-row {<br>            display: flex;<br>            flex-direction: row;<br>            flex-wrap: wrap;<br>            justify-content: flex-start;<br>            width: 100%;<br>        }<br>        .wandb-col {<br>            display: flex;<br>            flex-direction: column;<br>            flex-basis: 100%;<br>            flex: 1;<br>            padding: 10px;<br>        }<br>    </style><br><div class=\"wandb-row\"><div class=\"wandb-col\"><h3>Run history:</h3><br/><table class=\"wandb\"><tr><td>epoch</td><td>▁▃▅▆█</td></tr><tr><td>test_accuracy</td><td>▁▄▆▇█</td></tr><tr><td>train_accuracy</td><td>▁▅▆▇█</td></tr><tr><td>train_loss</td><td>█▄▃▂▁</td></tr><tr><td>train_time</td><td>▁</td></tr></table><br/></div><div class=\"wandb-col\"><h3>Run summary:</h3><br/><table class=\"wandb\"><tr><td>epoch</td><td>5</td></tr><tr><td>test_accuracy</td><td>57.87</td></tr><tr><td>train_accuracy</td><td>55.58</td></tr><tr><td>train_loss</td><td>1.22718</td></tr><tr><td>train_time</td><td>69.32626</td></tr></table><br/></div></div>"
            ]
          },
          "metadata": {}
        },
        {
          "output_type": "display_data",
          "data": {
            "text/plain": [
              "<IPython.core.display.HTML object>"
            ],
            "text/html": [
              " View run <strong style=\"color:#cdcd00\">base_64_mult_2_lay_5_kern_3_str_3</strong> at: <a href='https://wandb.ai/simeonbetapudi-belmont-university/Mini%20Hackathon%20Sweep/runs/fuqmme0f' target=\"_blank\">https://wandb.ai/simeonbetapudi-belmont-university/Mini%20Hackathon%20Sweep/runs/fuqmme0f</a><br> View project at: <a href='https://wandb.ai/simeonbetapudi-belmont-university/Mini%20Hackathon%20Sweep' target=\"_blank\">https://wandb.ai/simeonbetapudi-belmont-university/Mini%20Hackathon%20Sweep</a><br>Synced 5 W&B file(s), 0 media file(s), 0 artifact file(s) and 0 other file(s)"
            ]
          },
          "metadata": {}
        },
        {
          "output_type": "display_data",
          "data": {
            "text/plain": [
              "<IPython.core.display.HTML object>"
            ],
            "text/html": [
              "Find logs at: <code>./wandb/run-20250910_015947-fuqmme0f/logs</code>"
            ]
          },
          "metadata": {}
        },
        {
          "output_type": "stream",
          "name": "stderr",
          "text": [
            "\u001b[34m\u001b[1mwandb\u001b[0m: Sweep Agent: Waiting for job.\n",
            "\u001b[34m\u001b[1mwandb\u001b[0m: Job received.\n",
            "\u001b[34m\u001b[1mwandb\u001b[0m: Agent Starting Run: mzx0eo8x with config:\n",
            "\u001b[34m\u001b[1mwandb\u001b[0m: \tbase_channels: 64\n",
            "\u001b[34m\u001b[1mwandb\u001b[0m: \tchannel_mult: 2\n",
            "\u001b[34m\u001b[1mwandb\u001b[0m: \tkernel_size: 5\n",
            "\u001b[34m\u001b[1mwandb\u001b[0m: \tn_conv_layers: 4\n",
            "\u001b[34m\u001b[1mwandb\u001b[0m: \tstride: 1\n"
          ]
        },
        {
          "output_type": "display_data",
          "data": {
            "text/plain": [
              "<IPython.core.display.HTML object>"
            ],
            "text/html": [
              "Ignoring project 'Mini Hackathon Sweep' when running a sweep."
            ]
          },
          "metadata": {}
        },
        {
          "output_type": "display_data",
          "data": {
            "text/plain": [
              "<IPython.core.display.HTML object>"
            ],
            "text/html": [
              "Waiting for wandb.init()..."
            ]
          },
          "metadata": {}
        },
        {
          "output_type": "display_data",
          "data": {
            "text/plain": [
              "<IPython.core.display.HTML object>"
            ],
            "text/html": [
              "Tracking run with wandb version 0.21.3"
            ]
          },
          "metadata": {}
        },
        {
          "output_type": "display_data",
          "data": {
            "text/plain": [
              "<IPython.core.display.HTML object>"
            ],
            "text/html": [
              "Run data is saved locally in <code>/content/wandb/run-20250910_020109-mzx0eo8x</code>"
            ]
          },
          "metadata": {}
        },
        {
          "output_type": "display_data",
          "data": {
            "text/plain": [
              "<IPython.core.display.HTML object>"
            ],
            "text/html": [
              "Syncing run <strong><a href='https://wandb.ai/simeonbetapudi-belmont-university/Mini%20Hackathon%20Sweep/runs/mzx0eo8x' target=\"_blank\">apricot-sweep-31</a></strong> to <a href='https://wandb.ai/simeonbetapudi-belmont-university/Mini%20Hackathon%20Sweep' target=\"_blank\">Weights & Biases</a> (<a href='https://wandb.me/developer-guide' target=\"_blank\">docs</a>)<br>Sweep page: <a href='https://wandb.ai/simeonbetapudi-belmont-university/Mini%20Hackathon%20Sweep/sweeps/zh4ejg5g' target=\"_blank\">https://wandb.ai/simeonbetapudi-belmont-university/Mini%20Hackathon%20Sweep/sweeps/zh4ejg5g</a>"
            ]
          },
          "metadata": {}
        },
        {
          "output_type": "display_data",
          "data": {
            "text/plain": [
              "<IPython.core.display.HTML object>"
            ],
            "text/html": [
              " View project at <a href='https://wandb.ai/simeonbetapudi-belmont-university/Mini%20Hackathon%20Sweep' target=\"_blank\">https://wandb.ai/simeonbetapudi-belmont-university/Mini%20Hackathon%20Sweep</a>"
            ]
          },
          "metadata": {}
        },
        {
          "output_type": "display_data",
          "data": {
            "text/plain": [
              "<IPython.core.display.HTML object>"
            ],
            "text/html": [
              " View sweep at <a href='https://wandb.ai/simeonbetapudi-belmont-university/Mini%20Hackathon%20Sweep/sweeps/zh4ejg5g' target=\"_blank\">https://wandb.ai/simeonbetapudi-belmont-university/Mini%20Hackathon%20Sweep/sweeps/zh4ejg5g</a>"
            ]
          },
          "metadata": {}
        },
        {
          "output_type": "display_data",
          "data": {
            "text/plain": [
              "<IPython.core.display.HTML object>"
            ],
            "text/html": [
              " View run at <a href='https://wandb.ai/simeonbetapudi-belmont-university/Mini%20Hackathon%20Sweep/runs/mzx0eo8x' target=\"_blank\">https://wandb.ai/simeonbetapudi-belmont-university/Mini%20Hackathon%20Sweep/runs/mzx0eo8x</a>"
            ]
          },
          "metadata": {}
        },
        {
          "output_type": "stream",
          "name": "stderr",
          "text": [
            "Epoch 1/5: 100%|██████████| 49/49 [00:19<00:00,  2.49it/s, Loss=1.7372, Acc=23.42%]\n"
          ]
        },
        {
          "output_type": "stream",
          "name": "stdout",
          "text": [
            "Epoch 1: Train Loss: 2.0395, Train Acc: 23.42%, Test Acc: 32.31%\n"
          ]
        },
        {
          "output_type": "stream",
          "name": "stderr",
          "text": [
            "Epoch 2/5: 100%|██████████| 49/49 [00:19<00:00,  2.53it/s, Loss=1.6784, Acc=36.83%]\n"
          ]
        },
        {
          "output_type": "stream",
          "name": "stdout",
          "text": [
            "Epoch 2: Train Loss: 1.6666, Train Acc: 36.83%, Test Acc: 39.57%\n"
          ]
        },
        {
          "output_type": "stream",
          "name": "stderr",
          "text": [
            "Epoch 3/5: 100%|██████████| 49/49 [00:19<00:00,  2.53it/s, Loss=1.5690, Acc=43.64%]\n"
          ]
        },
        {
          "output_type": "stream",
          "name": "stdout",
          "text": [
            "Epoch 3: Train Loss: 1.5362, Train Acc: 43.64%, Test Acc: 46.29%\n"
          ]
        },
        {
          "output_type": "stream",
          "name": "stderr",
          "text": [
            "Epoch 4/5: 100%|██████████| 49/49 [00:19<00:00,  2.53it/s, Loss=1.3689, Acc=47.78%]\n"
          ]
        },
        {
          "output_type": "stream",
          "name": "stdout",
          "text": [
            "Epoch 4: Train Loss: 1.4415, Train Acc: 47.78%, Test Acc: 48.33%\n"
          ]
        },
        {
          "output_type": "stream",
          "name": "stderr",
          "text": [
            "Epoch 5/5: 100%|██████████| 49/49 [00:19<00:00,  2.53it/s, Loss=1.4392, Acc=51.45%]\n"
          ]
        },
        {
          "output_type": "stream",
          "name": "stdout",
          "text": [
            "Epoch 5: Train Loss: 1.3567, Train Acc: 51.45%, Test Acc: 53.37%\n"
          ]
        },
        {
          "output_type": "display_data",
          "data": {
            "text/plain": [
              "<IPython.core.display.HTML object>"
            ],
            "text/html": []
          },
          "metadata": {}
        },
        {
          "output_type": "display_data",
          "data": {
            "text/plain": [
              "<IPython.core.display.HTML object>"
            ],
            "text/html": [
              "<br>    <style><br>        .wandb-row {<br>            display: flex;<br>            flex-direction: row;<br>            flex-wrap: wrap;<br>            justify-content: flex-start;<br>            width: 100%;<br>        }<br>        .wandb-col {<br>            display: flex;<br>            flex-direction: column;<br>            flex-basis: 100%;<br>            flex: 1;<br>            padding: 10px;<br>        }<br>    </style><br><div class=\"wandb-row\"><div class=\"wandb-col\"><h3>Run history:</h3><br/><table class=\"wandb\"><tr><td>epoch</td><td>▁▃▅▆█</td></tr><tr><td>test_accuracy</td><td>▁▃▆▆█</td></tr><tr><td>train_accuracy</td><td>▁▄▆▇█</td></tr><tr><td>train_loss</td><td>█▄▃▂▁</td></tr><tr><td>train_time</td><td>▁</td></tr></table><br/></div><div class=\"wandb-col\"><h3>Run summary:</h3><br/><table class=\"wandb\"><tr><td>epoch</td><td>5</td></tr><tr><td>test_accuracy</td><td>53.37</td></tr><tr><td>train_accuracy</td><td>51.452</td></tr><tr><td>train_loss</td><td>1.35674</td></tr><tr><td>train_time</td><td>110.67158</td></tr></table><br/></div></div>"
            ]
          },
          "metadata": {}
        },
        {
          "output_type": "display_data",
          "data": {
            "text/plain": [
              "<IPython.core.display.HTML object>"
            ],
            "text/html": [
              " View run <strong style=\"color:#cdcd00\">base_64_mult_2_lay_4_kern_5_str_1</strong> at: <a href='https://wandb.ai/simeonbetapudi-belmont-university/Mini%20Hackathon%20Sweep/runs/mzx0eo8x' target=\"_blank\">https://wandb.ai/simeonbetapudi-belmont-university/Mini%20Hackathon%20Sweep/runs/mzx0eo8x</a><br> View project at: <a href='https://wandb.ai/simeonbetapudi-belmont-university/Mini%20Hackathon%20Sweep' target=\"_blank\">https://wandb.ai/simeonbetapudi-belmont-university/Mini%20Hackathon%20Sweep</a><br>Synced 5 W&B file(s), 0 media file(s), 0 artifact file(s) and 0 other file(s)"
            ]
          },
          "metadata": {}
        },
        {
          "output_type": "display_data",
          "data": {
            "text/plain": [
              "<IPython.core.display.HTML object>"
            ],
            "text/html": [
              "Find logs at: <code>./wandb/run-20250910_020109-mzx0eo8x/logs</code>"
            ]
          },
          "metadata": {}
        },
        {
          "output_type": "stream",
          "name": "stderr",
          "text": [
            "\u001b[34m\u001b[1mwandb\u001b[0m: Agent Starting Run: ca3ctyhq with config:\n",
            "\u001b[34m\u001b[1mwandb\u001b[0m: \tbase_channels: 64\n",
            "\u001b[34m\u001b[1mwandb\u001b[0m: \tchannel_mult: 2\n",
            "\u001b[34m\u001b[1mwandb\u001b[0m: \tkernel_size: 5\n",
            "\u001b[34m\u001b[1mwandb\u001b[0m: \tn_conv_layers: 4\n",
            "\u001b[34m\u001b[1mwandb\u001b[0m: \tstride: 2\n"
          ]
        },
        {
          "output_type": "display_data",
          "data": {
            "text/plain": [
              "<IPython.core.display.HTML object>"
            ],
            "text/html": [
              "Ignoring project 'Mini Hackathon Sweep' when running a sweep."
            ]
          },
          "metadata": {}
        },
        {
          "output_type": "display_data",
          "data": {
            "text/plain": [
              "<IPython.core.display.HTML object>"
            ],
            "text/html": [
              "creating run (0.0s)"
            ]
          },
          "metadata": {}
        },
        {
          "output_type": "display_data",
          "data": {
            "text/plain": [
              "<IPython.core.display.HTML object>"
            ],
            "text/html": [
              "Tracking run with wandb version 0.21.3"
            ]
          },
          "metadata": {}
        },
        {
          "output_type": "display_data",
          "data": {
            "text/plain": [
              "<IPython.core.display.HTML object>"
            ],
            "text/html": [
              "Run data is saved locally in <code>/content/wandb/run-20250910_020303-ca3ctyhq</code>"
            ]
          },
          "metadata": {}
        },
        {
          "output_type": "display_data",
          "data": {
            "text/plain": [
              "<IPython.core.display.HTML object>"
            ],
            "text/html": [
              "Syncing run <strong><a href='https://wandb.ai/simeonbetapudi-belmont-university/Mini%20Hackathon%20Sweep/runs/ca3ctyhq' target=\"_blank\">peachy-sweep-32</a></strong> to <a href='https://wandb.ai/simeonbetapudi-belmont-university/Mini%20Hackathon%20Sweep' target=\"_blank\">Weights & Biases</a> (<a href='https://wandb.me/developer-guide' target=\"_blank\">docs</a>)<br>Sweep page: <a href='https://wandb.ai/simeonbetapudi-belmont-university/Mini%20Hackathon%20Sweep/sweeps/zh4ejg5g' target=\"_blank\">https://wandb.ai/simeonbetapudi-belmont-university/Mini%20Hackathon%20Sweep/sweeps/zh4ejg5g</a>"
            ]
          },
          "metadata": {}
        },
        {
          "output_type": "display_data",
          "data": {
            "text/plain": [
              "<IPython.core.display.HTML object>"
            ],
            "text/html": [
              " View project at <a href='https://wandb.ai/simeonbetapudi-belmont-university/Mini%20Hackathon%20Sweep' target=\"_blank\">https://wandb.ai/simeonbetapudi-belmont-university/Mini%20Hackathon%20Sweep</a>"
            ]
          },
          "metadata": {}
        },
        {
          "output_type": "display_data",
          "data": {
            "text/plain": [
              "<IPython.core.display.HTML object>"
            ],
            "text/html": [
              " View sweep at <a href='https://wandb.ai/simeonbetapudi-belmont-university/Mini%20Hackathon%20Sweep/sweeps/zh4ejg5g' target=\"_blank\">https://wandb.ai/simeonbetapudi-belmont-university/Mini%20Hackathon%20Sweep/sweeps/zh4ejg5g</a>"
            ]
          },
          "metadata": {}
        },
        {
          "output_type": "display_data",
          "data": {
            "text/plain": [
              "<IPython.core.display.HTML object>"
            ],
            "text/html": [
              " View run at <a href='https://wandb.ai/simeonbetapudi-belmont-university/Mini%20Hackathon%20Sweep/runs/ca3ctyhq' target=\"_blank\">https://wandb.ai/simeonbetapudi-belmont-university/Mini%20Hackathon%20Sweep/runs/ca3ctyhq</a>"
            ]
          },
          "metadata": {}
        },
        {
          "output_type": "stream",
          "name": "stderr",
          "text": [
            "Epoch 1/5: 100%|██████████| 49/49 [00:11<00:00,  4.24it/s, Loss=1.4897, Acc=33.97%]\n"
          ]
        },
        {
          "output_type": "stream",
          "name": "stdout",
          "text": [
            "Epoch 1: Train Loss: 1.8057, Train Acc: 33.97%, Test Acc: 45.50%\n"
          ]
        },
        {
          "output_type": "stream",
          "name": "stderr",
          "text": [
            "Epoch 2/5: 100%|██████████| 49/49 [00:11<00:00,  4.23it/s, Loss=1.2509, Acc=50.27%]\n"
          ]
        },
        {
          "output_type": "stream",
          "name": "stdout",
          "text": [
            "Epoch 2: Train Loss: 1.3863, Train Acc: 50.27%, Test Acc: 55.95%\n"
          ]
        },
        {
          "output_type": "stream",
          "name": "stderr",
          "text": [
            "Epoch 3/5: 100%|██████████| 49/49 [00:11<00:00,  4.23it/s, Loss=1.1198, Acc=57.40%]\n"
          ]
        },
        {
          "output_type": "stream",
          "name": "stdout",
          "text": [
            "Epoch 3: Train Loss: 1.1899, Train Acc: 57.40%, Test Acc: 60.97%\n"
          ]
        },
        {
          "output_type": "stream",
          "name": "stderr",
          "text": [
            "Epoch 4/5: 100%|██████████| 49/49 [00:11<00:00,  4.24it/s, Loss=1.0821, Acc=63.17%]\n"
          ]
        },
        {
          "output_type": "stream",
          "name": "stdout",
          "text": [
            "Epoch 4: Train Loss: 1.0426, Train Acc: 63.17%, Test Acc: 64.35%\n"
          ]
        },
        {
          "output_type": "stream",
          "name": "stderr",
          "text": [
            "Epoch 5/5: 100%|██████████| 49/49 [00:11<00:00,  4.17it/s, Loss=0.9241, Acc=67.18%]\n"
          ]
        },
        {
          "output_type": "stream",
          "name": "stdout",
          "text": [
            "Epoch 5: Train Loss: 0.9304, Train Acc: 67.18%, Test Acc: 66.85%\n"
          ]
        },
        {
          "output_type": "display_data",
          "data": {
            "text/plain": [
              "<IPython.core.display.HTML object>"
            ],
            "text/html": []
          },
          "metadata": {}
        },
        {
          "output_type": "display_data",
          "data": {
            "text/plain": [
              "<IPython.core.display.HTML object>"
            ],
            "text/html": [
              "<br>    <style><br>        .wandb-row {<br>            display: flex;<br>            flex-direction: row;<br>            flex-wrap: wrap;<br>            justify-content: flex-start;<br>            width: 100%;<br>        }<br>        .wandb-col {<br>            display: flex;<br>            flex-direction: column;<br>            flex-basis: 100%;<br>            flex: 1;<br>            padding: 10px;<br>        }<br>    </style><br><div class=\"wandb-row\"><div class=\"wandb-col\"><h3>Run history:</h3><br/><table class=\"wandb\"><tr><td>epoch</td><td>▁▃▅▆█</td></tr><tr><td>test_accuracy</td><td>▁▄▆▇█</td></tr><tr><td>train_accuracy</td><td>▁▄▆▇█</td></tr><tr><td>train_loss</td><td>█▅▃▂▁</td></tr><tr><td>train_time</td><td>▁</td></tr></table><br/></div><div class=\"wandb-col\"><h3>Run summary:</h3><br/><table class=\"wandb\"><tr><td>epoch</td><td>5</td></tr><tr><td>test_accuracy</td><td>66.85</td></tr><tr><td>train_accuracy</td><td>67.178</td></tr><tr><td>train_loss</td><td>0.93037</td></tr><tr><td>train_time</td><td>69.07337</td></tr></table><br/></div></div>"
            ]
          },
          "metadata": {}
        },
        {
          "output_type": "display_data",
          "data": {
            "text/plain": [
              "<IPython.core.display.HTML object>"
            ],
            "text/html": [
              " View run <strong style=\"color:#cdcd00\">base_64_mult_2_lay_4_kern_5_str_2</strong> at: <a href='https://wandb.ai/simeonbetapudi-belmont-university/Mini%20Hackathon%20Sweep/runs/ca3ctyhq' target=\"_blank\">https://wandb.ai/simeonbetapudi-belmont-university/Mini%20Hackathon%20Sweep/runs/ca3ctyhq</a><br> View project at: <a href='https://wandb.ai/simeonbetapudi-belmont-university/Mini%20Hackathon%20Sweep' target=\"_blank\">https://wandb.ai/simeonbetapudi-belmont-university/Mini%20Hackathon%20Sweep</a><br>Synced 5 W&B file(s), 0 media file(s), 0 artifact file(s) and 0 other file(s)"
            ]
          },
          "metadata": {}
        },
        {
          "output_type": "display_data",
          "data": {
            "text/plain": [
              "<IPython.core.display.HTML object>"
            ],
            "text/html": [
              "Find logs at: <code>./wandb/run-20250910_020303-ca3ctyhq/logs</code>"
            ]
          },
          "metadata": {}
        },
        {
          "output_type": "stream",
          "name": "stderr",
          "text": [
            "\u001b[34m\u001b[1mwandb\u001b[0m: Sweep Agent: Waiting for job.\n",
            "\u001b[34m\u001b[1mwandb\u001b[0m: Job received.\n",
            "\u001b[34m\u001b[1mwandb\u001b[0m: Agent Starting Run: rfo8sygh with config:\n",
            "\u001b[34m\u001b[1mwandb\u001b[0m: \tbase_channels: 64\n",
            "\u001b[34m\u001b[1mwandb\u001b[0m: \tchannel_mult: 2\n",
            "\u001b[34m\u001b[1mwandb\u001b[0m: \tkernel_size: 5\n",
            "\u001b[34m\u001b[1mwandb\u001b[0m: \tn_conv_layers: 4\n",
            "\u001b[34m\u001b[1mwandb\u001b[0m: \tstride: 3\n"
          ]
        },
        {
          "output_type": "display_data",
          "data": {
            "text/plain": [
              "<IPython.core.display.HTML object>"
            ],
            "text/html": [
              "Ignoring project 'Mini Hackathon Sweep' when running a sweep."
            ]
          },
          "metadata": {}
        },
        {
          "output_type": "display_data",
          "data": {
            "text/plain": [
              "<IPython.core.display.HTML object>"
            ],
            "text/html": [
              "creating run (0.0s)"
            ]
          },
          "metadata": {}
        },
        {
          "output_type": "display_data",
          "data": {
            "text/plain": [
              "<IPython.core.display.HTML object>"
            ],
            "text/html": [
              "Tracking run with wandb version 0.21.3"
            ]
          },
          "metadata": {}
        },
        {
          "output_type": "display_data",
          "data": {
            "text/plain": [
              "<IPython.core.display.HTML object>"
            ],
            "text/html": [
              "Run data is saved locally in <code>/content/wandb/run-20250910_020425-rfo8sygh</code>"
            ]
          },
          "metadata": {}
        },
        {
          "output_type": "display_data",
          "data": {
            "text/plain": [
              "<IPython.core.display.HTML object>"
            ],
            "text/html": [
              "Syncing run <strong><a href='https://wandb.ai/simeonbetapudi-belmont-university/Mini%20Hackathon%20Sweep/runs/rfo8sygh' target=\"_blank\">decent-sweep-33</a></strong> to <a href='https://wandb.ai/simeonbetapudi-belmont-university/Mini%20Hackathon%20Sweep' target=\"_blank\">Weights & Biases</a> (<a href='https://wandb.me/developer-guide' target=\"_blank\">docs</a>)<br>Sweep page: <a href='https://wandb.ai/simeonbetapudi-belmont-university/Mini%20Hackathon%20Sweep/sweeps/zh4ejg5g' target=\"_blank\">https://wandb.ai/simeonbetapudi-belmont-university/Mini%20Hackathon%20Sweep/sweeps/zh4ejg5g</a>"
            ]
          },
          "metadata": {}
        },
        {
          "output_type": "display_data",
          "data": {
            "text/plain": [
              "<IPython.core.display.HTML object>"
            ],
            "text/html": [
              " View project at <a href='https://wandb.ai/simeonbetapudi-belmont-university/Mini%20Hackathon%20Sweep' target=\"_blank\">https://wandb.ai/simeonbetapudi-belmont-university/Mini%20Hackathon%20Sweep</a>"
            ]
          },
          "metadata": {}
        },
        {
          "output_type": "display_data",
          "data": {
            "text/plain": [
              "<IPython.core.display.HTML object>"
            ],
            "text/html": [
              " View sweep at <a href='https://wandb.ai/simeonbetapudi-belmont-university/Mini%20Hackathon%20Sweep/sweeps/zh4ejg5g' target=\"_blank\">https://wandb.ai/simeonbetapudi-belmont-university/Mini%20Hackathon%20Sweep/sweeps/zh4ejg5g</a>"
            ]
          },
          "metadata": {}
        },
        {
          "output_type": "display_data",
          "data": {
            "text/plain": [
              "<IPython.core.display.HTML object>"
            ],
            "text/html": [
              " View run at <a href='https://wandb.ai/simeonbetapudi-belmont-university/Mini%20Hackathon%20Sweep/runs/rfo8sygh' target=\"_blank\">https://wandb.ai/simeonbetapudi-belmont-university/Mini%20Hackathon%20Sweep/runs/rfo8sygh</a>"
            ]
          },
          "metadata": {}
        },
        {
          "output_type": "stream",
          "name": "stderr",
          "text": [
            "Epoch 1/5:   0%|          | 0/49 [00:00<?, ?it/s]\n",
            "Traceback (most recent call last):\n",
            "  File \"/usr/local/lib/python3.12/dist-packages/wandb/agents/pyagent.py\", line 297, in _run_job\n",
            "    self._function()\n",
            "  File \"/tmp/ipython-input-3079156912.py\", line 26, in sweep_train\n",
            "    results = train_model(model,\n",
            "              ^^^^^^^^^^^^^^^^^^\n",
            "  File \"/tmp/ipython-input-1655472275.py\", line 32, in train_model\n",
            "    output = model(data)\n",
            "             ^^^^^^^^^^^\n",
            "  File \"/usr/local/lib/python3.12/dist-packages/torch/nn/modules/module.py\", line 1773, in _wrapped_call_impl\n",
            "    return self._call_impl(*args, **kwargs)\n",
            "           ^^^^^^^^^^^^^^^^^^^^^^^^^^^^^^^^\n",
            "  File \"/usr/local/lib/python3.12/dist-packages/torch/nn/modules/module.py\", line 1784, in _call_impl\n",
            "    return forward_call(*args, **kwargs)\n",
            "           ^^^^^^^^^^^^^^^^^^^^^^^^^^^^^\n",
            "  File \"/tmp/ipython-input-1595289304.py\", line 23, in forward\n",
            "    x = self.activation(conv_layer(x))\n",
            "                        ^^^^^^^^^^^^^\n",
            "  File \"/usr/local/lib/python3.12/dist-packages/torch/nn/modules/module.py\", line 1773, in _wrapped_call_impl\n",
            "    return self._call_impl(*args, **kwargs)\n",
            "           ^^^^^^^^^^^^^^^^^^^^^^^^^^^^^^^^\n",
            "  File \"/usr/local/lib/python3.12/dist-packages/torch/nn/modules/module.py\", line 1784, in _call_impl\n",
            "    return forward_call(*args, **kwargs)\n",
            "           ^^^^^^^^^^^^^^^^^^^^^^^^^^^^^\n",
            "  File \"/usr/local/lib/python3.12/dist-packages/torch/nn/modules/conv.py\", line 548, in forward\n",
            "    return self._conv_forward(input, self.weight, self.bias)\n",
            "           ^^^^^^^^^^^^^^^^^^^^^^^^^^^^^^^^^^^^^^^^^^^^^^^^^\n",
            "  File \"/usr/local/lib/python3.12/dist-packages/torch/nn/modules/conv.py\", line 543, in _conv_forward\n",
            "    return F.conv2d(\n",
            "           ^^^^^^^^^\n",
            "RuntimeError: Calculated padded input size per channel: (3 x 3). Kernel size: (5 x 5). Kernel size can't be greater than actual input size\n",
            "\n"
          ]
        },
        {
          "output_type": "display_data",
          "data": {
            "text/plain": [
              "<IPython.core.display.HTML object>"
            ],
            "text/html": []
          },
          "metadata": {}
        },
        {
          "output_type": "display_data",
          "data": {
            "text/plain": [
              "<IPython.core.display.HTML object>"
            ],
            "text/html": [
              " View run <strong style=\"color:#cdcd00\">base_64_mult_2_lay_4_kern_5_str_3</strong> at: <a href='https://wandb.ai/simeonbetapudi-belmont-university/Mini%20Hackathon%20Sweep/runs/rfo8sygh' target=\"_blank\">https://wandb.ai/simeonbetapudi-belmont-university/Mini%20Hackathon%20Sweep/runs/rfo8sygh</a><br> View project at: <a href='https://wandb.ai/simeonbetapudi-belmont-university/Mini%20Hackathon%20Sweep' target=\"_blank\">https://wandb.ai/simeonbetapudi-belmont-university/Mini%20Hackathon%20Sweep</a><br>Synced 5 W&B file(s), 0 media file(s), 0 artifact file(s) and 0 other file(s)"
            ]
          },
          "metadata": {}
        },
        {
          "output_type": "display_data",
          "data": {
            "text/plain": [
              "<IPython.core.display.HTML object>"
            ],
            "text/html": [
              "Find logs at: <code>./wandb/run-20250910_020425-rfo8sygh/logs</code>"
            ]
          },
          "metadata": {}
        },
        {
          "output_type": "stream",
          "name": "stderr",
          "text": [
            "\u001b[34m\u001b[1mwandb\u001b[0m: \u001b[32m\u001b[41mERROR\u001b[0m Run rfo8sygh errored: Calculated padded input size per channel: (3 x 3). Kernel size: (5 x 5). Kernel size can't be greater than actual input size\n",
            "\u001b[34m\u001b[1mwandb\u001b[0m: Agent Starting Run: udab9aid with config:\n",
            "\u001b[34m\u001b[1mwandb\u001b[0m: \tbase_channels: 64\n",
            "\u001b[34m\u001b[1mwandb\u001b[0m: \tchannel_mult: 2\n",
            "\u001b[34m\u001b[1mwandb\u001b[0m: \tkernel_size: 5\n",
            "\u001b[34m\u001b[1mwandb\u001b[0m: \tn_conv_layers: 5\n",
            "\u001b[34m\u001b[1mwandb\u001b[0m: \tstride: 1\n"
          ]
        },
        {
          "output_type": "display_data",
          "data": {
            "text/plain": [
              "<IPython.core.display.HTML object>"
            ],
            "text/html": [
              "Ignoring project 'Mini Hackathon Sweep' when running a sweep."
            ]
          },
          "metadata": {}
        },
        {
          "output_type": "display_data",
          "data": {
            "text/plain": [
              "<IPython.core.display.HTML object>"
            ],
            "text/html": [
              "creating run (0.0s)"
            ]
          },
          "metadata": {}
        },
        {
          "output_type": "display_data",
          "data": {
            "text/plain": [
              "<IPython.core.display.HTML object>"
            ],
            "text/html": [
              "Tracking run with wandb version 0.21.3"
            ]
          },
          "metadata": {}
        },
        {
          "output_type": "display_data",
          "data": {
            "text/plain": [
              "<IPython.core.display.HTML object>"
            ],
            "text/html": [
              "Run data is saved locally in <code>/content/wandb/run-20250910_020431-udab9aid</code>"
            ]
          },
          "metadata": {}
        },
        {
          "output_type": "display_data",
          "data": {
            "text/plain": [
              "<IPython.core.display.HTML object>"
            ],
            "text/html": [
              "Syncing run <strong><a href='https://wandb.ai/simeonbetapudi-belmont-university/Mini%20Hackathon%20Sweep/runs/udab9aid' target=\"_blank\">fragrant-sweep-34</a></strong> to <a href='https://wandb.ai/simeonbetapudi-belmont-university/Mini%20Hackathon%20Sweep' target=\"_blank\">Weights & Biases</a> (<a href='https://wandb.me/developer-guide' target=\"_blank\">docs</a>)<br>Sweep page: <a href='https://wandb.ai/simeonbetapudi-belmont-university/Mini%20Hackathon%20Sweep/sweeps/zh4ejg5g' target=\"_blank\">https://wandb.ai/simeonbetapudi-belmont-university/Mini%20Hackathon%20Sweep/sweeps/zh4ejg5g</a>"
            ]
          },
          "metadata": {}
        },
        {
          "output_type": "display_data",
          "data": {
            "text/plain": [
              "<IPython.core.display.HTML object>"
            ],
            "text/html": [
              " View project at <a href='https://wandb.ai/simeonbetapudi-belmont-university/Mini%20Hackathon%20Sweep' target=\"_blank\">https://wandb.ai/simeonbetapudi-belmont-university/Mini%20Hackathon%20Sweep</a>"
            ]
          },
          "metadata": {}
        },
        {
          "output_type": "display_data",
          "data": {
            "text/plain": [
              "<IPython.core.display.HTML object>"
            ],
            "text/html": [
              " View sweep at <a href='https://wandb.ai/simeonbetapudi-belmont-university/Mini%20Hackathon%20Sweep/sweeps/zh4ejg5g' target=\"_blank\">https://wandb.ai/simeonbetapudi-belmont-university/Mini%20Hackathon%20Sweep/sweeps/zh4ejg5g</a>"
            ]
          },
          "metadata": {}
        },
        {
          "output_type": "display_data",
          "data": {
            "text/plain": [
              "<IPython.core.display.HTML object>"
            ],
            "text/html": [
              " View run at <a href='https://wandb.ai/simeonbetapudi-belmont-university/Mini%20Hackathon%20Sweep/runs/udab9aid' target=\"_blank\">https://wandb.ai/simeonbetapudi-belmont-university/Mini%20Hackathon%20Sweep/runs/udab9aid</a>"
            ]
          },
          "metadata": {}
        },
        {
          "output_type": "stream",
          "name": "stderr",
          "text": [
            "Epoch 1/5: 100%|██████████| 49/49 [00:36<00:00,  1.34it/s, Loss=1.9865, Acc=20.31%]\n"
          ]
        },
        {
          "output_type": "stream",
          "name": "stdout",
          "text": [
            "Epoch 1: Train Loss: 2.3717, Train Acc: 20.31%, Test Acc: 26.69%\n"
          ]
        },
        {
          "output_type": "stream",
          "name": "stderr",
          "text": [
            "Epoch 2/5: 100%|██████████| 49/49 [00:36<00:00,  1.34it/s, Loss=1.6437, Acc=33.10%]\n"
          ]
        },
        {
          "output_type": "stream",
          "name": "stdout",
          "text": [
            "Epoch 2: Train Loss: 1.7439, Train Acc: 33.10%, Test Acc: 37.40%\n"
          ]
        },
        {
          "output_type": "stream",
          "name": "stderr",
          "text": [
            "Epoch 3/5: 100%|██████████| 49/49 [00:36<00:00,  1.34it/s, Loss=1.5709, Acc=40.64%]\n"
          ]
        },
        {
          "output_type": "stream",
          "name": "stdout",
          "text": [
            "Epoch 3: Train Loss: 1.5953, Train Acc: 40.64%, Test Acc: 40.60%\n"
          ]
        },
        {
          "output_type": "stream",
          "name": "stderr",
          "text": [
            "Epoch 4/5: 100%|██████████| 49/49 [00:36<00:00,  1.34it/s, Loss=1.4820, Acc=44.36%]\n"
          ]
        },
        {
          "output_type": "stream",
          "name": "stdout",
          "text": [
            "Epoch 4: Train Loss: 1.5175, Train Acc: 44.36%, Test Acc: 44.25%\n"
          ]
        },
        {
          "output_type": "stream",
          "name": "stderr",
          "text": [
            "Epoch 5/5: 100%|██████████| 49/49 [00:36<00:00,  1.34it/s, Loss=1.3386, Acc=48.88%]\n"
          ]
        },
        {
          "output_type": "stream",
          "name": "stdout",
          "text": [
            "Epoch 5: Train Loss: 1.4031, Train Acc: 48.88%, Test Acc: 51.03%\n"
          ]
        },
        {
          "output_type": "display_data",
          "data": {
            "text/plain": [
              "<IPython.core.display.HTML object>"
            ],
            "text/html": []
          },
          "metadata": {}
        },
        {
          "output_type": "display_data",
          "data": {
            "text/plain": [
              "<IPython.core.display.HTML object>"
            ],
            "text/html": [
              "<br>    <style><br>        .wandb-row {<br>            display: flex;<br>            flex-direction: row;<br>            flex-wrap: wrap;<br>            justify-content: flex-start;<br>            width: 100%;<br>        }<br>        .wandb-col {<br>            display: flex;<br>            flex-direction: column;<br>            flex-basis: 100%;<br>            flex: 1;<br>            padding: 10px;<br>        }<br>    </style><br><div class=\"wandb-row\"><div class=\"wandb-col\"><h3>Run history:</h3><br/><table class=\"wandb\"><tr><td>epoch</td><td>▁▃▅▆█</td></tr><tr><td>test_accuracy</td><td>▁▄▅▆█</td></tr><tr><td>train_accuracy</td><td>▁▄▆▇█</td></tr><tr><td>train_loss</td><td>█▃▂▂▁</td></tr><tr><td>train_time</td><td>▁</td></tr></table><br/></div><div class=\"wandb-col\"><h3>Run summary:</h3><br/><table class=\"wandb\"><tr><td>epoch</td><td>5</td></tr><tr><td>test_accuracy</td><td>51.03</td></tr><tr><td>train_accuracy</td><td>48.88</td></tr><tr><td>train_loss</td><td>1.40313</td></tr><tr><td>train_time</td><td>201.3299</td></tr></table><br/></div></div>"
            ]
          },
          "metadata": {}
        },
        {
          "output_type": "display_data",
          "data": {
            "text/plain": [
              "<IPython.core.display.HTML object>"
            ],
            "text/html": [
              " View run <strong style=\"color:#cdcd00\">base_64_mult_2_lay_5_kern_5_str_1</strong> at: <a href='https://wandb.ai/simeonbetapudi-belmont-university/Mini%20Hackathon%20Sweep/runs/udab9aid' target=\"_blank\">https://wandb.ai/simeonbetapudi-belmont-university/Mini%20Hackathon%20Sweep/runs/udab9aid</a><br> View project at: <a href='https://wandb.ai/simeonbetapudi-belmont-university/Mini%20Hackathon%20Sweep' target=\"_blank\">https://wandb.ai/simeonbetapudi-belmont-university/Mini%20Hackathon%20Sweep</a><br>Synced 5 W&B file(s), 0 media file(s), 0 artifact file(s) and 0 other file(s)"
            ]
          },
          "metadata": {}
        },
        {
          "output_type": "display_data",
          "data": {
            "text/plain": [
              "<IPython.core.display.HTML object>"
            ],
            "text/html": [
              "Find logs at: <code>./wandb/run-20250910_020431-udab9aid/logs</code>"
            ]
          },
          "metadata": {}
        },
        {
          "output_type": "stream",
          "name": "stderr",
          "text": [
            "\u001b[34m\u001b[1mwandb\u001b[0m: Agent Starting Run: aujpe9c2 with config:\n",
            "\u001b[34m\u001b[1mwandb\u001b[0m: \tbase_channels: 64\n",
            "\u001b[34m\u001b[1mwandb\u001b[0m: \tchannel_mult: 2\n",
            "\u001b[34m\u001b[1mwandb\u001b[0m: \tkernel_size: 5\n",
            "\u001b[34m\u001b[1mwandb\u001b[0m: \tn_conv_layers: 5\n",
            "\u001b[34m\u001b[1mwandb\u001b[0m: \tstride: 2\n"
          ]
        },
        {
          "output_type": "display_data",
          "data": {
            "text/plain": [
              "<IPython.core.display.HTML object>"
            ],
            "text/html": [
              "Ignoring project 'Mini Hackathon Sweep' when running a sweep."
            ]
          },
          "metadata": {}
        },
        {
          "output_type": "display_data",
          "data": {
            "text/plain": [
              "<IPython.core.display.HTML object>"
            ],
            "text/html": [
              "creating run (0.0s)"
            ]
          },
          "metadata": {}
        },
        {
          "output_type": "display_data",
          "data": {
            "text/plain": [
              "<IPython.core.display.HTML object>"
            ],
            "text/html": [
              "Tracking run with wandb version 0.21.3"
            ]
          },
          "metadata": {}
        },
        {
          "output_type": "display_data",
          "data": {
            "text/plain": [
              "<IPython.core.display.HTML object>"
            ],
            "text/html": [
              "Run data is saved locally in <code>/content/wandb/run-20250910_020756-aujpe9c2</code>"
            ]
          },
          "metadata": {}
        },
        {
          "output_type": "display_data",
          "data": {
            "text/plain": [
              "<IPython.core.display.HTML object>"
            ],
            "text/html": [
              "Syncing run <strong><a href='https://wandb.ai/simeonbetapudi-belmont-university/Mini%20Hackathon%20Sweep/runs/aujpe9c2' target=\"_blank\">copper-sweep-35</a></strong> to <a href='https://wandb.ai/simeonbetapudi-belmont-university/Mini%20Hackathon%20Sweep' target=\"_blank\">Weights & Biases</a> (<a href='https://wandb.me/developer-guide' target=\"_blank\">docs</a>)<br>Sweep page: <a href='https://wandb.ai/simeonbetapudi-belmont-university/Mini%20Hackathon%20Sweep/sweeps/zh4ejg5g' target=\"_blank\">https://wandb.ai/simeonbetapudi-belmont-university/Mini%20Hackathon%20Sweep/sweeps/zh4ejg5g</a>"
            ]
          },
          "metadata": {}
        },
        {
          "output_type": "display_data",
          "data": {
            "text/plain": [
              "<IPython.core.display.HTML object>"
            ],
            "text/html": [
              " View project at <a href='https://wandb.ai/simeonbetapudi-belmont-university/Mini%20Hackathon%20Sweep' target=\"_blank\">https://wandb.ai/simeonbetapudi-belmont-university/Mini%20Hackathon%20Sweep</a>"
            ]
          },
          "metadata": {}
        },
        {
          "output_type": "display_data",
          "data": {
            "text/plain": [
              "<IPython.core.display.HTML object>"
            ],
            "text/html": [
              " View sweep at <a href='https://wandb.ai/simeonbetapudi-belmont-university/Mini%20Hackathon%20Sweep/sweeps/zh4ejg5g' target=\"_blank\">https://wandb.ai/simeonbetapudi-belmont-university/Mini%20Hackathon%20Sweep/sweeps/zh4ejg5g</a>"
            ]
          },
          "metadata": {}
        },
        {
          "output_type": "display_data",
          "data": {
            "text/plain": [
              "<IPython.core.display.HTML object>"
            ],
            "text/html": [
              " View run at <a href='https://wandb.ai/simeonbetapudi-belmont-university/Mini%20Hackathon%20Sweep/runs/aujpe9c2' target=\"_blank\">https://wandb.ai/simeonbetapudi-belmont-university/Mini%20Hackathon%20Sweep/runs/aujpe9c2</a>"
            ]
          },
          "metadata": {}
        },
        {
          "output_type": "stream",
          "name": "stderr",
          "text": [
            "Epoch 1/5:   0%|          | 0/49 [00:00<?, ?it/s]\n",
            "Traceback (most recent call last):\n",
            "  File \"/usr/local/lib/python3.12/dist-packages/wandb/agents/pyagent.py\", line 297, in _run_job\n",
            "    self._function()\n",
            "  File \"/tmp/ipython-input-3079156912.py\", line 26, in sweep_train\n",
            "    results = train_model(model,\n",
            "              ^^^^^^^^^^^^^^^^^^\n",
            "  File \"/tmp/ipython-input-1655472275.py\", line 32, in train_model\n",
            "    output = model(data)\n",
            "             ^^^^^^^^^^^\n",
            "  File \"/usr/local/lib/python3.12/dist-packages/torch/nn/modules/module.py\", line 1773, in _wrapped_call_impl\n",
            "    return self._call_impl(*args, **kwargs)\n",
            "           ^^^^^^^^^^^^^^^^^^^^^^^^^^^^^^^^\n",
            "  File \"/usr/local/lib/python3.12/dist-packages/torch/nn/modules/module.py\", line 1784, in _call_impl\n",
            "    return forward_call(*args, **kwargs)\n",
            "           ^^^^^^^^^^^^^^^^^^^^^^^^^^^^^\n",
            "  File \"/tmp/ipython-input-1595289304.py\", line 23, in forward\n",
            "    x = self.activation(conv_layer(x))\n",
            "                        ^^^^^^^^^^^^^\n",
            "  File \"/usr/local/lib/python3.12/dist-packages/torch/nn/modules/module.py\", line 1773, in _wrapped_call_impl\n",
            "    return self._call_impl(*args, **kwargs)\n",
            "           ^^^^^^^^^^^^^^^^^^^^^^^^^^^^^^^^\n",
            "  File \"/usr/local/lib/python3.12/dist-packages/torch/nn/modules/module.py\", line 1784, in _call_impl\n",
            "    return forward_call(*args, **kwargs)\n",
            "           ^^^^^^^^^^^^^^^^^^^^^^^^^^^^^\n",
            "  File \"/usr/local/lib/python3.12/dist-packages/torch/nn/modules/conv.py\", line 548, in forward\n",
            "    return self._conv_forward(input, self.weight, self.bias)\n",
            "           ^^^^^^^^^^^^^^^^^^^^^^^^^^^^^^^^^^^^^^^^^^^^^^^^^\n",
            "  File \"/usr/local/lib/python3.12/dist-packages/torch/nn/modules/conv.py\", line 543, in _conv_forward\n",
            "    return F.conv2d(\n",
            "           ^^^^^^^^^\n",
            "RuntimeError: Calculated padded input size per channel: (3 x 3). Kernel size: (5 x 5). Kernel size can't be greater than actual input size\n",
            "\n"
          ]
        },
        {
          "output_type": "display_data",
          "data": {
            "text/plain": [
              "<IPython.core.display.HTML object>"
            ],
            "text/html": []
          },
          "metadata": {}
        },
        {
          "output_type": "display_data",
          "data": {
            "text/plain": [
              "<IPython.core.display.HTML object>"
            ],
            "text/html": [
              " View run <strong style=\"color:#cdcd00\">base_64_mult_2_lay_5_kern_5_str_2</strong> at: <a href='https://wandb.ai/simeonbetapudi-belmont-university/Mini%20Hackathon%20Sweep/runs/aujpe9c2' target=\"_blank\">https://wandb.ai/simeonbetapudi-belmont-university/Mini%20Hackathon%20Sweep/runs/aujpe9c2</a><br> View project at: <a href='https://wandb.ai/simeonbetapudi-belmont-university/Mini%20Hackathon%20Sweep' target=\"_blank\">https://wandb.ai/simeonbetapudi-belmont-university/Mini%20Hackathon%20Sweep</a><br>Synced 5 W&B file(s), 0 media file(s), 0 artifact file(s) and 0 other file(s)"
            ]
          },
          "metadata": {}
        },
        {
          "output_type": "display_data",
          "data": {
            "text/plain": [
              "<IPython.core.display.HTML object>"
            ],
            "text/html": [
              "Find logs at: <code>./wandb/run-20250910_020756-aujpe9c2/logs</code>"
            ]
          },
          "metadata": {}
        },
        {
          "output_type": "stream",
          "name": "stderr",
          "text": [
            "\u001b[34m\u001b[1mwandb\u001b[0m: \u001b[32m\u001b[41mERROR\u001b[0m Run aujpe9c2 errored: Calculated padded input size per channel: (3 x 3). Kernel size: (5 x 5). Kernel size can't be greater than actual input size\n",
            "\u001b[34m\u001b[1mwandb\u001b[0m: Agent Starting Run: 1n45rvk7 with config:\n",
            "\u001b[34m\u001b[1mwandb\u001b[0m: \tbase_channels: 64\n",
            "\u001b[34m\u001b[1mwandb\u001b[0m: \tchannel_mult: 2\n",
            "\u001b[34m\u001b[1mwandb\u001b[0m: \tkernel_size: 5\n",
            "\u001b[34m\u001b[1mwandb\u001b[0m: \tn_conv_layers: 5\n",
            "\u001b[34m\u001b[1mwandb\u001b[0m: \tstride: 3\n"
          ]
        },
        {
          "output_type": "display_data",
          "data": {
            "text/plain": [
              "<IPython.core.display.HTML object>"
            ],
            "text/html": [
              "Ignoring project 'Mini Hackathon Sweep' when running a sweep."
            ]
          },
          "metadata": {}
        },
        {
          "output_type": "display_data",
          "data": {
            "text/plain": [
              "<IPython.core.display.HTML object>"
            ],
            "text/html": [
              "creating run (0.0s)"
            ]
          },
          "metadata": {}
        },
        {
          "output_type": "display_data",
          "data": {
            "text/plain": [
              "<IPython.core.display.HTML object>"
            ],
            "text/html": [
              "Tracking run with wandb version 0.21.3"
            ]
          },
          "metadata": {}
        },
        {
          "output_type": "display_data",
          "data": {
            "text/plain": [
              "<IPython.core.display.HTML object>"
            ],
            "text/html": [
              "Run data is saved locally in <code>/content/wandb/run-20250910_020802-1n45rvk7</code>"
            ]
          },
          "metadata": {}
        },
        {
          "output_type": "display_data",
          "data": {
            "text/plain": [
              "<IPython.core.display.HTML object>"
            ],
            "text/html": [
              "Syncing run <strong><a href='https://wandb.ai/simeonbetapudi-belmont-university/Mini%20Hackathon%20Sweep/runs/1n45rvk7' target=\"_blank\">proud-sweep-36</a></strong> to <a href='https://wandb.ai/simeonbetapudi-belmont-university/Mini%20Hackathon%20Sweep' target=\"_blank\">Weights & Biases</a> (<a href='https://wandb.me/developer-guide' target=\"_blank\">docs</a>)<br>Sweep page: <a href='https://wandb.ai/simeonbetapudi-belmont-university/Mini%20Hackathon%20Sweep/sweeps/zh4ejg5g' target=\"_blank\">https://wandb.ai/simeonbetapudi-belmont-university/Mini%20Hackathon%20Sweep/sweeps/zh4ejg5g</a>"
            ]
          },
          "metadata": {}
        },
        {
          "output_type": "display_data",
          "data": {
            "text/plain": [
              "<IPython.core.display.HTML object>"
            ],
            "text/html": [
              " View project at <a href='https://wandb.ai/simeonbetapudi-belmont-university/Mini%20Hackathon%20Sweep' target=\"_blank\">https://wandb.ai/simeonbetapudi-belmont-university/Mini%20Hackathon%20Sweep</a>"
            ]
          },
          "metadata": {}
        },
        {
          "output_type": "display_data",
          "data": {
            "text/plain": [
              "<IPython.core.display.HTML object>"
            ],
            "text/html": [
              " View sweep at <a href='https://wandb.ai/simeonbetapudi-belmont-university/Mini%20Hackathon%20Sweep/sweeps/zh4ejg5g' target=\"_blank\">https://wandb.ai/simeonbetapudi-belmont-university/Mini%20Hackathon%20Sweep/sweeps/zh4ejg5g</a>"
            ]
          },
          "metadata": {}
        },
        {
          "output_type": "display_data",
          "data": {
            "text/plain": [
              "<IPython.core.display.HTML object>"
            ],
            "text/html": [
              " View run at <a href='https://wandb.ai/simeonbetapudi-belmont-university/Mini%20Hackathon%20Sweep/runs/1n45rvk7' target=\"_blank\">https://wandb.ai/simeonbetapudi-belmont-university/Mini%20Hackathon%20Sweep/runs/1n45rvk7</a>"
            ]
          },
          "metadata": {}
        },
        {
          "output_type": "stream",
          "name": "stderr",
          "text": [
            "Epoch 1/5:   0%|          | 0/49 [00:00<?, ?it/s]\n",
            "Traceback (most recent call last):\n",
            "  File \"/usr/local/lib/python3.12/dist-packages/wandb/agents/pyagent.py\", line 297, in _run_job\n",
            "    self._function()\n",
            "  File \"/tmp/ipython-input-3079156912.py\", line 26, in sweep_train\n",
            "    results = train_model(model,\n",
            "              ^^^^^^^^^^^^^^^^^^\n",
            "  File \"/tmp/ipython-input-1655472275.py\", line 32, in train_model\n",
            "    output = model(data)\n",
            "             ^^^^^^^^^^^\n",
            "  File \"/usr/local/lib/python3.12/dist-packages/torch/nn/modules/module.py\", line 1773, in _wrapped_call_impl\n",
            "    return self._call_impl(*args, **kwargs)\n",
            "           ^^^^^^^^^^^^^^^^^^^^^^^^^^^^^^^^\n",
            "  File \"/usr/local/lib/python3.12/dist-packages/torch/nn/modules/module.py\", line 1784, in _call_impl\n",
            "    return forward_call(*args, **kwargs)\n",
            "           ^^^^^^^^^^^^^^^^^^^^^^^^^^^^^\n",
            "  File \"/tmp/ipython-input-1595289304.py\", line 23, in forward\n",
            "    x = self.activation(conv_layer(x))\n",
            "                        ^^^^^^^^^^^^^\n",
            "  File \"/usr/local/lib/python3.12/dist-packages/torch/nn/modules/module.py\", line 1773, in _wrapped_call_impl\n",
            "    return self._call_impl(*args, **kwargs)\n",
            "           ^^^^^^^^^^^^^^^^^^^^^^^^^^^^^^^^\n",
            "  File \"/usr/local/lib/python3.12/dist-packages/torch/nn/modules/module.py\", line 1784, in _call_impl\n",
            "    return forward_call(*args, **kwargs)\n",
            "           ^^^^^^^^^^^^^^^^^^^^^^^^^^^^^\n",
            "  File \"/usr/local/lib/python3.12/dist-packages/torch/nn/modules/conv.py\", line 548, in forward\n",
            "    return self._conv_forward(input, self.weight, self.bias)\n",
            "           ^^^^^^^^^^^^^^^^^^^^^^^^^^^^^^^^^^^^^^^^^^^^^^^^^\n",
            "  File \"/usr/local/lib/python3.12/dist-packages/torch/nn/modules/conv.py\", line 543, in _conv_forward\n",
            "    return F.conv2d(\n",
            "           ^^^^^^^^^\n",
            "RuntimeError: Calculated padded input size per channel: (3 x 3). Kernel size: (5 x 5). Kernel size can't be greater than actual input size\n",
            "\n"
          ]
        },
        {
          "output_type": "display_data",
          "data": {
            "text/plain": [
              "<IPython.core.display.HTML object>"
            ],
            "text/html": []
          },
          "metadata": {}
        },
        {
          "output_type": "display_data",
          "data": {
            "text/plain": [
              "<IPython.core.display.HTML object>"
            ],
            "text/html": [
              " View run <strong style=\"color:#cdcd00\">base_64_mult_2_lay_5_kern_5_str_3</strong> at: <a href='https://wandb.ai/simeonbetapudi-belmont-university/Mini%20Hackathon%20Sweep/runs/1n45rvk7' target=\"_blank\">https://wandb.ai/simeonbetapudi-belmont-university/Mini%20Hackathon%20Sweep/runs/1n45rvk7</a><br> View project at: <a href='https://wandb.ai/simeonbetapudi-belmont-university/Mini%20Hackathon%20Sweep' target=\"_blank\">https://wandb.ai/simeonbetapudi-belmont-university/Mini%20Hackathon%20Sweep</a><br>Synced 5 W&B file(s), 0 media file(s), 0 artifact file(s) and 0 other file(s)"
            ]
          },
          "metadata": {}
        },
        {
          "output_type": "display_data",
          "data": {
            "text/plain": [
              "<IPython.core.display.HTML object>"
            ],
            "text/html": [
              "Find logs at: <code>./wandb/run-20250910_020802-1n45rvk7/logs</code>"
            ]
          },
          "metadata": {}
        },
        {
          "output_type": "stream",
          "name": "stderr",
          "text": [
            "\u001b[34m\u001b[1mwandb\u001b[0m: \u001b[32m\u001b[41mERROR\u001b[0m Run 1n45rvk7 errored: Calculated padded input size per channel: (3 x 3). Kernel size: (5 x 5). Kernel size can't be greater than actual input size\n",
            "\u001b[34m\u001b[1mwandb\u001b[0m: Agent Starting Run: qqpup3er with config:\n",
            "\u001b[34m\u001b[1mwandb\u001b[0m: \tbase_channels: 64\n",
            "\u001b[34m\u001b[1mwandb\u001b[0m: \tchannel_mult: 3\n",
            "\u001b[34m\u001b[1mwandb\u001b[0m: \tkernel_size: 3\n",
            "\u001b[34m\u001b[1mwandb\u001b[0m: \tn_conv_layers: 4\n",
            "\u001b[34m\u001b[1mwandb\u001b[0m: \tstride: 1\n"
          ]
        },
        {
          "output_type": "display_data",
          "data": {
            "text/plain": [
              "<IPython.core.display.HTML object>"
            ],
            "text/html": [
              "Ignoring project 'Mini Hackathon Sweep' when running a sweep."
            ]
          },
          "metadata": {}
        },
        {
          "output_type": "display_data",
          "data": {
            "text/plain": [
              "<IPython.core.display.HTML object>"
            ],
            "text/html": [
              "creating run (0.0s)"
            ]
          },
          "metadata": {}
        },
        {
          "output_type": "display_data",
          "data": {
            "text/plain": [
              "<IPython.core.display.HTML object>"
            ],
            "text/html": [
              "Tracking run with wandb version 0.21.3"
            ]
          },
          "metadata": {}
        },
        {
          "output_type": "display_data",
          "data": {
            "text/plain": [
              "<IPython.core.display.HTML object>"
            ],
            "text/html": [
              "Run data is saved locally in <code>/content/wandb/run-20250910_020807-qqpup3er</code>"
            ]
          },
          "metadata": {}
        },
        {
          "output_type": "display_data",
          "data": {
            "text/plain": [
              "<IPython.core.display.HTML object>"
            ],
            "text/html": [
              "Syncing run <strong><a href='https://wandb.ai/simeonbetapudi-belmont-university/Mini%20Hackathon%20Sweep/runs/qqpup3er' target=\"_blank\">eager-sweep-37</a></strong> to <a href='https://wandb.ai/simeonbetapudi-belmont-university/Mini%20Hackathon%20Sweep' target=\"_blank\">Weights & Biases</a> (<a href='https://wandb.me/developer-guide' target=\"_blank\">docs</a>)<br>Sweep page: <a href='https://wandb.ai/simeonbetapudi-belmont-university/Mini%20Hackathon%20Sweep/sweeps/zh4ejg5g' target=\"_blank\">https://wandb.ai/simeonbetapudi-belmont-university/Mini%20Hackathon%20Sweep/sweeps/zh4ejg5g</a>"
            ]
          },
          "metadata": {}
        },
        {
          "output_type": "display_data",
          "data": {
            "text/plain": [
              "<IPython.core.display.HTML object>"
            ],
            "text/html": [
              " View project at <a href='https://wandb.ai/simeonbetapudi-belmont-university/Mini%20Hackathon%20Sweep' target=\"_blank\">https://wandb.ai/simeonbetapudi-belmont-university/Mini%20Hackathon%20Sweep</a>"
            ]
          },
          "metadata": {}
        },
        {
          "output_type": "display_data",
          "data": {
            "text/plain": [
              "<IPython.core.display.HTML object>"
            ],
            "text/html": [
              " View sweep at <a href='https://wandb.ai/simeonbetapudi-belmont-university/Mini%20Hackathon%20Sweep/sweeps/zh4ejg5g' target=\"_blank\">https://wandb.ai/simeonbetapudi-belmont-university/Mini%20Hackathon%20Sweep/sweeps/zh4ejg5g</a>"
            ]
          },
          "metadata": {}
        },
        {
          "output_type": "display_data",
          "data": {
            "text/plain": [
              "<IPython.core.display.HTML object>"
            ],
            "text/html": [
              " View run at <a href='https://wandb.ai/simeonbetapudi-belmont-university/Mini%20Hackathon%20Sweep/runs/qqpup3er' target=\"_blank\">https://wandb.ai/simeonbetapudi-belmont-university/Mini%20Hackathon%20Sweep/runs/qqpup3er</a>"
            ]
          },
          "metadata": {}
        },
        {
          "output_type": "stream",
          "name": "stderr",
          "text": [
            "Epoch 1/5: 100%|██████████| 49/49 [00:44<00:00,  1.10it/s, Loss=1.8201, Acc=22.60%]\n"
          ]
        },
        {
          "output_type": "stream",
          "name": "stdout",
          "text": [
            "Epoch 1: Train Loss: 2.0575, Train Acc: 22.60%, Test Acc: 31.09%\n"
          ]
        },
        {
          "output_type": "stream",
          "name": "stderr",
          "text": [
            "Epoch 2/5: 100%|██████████| 49/49 [00:44<00:00,  1.10it/s, Loss=1.6494, Acc=35.26%]\n"
          ]
        },
        {
          "output_type": "stream",
          "name": "stdout",
          "text": [
            "Epoch 2: Train Loss: 1.7117, Train Acc: 35.26%, Test Acc: 39.38%\n"
          ]
        },
        {
          "output_type": "stream",
          "name": "stderr",
          "text": [
            "Epoch 3/5: 100%|██████████| 49/49 [00:44<00:00,  1.10it/s, Loss=1.5094, Acc=41.19%]\n"
          ]
        },
        {
          "output_type": "stream",
          "name": "stdout",
          "text": [
            "Epoch 3: Train Loss: 1.5745, Train Acc: 41.19%, Test Acc: 43.80%\n"
          ]
        },
        {
          "output_type": "stream",
          "name": "stderr",
          "text": [
            "Epoch 4/5: 100%|██████████| 49/49 [00:44<00:00,  1.09it/s, Loss=1.4077, Acc=46.66%]\n"
          ]
        },
        {
          "output_type": "stream",
          "name": "stdout",
          "text": [
            "Epoch 4: Train Loss: 1.4588, Train Acc: 46.66%, Test Acc: 50.41%\n"
          ]
        },
        {
          "output_type": "stream",
          "name": "stderr",
          "text": [
            "Epoch 5/5: 100%|██████████| 49/49 [00:44<00:00,  1.10it/s, Loss=1.2522, Acc=51.36%]\n"
          ]
        },
        {
          "output_type": "stream",
          "name": "stdout",
          "text": [
            "Epoch 5: Train Loss: 1.3515, Train Acc: 51.36%, Test Acc: 53.67%\n"
          ]
        },
        {
          "output_type": "display_data",
          "data": {
            "text/plain": [
              "<IPython.core.display.HTML object>"
            ],
            "text/html": []
          },
          "metadata": {}
        },
        {
          "output_type": "display_data",
          "data": {
            "text/plain": [
              "<IPython.core.display.HTML object>"
            ],
            "text/html": [
              "<br>    <style><br>        .wandb-row {<br>            display: flex;<br>            flex-direction: row;<br>            flex-wrap: wrap;<br>            justify-content: flex-start;<br>            width: 100%;<br>        }<br>        .wandb-col {<br>            display: flex;<br>            flex-direction: column;<br>            flex-basis: 100%;<br>            flex: 1;<br>            padding: 10px;<br>        }<br>    </style><br><div class=\"wandb-row\"><div class=\"wandb-col\"><h3>Run history:</h3><br/><table class=\"wandb\"><tr><td>epoch</td><td>▁▃▅▆█</td></tr><tr><td>test_accuracy</td><td>▁▄▅▇█</td></tr><tr><td>train_accuracy</td><td>▁▄▆▇█</td></tr><tr><td>train_loss</td><td>█▅▃▂▁</td></tr><tr><td>train_time</td><td>▁</td></tr></table><br/></div><div class=\"wandb-col\"><h3>Run summary:</h3><br/><table class=\"wandb\"><tr><td>epoch</td><td>5</td></tr><tr><td>test_accuracy</td><td>53.67</td></tr><tr><td>train_accuracy</td><td>51.362</td></tr><tr><td>train_loss</td><td>1.35149</td></tr><tr><td>train_time</td><td>245.0029</td></tr></table><br/></div></div>"
            ]
          },
          "metadata": {}
        },
        {
          "output_type": "display_data",
          "data": {
            "text/plain": [
              "<IPython.core.display.HTML object>"
            ],
            "text/html": [
              " View run <strong style=\"color:#cdcd00\">base_64_mult_3_lay_4_kern_3_str_1</strong> at: <a href='https://wandb.ai/simeonbetapudi-belmont-university/Mini%20Hackathon%20Sweep/runs/qqpup3er' target=\"_blank\">https://wandb.ai/simeonbetapudi-belmont-university/Mini%20Hackathon%20Sweep/runs/qqpup3er</a><br> View project at: <a href='https://wandb.ai/simeonbetapudi-belmont-university/Mini%20Hackathon%20Sweep' target=\"_blank\">https://wandb.ai/simeonbetapudi-belmont-university/Mini%20Hackathon%20Sweep</a><br>Synced 5 W&B file(s), 0 media file(s), 0 artifact file(s) and 0 other file(s)"
            ]
          },
          "metadata": {}
        },
        {
          "output_type": "display_data",
          "data": {
            "text/plain": [
              "<IPython.core.display.HTML object>"
            ],
            "text/html": [
              "Find logs at: <code>./wandb/run-20250910_020807-qqpup3er/logs</code>"
            ]
          },
          "metadata": {}
        },
        {
          "output_type": "stream",
          "name": "stderr",
          "text": [
            "\u001b[34m\u001b[1mwandb\u001b[0m: Agent Starting Run: tkexcit5 with config:\n",
            "\u001b[34m\u001b[1mwandb\u001b[0m: \tbase_channels: 64\n",
            "\u001b[34m\u001b[1mwandb\u001b[0m: \tchannel_mult: 3\n",
            "\u001b[34m\u001b[1mwandb\u001b[0m: \tkernel_size: 3\n",
            "\u001b[34m\u001b[1mwandb\u001b[0m: \tn_conv_layers: 4\n",
            "\u001b[34m\u001b[1mwandb\u001b[0m: \tstride: 2\n"
          ]
        },
        {
          "output_type": "display_data",
          "data": {
            "text/plain": [
              "<IPython.core.display.HTML object>"
            ],
            "text/html": [
              "Ignoring project 'Mini Hackathon Sweep' when running a sweep."
            ]
          },
          "metadata": {}
        },
        {
          "output_type": "display_data",
          "data": {
            "text/plain": [
              "<IPython.core.display.HTML object>"
            ],
            "text/html": [
              "creating run (0.0s)"
            ]
          },
          "metadata": {}
        },
        {
          "output_type": "display_data",
          "data": {
            "text/plain": [
              "<IPython.core.display.HTML object>"
            ],
            "text/html": [
              "Tracking run with wandb version 0.21.3"
            ]
          },
          "metadata": {}
        },
        {
          "output_type": "display_data",
          "data": {
            "text/plain": [
              "<IPython.core.display.HTML object>"
            ],
            "text/html": [
              "Run data is saved locally in <code>/content/wandb/run-20250910_021219-tkexcit5</code>"
            ]
          },
          "metadata": {}
        },
        {
          "output_type": "display_data",
          "data": {
            "text/plain": [
              "<IPython.core.display.HTML object>"
            ],
            "text/html": [
              "Syncing run <strong><a href='https://wandb.ai/simeonbetapudi-belmont-university/Mini%20Hackathon%20Sweep/runs/tkexcit5' target=\"_blank\">pretty-sweep-38</a></strong> to <a href='https://wandb.ai/simeonbetapudi-belmont-university/Mini%20Hackathon%20Sweep' target=\"_blank\">Weights & Biases</a> (<a href='https://wandb.me/developer-guide' target=\"_blank\">docs</a>)<br>Sweep page: <a href='https://wandb.ai/simeonbetapudi-belmont-university/Mini%20Hackathon%20Sweep/sweeps/zh4ejg5g' target=\"_blank\">https://wandb.ai/simeonbetapudi-belmont-university/Mini%20Hackathon%20Sweep/sweeps/zh4ejg5g</a>"
            ]
          },
          "metadata": {}
        },
        {
          "output_type": "display_data",
          "data": {
            "text/plain": [
              "<IPython.core.display.HTML object>"
            ],
            "text/html": [
              " View project at <a href='https://wandb.ai/simeonbetapudi-belmont-university/Mini%20Hackathon%20Sweep' target=\"_blank\">https://wandb.ai/simeonbetapudi-belmont-university/Mini%20Hackathon%20Sweep</a>"
            ]
          },
          "metadata": {}
        },
        {
          "output_type": "display_data",
          "data": {
            "text/plain": [
              "<IPython.core.display.HTML object>"
            ],
            "text/html": [
              " View sweep at <a href='https://wandb.ai/simeonbetapudi-belmont-university/Mini%20Hackathon%20Sweep/sweeps/zh4ejg5g' target=\"_blank\">https://wandb.ai/simeonbetapudi-belmont-university/Mini%20Hackathon%20Sweep/sweeps/zh4ejg5g</a>"
            ]
          },
          "metadata": {}
        },
        {
          "output_type": "display_data",
          "data": {
            "text/plain": [
              "<IPython.core.display.HTML object>"
            ],
            "text/html": [
              " View run at <a href='https://wandb.ai/simeonbetapudi-belmont-university/Mini%20Hackathon%20Sweep/runs/tkexcit5' target=\"_blank\">https://wandb.ai/simeonbetapudi-belmont-university/Mini%20Hackathon%20Sweep/runs/tkexcit5</a>"
            ]
          },
          "metadata": {}
        },
        {
          "output_type": "stream",
          "name": "stderr",
          "text": [
            "Epoch 1/5: 100%|██████████| 49/49 [00:11<00:00,  4.10it/s, Loss=1.6527, Acc=29.39%]\n"
          ]
        },
        {
          "output_type": "stream",
          "name": "stdout",
          "text": [
            "Epoch 1: Train Loss: 1.9132, Train Acc: 29.39%, Test Acc: 41.65%\n"
          ]
        },
        {
          "output_type": "stream",
          "name": "stderr",
          "text": [
            "Epoch 2/5: 100%|██████████| 49/49 [00:11<00:00,  4.16it/s, Loss=1.4168, Acc=46.52%]\n"
          ]
        },
        {
          "output_type": "stream",
          "name": "stdout",
          "text": [
            "Epoch 2: Train Loss: 1.4684, Train Acc: 46.52%, Test Acc: 51.33%\n"
          ]
        },
        {
          "output_type": "stream",
          "name": "stderr",
          "text": [
            "Epoch 3/5: 100%|██████████| 49/49 [00:11<00:00,  4.17it/s, Loss=1.1998, Acc=54.07%]\n"
          ]
        },
        {
          "output_type": "stream",
          "name": "stdout",
          "text": [
            "Epoch 3: Train Loss: 1.2774, Train Acc: 54.07%, Test Acc: 58.09%\n"
          ]
        },
        {
          "output_type": "stream",
          "name": "stderr",
          "text": [
            "Epoch 4/5: 100%|██████████| 49/49 [00:12<00:00,  4.06it/s, Loss=1.1314, Acc=59.25%]\n"
          ]
        },
        {
          "output_type": "stream",
          "name": "stdout",
          "text": [
            "Epoch 4: Train Loss: 1.1379, Train Acc: 59.25%, Test Acc: 61.66%\n"
          ]
        },
        {
          "output_type": "stream",
          "name": "stderr",
          "text": [
            "Epoch 5/5: 100%|██████████| 49/49 [00:11<00:00,  4.17it/s, Loss=0.9487, Acc=63.06%]\n"
          ]
        },
        {
          "output_type": "stream",
          "name": "stdout",
          "text": [
            "Epoch 5: Train Loss: 1.0405, Train Acc: 63.06%, Test Acc: 63.62%\n"
          ]
        },
        {
          "output_type": "display_data",
          "data": {
            "text/plain": [
              "<IPython.core.display.HTML object>"
            ],
            "text/html": []
          },
          "metadata": {}
        },
        {
          "output_type": "display_data",
          "data": {
            "text/plain": [
              "<IPython.core.display.HTML object>"
            ],
            "text/html": [
              "<br>    <style><br>        .wandb-row {<br>            display: flex;<br>            flex-direction: row;<br>            flex-wrap: wrap;<br>            justify-content: flex-start;<br>            width: 100%;<br>        }<br>        .wandb-col {<br>            display: flex;<br>            flex-direction: column;<br>            flex-basis: 100%;<br>            flex: 1;<br>            padding: 10px;<br>        }<br>    </style><br><div class=\"wandb-row\"><div class=\"wandb-col\"><h3>Run history:</h3><br/><table class=\"wandb\"><tr><td>epoch</td><td>▁▃▅▆█</td></tr><tr><td>test_accuracy</td><td>▁▄▆▇█</td></tr><tr><td>train_accuracy</td><td>▁▅▆▇█</td></tr><tr><td>train_loss</td><td>█▄▃▂▁</td></tr><tr><td>train_time</td><td>▁</td></tr></table><br/></div><div class=\"wandb-col\"><h3>Run summary:</h3><br/><table class=\"wandb\"><tr><td>epoch</td><td>5</td></tr><tr><td>test_accuracy</td><td>63.62</td></tr><tr><td>train_accuracy</td><td>63.062</td></tr><tr><td>train_loss</td><td>1.04048</td></tr><tr><td>train_time</td><td>70.52891</td></tr></table><br/></div></div>"
            ]
          },
          "metadata": {}
        },
        {
          "output_type": "display_data",
          "data": {
            "text/plain": [
              "<IPython.core.display.HTML object>"
            ],
            "text/html": [
              " View run <strong style=\"color:#cdcd00\">base_64_mult_3_lay_4_kern_3_str_2</strong> at: <a href='https://wandb.ai/simeonbetapudi-belmont-university/Mini%20Hackathon%20Sweep/runs/tkexcit5' target=\"_blank\">https://wandb.ai/simeonbetapudi-belmont-university/Mini%20Hackathon%20Sweep/runs/tkexcit5</a><br> View project at: <a href='https://wandb.ai/simeonbetapudi-belmont-university/Mini%20Hackathon%20Sweep' target=\"_blank\">https://wandb.ai/simeonbetapudi-belmont-university/Mini%20Hackathon%20Sweep</a><br>Synced 5 W&B file(s), 0 media file(s), 0 artifact file(s) and 0 other file(s)"
            ]
          },
          "metadata": {}
        },
        {
          "output_type": "display_data",
          "data": {
            "text/plain": [
              "<IPython.core.display.HTML object>"
            ],
            "text/html": [
              "Find logs at: <code>./wandb/run-20250910_021219-tkexcit5/logs</code>"
            ]
          },
          "metadata": {}
        },
        {
          "output_type": "stream",
          "name": "stderr",
          "text": [
            "\u001b[34m\u001b[1mwandb\u001b[0m: Agent Starting Run: jnoal40z with config:\n",
            "\u001b[34m\u001b[1mwandb\u001b[0m: \tbase_channels: 64\n",
            "\u001b[34m\u001b[1mwandb\u001b[0m: \tchannel_mult: 3\n",
            "\u001b[34m\u001b[1mwandb\u001b[0m: \tkernel_size: 3\n",
            "\u001b[34m\u001b[1mwandb\u001b[0m: \tn_conv_layers: 4\n",
            "\u001b[34m\u001b[1mwandb\u001b[0m: \tstride: 3\n"
          ]
        },
        {
          "output_type": "display_data",
          "data": {
            "text/plain": [
              "<IPython.core.display.HTML object>"
            ],
            "text/html": [
              "Ignoring project 'Mini Hackathon Sweep' when running a sweep."
            ]
          },
          "metadata": {}
        },
        {
          "output_type": "display_data",
          "data": {
            "text/plain": [
              "<IPython.core.display.HTML object>"
            ],
            "text/html": [
              "creating run (0.0s)"
            ]
          },
          "metadata": {}
        },
        {
          "output_type": "display_data",
          "data": {
            "text/plain": [
              "<IPython.core.display.HTML object>"
            ],
            "text/html": [
              "Tracking run with wandb version 0.21.3"
            ]
          },
          "metadata": {}
        },
        {
          "output_type": "display_data",
          "data": {
            "text/plain": [
              "<IPython.core.display.HTML object>"
            ],
            "text/html": [
              "Run data is saved locally in <code>/content/wandb/run-20250910_021337-jnoal40z</code>"
            ]
          },
          "metadata": {}
        },
        {
          "output_type": "display_data",
          "data": {
            "text/plain": [
              "<IPython.core.display.HTML object>"
            ],
            "text/html": [
              "Syncing run <strong><a href='https://wandb.ai/simeonbetapudi-belmont-university/Mini%20Hackathon%20Sweep/runs/jnoal40z' target=\"_blank\">breezy-sweep-39</a></strong> to <a href='https://wandb.ai/simeonbetapudi-belmont-university/Mini%20Hackathon%20Sweep' target=\"_blank\">Weights & Biases</a> (<a href='https://wandb.me/developer-guide' target=\"_blank\">docs</a>)<br>Sweep page: <a href='https://wandb.ai/simeonbetapudi-belmont-university/Mini%20Hackathon%20Sweep/sweeps/zh4ejg5g' target=\"_blank\">https://wandb.ai/simeonbetapudi-belmont-university/Mini%20Hackathon%20Sweep/sweeps/zh4ejg5g</a>"
            ]
          },
          "metadata": {}
        },
        {
          "output_type": "display_data",
          "data": {
            "text/plain": [
              "<IPython.core.display.HTML object>"
            ],
            "text/html": [
              " View project at <a href='https://wandb.ai/simeonbetapudi-belmont-university/Mini%20Hackathon%20Sweep' target=\"_blank\">https://wandb.ai/simeonbetapudi-belmont-university/Mini%20Hackathon%20Sweep</a>"
            ]
          },
          "metadata": {}
        },
        {
          "output_type": "display_data",
          "data": {
            "text/plain": [
              "<IPython.core.display.HTML object>"
            ],
            "text/html": [
              " View sweep at <a href='https://wandb.ai/simeonbetapudi-belmont-university/Mini%20Hackathon%20Sweep/sweeps/zh4ejg5g' target=\"_blank\">https://wandb.ai/simeonbetapudi-belmont-university/Mini%20Hackathon%20Sweep/sweeps/zh4ejg5g</a>"
            ]
          },
          "metadata": {}
        },
        {
          "output_type": "display_data",
          "data": {
            "text/plain": [
              "<IPython.core.display.HTML object>"
            ],
            "text/html": [
              " View run at <a href='https://wandb.ai/simeonbetapudi-belmont-university/Mini%20Hackathon%20Sweep/runs/jnoal40z' target=\"_blank\">https://wandb.ai/simeonbetapudi-belmont-university/Mini%20Hackathon%20Sweep/runs/jnoal40z</a>"
            ]
          },
          "metadata": {}
        },
        {
          "output_type": "stream",
          "name": "stderr",
          "text": [
            "Epoch 1/5: 100%|██████████| 49/49 [00:11<00:00,  4.21it/s, Loss=1.5125, Acc=35.82%]\n"
          ]
        },
        {
          "output_type": "stream",
          "name": "stdout",
          "text": [
            "Epoch 1: Train Loss: 1.7835, Train Acc: 35.82%, Test Acc: 46.66%\n"
          ]
        },
        {
          "output_type": "stream",
          "name": "stderr",
          "text": [
            "Epoch 2/5: 100%|██████████| 49/49 [00:11<00:00,  4.22it/s, Loss=1.3515, Acc=48.76%]\n"
          ]
        },
        {
          "output_type": "stream",
          "name": "stdout",
          "text": [
            "Epoch 2: Train Loss: 1.4233, Train Acc: 48.76%, Test Acc: 52.54%\n"
          ]
        },
        {
          "output_type": "stream",
          "name": "stderr",
          "text": [
            "Epoch 3/5: 100%|██████████| 49/49 [00:11<00:00,  4.22it/s, Loss=1.2901, Acc=53.99%]\n"
          ]
        },
        {
          "output_type": "stream",
          "name": "stdout",
          "text": [
            "Epoch 3: Train Loss: 1.2806, Train Acc: 53.99%, Test Acc: 57.39%\n"
          ]
        },
        {
          "output_type": "stream",
          "name": "stderr",
          "text": [
            "Epoch 4/5: 100%|██████████| 49/49 [00:11<00:00,  4.24it/s, Loss=1.1261, Acc=58.47%]\n"
          ]
        },
        {
          "output_type": "stream",
          "name": "stdout",
          "text": [
            "Epoch 4: Train Loss: 1.1629, Train Acc: 58.47%, Test Acc: 59.43%\n"
          ]
        },
        {
          "output_type": "stream",
          "name": "stderr",
          "text": [
            "Epoch 5/5: 100%|██████████| 49/49 [00:11<00:00,  4.25it/s, Loss=1.0223, Acc=61.14%]\n"
          ]
        },
        {
          "output_type": "stream",
          "name": "stdout",
          "text": [
            "Epoch 5: Train Loss: 1.0802, Train Acc: 61.14%, Test Acc: 61.98%\n"
          ]
        },
        {
          "output_type": "display_data",
          "data": {
            "text/plain": [
              "<IPython.core.display.HTML object>"
            ],
            "text/html": []
          },
          "metadata": {}
        },
        {
          "output_type": "display_data",
          "data": {
            "text/plain": [
              "<IPython.core.display.HTML object>"
            ],
            "text/html": [
              "<br>    <style><br>        .wandb-row {<br>            display: flex;<br>            flex-direction: row;<br>            flex-wrap: wrap;<br>            justify-content: flex-start;<br>            width: 100%;<br>        }<br>        .wandb-col {<br>            display: flex;<br>            flex-direction: column;<br>            flex-basis: 100%;<br>            flex: 1;<br>            padding: 10px;<br>        }<br>    </style><br><div class=\"wandb-row\"><div class=\"wandb-col\"><h3>Run history:</h3><br/><table class=\"wandb\"><tr><td>epoch</td><td>▁▃▅▆█</td></tr><tr><td>test_accuracy</td><td>▁▄▆▇█</td></tr><tr><td>train_accuracy</td><td>▁▅▆▇█</td></tr><tr><td>train_loss</td><td>█▄▃▂▁</td></tr><tr><td>train_time</td><td>▁</td></tr></table><br/></div><div class=\"wandb-col\"><h3>Run summary:</h3><br/><table class=\"wandb\"><tr><td>epoch</td><td>5</td></tr><tr><td>test_accuracy</td><td>61.98</td></tr><tr><td>train_accuracy</td><td>61.14</td></tr><tr><td>train_loss</td><td>1.08024</td></tr><tr><td>train_time</td><td>69.23701</td></tr></table><br/></div></div>"
            ]
          },
          "metadata": {}
        },
        {
          "output_type": "display_data",
          "data": {
            "text/plain": [
              "<IPython.core.display.HTML object>"
            ],
            "text/html": [
              " View run <strong style=\"color:#cdcd00\">base_64_mult_3_lay_4_kern_3_str_3</strong> at: <a href='https://wandb.ai/simeonbetapudi-belmont-university/Mini%20Hackathon%20Sweep/runs/jnoal40z' target=\"_blank\">https://wandb.ai/simeonbetapudi-belmont-university/Mini%20Hackathon%20Sweep/runs/jnoal40z</a><br> View project at: <a href='https://wandb.ai/simeonbetapudi-belmont-university/Mini%20Hackathon%20Sweep' target=\"_blank\">https://wandb.ai/simeonbetapudi-belmont-university/Mini%20Hackathon%20Sweep</a><br>Synced 5 W&B file(s), 0 media file(s), 0 artifact file(s) and 0 other file(s)"
            ]
          },
          "metadata": {}
        },
        {
          "output_type": "display_data",
          "data": {
            "text/plain": [
              "<IPython.core.display.HTML object>"
            ],
            "text/html": [
              "Find logs at: <code>./wandb/run-20250910_021337-jnoal40z/logs</code>"
            ]
          },
          "metadata": {}
        },
        {
          "output_type": "stream",
          "name": "stderr",
          "text": [
            "\u001b[34m\u001b[1mwandb\u001b[0m: Agent Starting Run: xj3iaeqi with config:\n",
            "\u001b[34m\u001b[1mwandb\u001b[0m: \tbase_channels: 64\n",
            "\u001b[34m\u001b[1mwandb\u001b[0m: \tchannel_mult: 3\n",
            "\u001b[34m\u001b[1mwandb\u001b[0m: \tkernel_size: 3\n",
            "\u001b[34m\u001b[1mwandb\u001b[0m: \tn_conv_layers: 5\n",
            "\u001b[34m\u001b[1mwandb\u001b[0m: \tstride: 1\n"
          ]
        },
        {
          "output_type": "display_data",
          "data": {
            "text/plain": [
              "<IPython.core.display.HTML object>"
            ],
            "text/html": [
              "Ignoring project 'Mini Hackathon Sweep' when running a sweep."
            ]
          },
          "metadata": {}
        },
        {
          "output_type": "display_data",
          "data": {
            "text/plain": [
              "<IPython.core.display.HTML object>"
            ],
            "text/html": [
              "Waiting for wandb.init()..."
            ]
          },
          "metadata": {}
        },
        {
          "output_type": "display_data",
          "data": {
            "text/plain": [
              "<IPython.core.display.HTML object>"
            ],
            "text/html": [
              "Tracking run with wandb version 0.21.3"
            ]
          },
          "metadata": {}
        },
        {
          "output_type": "display_data",
          "data": {
            "text/plain": [
              "<IPython.core.display.HTML object>"
            ],
            "text/html": [
              "Run data is saved locally in <code>/content/wandb/run-20250910_021454-xj3iaeqi</code>"
            ]
          },
          "metadata": {}
        },
        {
          "output_type": "display_data",
          "data": {
            "text/plain": [
              "<IPython.core.display.HTML object>"
            ],
            "text/html": [
              "Syncing run <strong><a href='https://wandb.ai/simeonbetapudi-belmont-university/Mini%20Hackathon%20Sweep/runs/xj3iaeqi' target=\"_blank\">iconic-sweep-40</a></strong> to <a href='https://wandb.ai/simeonbetapudi-belmont-university/Mini%20Hackathon%20Sweep' target=\"_blank\">Weights & Biases</a> (<a href='https://wandb.me/developer-guide' target=\"_blank\">docs</a>)<br>Sweep page: <a href='https://wandb.ai/simeonbetapudi-belmont-university/Mini%20Hackathon%20Sweep/sweeps/zh4ejg5g' target=\"_blank\">https://wandb.ai/simeonbetapudi-belmont-university/Mini%20Hackathon%20Sweep/sweeps/zh4ejg5g</a>"
            ]
          },
          "metadata": {}
        },
        {
          "output_type": "display_data",
          "data": {
            "text/plain": [
              "<IPython.core.display.HTML object>"
            ],
            "text/html": [
              " View project at <a href='https://wandb.ai/simeonbetapudi-belmont-university/Mini%20Hackathon%20Sweep' target=\"_blank\">https://wandb.ai/simeonbetapudi-belmont-university/Mini%20Hackathon%20Sweep</a>"
            ]
          },
          "metadata": {}
        },
        {
          "output_type": "display_data",
          "data": {
            "text/plain": [
              "<IPython.core.display.HTML object>"
            ],
            "text/html": [
              " View sweep at <a href='https://wandb.ai/simeonbetapudi-belmont-university/Mini%20Hackathon%20Sweep/sweeps/zh4ejg5g' target=\"_blank\">https://wandb.ai/simeonbetapudi-belmont-university/Mini%20Hackathon%20Sweep/sweeps/zh4ejg5g</a>"
            ]
          },
          "metadata": {}
        },
        {
          "output_type": "display_data",
          "data": {
            "text/plain": [
              "<IPython.core.display.HTML object>"
            ],
            "text/html": [
              " View run at <a href='https://wandb.ai/simeonbetapudi-belmont-university/Mini%20Hackathon%20Sweep/runs/xj3iaeqi' target=\"_blank\">https://wandb.ai/simeonbetapudi-belmont-university/Mini%20Hackathon%20Sweep/runs/xj3iaeqi</a>"
            ]
          },
          "metadata": {}
        },
        {
          "output_type": "stream",
          "name": "stderr",
          "text": [
            "Epoch 1/5:   0%|          | 0/49 [00:03<?, ?it/s]\n",
            "Traceback (most recent call last):\n",
            "  File \"/usr/local/lib/python3.12/dist-packages/wandb/agents/pyagent.py\", line 297, in _run_job\n",
            "    self._function()\n",
            "  File \"/tmp/ipython-input-3079156912.py\", line 26, in sweep_train\n",
            "    results = train_model(model,\n",
            "              ^^^^^^^^^^^^^^^^^^\n",
            "  File \"/tmp/ipython-input-1655472275.py\", line 32, in train_model\n",
            "    output = model(data)\n",
            "             ^^^^^^^^^^^\n",
            "  File \"/usr/local/lib/python3.12/dist-packages/torch/nn/modules/module.py\", line 1773, in _wrapped_call_impl\n",
            "    return self._call_impl(*args, **kwargs)\n",
            "           ^^^^^^^^^^^^^^^^^^^^^^^^^^^^^^^^\n",
            "  File \"/usr/local/lib/python3.12/dist-packages/torch/nn/modules/module.py\", line 1784, in _call_impl\n",
            "    return forward_call(*args, **kwargs)\n",
            "           ^^^^^^^^^^^^^^^^^^^^^^^^^^^^^\n",
            "  File \"/tmp/ipython-input-1595289304.py\", line 24, in forward\n",
            "    x = self.dropout1(x)\n",
            "        ^^^^^^^^^^^^^^^^\n",
            "  File \"/usr/local/lib/python3.12/dist-packages/torch/nn/modules/module.py\", line 1773, in _wrapped_call_impl\n",
            "    return self._call_impl(*args, **kwargs)\n",
            "           ^^^^^^^^^^^^^^^^^^^^^^^^^^^^^^^^\n",
            "  File \"/usr/local/lib/python3.12/dist-packages/torch/nn/modules/module.py\", line 1784, in _call_impl\n",
            "    return forward_call(*args, **kwargs)\n",
            "           ^^^^^^^^^^^^^^^^^^^^^^^^^^^^^\n",
            "  File \"/usr/local/lib/python3.12/dist-packages/torch/nn/modules/dropout.py\", line 70, in forward\n",
            "    return F.dropout(input, self.p, self.training, self.inplace)\n",
            "           ^^^^^^^^^^^^^^^^^^^^^^^^^^^^^^^^^^^^^^^^^^^^^^^^^^^^^\n",
            "  File \"/usr/local/lib/python3.12/dist-packages/torch/nn/functional.py\", line 1422, in dropout\n",
            "    _VF.dropout_(input, p, training) if inplace else _VF.dropout(input, p, training)\n",
            "                                                     ^^^^^^^^^^^^^^^^^^^^^^^^^^^^^^^\n",
            "torch.OutOfMemoryError: CUDA out of memory. Tried to allocate 5.06 GiB. GPU 0 has a total capacity of 79.32 GiB of which 4.55 GiB is free. Process 53357 has 74.76 GiB memory in use. Of the allocated memory 64.90 GiB is allocated by PyTorch, and 9.35 GiB is reserved by PyTorch but unallocated. If reserved but unallocated memory is large try setting PYTORCH_CUDA_ALLOC_CONF=expandable_segments:True to avoid fragmentation.  See documentation for Memory Management  (https://pytorch.org/docs/stable/notes/cuda.html#environment-variables)\n",
            "\n"
          ]
        },
        {
          "output_type": "display_data",
          "data": {
            "text/plain": [
              "<IPython.core.display.HTML object>"
            ],
            "text/html": []
          },
          "metadata": {}
        },
        {
          "output_type": "display_data",
          "data": {
            "text/plain": [
              "<IPython.core.display.HTML object>"
            ],
            "text/html": [
              " View run <strong style=\"color:#cdcd00\">base_64_mult_3_lay_5_kern_3_str_1</strong> at: <a href='https://wandb.ai/simeonbetapudi-belmont-university/Mini%20Hackathon%20Sweep/runs/xj3iaeqi' target=\"_blank\">https://wandb.ai/simeonbetapudi-belmont-university/Mini%20Hackathon%20Sweep/runs/xj3iaeqi</a><br> View project at: <a href='https://wandb.ai/simeonbetapudi-belmont-university/Mini%20Hackathon%20Sweep' target=\"_blank\">https://wandb.ai/simeonbetapudi-belmont-university/Mini%20Hackathon%20Sweep</a><br>Synced 5 W&B file(s), 0 media file(s), 0 artifact file(s) and 0 other file(s)"
            ]
          },
          "metadata": {}
        },
        {
          "output_type": "display_data",
          "data": {
            "text/plain": [
              "<IPython.core.display.HTML object>"
            ],
            "text/html": [
              "Find logs at: <code>./wandb/run-20250910_021454-xj3iaeqi/logs</code>"
            ]
          },
          "metadata": {}
        },
        {
          "output_type": "stream",
          "name": "stderr",
          "text": [
            "\u001b[34m\u001b[1mwandb\u001b[0m: \u001b[32m\u001b[41mERROR\u001b[0m Run xj3iaeqi errored: CUDA out of memory. Tried to allocate 5.06 GiB. GPU 0 has a total capacity of 79.32 GiB of which 4.55 GiB is free. Process 53357 has 74.76 GiB memory in use. Of the allocated memory 64.90 GiB is allocated by PyTorch, and 9.35 GiB is reserved by PyTorch but unallocated. If reserved but unallocated memory is large try setting PYTORCH_CUDA_ALLOC_CONF=expandable_segments:True to avoid fragmentation.  See documentation for Memory Management  (https://pytorch.org/docs/stable/notes/cuda.html#environment-variables)\n",
            "\u001b[34m\u001b[1mwandb\u001b[0m: Agent Starting Run: 0cwj7zfb with config:\n",
            "\u001b[34m\u001b[1mwandb\u001b[0m: \tbase_channels: 64\n",
            "\u001b[34m\u001b[1mwandb\u001b[0m: \tchannel_mult: 3\n",
            "\u001b[34m\u001b[1mwandb\u001b[0m: \tkernel_size: 3\n",
            "\u001b[34m\u001b[1mwandb\u001b[0m: \tn_conv_layers: 5\n",
            "\u001b[34m\u001b[1mwandb\u001b[0m: \tstride: 2\n"
          ]
        },
        {
          "output_type": "display_data",
          "data": {
            "text/plain": [
              "<IPython.core.display.HTML object>"
            ],
            "text/html": [
              "Ignoring project 'Mini Hackathon Sweep' when running a sweep."
            ]
          },
          "metadata": {}
        },
        {
          "output_type": "display_data",
          "data": {
            "text/plain": [
              "<IPython.core.display.HTML object>"
            ],
            "text/html": [
              "creating run (0.0s)"
            ]
          },
          "metadata": {}
        },
        {
          "output_type": "display_data",
          "data": {
            "text/plain": [
              "<IPython.core.display.HTML object>"
            ],
            "text/html": [
              "Tracking run with wandb version 0.21.3"
            ]
          },
          "metadata": {}
        },
        {
          "output_type": "display_data",
          "data": {
            "text/plain": [
              "<IPython.core.display.HTML object>"
            ],
            "text/html": [
              "Run data is saved locally in <code>/content/wandb/run-20250910_021505-0cwj7zfb</code>"
            ]
          },
          "metadata": {}
        },
        {
          "output_type": "display_data",
          "data": {
            "text/plain": [
              "<IPython.core.display.HTML object>"
            ],
            "text/html": [
              "Syncing run <strong><a href='https://wandb.ai/simeonbetapudi-belmont-university/Mini%20Hackathon%20Sweep/runs/0cwj7zfb' target=\"_blank\">wobbly-sweep-41</a></strong> to <a href='https://wandb.ai/simeonbetapudi-belmont-university/Mini%20Hackathon%20Sweep' target=\"_blank\">Weights & Biases</a> (<a href='https://wandb.me/developer-guide' target=\"_blank\">docs</a>)<br>Sweep page: <a href='https://wandb.ai/simeonbetapudi-belmont-university/Mini%20Hackathon%20Sweep/sweeps/zh4ejg5g' target=\"_blank\">https://wandb.ai/simeonbetapudi-belmont-university/Mini%20Hackathon%20Sweep/sweeps/zh4ejg5g</a>"
            ]
          },
          "metadata": {}
        },
        {
          "output_type": "display_data",
          "data": {
            "text/plain": [
              "<IPython.core.display.HTML object>"
            ],
            "text/html": [
              " View project at <a href='https://wandb.ai/simeonbetapudi-belmont-university/Mini%20Hackathon%20Sweep' target=\"_blank\">https://wandb.ai/simeonbetapudi-belmont-university/Mini%20Hackathon%20Sweep</a>"
            ]
          },
          "metadata": {}
        },
        {
          "output_type": "display_data",
          "data": {
            "text/plain": [
              "<IPython.core.display.HTML object>"
            ],
            "text/html": [
              " View sweep at <a href='https://wandb.ai/simeonbetapudi-belmont-university/Mini%20Hackathon%20Sweep/sweeps/zh4ejg5g' target=\"_blank\">https://wandb.ai/simeonbetapudi-belmont-university/Mini%20Hackathon%20Sweep/sweeps/zh4ejg5g</a>"
            ]
          },
          "metadata": {}
        },
        {
          "output_type": "display_data",
          "data": {
            "text/plain": [
              "<IPython.core.display.HTML object>"
            ],
            "text/html": [
              " View run at <a href='https://wandb.ai/simeonbetapudi-belmont-university/Mini%20Hackathon%20Sweep/runs/0cwj7zfb' target=\"_blank\">https://wandb.ai/simeonbetapudi-belmont-university/Mini%20Hackathon%20Sweep/runs/0cwj7zfb</a>"
            ]
          },
          "metadata": {}
        },
        {
          "output_type": "stream",
          "name": "stderr",
          "text": [
            "Epoch 1/5: 100%|██████████| 49/49 [00:12<00:00,  3.85it/s, Loss=1.4612, Acc=31.07%]\n"
          ]
        },
        {
          "output_type": "stream",
          "name": "stdout",
          "text": [
            "Epoch 1: Train Loss: 1.8570, Train Acc: 31.07%, Test Acc: 44.32%\n"
          ]
        },
        {
          "output_type": "stream",
          "name": "stderr",
          "text": [
            "Epoch 2/5: 100%|██████████| 49/49 [00:12<00:00,  3.89it/s, Loss=1.3105, Acc=50.00%]\n"
          ]
        },
        {
          "output_type": "stream",
          "name": "stdout",
          "text": [
            "Epoch 2: Train Loss: 1.3750, Train Acc: 50.00%, Test Acc: 55.47%\n"
          ]
        },
        {
          "output_type": "stream",
          "name": "stderr",
          "text": [
            "Epoch 3/5: 100%|██████████| 49/49 [00:12<00:00,  3.92it/s, Loss=1.0276, Acc=58.06%]\n"
          ]
        },
        {
          "output_type": "stream",
          "name": "stdout",
          "text": [
            "Epoch 3: Train Loss: 1.1619, Train Acc: 58.06%, Test Acc: 62.09%\n"
          ]
        },
        {
          "output_type": "stream",
          "name": "stderr",
          "text": [
            "Epoch 4/5: 100%|██████████| 49/49 [00:12<00:00,  3.92it/s, Loss=1.0090, Acc=63.96%]\n"
          ]
        },
        {
          "output_type": "stream",
          "name": "stdout",
          "text": [
            "Epoch 4: Train Loss: 0.9999, Train Acc: 63.96%, Test Acc: 65.62%\n"
          ]
        },
        {
          "output_type": "stream",
          "name": "stderr",
          "text": [
            "Epoch 5/5: 100%|██████████| 49/49 [00:12<00:00,  3.91it/s, Loss=0.8136, Acc=69.16%]\n"
          ]
        },
        {
          "output_type": "stream",
          "name": "stdout",
          "text": [
            "Epoch 5: Train Loss: 0.8626, Train Acc: 69.16%, Test Acc: 68.22%\n"
          ]
        },
        {
          "output_type": "display_data",
          "data": {
            "text/plain": [
              "<IPython.core.display.HTML object>"
            ],
            "text/html": []
          },
          "metadata": {}
        },
        {
          "output_type": "display_data",
          "data": {
            "text/plain": [
              "<IPython.core.display.HTML object>"
            ],
            "text/html": [
              "<br>    <style><br>        .wandb-row {<br>            display: flex;<br>            flex-direction: row;<br>            flex-wrap: wrap;<br>            justify-content: flex-start;<br>            width: 100%;<br>        }<br>        .wandb-col {<br>            display: flex;<br>            flex-direction: column;<br>            flex-basis: 100%;<br>            flex: 1;<br>            padding: 10px;<br>        }<br>    </style><br><div class=\"wandb-row\"><div class=\"wandb-col\"><h3>Run history:</h3><br/><table class=\"wandb\"><tr><td>epoch</td><td>▁▃▅▆█</td></tr><tr><td>test_accuracy</td><td>▁▄▆▇█</td></tr><tr><td>train_accuracy</td><td>▁▄▆▇█</td></tr><tr><td>train_loss</td><td>█▅▃▂▁</td></tr><tr><td>train_time</td><td>▁</td></tr></table><br/></div><div class=\"wandb-col\"><h3>Run summary:</h3><br/><table class=\"wandb\"><tr><td>epoch</td><td>5</td></tr><tr><td>test_accuracy</td><td>68.22</td></tr><tr><td>train_accuracy</td><td>69.16</td></tr><tr><td>train_loss</td><td>0.86258</td></tr><tr><td>train_time</td><td>74.31382</td></tr></table><br/></div></div>"
            ]
          },
          "metadata": {}
        },
        {
          "output_type": "display_data",
          "data": {
            "text/plain": [
              "<IPython.core.display.HTML object>"
            ],
            "text/html": [
              " View run <strong style=\"color:#cdcd00\">base_64_mult_3_lay_5_kern_3_str_2</strong> at: <a href='https://wandb.ai/simeonbetapudi-belmont-university/Mini%20Hackathon%20Sweep/runs/0cwj7zfb' target=\"_blank\">https://wandb.ai/simeonbetapudi-belmont-university/Mini%20Hackathon%20Sweep/runs/0cwj7zfb</a><br> View project at: <a href='https://wandb.ai/simeonbetapudi-belmont-university/Mini%20Hackathon%20Sweep' target=\"_blank\">https://wandb.ai/simeonbetapudi-belmont-university/Mini%20Hackathon%20Sweep</a><br>Synced 5 W&B file(s), 0 media file(s), 0 artifact file(s) and 0 other file(s)"
            ]
          },
          "metadata": {}
        },
        {
          "output_type": "display_data",
          "data": {
            "text/plain": [
              "<IPython.core.display.HTML object>"
            ],
            "text/html": [
              "Find logs at: <code>./wandb/run-20250910_021505-0cwj7zfb/logs</code>"
            ]
          },
          "metadata": {}
        },
        {
          "output_type": "stream",
          "name": "stderr",
          "text": [
            "\u001b[34m\u001b[1mwandb\u001b[0m: Agent Starting Run: 0ywx6qmd with config:\n",
            "\u001b[34m\u001b[1mwandb\u001b[0m: \tbase_channels: 64\n",
            "\u001b[34m\u001b[1mwandb\u001b[0m: \tchannel_mult: 3\n",
            "\u001b[34m\u001b[1mwandb\u001b[0m: \tkernel_size: 3\n",
            "\u001b[34m\u001b[1mwandb\u001b[0m: \tn_conv_layers: 5\n",
            "\u001b[34m\u001b[1mwandb\u001b[0m: \tstride: 3\n"
          ]
        },
        {
          "output_type": "display_data",
          "data": {
            "text/plain": [
              "<IPython.core.display.HTML object>"
            ],
            "text/html": [
              "Ignoring project 'Mini Hackathon Sweep' when running a sweep."
            ]
          },
          "metadata": {}
        },
        {
          "output_type": "display_data",
          "data": {
            "text/plain": [
              "<IPython.core.display.HTML object>"
            ],
            "text/html": [
              "creating run (0.0s)"
            ]
          },
          "metadata": {}
        },
        {
          "output_type": "display_data",
          "data": {
            "text/plain": [
              "<IPython.core.display.HTML object>"
            ],
            "text/html": [
              "Tracking run with wandb version 0.21.3"
            ]
          },
          "metadata": {}
        },
        {
          "output_type": "display_data",
          "data": {
            "text/plain": [
              "<IPython.core.display.HTML object>"
            ],
            "text/html": [
              "Run data is saved locally in <code>/content/wandb/run-20250910_021627-0ywx6qmd</code>"
            ]
          },
          "metadata": {}
        },
        {
          "output_type": "display_data",
          "data": {
            "text/plain": [
              "<IPython.core.display.HTML object>"
            ],
            "text/html": [
              "Syncing run <strong><a href='https://wandb.ai/simeonbetapudi-belmont-university/Mini%20Hackathon%20Sweep/runs/0ywx6qmd' target=\"_blank\">generous-sweep-42</a></strong> to <a href='https://wandb.ai/simeonbetapudi-belmont-university/Mini%20Hackathon%20Sweep' target=\"_blank\">Weights & Biases</a> (<a href='https://wandb.me/developer-guide' target=\"_blank\">docs</a>)<br>Sweep page: <a href='https://wandb.ai/simeonbetapudi-belmont-university/Mini%20Hackathon%20Sweep/sweeps/zh4ejg5g' target=\"_blank\">https://wandb.ai/simeonbetapudi-belmont-university/Mini%20Hackathon%20Sweep/sweeps/zh4ejg5g</a>"
            ]
          },
          "metadata": {}
        },
        {
          "output_type": "display_data",
          "data": {
            "text/plain": [
              "<IPython.core.display.HTML object>"
            ],
            "text/html": [
              " View project at <a href='https://wandb.ai/simeonbetapudi-belmont-university/Mini%20Hackathon%20Sweep' target=\"_blank\">https://wandb.ai/simeonbetapudi-belmont-university/Mini%20Hackathon%20Sweep</a>"
            ]
          },
          "metadata": {}
        },
        {
          "output_type": "display_data",
          "data": {
            "text/plain": [
              "<IPython.core.display.HTML object>"
            ],
            "text/html": [
              " View sweep at <a href='https://wandb.ai/simeonbetapudi-belmont-university/Mini%20Hackathon%20Sweep/sweeps/zh4ejg5g' target=\"_blank\">https://wandb.ai/simeonbetapudi-belmont-university/Mini%20Hackathon%20Sweep/sweeps/zh4ejg5g</a>"
            ]
          },
          "metadata": {}
        },
        {
          "output_type": "display_data",
          "data": {
            "text/plain": [
              "<IPython.core.display.HTML object>"
            ],
            "text/html": [
              " View run at <a href='https://wandb.ai/simeonbetapudi-belmont-university/Mini%20Hackathon%20Sweep/runs/0ywx6qmd' target=\"_blank\">https://wandb.ai/simeonbetapudi-belmont-university/Mini%20Hackathon%20Sweep/runs/0ywx6qmd</a>"
            ]
          },
          "metadata": {}
        },
        {
          "output_type": "stream",
          "name": "stderr",
          "text": [
            "Epoch 1/5: 100%|██████████| 49/49 [00:12<00:00,  4.03it/s, Loss=1.5318, Acc=32.37%]\n"
          ]
        },
        {
          "output_type": "stream",
          "name": "stdout",
          "text": [
            "Epoch 1: Train Loss: 1.8317, Train Acc: 32.37%, Test Acc: 45.48%\n"
          ]
        },
        {
          "output_type": "stream",
          "name": "stderr",
          "text": [
            "Epoch 2/5: 100%|██████████| 49/49 [00:12<00:00,  4.02it/s, Loss=1.2992, Acc=47.72%]\n"
          ]
        },
        {
          "output_type": "stream",
          "name": "stdout",
          "text": [
            "Epoch 2: Train Loss: 1.4295, Train Acc: 47.72%, Test Acc: 53.14%\n"
          ]
        },
        {
          "output_type": "stream",
          "name": "stderr",
          "text": [
            "Epoch 3/5: 100%|██████████| 49/49 [00:12<00:00,  4.05it/s, Loss=1.2733, Acc=53.69%]\n"
          ]
        },
        {
          "output_type": "stream",
          "name": "stdout",
          "text": [
            "Epoch 3: Train Loss: 1.2756, Train Acc: 53.69%, Test Acc: 56.83%\n"
          ]
        },
        {
          "output_type": "stream",
          "name": "stderr",
          "text": [
            "Epoch 4/5: 100%|██████████| 49/49 [00:12<00:00,  4.05it/s, Loss=1.1424, Acc=58.55%]\n"
          ]
        },
        {
          "output_type": "stream",
          "name": "stdout",
          "text": [
            "Epoch 4: Train Loss: 1.1484, Train Acc: 58.55%, Test Acc: 59.03%\n"
          ]
        },
        {
          "output_type": "stream",
          "name": "stderr",
          "text": [
            "Epoch 5/5: 100%|██████████| 49/49 [00:12<00:00,  4.07it/s, Loss=1.0133, Acc=61.77%]\n"
          ]
        },
        {
          "output_type": "stream",
          "name": "stdout",
          "text": [
            "Epoch 5: Train Loss: 1.0567, Train Acc: 61.77%, Test Acc: 61.69%\n"
          ]
        },
        {
          "output_type": "display_data",
          "data": {
            "text/plain": [
              "<IPython.core.display.HTML object>"
            ],
            "text/html": []
          },
          "metadata": {}
        },
        {
          "output_type": "display_data",
          "data": {
            "text/plain": [
              "<IPython.core.display.HTML object>"
            ],
            "text/html": [
              "<br>    <style><br>        .wandb-row {<br>            display: flex;<br>            flex-direction: row;<br>            flex-wrap: wrap;<br>            justify-content: flex-start;<br>            width: 100%;<br>        }<br>        .wandb-col {<br>            display: flex;<br>            flex-direction: column;<br>            flex-basis: 100%;<br>            flex: 1;<br>            padding: 10px;<br>        }<br>    </style><br><div class=\"wandb-row\"><div class=\"wandb-col\"><h3>Run history:</h3><br/><table class=\"wandb\"><tr><td>epoch</td><td>▁▃▅▆█</td></tr><tr><td>test_accuracy</td><td>▁▄▆▇█</td></tr><tr><td>train_accuracy</td><td>▁▅▆▇█</td></tr><tr><td>train_loss</td><td>█▄▃▂▁</td></tr><tr><td>train_time</td><td>▁</td></tr></table><br/></div><div class=\"wandb-col\"><h3>Run summary:</h3><br/><table class=\"wandb\"><tr><td>epoch</td><td>5</td></tr><tr><td>test_accuracy</td><td>61.69</td></tr><tr><td>train_accuracy</td><td>61.766</td></tr><tr><td>train_loss</td><td>1.05671</td></tr><tr><td>train_time</td><td>72.13277</td></tr></table><br/></div></div>"
            ]
          },
          "metadata": {}
        },
        {
          "output_type": "display_data",
          "data": {
            "text/plain": [
              "<IPython.core.display.HTML object>"
            ],
            "text/html": [
              " View run <strong style=\"color:#cdcd00\">base_64_mult_3_lay_5_kern_3_str_3</strong> at: <a href='https://wandb.ai/simeonbetapudi-belmont-university/Mini%20Hackathon%20Sweep/runs/0ywx6qmd' target=\"_blank\">https://wandb.ai/simeonbetapudi-belmont-university/Mini%20Hackathon%20Sweep/runs/0ywx6qmd</a><br> View project at: <a href='https://wandb.ai/simeonbetapudi-belmont-university/Mini%20Hackathon%20Sweep' target=\"_blank\">https://wandb.ai/simeonbetapudi-belmont-university/Mini%20Hackathon%20Sweep</a><br>Synced 5 W&B file(s), 0 media file(s), 0 artifact file(s) and 0 other file(s)"
            ]
          },
          "metadata": {}
        },
        {
          "output_type": "display_data",
          "data": {
            "text/plain": [
              "<IPython.core.display.HTML object>"
            ],
            "text/html": [
              "Find logs at: <code>./wandb/run-20250910_021627-0ywx6qmd/logs</code>"
            ]
          },
          "metadata": {}
        },
        {
          "output_type": "stream",
          "name": "stderr",
          "text": [
            "\u001b[34m\u001b[1mwandb\u001b[0m: Agent Starting Run: kyg3an41 with config:\n",
            "\u001b[34m\u001b[1mwandb\u001b[0m: \tbase_channels: 64\n",
            "\u001b[34m\u001b[1mwandb\u001b[0m: \tchannel_mult: 3\n",
            "\u001b[34m\u001b[1mwandb\u001b[0m: \tkernel_size: 5\n",
            "\u001b[34m\u001b[1mwandb\u001b[0m: \tn_conv_layers: 4\n",
            "\u001b[34m\u001b[1mwandb\u001b[0m: \tstride: 1\n"
          ]
        },
        {
          "output_type": "display_data",
          "data": {
            "text/plain": [
              "<IPython.core.display.HTML object>"
            ],
            "text/html": [
              "Ignoring project 'Mini Hackathon Sweep' when running a sweep."
            ]
          },
          "metadata": {}
        },
        {
          "output_type": "display_data",
          "data": {
            "text/plain": [
              "<IPython.core.display.HTML object>"
            ],
            "text/html": [
              "creating run (0.0s)"
            ]
          },
          "metadata": {}
        },
        {
          "output_type": "display_data",
          "data": {
            "text/plain": [
              "<IPython.core.display.HTML object>"
            ],
            "text/html": [
              "Tracking run with wandb version 0.21.3"
            ]
          },
          "metadata": {}
        },
        {
          "output_type": "display_data",
          "data": {
            "text/plain": [
              "<IPython.core.display.HTML object>"
            ],
            "text/html": [
              "Run data is saved locally in <code>/content/wandb/run-20250910_021745-kyg3an41</code>"
            ]
          },
          "metadata": {}
        },
        {
          "output_type": "display_data",
          "data": {
            "text/plain": [
              "<IPython.core.display.HTML object>"
            ],
            "text/html": [
              "Syncing run <strong><a href='https://wandb.ai/simeonbetapudi-belmont-university/Mini%20Hackathon%20Sweep/runs/kyg3an41' target=\"_blank\">robust-sweep-43</a></strong> to <a href='https://wandb.ai/simeonbetapudi-belmont-university/Mini%20Hackathon%20Sweep' target=\"_blank\">Weights & Biases</a> (<a href='https://wandb.me/developer-guide' target=\"_blank\">docs</a>)<br>Sweep page: <a href='https://wandb.ai/simeonbetapudi-belmont-university/Mini%20Hackathon%20Sweep/sweeps/zh4ejg5g' target=\"_blank\">https://wandb.ai/simeonbetapudi-belmont-university/Mini%20Hackathon%20Sweep/sweeps/zh4ejg5g</a>"
            ]
          },
          "metadata": {}
        },
        {
          "output_type": "display_data",
          "data": {
            "text/plain": [
              "<IPython.core.display.HTML object>"
            ],
            "text/html": [
              " View project at <a href='https://wandb.ai/simeonbetapudi-belmont-university/Mini%20Hackathon%20Sweep' target=\"_blank\">https://wandb.ai/simeonbetapudi-belmont-university/Mini%20Hackathon%20Sweep</a>"
            ]
          },
          "metadata": {}
        },
        {
          "output_type": "display_data",
          "data": {
            "text/plain": [
              "<IPython.core.display.HTML object>"
            ],
            "text/html": [
              " View sweep at <a href='https://wandb.ai/simeonbetapudi-belmont-university/Mini%20Hackathon%20Sweep/sweeps/zh4ejg5g' target=\"_blank\">https://wandb.ai/simeonbetapudi-belmont-university/Mini%20Hackathon%20Sweep/sweeps/zh4ejg5g</a>"
            ]
          },
          "metadata": {}
        },
        {
          "output_type": "display_data",
          "data": {
            "text/plain": [
              "<IPython.core.display.HTML object>"
            ],
            "text/html": [
              " View run at <a href='https://wandb.ai/simeonbetapudi-belmont-university/Mini%20Hackathon%20Sweep/runs/kyg3an41' target=\"_blank\">https://wandb.ai/simeonbetapudi-belmont-university/Mini%20Hackathon%20Sweep/runs/kyg3an41</a>"
            ]
          },
          "metadata": {}
        },
        {
          "output_type": "stream",
          "name": "stderr",
          "text": [
            "Epoch 1/5:   0%|          | 0/49 [00:00<?, ?it/s]\n",
            "Traceback (most recent call last):\n",
            "  File \"/usr/local/lib/python3.12/dist-packages/wandb/agents/pyagent.py\", line 297, in _run_job\n",
            "    self._function()\n",
            "  File \"/tmp/ipython-input-3079156912.py\", line 26, in sweep_train\n",
            "    results = train_model(model,\n",
            "              ^^^^^^^^^^^^^^^^^^\n",
            "  File \"/tmp/ipython-input-1655472275.py\", line 32, in train_model\n",
            "    output = model(data)\n",
            "             ^^^^^^^^^^^\n",
            "  File \"/usr/local/lib/python3.12/dist-packages/torch/nn/modules/module.py\", line 1773, in _wrapped_call_impl\n",
            "    return self._call_impl(*args, **kwargs)\n",
            "           ^^^^^^^^^^^^^^^^^^^^^^^^^^^^^^^^\n",
            "  File \"/usr/local/lib/python3.12/dist-packages/torch/nn/modules/module.py\", line 1784, in _call_impl\n",
            "    return forward_call(*args, **kwargs)\n",
            "           ^^^^^^^^^^^^^^^^^^^^^^^^^^^^^\n",
            "  File \"/tmp/ipython-input-1595289304.py\", line 23, in forward\n",
            "    x = self.activation(conv_layer(x))\n",
            "        ^^^^^^^^^^^^^^^^^^^^^^^^^^^^^^\n",
            "  File \"/usr/local/lib/python3.12/dist-packages/torch/nn/modules/module.py\", line 1773, in _wrapped_call_impl\n",
            "    return self._call_impl(*args, **kwargs)\n",
            "           ^^^^^^^^^^^^^^^^^^^^^^^^^^^^^^^^\n",
            "  File \"/usr/local/lib/python3.12/dist-packages/torch/nn/modules/module.py\", line 1784, in _call_impl\n",
            "    return forward_call(*args, **kwargs)\n",
            "           ^^^^^^^^^^^^^^^^^^^^^^^^^^^^^\n",
            "  File \"/usr/local/lib/python3.12/dist-packages/torch/nn/modules/activation.py\", line 832, in forward\n",
            "    return F.leaky_relu(input, self.negative_slope, self.inplace)\n",
            "           ^^^^^^^^^^^^^^^^^^^^^^^^^^^^^^^^^^^^^^^^^^^^^^^^^^^^^^\n",
            "  File \"/usr/local/lib/python3.12/dist-packages/torch/nn/functional.py\", line 1899, in leaky_relu\n",
            "    result = torch._C._nn.leaky_relu(input, negative_slope)\n",
            "             ^^^^^^^^^^^^^^^^^^^^^^^^^^^^^^^^^^^^^^^^^^^^^^\n",
            "torch.OutOfMemoryError: CUDA out of memory. Tried to allocate 3.80 GiB. GPU 0 has a total capacity of 79.32 GiB of which 773.88 MiB is free. Process 53357 has 78.55 GiB memory in use. Of the allocated memory 73.94 GiB is allocated by PyTorch, and 4.10 GiB is reserved by PyTorch but unallocated. If reserved but unallocated memory is large try setting PYTORCH_CUDA_ALLOC_CONF=expandable_segments:True to avoid fragmentation.  See documentation for Memory Management  (https://pytorch.org/docs/stable/notes/cuda.html#environment-variables)\n",
            "\n"
          ]
        },
        {
          "output_type": "display_data",
          "data": {
            "text/plain": [
              "<IPython.core.display.HTML object>"
            ],
            "text/html": []
          },
          "metadata": {}
        },
        {
          "output_type": "display_data",
          "data": {
            "text/plain": [
              "<IPython.core.display.HTML object>"
            ],
            "text/html": [
              " View run <strong style=\"color:#cdcd00\">base_64_mult_3_lay_4_kern_5_str_1</strong> at: <a href='https://wandb.ai/simeonbetapudi-belmont-university/Mini%20Hackathon%20Sweep/runs/kyg3an41' target=\"_blank\">https://wandb.ai/simeonbetapudi-belmont-university/Mini%20Hackathon%20Sweep/runs/kyg3an41</a><br> View project at: <a href='https://wandb.ai/simeonbetapudi-belmont-university/Mini%20Hackathon%20Sweep' target=\"_blank\">https://wandb.ai/simeonbetapudi-belmont-university/Mini%20Hackathon%20Sweep</a><br>Synced 5 W&B file(s), 0 media file(s), 0 artifact file(s) and 0 other file(s)"
            ]
          },
          "metadata": {}
        },
        {
          "output_type": "display_data",
          "data": {
            "text/plain": [
              "<IPython.core.display.HTML object>"
            ],
            "text/html": [
              "Find logs at: <code>./wandb/run-20250910_021745-kyg3an41/logs</code>"
            ]
          },
          "metadata": {}
        },
        {
          "output_type": "stream",
          "name": "stderr",
          "text": [
            "\u001b[34m\u001b[1mwandb\u001b[0m: \u001b[32m\u001b[41mERROR\u001b[0m Run kyg3an41 errored: CUDA out of memory. Tried to allocate 3.80 GiB. GPU 0 has a total capacity of 79.32 GiB of which 773.88 MiB is free. Process 53357 has 78.55 GiB memory in use. Of the allocated memory 73.94 GiB is allocated by PyTorch, and 4.10 GiB is reserved by PyTorch but unallocated. If reserved but unallocated memory is large try setting PYTORCH_CUDA_ALLOC_CONF=expandable_segments:True to avoid fragmentation.  See documentation for Memory Management  (https://pytorch.org/docs/stable/notes/cuda.html#environment-variables)\n",
            "\u001b[34m\u001b[1mwandb\u001b[0m: Agent Starting Run: 55zhqmxf with config:\n",
            "\u001b[34m\u001b[1mwandb\u001b[0m: \tbase_channels: 64\n",
            "\u001b[34m\u001b[1mwandb\u001b[0m: \tchannel_mult: 3\n",
            "\u001b[34m\u001b[1mwandb\u001b[0m: \tkernel_size: 5\n",
            "\u001b[34m\u001b[1mwandb\u001b[0m: \tn_conv_layers: 4\n",
            "\u001b[34m\u001b[1mwandb\u001b[0m: \tstride: 2\n"
          ]
        },
        {
          "output_type": "display_data",
          "data": {
            "text/plain": [
              "<IPython.core.display.HTML object>"
            ],
            "text/html": [
              "Ignoring project 'Mini Hackathon Sweep' when running a sweep."
            ]
          },
          "metadata": {}
        },
        {
          "output_type": "display_data",
          "data": {
            "text/plain": [
              "<IPython.core.display.HTML object>"
            ],
            "text/html": [
              "creating run (0.0s)"
            ]
          },
          "metadata": {}
        },
        {
          "output_type": "display_data",
          "data": {
            "text/plain": [
              "<IPython.core.display.HTML object>"
            ],
            "text/html": [
              "Tracking run with wandb version 0.21.3"
            ]
          },
          "metadata": {}
        },
        {
          "output_type": "display_data",
          "data": {
            "text/plain": [
              "<IPython.core.display.HTML object>"
            ],
            "text/html": [
              "Run data is saved locally in <code>/content/wandb/run-20250910_021750-55zhqmxf</code>"
            ]
          },
          "metadata": {}
        },
        {
          "output_type": "display_data",
          "data": {
            "text/plain": [
              "<IPython.core.display.HTML object>"
            ],
            "text/html": [
              "Syncing run <strong><a href='https://wandb.ai/simeonbetapudi-belmont-university/Mini%20Hackathon%20Sweep/runs/55zhqmxf' target=\"_blank\">graceful-sweep-44</a></strong> to <a href='https://wandb.ai/simeonbetapudi-belmont-university/Mini%20Hackathon%20Sweep' target=\"_blank\">Weights & Biases</a> (<a href='https://wandb.me/developer-guide' target=\"_blank\">docs</a>)<br>Sweep page: <a href='https://wandb.ai/simeonbetapudi-belmont-university/Mini%20Hackathon%20Sweep/sweeps/zh4ejg5g' target=\"_blank\">https://wandb.ai/simeonbetapudi-belmont-university/Mini%20Hackathon%20Sweep/sweeps/zh4ejg5g</a>"
            ]
          },
          "metadata": {}
        },
        {
          "output_type": "display_data",
          "data": {
            "text/plain": [
              "<IPython.core.display.HTML object>"
            ],
            "text/html": [
              " View project at <a href='https://wandb.ai/simeonbetapudi-belmont-university/Mini%20Hackathon%20Sweep' target=\"_blank\">https://wandb.ai/simeonbetapudi-belmont-university/Mini%20Hackathon%20Sweep</a>"
            ]
          },
          "metadata": {}
        },
        {
          "output_type": "display_data",
          "data": {
            "text/plain": [
              "<IPython.core.display.HTML object>"
            ],
            "text/html": [
              " View sweep at <a href='https://wandb.ai/simeonbetapudi-belmont-university/Mini%20Hackathon%20Sweep/sweeps/zh4ejg5g' target=\"_blank\">https://wandb.ai/simeonbetapudi-belmont-university/Mini%20Hackathon%20Sweep/sweeps/zh4ejg5g</a>"
            ]
          },
          "metadata": {}
        },
        {
          "output_type": "display_data",
          "data": {
            "text/plain": [
              "<IPython.core.display.HTML object>"
            ],
            "text/html": [
              " View run at <a href='https://wandb.ai/simeonbetapudi-belmont-university/Mini%20Hackathon%20Sweep/runs/55zhqmxf' target=\"_blank\">https://wandb.ai/simeonbetapudi-belmont-university/Mini%20Hackathon%20Sweep/runs/55zhqmxf</a>"
            ]
          },
          "metadata": {}
        },
        {
          "output_type": "stream",
          "name": "stderr",
          "text": [
            "Epoch 1/5: 100%|██████████| 49/49 [00:12<00:00,  4.06it/s, Loss=1.5263, Acc=33.53%]\n"
          ]
        },
        {
          "output_type": "stream",
          "name": "stdout",
          "text": [
            "Epoch 1: Train Loss: 1.8131, Train Acc: 33.53%, Test Acc: 46.80%\n"
          ]
        },
        {
          "output_type": "stream",
          "name": "stderr",
          "text": [
            "Epoch 2/5: 100%|██████████| 49/49 [00:12<00:00,  4.04it/s, Loss=1.2761, Acc=50.59%]\n"
          ]
        },
        {
          "output_type": "stream",
          "name": "stdout",
          "text": [
            "Epoch 2: Train Loss: 1.3690, Train Acc: 50.59%, Test Acc: 56.18%\n"
          ]
        },
        {
          "output_type": "stream",
          "name": "stderr",
          "text": [
            "Epoch 3/5: 100%|██████████| 49/49 [00:12<00:00,  3.98it/s, Loss=1.0900, Acc=58.72%]\n"
          ]
        },
        {
          "output_type": "stream",
          "name": "stdout",
          "text": [
            "Epoch 3: Train Loss: 1.1542, Train Acc: 58.72%, Test Acc: 61.63%\n"
          ]
        },
        {
          "output_type": "stream",
          "name": "stderr",
          "text": [
            "Epoch 4/5: 100%|██████████| 49/49 [00:12<00:00,  4.07it/s, Loss=1.0072, Acc=64.65%]\n"
          ]
        },
        {
          "output_type": "stream",
          "name": "stdout",
          "text": [
            "Epoch 4: Train Loss: 0.9897, Train Acc: 64.65%, Test Acc: 64.63%\n"
          ]
        },
        {
          "output_type": "stream",
          "name": "stderr",
          "text": [
            "Epoch 5/5: 100%|██████████| 49/49 [00:12<00:00,  4.07it/s, Loss=0.7982, Acc=68.97%]\n"
          ]
        },
        {
          "output_type": "stream",
          "name": "stdout",
          "text": [
            "Epoch 5: Train Loss: 0.8733, Train Acc: 68.97%, Test Acc: 68.52%\n"
          ]
        },
        {
          "output_type": "display_data",
          "data": {
            "text/plain": [
              "<IPython.core.display.HTML object>"
            ],
            "text/html": []
          },
          "metadata": {}
        },
        {
          "output_type": "display_data",
          "data": {
            "text/plain": [
              "<IPython.core.display.HTML object>"
            ],
            "text/html": [
              "<br>    <style><br>        .wandb-row {<br>            display: flex;<br>            flex-direction: row;<br>            flex-wrap: wrap;<br>            justify-content: flex-start;<br>            width: 100%;<br>        }<br>        .wandb-col {<br>            display: flex;<br>            flex-direction: column;<br>            flex-basis: 100%;<br>            flex: 1;<br>            padding: 10px;<br>        }<br>    </style><br><div class=\"wandb-row\"><div class=\"wandb-col\"><h3>Run history:</h3><br/><table class=\"wandb\"><tr><td>epoch</td><td>▁▃▅▆█</td></tr><tr><td>test_accuracy</td><td>▁▄▆▇█</td></tr><tr><td>train_accuracy</td><td>▁▄▆▇█</td></tr><tr><td>train_loss</td><td>█▅▃▂▁</td></tr><tr><td>train_time</td><td>▁</td></tr></table><br/></div><div class=\"wandb-col\"><h3>Run summary:</h3><br/><table class=\"wandb\"><tr><td>epoch</td><td>5</td></tr><tr><td>test_accuracy</td><td>68.52</td></tr><tr><td>train_accuracy</td><td>68.968</td></tr><tr><td>train_loss</td><td>0.87328</td></tr><tr><td>train_time</td><td>71.86609</td></tr></table><br/></div></div>"
            ]
          },
          "metadata": {}
        },
        {
          "output_type": "display_data",
          "data": {
            "text/plain": [
              "<IPython.core.display.HTML object>"
            ],
            "text/html": [
              " View run <strong style=\"color:#cdcd00\">base_64_mult_3_lay_4_kern_5_str_2</strong> at: <a href='https://wandb.ai/simeonbetapudi-belmont-university/Mini%20Hackathon%20Sweep/runs/55zhqmxf' target=\"_blank\">https://wandb.ai/simeonbetapudi-belmont-university/Mini%20Hackathon%20Sweep/runs/55zhqmxf</a><br> View project at: <a href='https://wandb.ai/simeonbetapudi-belmont-university/Mini%20Hackathon%20Sweep' target=\"_blank\">https://wandb.ai/simeonbetapudi-belmont-university/Mini%20Hackathon%20Sweep</a><br>Synced 5 W&B file(s), 0 media file(s), 0 artifact file(s) and 0 other file(s)"
            ]
          },
          "metadata": {}
        },
        {
          "output_type": "display_data",
          "data": {
            "text/plain": [
              "<IPython.core.display.HTML object>"
            ],
            "text/html": [
              "Find logs at: <code>./wandb/run-20250910_021750-55zhqmxf/logs</code>"
            ]
          },
          "metadata": {}
        },
        {
          "output_type": "stream",
          "name": "stderr",
          "text": [
            "\u001b[34m\u001b[1mwandb\u001b[0m: Agent Starting Run: a3pc117p with config:\n",
            "\u001b[34m\u001b[1mwandb\u001b[0m: \tbase_channels: 64\n",
            "\u001b[34m\u001b[1mwandb\u001b[0m: \tchannel_mult: 3\n",
            "\u001b[34m\u001b[1mwandb\u001b[0m: \tkernel_size: 5\n",
            "\u001b[34m\u001b[1mwandb\u001b[0m: \tn_conv_layers: 4\n",
            "\u001b[34m\u001b[1mwandb\u001b[0m: \tstride: 3\n"
          ]
        },
        {
          "output_type": "display_data",
          "data": {
            "text/plain": [
              "<IPython.core.display.HTML object>"
            ],
            "text/html": [
              "Ignoring project 'Mini Hackathon Sweep' when running a sweep."
            ]
          },
          "metadata": {}
        },
        {
          "output_type": "display_data",
          "data": {
            "text/plain": [
              "<IPython.core.display.HTML object>"
            ],
            "text/html": [
              "creating run (0.0s)"
            ]
          },
          "metadata": {}
        },
        {
          "output_type": "display_data",
          "data": {
            "text/plain": [
              "<IPython.core.display.HTML object>"
            ],
            "text/html": [
              "Tracking run with wandb version 0.21.3"
            ]
          },
          "metadata": {}
        },
        {
          "output_type": "display_data",
          "data": {
            "text/plain": [
              "<IPython.core.display.HTML object>"
            ],
            "text/html": [
              "Run data is saved locally in <code>/content/wandb/run-20250910_021907-a3pc117p</code>"
            ]
          },
          "metadata": {}
        },
        {
          "output_type": "display_data",
          "data": {
            "text/plain": [
              "<IPython.core.display.HTML object>"
            ],
            "text/html": [
              "Syncing run <strong><a href='https://wandb.ai/simeonbetapudi-belmont-university/Mini%20Hackathon%20Sweep/runs/a3pc117p' target=\"_blank\">blooming-sweep-45</a></strong> to <a href='https://wandb.ai/simeonbetapudi-belmont-university/Mini%20Hackathon%20Sweep' target=\"_blank\">Weights & Biases</a> (<a href='https://wandb.me/developer-guide' target=\"_blank\">docs</a>)<br>Sweep page: <a href='https://wandb.ai/simeonbetapudi-belmont-university/Mini%20Hackathon%20Sweep/sweeps/zh4ejg5g' target=\"_blank\">https://wandb.ai/simeonbetapudi-belmont-university/Mini%20Hackathon%20Sweep/sweeps/zh4ejg5g</a>"
            ]
          },
          "metadata": {}
        },
        {
          "output_type": "display_data",
          "data": {
            "text/plain": [
              "<IPython.core.display.HTML object>"
            ],
            "text/html": [
              " View project at <a href='https://wandb.ai/simeonbetapudi-belmont-university/Mini%20Hackathon%20Sweep' target=\"_blank\">https://wandb.ai/simeonbetapudi-belmont-university/Mini%20Hackathon%20Sweep</a>"
            ]
          },
          "metadata": {}
        },
        {
          "output_type": "display_data",
          "data": {
            "text/plain": [
              "<IPython.core.display.HTML object>"
            ],
            "text/html": [
              " View sweep at <a href='https://wandb.ai/simeonbetapudi-belmont-university/Mini%20Hackathon%20Sweep/sweeps/zh4ejg5g' target=\"_blank\">https://wandb.ai/simeonbetapudi-belmont-university/Mini%20Hackathon%20Sweep/sweeps/zh4ejg5g</a>"
            ]
          },
          "metadata": {}
        },
        {
          "output_type": "display_data",
          "data": {
            "text/plain": [
              "<IPython.core.display.HTML object>"
            ],
            "text/html": [
              " View run at <a href='https://wandb.ai/simeonbetapudi-belmont-university/Mini%20Hackathon%20Sweep/runs/a3pc117p' target=\"_blank\">https://wandb.ai/simeonbetapudi-belmont-university/Mini%20Hackathon%20Sweep/runs/a3pc117p</a>"
            ]
          },
          "metadata": {}
        },
        {
          "output_type": "stream",
          "name": "stderr",
          "text": [
            "Epoch 1/5:   0%|          | 0/49 [00:00<?, ?it/s]\n",
            "Traceback (most recent call last):\n",
            "  File \"/usr/local/lib/python3.12/dist-packages/wandb/agents/pyagent.py\", line 297, in _run_job\n",
            "    self._function()\n",
            "  File \"/tmp/ipython-input-3079156912.py\", line 26, in sweep_train\n",
            "    results = train_model(model,\n",
            "              ^^^^^^^^^^^^^^^^^^\n",
            "  File \"/tmp/ipython-input-1655472275.py\", line 32, in train_model\n",
            "    output = model(data)\n",
            "             ^^^^^^^^^^^\n",
            "  File \"/usr/local/lib/python3.12/dist-packages/torch/nn/modules/module.py\", line 1773, in _wrapped_call_impl\n",
            "    return self._call_impl(*args, **kwargs)\n",
            "           ^^^^^^^^^^^^^^^^^^^^^^^^^^^^^^^^\n",
            "  File \"/usr/local/lib/python3.12/dist-packages/torch/nn/modules/module.py\", line 1784, in _call_impl\n",
            "    return forward_call(*args, **kwargs)\n",
            "           ^^^^^^^^^^^^^^^^^^^^^^^^^^^^^\n",
            "  File \"/tmp/ipython-input-1595289304.py\", line 23, in forward\n",
            "    x = self.activation(conv_layer(x))\n",
            "                        ^^^^^^^^^^^^^\n",
            "  File \"/usr/local/lib/python3.12/dist-packages/torch/nn/modules/module.py\", line 1773, in _wrapped_call_impl\n",
            "    return self._call_impl(*args, **kwargs)\n",
            "           ^^^^^^^^^^^^^^^^^^^^^^^^^^^^^^^^\n",
            "  File \"/usr/local/lib/python3.12/dist-packages/torch/nn/modules/module.py\", line 1784, in _call_impl\n",
            "    return forward_call(*args, **kwargs)\n",
            "           ^^^^^^^^^^^^^^^^^^^^^^^^^^^^^\n",
            "  File \"/usr/local/lib/python3.12/dist-packages/torch/nn/modules/conv.py\", line 548, in forward\n",
            "    return self._conv_forward(input, self.weight, self.bias)\n",
            "           ^^^^^^^^^^^^^^^^^^^^^^^^^^^^^^^^^^^^^^^^^^^^^^^^^\n",
            "  File \"/usr/local/lib/python3.12/dist-packages/torch/nn/modules/conv.py\", line 543, in _conv_forward\n",
            "    return F.conv2d(\n",
            "           ^^^^^^^^^\n",
            "RuntimeError: Calculated padded input size per channel: (3 x 3). Kernel size: (5 x 5). Kernel size can't be greater than actual input size\n",
            "\n"
          ]
        },
        {
          "output_type": "display_data",
          "data": {
            "text/plain": [
              "<IPython.core.display.HTML object>"
            ],
            "text/html": []
          },
          "metadata": {}
        },
        {
          "output_type": "display_data",
          "data": {
            "text/plain": [
              "<IPython.core.display.HTML object>"
            ],
            "text/html": [
              " View run <strong style=\"color:#cdcd00\">base_64_mult_3_lay_4_kern_5_str_3</strong> at: <a href='https://wandb.ai/simeonbetapudi-belmont-university/Mini%20Hackathon%20Sweep/runs/a3pc117p' target=\"_blank\">https://wandb.ai/simeonbetapudi-belmont-university/Mini%20Hackathon%20Sweep/runs/a3pc117p</a><br> View project at: <a href='https://wandb.ai/simeonbetapudi-belmont-university/Mini%20Hackathon%20Sweep' target=\"_blank\">https://wandb.ai/simeonbetapudi-belmont-university/Mini%20Hackathon%20Sweep</a><br>Synced 5 W&B file(s), 0 media file(s), 0 artifact file(s) and 0 other file(s)"
            ]
          },
          "metadata": {}
        },
        {
          "output_type": "display_data",
          "data": {
            "text/plain": [
              "<IPython.core.display.HTML object>"
            ],
            "text/html": [
              "Find logs at: <code>./wandb/run-20250910_021907-a3pc117p/logs</code>"
            ]
          },
          "metadata": {}
        },
        {
          "output_type": "stream",
          "name": "stderr",
          "text": [
            "\u001b[34m\u001b[1mwandb\u001b[0m: \u001b[32m\u001b[41mERROR\u001b[0m Run a3pc117p errored: Calculated padded input size per channel: (3 x 3). Kernel size: (5 x 5). Kernel size can't be greater than actual input size\n",
            "\u001b[34m\u001b[1mwandb\u001b[0m: Agent Starting Run: twgvdnhl with config:\n",
            "\u001b[34m\u001b[1mwandb\u001b[0m: \tbase_channels: 64\n",
            "\u001b[34m\u001b[1mwandb\u001b[0m: \tchannel_mult: 3\n",
            "\u001b[34m\u001b[1mwandb\u001b[0m: \tkernel_size: 5\n",
            "\u001b[34m\u001b[1mwandb\u001b[0m: \tn_conv_layers: 5\n",
            "\u001b[34m\u001b[1mwandb\u001b[0m: \tstride: 1\n"
          ]
        },
        {
          "output_type": "display_data",
          "data": {
            "text/plain": [
              "<IPython.core.display.HTML object>"
            ],
            "text/html": [
              "Ignoring project 'Mini Hackathon Sweep' when running a sweep."
            ]
          },
          "metadata": {}
        },
        {
          "output_type": "display_data",
          "data": {
            "text/plain": [
              "<IPython.core.display.HTML object>"
            ],
            "text/html": [
              "creating run (0.0s)"
            ]
          },
          "metadata": {}
        },
        {
          "output_type": "display_data",
          "data": {
            "text/plain": [
              "<IPython.core.display.HTML object>"
            ],
            "text/html": [
              "Tracking run with wandb version 0.21.3"
            ]
          },
          "metadata": {}
        },
        {
          "output_type": "display_data",
          "data": {
            "text/plain": [
              "<IPython.core.display.HTML object>"
            ],
            "text/html": [
              "Run data is saved locally in <code>/content/wandb/run-20250910_021913-twgvdnhl</code>"
            ]
          },
          "metadata": {}
        },
        {
          "output_type": "display_data",
          "data": {
            "text/plain": [
              "<IPython.core.display.HTML object>"
            ],
            "text/html": [
              "Syncing run <strong><a href='https://wandb.ai/simeonbetapudi-belmont-university/Mini%20Hackathon%20Sweep/runs/twgvdnhl' target=\"_blank\">light-sweep-46</a></strong> to <a href='https://wandb.ai/simeonbetapudi-belmont-university/Mini%20Hackathon%20Sweep' target=\"_blank\">Weights & Biases</a> (<a href='https://wandb.me/developer-guide' target=\"_blank\">docs</a>)<br>Sweep page: <a href='https://wandb.ai/simeonbetapudi-belmont-university/Mini%20Hackathon%20Sweep/sweeps/zh4ejg5g' target=\"_blank\">https://wandb.ai/simeonbetapudi-belmont-university/Mini%20Hackathon%20Sweep/sweeps/zh4ejg5g</a>"
            ]
          },
          "metadata": {}
        },
        {
          "output_type": "display_data",
          "data": {
            "text/plain": [
              "<IPython.core.display.HTML object>"
            ],
            "text/html": [
              " View project at <a href='https://wandb.ai/simeonbetapudi-belmont-university/Mini%20Hackathon%20Sweep' target=\"_blank\">https://wandb.ai/simeonbetapudi-belmont-university/Mini%20Hackathon%20Sweep</a>"
            ]
          },
          "metadata": {}
        },
        {
          "output_type": "display_data",
          "data": {
            "text/plain": [
              "<IPython.core.display.HTML object>"
            ],
            "text/html": [
              " View sweep at <a href='https://wandb.ai/simeonbetapudi-belmont-university/Mini%20Hackathon%20Sweep/sweeps/zh4ejg5g' target=\"_blank\">https://wandb.ai/simeonbetapudi-belmont-university/Mini%20Hackathon%20Sweep/sweeps/zh4ejg5g</a>"
            ]
          },
          "metadata": {}
        },
        {
          "output_type": "display_data",
          "data": {
            "text/plain": [
              "<IPython.core.display.HTML object>"
            ],
            "text/html": [
              " View run at <a href='https://wandb.ai/simeonbetapudi-belmont-university/Mini%20Hackathon%20Sweep/runs/twgvdnhl' target=\"_blank\">https://wandb.ai/simeonbetapudi-belmont-university/Mini%20Hackathon%20Sweep/runs/twgvdnhl</a>"
            ]
          },
          "metadata": {}
        },
        {
          "output_type": "stream",
          "name": "stderr",
          "text": [
            "Epoch 1/5:   0%|          | 0/49 [00:00<?, ?it/s]\n",
            "Traceback (most recent call last):\n",
            "  File \"/usr/local/lib/python3.12/dist-packages/wandb/agents/pyagent.py\", line 297, in _run_job\n",
            "    self._function()\n",
            "  File \"/tmp/ipython-input-3079156912.py\", line 26, in sweep_train\n",
            "    results = train_model(model,\n",
            "              ^^^^^^^^^^^^^^^^^^\n",
            "  File \"/tmp/ipython-input-1655472275.py\", line 32, in train_model\n",
            "    output = model(data)\n",
            "             ^^^^^^^^^^^\n",
            "  File \"/usr/local/lib/python3.12/dist-packages/torch/nn/modules/module.py\", line 1773, in _wrapped_call_impl\n",
            "    return self._call_impl(*args, **kwargs)\n",
            "           ^^^^^^^^^^^^^^^^^^^^^^^^^^^^^^^^\n",
            "  File \"/usr/local/lib/python3.12/dist-packages/torch/nn/modules/module.py\", line 1784, in _call_impl\n",
            "    return forward_call(*args, **kwargs)\n",
            "           ^^^^^^^^^^^^^^^^^^^^^^^^^^^^^\n",
            "  File \"/tmp/ipython-input-1595289304.py\", line 23, in forward\n",
            "    x = self.activation(conv_layer(x))\n",
            "                        ^^^^^^^^^^^^^\n",
            "  File \"/usr/local/lib/python3.12/dist-packages/torch/nn/modules/module.py\", line 1773, in _wrapped_call_impl\n",
            "    return self._call_impl(*args, **kwargs)\n",
            "           ^^^^^^^^^^^^^^^^^^^^^^^^^^^^^^^^\n",
            "  File \"/usr/local/lib/python3.12/dist-packages/torch/nn/modules/module.py\", line 1784, in _call_impl\n",
            "    return forward_call(*args, **kwargs)\n",
            "           ^^^^^^^^^^^^^^^^^^^^^^^^^^^^^\n",
            "  File \"/usr/local/lib/python3.12/dist-packages/torch/nn/modules/conv.py\", line 548, in forward\n",
            "    return self._conv_forward(input, self.weight, self.bias)\n",
            "           ^^^^^^^^^^^^^^^^^^^^^^^^^^^^^^^^^^^^^^^^^^^^^^^^^\n",
            "  File \"/usr/local/lib/python3.12/dist-packages/torch/nn/modules/conv.py\", line 543, in _conv_forward\n",
            "    return F.conv2d(\n",
            "           ^^^^^^^^^\n",
            "torch.OutOfMemoryError: CUDA out of memory. Tried to allocate 1.49 GiB. GPU 0 has a total capacity of 79.32 GiB of which 185.88 MiB is free. Process 53357 has 79.13 GiB memory in use. Of the allocated memory 76.87 GiB is allocated by PyTorch, and 1.75 GiB is reserved by PyTorch but unallocated. If reserved but unallocated memory is large try setting PYTORCH_CUDA_ALLOC_CONF=expandable_segments:True to avoid fragmentation.  See documentation for Memory Management  (https://pytorch.org/docs/stable/notes/cuda.html#environment-variables)\n",
            "\n"
          ]
        },
        {
          "output_type": "display_data",
          "data": {
            "text/plain": [
              "<IPython.core.display.HTML object>"
            ],
            "text/html": []
          },
          "metadata": {}
        },
        {
          "output_type": "display_data",
          "data": {
            "text/plain": [
              "<IPython.core.display.HTML object>"
            ],
            "text/html": [
              " View run <strong style=\"color:#cdcd00\">base_64_mult_3_lay_5_kern_5_str_1</strong> at: <a href='https://wandb.ai/simeonbetapudi-belmont-university/Mini%20Hackathon%20Sweep/runs/twgvdnhl' target=\"_blank\">https://wandb.ai/simeonbetapudi-belmont-university/Mini%20Hackathon%20Sweep/runs/twgvdnhl</a><br> View project at: <a href='https://wandb.ai/simeonbetapudi-belmont-university/Mini%20Hackathon%20Sweep' target=\"_blank\">https://wandb.ai/simeonbetapudi-belmont-university/Mini%20Hackathon%20Sweep</a><br>Synced 5 W&B file(s), 0 media file(s), 0 artifact file(s) and 0 other file(s)"
            ]
          },
          "metadata": {}
        },
        {
          "output_type": "display_data",
          "data": {
            "text/plain": [
              "<IPython.core.display.HTML object>"
            ],
            "text/html": [
              "Find logs at: <code>./wandb/run-20250910_021913-twgvdnhl/logs</code>"
            ]
          },
          "metadata": {}
        },
        {
          "output_type": "stream",
          "name": "stderr",
          "text": [
            "\u001b[34m\u001b[1mwandb\u001b[0m: \u001b[32m\u001b[41mERROR\u001b[0m Run twgvdnhl errored: CUDA out of memory. Tried to allocate 1.49 GiB. GPU 0 has a total capacity of 79.32 GiB of which 185.88 MiB is free. Process 53357 has 79.13 GiB memory in use. Of the allocated memory 76.87 GiB is allocated by PyTorch, and 1.75 GiB is reserved by PyTorch but unallocated. If reserved but unallocated memory is large try setting PYTORCH_CUDA_ALLOC_CONF=expandable_segments:True to avoid fragmentation.  See documentation for Memory Management  (https://pytorch.org/docs/stable/notes/cuda.html#environment-variables)\n",
            "\u001b[34m\u001b[1mwandb\u001b[0m: Sweep Agent: Waiting for job.\n",
            "\u001b[34m\u001b[1mwandb\u001b[0m: Job received.\n",
            "\u001b[34m\u001b[1mwandb\u001b[0m: Agent Starting Run: rj23t976 with config:\n",
            "\u001b[34m\u001b[1mwandb\u001b[0m: \tbase_channels: 64\n",
            "\u001b[34m\u001b[1mwandb\u001b[0m: \tchannel_mult: 3\n",
            "\u001b[34m\u001b[1mwandb\u001b[0m: \tkernel_size: 5\n",
            "\u001b[34m\u001b[1mwandb\u001b[0m: \tn_conv_layers: 5\n",
            "\u001b[34m\u001b[1mwandb\u001b[0m: \tstride: 2\n"
          ]
        },
        {
          "output_type": "display_data",
          "data": {
            "text/plain": [
              "<IPython.core.display.HTML object>"
            ],
            "text/html": [
              "Ignoring project 'Mini Hackathon Sweep' when running a sweep."
            ]
          },
          "metadata": {}
        },
        {
          "output_type": "display_data",
          "data": {
            "text/plain": [
              "<IPython.core.display.HTML object>"
            ],
            "text/html": [
              "creating run (0.0s)"
            ]
          },
          "metadata": {}
        },
        {
          "output_type": "display_data",
          "data": {
            "text/plain": [
              "<IPython.core.display.HTML object>"
            ],
            "text/html": [
              "Tracking run with wandb version 0.21.3"
            ]
          },
          "metadata": {}
        },
        {
          "output_type": "display_data",
          "data": {
            "text/plain": [
              "<IPython.core.display.HTML object>"
            ],
            "text/html": [
              "Run data is saved locally in <code>/content/wandb/run-20250910_021928-rj23t976</code>"
            ]
          },
          "metadata": {}
        },
        {
          "output_type": "display_data",
          "data": {
            "text/plain": [
              "<IPython.core.display.HTML object>"
            ],
            "text/html": [
              "Syncing run <strong><a href='https://wandb.ai/simeonbetapudi-belmont-university/Mini%20Hackathon%20Sweep/runs/rj23t976' target=\"_blank\">woven-sweep-47</a></strong> to <a href='https://wandb.ai/simeonbetapudi-belmont-university/Mini%20Hackathon%20Sweep' target=\"_blank\">Weights & Biases</a> (<a href='https://wandb.me/developer-guide' target=\"_blank\">docs</a>)<br>Sweep page: <a href='https://wandb.ai/simeonbetapudi-belmont-university/Mini%20Hackathon%20Sweep/sweeps/zh4ejg5g' target=\"_blank\">https://wandb.ai/simeonbetapudi-belmont-university/Mini%20Hackathon%20Sweep/sweeps/zh4ejg5g</a>"
            ]
          },
          "metadata": {}
        },
        {
          "output_type": "display_data",
          "data": {
            "text/plain": [
              "<IPython.core.display.HTML object>"
            ],
            "text/html": [
              " View project at <a href='https://wandb.ai/simeonbetapudi-belmont-university/Mini%20Hackathon%20Sweep' target=\"_blank\">https://wandb.ai/simeonbetapudi-belmont-university/Mini%20Hackathon%20Sweep</a>"
            ]
          },
          "metadata": {}
        },
        {
          "output_type": "display_data",
          "data": {
            "text/plain": [
              "<IPython.core.display.HTML object>"
            ],
            "text/html": [
              " View sweep at <a href='https://wandb.ai/simeonbetapudi-belmont-university/Mini%20Hackathon%20Sweep/sweeps/zh4ejg5g' target=\"_blank\">https://wandb.ai/simeonbetapudi-belmont-university/Mini%20Hackathon%20Sweep/sweeps/zh4ejg5g</a>"
            ]
          },
          "metadata": {}
        },
        {
          "output_type": "display_data",
          "data": {
            "text/plain": [
              "<IPython.core.display.HTML object>"
            ],
            "text/html": [
              " View run at <a href='https://wandb.ai/simeonbetapudi-belmont-university/Mini%20Hackathon%20Sweep/runs/rj23t976' target=\"_blank\">https://wandb.ai/simeonbetapudi-belmont-university/Mini%20Hackathon%20Sweep/runs/rj23t976</a>"
            ]
          },
          "metadata": {}
        },
        {
          "output_type": "stream",
          "name": "stderr",
          "text": [
            "Traceback (most recent call last):\n",
            "  File \"/usr/local/lib/python3.12/dist-packages/wandb/agents/pyagent.py\", line 297, in _run_job\n",
            "    self._function()\n",
            "  File \"/tmp/ipython-input-3079156912.py\", line 17, in sweep_train\n",
            "    stride=config.stride).to(device)\n",
            "                          ^^^^^^^^^^\n",
            "  File \"/usr/local/lib/python3.12/dist-packages/torch/nn/modules/module.py\", line 1369, in to\n",
            "    return self._apply(convert)\n",
            "           ^^^^^^^^^^^^^^^^^^^^\n",
            "  File \"/usr/local/lib/python3.12/dist-packages/torch/nn/modules/module.py\", line 928, in _apply\n",
            "    module._apply(fn)\n",
            "  File \"/usr/local/lib/python3.12/dist-packages/torch/nn/modules/module.py\", line 928, in _apply\n",
            "    module._apply(fn)\n",
            "  File \"/usr/local/lib/python3.12/dist-packages/torch/nn/modules/module.py\", line 955, in _apply\n",
            "    param_applied = fn(param)\n",
            "                    ^^^^^^^^^\n",
            "  File \"/usr/local/lib/python3.12/dist-packages/torch/nn/modules/module.py\", line 1355, in convert\n",
            "    return t.to(\n",
            "           ^^^^^\n",
            "torch.OutOfMemoryError: CUDA out of memory. Tried to allocate 856.00 MiB. GPU 0 has a total capacity of 79.32 GiB of which 185.88 MiB is free. Process 53357 has 79.13 GiB memory in use. Of the allocated memory 76.97 GiB is allocated by PyTorch, and 1.64 GiB is reserved by PyTorch but unallocated. If reserved but unallocated memory is large try setting PYTORCH_CUDA_ALLOC_CONF=expandable_segments:True to avoid fragmentation.  See documentation for Memory Management  (https://pytorch.org/docs/stable/notes/cuda.html#environment-variables)\n",
            "\n"
          ]
        },
        {
          "output_type": "display_data",
          "data": {
            "text/plain": [
              "<IPython.core.display.HTML object>"
            ],
            "text/html": []
          },
          "metadata": {}
        },
        {
          "output_type": "display_data",
          "data": {
            "text/plain": [
              "<IPython.core.display.HTML object>"
            ],
            "text/html": [
              " View run <strong style=\"color:#cdcd00\">woven-sweep-47</strong> at: <a href='https://wandb.ai/simeonbetapudi-belmont-university/Mini%20Hackathon%20Sweep/runs/rj23t976' target=\"_blank\">https://wandb.ai/simeonbetapudi-belmont-university/Mini%20Hackathon%20Sweep/runs/rj23t976</a><br> View project at: <a href='https://wandb.ai/simeonbetapudi-belmont-university/Mini%20Hackathon%20Sweep' target=\"_blank\">https://wandb.ai/simeonbetapudi-belmont-university/Mini%20Hackathon%20Sweep</a><br>Synced 5 W&B file(s), 0 media file(s), 0 artifact file(s) and 0 other file(s)"
            ]
          },
          "metadata": {}
        },
        {
          "output_type": "display_data",
          "data": {
            "text/plain": [
              "<IPython.core.display.HTML object>"
            ],
            "text/html": [
              "Find logs at: <code>./wandb/run-20250910_021928-rj23t976/logs</code>"
            ]
          },
          "metadata": {}
        },
        {
          "output_type": "stream",
          "name": "stderr",
          "text": [
            "\u001b[34m\u001b[1mwandb\u001b[0m: \u001b[32m\u001b[41mERROR\u001b[0m Run rj23t976 errored: CUDA out of memory. Tried to allocate 856.00 MiB. GPU 0 has a total capacity of 79.32 GiB of which 185.88 MiB is free. Process 53357 has 79.13 GiB memory in use. Of the allocated memory 76.97 GiB is allocated by PyTorch, and 1.64 GiB is reserved by PyTorch but unallocated. If reserved but unallocated memory is large try setting PYTORCH_CUDA_ALLOC_CONF=expandable_segments:True to avoid fragmentation.  See documentation for Memory Management  (https://pytorch.org/docs/stable/notes/cuda.html#environment-variables)\n",
            "\u001b[34m\u001b[1mwandb\u001b[0m: Agent Starting Run: zyupcdin with config:\n",
            "\u001b[34m\u001b[1mwandb\u001b[0m: \tbase_channels: 64\n",
            "\u001b[34m\u001b[1mwandb\u001b[0m: \tchannel_mult: 3\n",
            "\u001b[34m\u001b[1mwandb\u001b[0m: \tkernel_size: 5\n",
            "\u001b[34m\u001b[1mwandb\u001b[0m: \tn_conv_layers: 5\n",
            "\u001b[34m\u001b[1mwandb\u001b[0m: \tstride: 3\n"
          ]
        },
        {
          "output_type": "display_data",
          "data": {
            "text/plain": [
              "<IPython.core.display.HTML object>"
            ],
            "text/html": [
              "Ignoring project 'Mini Hackathon Sweep' when running a sweep."
            ]
          },
          "metadata": {}
        },
        {
          "output_type": "display_data",
          "data": {
            "text/plain": [
              "<IPython.core.display.HTML object>"
            ],
            "text/html": [
              "creating run (0.0s)"
            ]
          },
          "metadata": {}
        },
        {
          "output_type": "display_data",
          "data": {
            "text/plain": [
              "<IPython.core.display.HTML object>"
            ],
            "text/html": [
              "Tracking run with wandb version 0.21.3"
            ]
          },
          "metadata": {}
        },
        {
          "output_type": "display_data",
          "data": {
            "text/plain": [
              "<IPython.core.display.HTML object>"
            ],
            "text/html": [
              "Run data is saved locally in <code>/content/wandb/run-20250910_021934-zyupcdin</code>"
            ]
          },
          "metadata": {}
        },
        {
          "output_type": "display_data",
          "data": {
            "text/plain": [
              "<IPython.core.display.HTML object>"
            ],
            "text/html": [
              "Syncing run <strong><a href='https://wandb.ai/simeonbetapudi-belmont-university/Mini%20Hackathon%20Sweep/runs/zyupcdin' target=\"_blank\">misty-sweep-48</a></strong> to <a href='https://wandb.ai/simeonbetapudi-belmont-university/Mini%20Hackathon%20Sweep' target=\"_blank\">Weights & Biases</a> (<a href='https://wandb.me/developer-guide' target=\"_blank\">docs</a>)<br>Sweep page: <a href='https://wandb.ai/simeonbetapudi-belmont-university/Mini%20Hackathon%20Sweep/sweeps/zh4ejg5g' target=\"_blank\">https://wandb.ai/simeonbetapudi-belmont-university/Mini%20Hackathon%20Sweep/sweeps/zh4ejg5g</a>"
            ]
          },
          "metadata": {}
        },
        {
          "output_type": "display_data",
          "data": {
            "text/plain": [
              "<IPython.core.display.HTML object>"
            ],
            "text/html": [
              " View project at <a href='https://wandb.ai/simeonbetapudi-belmont-university/Mini%20Hackathon%20Sweep' target=\"_blank\">https://wandb.ai/simeonbetapudi-belmont-university/Mini%20Hackathon%20Sweep</a>"
            ]
          },
          "metadata": {}
        },
        {
          "output_type": "display_data",
          "data": {
            "text/plain": [
              "<IPython.core.display.HTML object>"
            ],
            "text/html": [
              " View sweep at <a href='https://wandb.ai/simeonbetapudi-belmont-university/Mini%20Hackathon%20Sweep/sweeps/zh4ejg5g' target=\"_blank\">https://wandb.ai/simeonbetapudi-belmont-university/Mini%20Hackathon%20Sweep/sweeps/zh4ejg5g</a>"
            ]
          },
          "metadata": {}
        },
        {
          "output_type": "display_data",
          "data": {
            "text/plain": [
              "<IPython.core.display.HTML object>"
            ],
            "text/html": [
              " View run at <a href='https://wandb.ai/simeonbetapudi-belmont-university/Mini%20Hackathon%20Sweep/runs/zyupcdin' target=\"_blank\">https://wandb.ai/simeonbetapudi-belmont-university/Mini%20Hackathon%20Sweep/runs/zyupcdin</a>"
            ]
          },
          "metadata": {}
        },
        {
          "output_type": "stream",
          "name": "stderr",
          "text": [
            "Traceback (most recent call last):\n",
            "  File \"/usr/local/lib/python3.12/dist-packages/wandb/agents/pyagent.py\", line 297, in _run_job\n",
            "    self._function()\n",
            "  File \"/tmp/ipython-input-3079156912.py\", line 17, in sweep_train\n",
            "    stride=config.stride).to(device)\n",
            "                          ^^^^^^^^^^\n",
            "  File \"/usr/local/lib/python3.12/dist-packages/torch/nn/modules/module.py\", line 1369, in to\n",
            "    return self._apply(convert)\n",
            "           ^^^^^^^^^^^^^^^^^^^^\n",
            "  File \"/usr/local/lib/python3.12/dist-packages/torch/nn/modules/module.py\", line 928, in _apply\n",
            "    module._apply(fn)\n",
            "  File \"/usr/local/lib/python3.12/dist-packages/torch/nn/modules/module.py\", line 928, in _apply\n",
            "    module._apply(fn)\n",
            "  File \"/usr/local/lib/python3.12/dist-packages/torch/nn/modules/module.py\", line 955, in _apply\n",
            "    param_applied = fn(param)\n",
            "                    ^^^^^^^^^\n",
            "  File \"/usr/local/lib/python3.12/dist-packages/torch/nn/modules/module.py\", line 1355, in convert\n",
            "    return t.to(\n",
            "           ^^^^^\n",
            "torch.OutOfMemoryError: CUDA out of memory. Tried to allocate 856.00 MiB. GPU 0 has a total capacity of 79.32 GiB of which 185.88 MiB is free. Process 53357 has 79.13 GiB memory in use. Of the allocated memory 77.08 GiB is allocated by PyTorch, and 1.54 GiB is reserved by PyTorch but unallocated. If reserved but unallocated memory is large try setting PYTORCH_CUDA_ALLOC_CONF=expandable_segments:True to avoid fragmentation.  See documentation for Memory Management  (https://pytorch.org/docs/stable/notes/cuda.html#environment-variables)\n",
            "\n"
          ]
        },
        {
          "output_type": "display_data",
          "data": {
            "text/plain": [
              "<IPython.core.display.HTML object>"
            ],
            "text/html": []
          },
          "metadata": {}
        },
        {
          "output_type": "display_data",
          "data": {
            "text/plain": [
              "<IPython.core.display.HTML object>"
            ],
            "text/html": [
              " View run <strong style=\"color:#cdcd00\">misty-sweep-48</strong> at: <a href='https://wandb.ai/simeonbetapudi-belmont-university/Mini%20Hackathon%20Sweep/runs/zyupcdin' target=\"_blank\">https://wandb.ai/simeonbetapudi-belmont-university/Mini%20Hackathon%20Sweep/runs/zyupcdin</a><br> View project at: <a href='https://wandb.ai/simeonbetapudi-belmont-university/Mini%20Hackathon%20Sweep' target=\"_blank\">https://wandb.ai/simeonbetapudi-belmont-university/Mini%20Hackathon%20Sweep</a><br>Synced 5 W&B file(s), 0 media file(s), 0 artifact file(s) and 0 other file(s)"
            ]
          },
          "metadata": {}
        },
        {
          "output_type": "display_data",
          "data": {
            "text/plain": [
              "<IPython.core.display.HTML object>"
            ],
            "text/html": [
              "Find logs at: <code>./wandb/run-20250910_021934-zyupcdin/logs</code>"
            ]
          },
          "metadata": {}
        },
        {
          "output_type": "stream",
          "name": "stderr",
          "text": [
            "\u001b[34m\u001b[1mwandb\u001b[0m: \u001b[32m\u001b[41mERROR\u001b[0m Run zyupcdin errored: CUDA out of memory. Tried to allocate 856.00 MiB. GPU 0 has a total capacity of 79.32 GiB of which 185.88 MiB is free. Process 53357 has 79.13 GiB memory in use. Of the allocated memory 77.08 GiB is allocated by PyTorch, and 1.54 GiB is reserved by PyTorch but unallocated. If reserved but unallocated memory is large try setting PYTORCH_CUDA_ALLOC_CONF=expandable_segments:True to avoid fragmentation.  See documentation for Memory Management  (https://pytorch.org/docs/stable/notes/cuda.html#environment-variables)\n",
            "\u001b[34m\u001b[1mwandb\u001b[0m: Sweep Agent: Waiting for job.\n",
            "\u001b[34m\u001b[1mwandb\u001b[0m: Sweep Agent: Exiting.\n"
          ]
        }
      ]
    }
  ]
}